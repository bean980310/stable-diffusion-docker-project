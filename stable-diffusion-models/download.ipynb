{
 "cells": [
  {
   "cell_type": "markdown",
   "metadata": {},
   "source": [
    "# Download Model"
   ]
  },
  {
   "cell_type": "markdown",
   "metadata": {},
   "source": [
    "## Create a sub-directory"
   ]
  },
  {
   "cell_type": "code",
   "execution_count": 2,
   "metadata": {},
   "outputs": [
    {
     "name": "stdout",
     "output_type": "stream",
     "text": [
      "models/checkpoints/sd15\n",
      "models/checkpoints/sd2\n",
      "models/checkpoints/sdxl\n",
      "models/checkpoints/pony\n",
      "models/checkpoints/sd3\n",
      "models/checkpoints/upscale\n",
      "models/checkpoints/flux1\n",
      "models/vae/sd15\n",
      "models/vae/sd2\n",
      "models/vae/sdxl\n",
      "models/vae/sd3\n",
      "models/vae/flux1\n",
      "models/controlnet/sd15\n",
      "models/controlnet/sd2\n",
      "models/controlnet/sdxl\n",
      "models/controlnet/sd3\n",
      "models/controlnet/flux1\n",
      "models/loras/sd15\n",
      "models/loras/sd2\n",
      "models/loras/sdxl\n",
      "models/loras/pony\n",
      "models/loras/sd3\n",
      "models/loras/flux1\n",
      "models/embeddings/sd15\n",
      "models/embeddings/sd2\n",
      "models/embeddings/sdxl\n",
      "models/embeddings/sd3\n",
      "models/embeddings/flux1\n"
     ]
    }
   ],
   "source": [
    "!bash run_first.sh"
   ]
  },
  {
   "cell_type": "markdown",
   "metadata": {},
   "source": [
    "## Login to huggingface"
   ]
  },
  {
   "cell_type": "code",
   "execution_count": null,
   "metadata": {},
   "outputs": [],
   "source": [
    "from huggingface_hub import notebook_login, hf_hub_download\n",
    "\n",
    "notebook_login()"
   ]
  },
  {
   "cell_type": "markdown",
   "metadata": {},
   "source": [
    "## Download Model"
   ]
  },
  {
   "cell_type": "markdown",
   "metadata": {},
   "source": [
    "### Download SD15 Model"
   ]
  },
  {
   "cell_type": "markdown",
   "metadata": {},
   "source": [
    "#### Checkpoint"
   ]
  },
  {
   "cell_type": "code",
   "execution_count": null,
   "metadata": {},
   "outputs": [],
   "source": [
    "# Download Stable Diffusion 1.5 Checkpoint\n",
    "hf_hub_download(repo_id=\"stable-diffusion-v1-5/stable-diffusion-v1-5\", filename=\"v1-5-pruned-emaonly.safetensors\", local_dir=\"./models/checkpoints/sd15\")"
   ]
  },
  {
   "cell_type": "code",
   "execution_count": null,
   "metadata": {},
   "outputs": [],
   "source": [
    "# Download Stable Diffusion 1.5 Inpaint Checkpoint\n",
    "hf_hub_download(repo_id=\"stable-diffusion-v1-5/stable-diffusion-inpainting\", filename=\"sd-v1-5-inpainting.ckpt\", local_dir=\"./models/checkpoints/sd15\")"
   ]
  },
  {
   "cell_type": "code",
   "execution_count": null,
   "metadata": {},
   "outputs": [],
   "source": [
    "# Download Anything V3 Model\n",
    "!download-model https://civitai.com/api/download/models/34373 ./models/checkpoints/sd15"
   ]
  },
  {
   "cell_type": "code",
   "execution_count": null,
   "metadata": {},
   "outputs": [],
   "source": [
    "# Download Anything V5 Model\n",
    "!download-model https://civitai.com/api/download/models/30163 ./models/checkpoints/sd15"
   ]
  },
  {
   "cell_type": "code",
   "execution_count": null,
   "metadata": {},
   "outputs": [],
   "source": [
    "# Download Anything Ink Model\n",
    "!download-model https://civitai.com/api/download/models/90854 ./models/checkpoints/sd15"
   ]
  },
  {
   "cell_type": "code",
   "execution_count": null,
   "metadata": {},
   "outputs": [],
   "source": [
    "# Download AbyssOrangeMix3 Model\n",
    "hf_hub_download(repo_id=\"WarriorMama777/OrangeMixs\", filename=\"Models/AbyssOrangeMix3/AOM3A1B_orangemixs.safetensors\", local_dir=\"./models/checkpoints/sd15\")\n",
    "!mv ./models/checkpoints/sd15/Models/AbyssOrangeMix3/AOM3A1B_orangemixs.safetensors ./models/checkpoints/sd15\n",
    "!rmdir ./models/checkpoints/sd15/Models/AbyssOrangeMix3/"
   ]
  },
  {
   "cell_type": "code",
   "execution_count": null,
   "metadata": {},
   "outputs": [],
   "source": [
    "# Download Counterfeit-V3.0 fp32 Model\n",
    "hf_hub_download(repo_id=\"gsdf/Counterfeit-V3.0\", filename=\"Counterfeit-V3.0_fp32.safetensors\", local_dir=\"./models/checkpoints/sd15\")"
   ]
  },
  {
   "cell_type": "code",
   "execution_count": null,
   "metadata": {},
   "outputs": [],
   "source": [
    "# Download Counterfeit-V3.0 fp16 fix Model\n",
    "hf_hub_download(repo_id=\"gsdf/Counterfeit-V3.0\", filename=\"Counterfeit-V3.0_fix_fp16.safetensors\", local_dir=\"./models/checkpoints/sd15\")"
   ]
  },
  {
   "cell_type": "code",
   "execution_count": null,
   "metadata": {},
   "outputs": [],
   "source": [
    "# Download ChilloutMix Ni pruned fp32 fix Model\n",
    "!download-model https://civitai.com/api/download/models/11745 ./models/checkpoints/sd15"
   ]
  },
  {
   "cell_type": "code",
   "execution_count": null,
   "metadata": {},
   "outputs": [],
   "source": [
    "# Download ChilloutMix Ni pruned fp16 fix Model\n",
    "!download-model https://civitai.com/api/download/models/11732 ./models/checkpoints/sd15"
   ]
  },
  {
   "cell_type": "code",
   "execution_count": null,
   "metadata": {},
   "outputs": [],
   "source": [
    "# Download DreamShaper 8 pruned Model\n",
    "hf_hub_download(repo_id=\"Lykon/DreamShaper\", filename=\"DreamShaper_8_pruned.safetensors\", local_dir=\"./models/checkpoints/sd15\")"
   ]
  },
  {
   "cell_type": "code",
   "execution_count": null,
   "metadata": {},
   "outputs": [],
   "source": [
    "# Download DreamShaper 8 Inpainting Model\n",
    "hf_hub_download(repo_id=\"Lykon/DreamShaper\", filename=\"DreamShaper_8_INPAINTING.inpainting.safetensors\", local_dir=\"./models/checkpoints/sd15\")"
   ]
  },
  {
   "cell_type": "code",
   "execution_count": null,
   "metadata": {},
   "outputs": [],
   "source": [
    "# Download MeinaMix Model\n",
    "!download-model https://civitai.com/api/download/models/948574?type=Model&format=SafeTensor&size=pruned&fp=fp16 ./models/checkpoints/sd15"
   ]
  },
  {
   "cell_type": "markdown",
   "metadata": {},
   "source": [
    "#### VAE"
   ]
  },
  {
   "cell_type": "code",
   "execution_count": null,
   "metadata": {},
   "outputs": [],
   "source": [
    "# Download Stable Diffusion 1.5 VAE\n",
    "hf_hub_download(repo_id=\"stabilityai/sd-vae-ft-mse-original\", filename=\"vae-ft-mse-840000-ema-pruned.safetensors\", local_dir=\"./models/vae/sd15\")"
   ]
  },
  {
   "cell_type": "code",
   "execution_count": null,
   "metadata": {},
   "outputs": [],
   "source": [
    "# Download kl-f8-anime2 VAE\n",
    "hf_hub_download(repo_id=\"hakurei/waifu-diffusion-v1-4\", filename=\"vae/kl-f8-anime2.ckpt\", local_dir=\"./models/vae/sd15\")\n",
    "!mv ./models/vae/sd15/vae/kl-f8-anime2.ckpt ./models/vae/sd15\n",
    "!rmdir ./models/vae/sd15/vae"
   ]
  },
  {
   "cell_type": "code",
   "execution_count": null,
   "metadata": {},
   "outputs": [],
   "source": [
    "# Download OrangeMix VAE\n",
    "hf_hub_download(repo_id=\"WarriorMama777/OrangeMixs\", filename=\"VAEs/orangemix.vae.pt\", local_dir=\"./models/vae/sd15\")\n",
    "!mv ./models/vae/sd15/VAEs/orangemix.vae.pt ./models/vae/sd15\n",
    "!rmdir ./models/vae/sd15/VAEs"
   ]
  },
  {
   "cell_type": "code",
   "execution_count": null,
   "metadata": {},
   "outputs": [],
   "source": [
    "# Download Anything VAE\n",
    "!download-model https://civitai.com/api/download/models/119279?type=Model&format=PickleTensor ./models/vae/sd15"
   ]
  },
  {
   "cell_type": "markdown",
   "metadata": {},
   "source": [
    "#### LoRA"
   ]
  },
  {
   "cell_type": "code",
   "execution_count": null,
   "metadata": {},
   "outputs": [],
   "source": [
    "# Download Stable Diffusion 1.5 LCM LoRA\n",
    "hf_hub_download(repo_id=\"latent-consistency/lcm-lora-sdv1-5\", filename=\"pytorch_lora_weights.safetensors\", local_dir=\"./models/loras/sd15\")"
   ]
  },
  {
   "cell_type": "code",
   "execution_count": null,
   "metadata": {},
   "outputs": [],
   "source": [
    "# Download ShortBang Concept LoRA\n",
    "!download-model https://civitai.com/api/download/models/122064 ./models/loras/sd15"
   ]
  },
  {
   "cell_type": "code",
   "execution_count": null,
   "metadata": {},
   "outputs": [],
   "source": [
    "# Download Disembodied Head V2 LoRA\n",
    "!download-model https://civitai.com/api/download/models/100482 ./models/loras/sd15"
   ]
  },
  {
   "cell_type": "code",
   "execution_count": null,
   "metadata": {},
   "outputs": [],
   "source": [
    "# Download Dullahan LoRA\n",
    "!download-model https://civitai.com/api/download/models/186885 ./models/loras/sd15"
   ]
  },
  {
   "cell_type": "code",
   "execution_count": 11,
   "metadata": {},
   "outputs": [
    {
     "name": "stdout",
     "output_type": "stream",
     "text": [
      "Downloading: HeadinJar.safetensors [100.00%] - 121.92 MB/s\n",
      "Download completed. File saved as: HeadinJar.safetensors\n",
      "Downloaded in 1s\n"
     ]
    }
   ],
   "source": [
    "# Download HeadinJar LoRA\n",
    "!download-model https://civitai.com/api/download/models/77230 ./models/loras/sd15"
   ]
  },
  {
   "cell_type": "code",
   "execution_count": 12,
   "metadata": {},
   "outputs": [
    {
     "name": "stdout",
     "output_type": "stream",
     "text": [
      "Downloading: kirito-10.safetensors [100.00%] - 62.51 MB/s\n",
      "Download completed. File saved as: kirito-10.safetensors\n",
      "Downloaded in 1s\n"
     ]
    }
   ],
   "source": [
    "# Download Kirito LoRA\n",
    "!download-model https://civitai.com/api/download/models/141405 ./models/loras/sd15"
   ]
  },
  {
   "cell_type": "code",
   "execution_count": 13,
   "metadata": {},
   "outputs": [
    {
     "name": "stdout",
     "output_type": "stream",
     "text": [
      "Downloading: eugeo-10.safetensors [100.00%] - 55.25 MB/s\n",
      "Download completed. File saved as: eugeo-10.safetensors\n",
      "Downloaded in 0s\n"
     ]
    }
   ],
   "source": [
    "# Download Eugeo LoRA\n",
    "!download-model https://civitai.com/api/download/models/158391 ./models/loras/sd15"
   ]
  },
  {
   "cell_type": "code",
   "execution_count": 14,
   "metadata": {},
   "outputs": [
    {
     "name": "stdout",
     "output_type": "stream",
     "text": [
      "Downloading: Tomboy.safetensors [100.00%] - 33.87 MB/s\n",
      "Download completed. File saved as: Tomboy.safetensors\n",
      "Downloaded in 0s\n"
     ]
    }
   ],
   "source": [
    "# Download Tomboy LoRA\n",
    "!download-model https://civitai.com/api/download/models/120588 ./models/loras/sd15"
   ]
  },
  {
   "cell_type": "code",
   "execution_count": 15,
   "metadata": {},
   "outputs": [
    {
     "name": "stdout",
     "output_type": "stream",
     "text": [
      "Downloading: TomboyBuzzcut1-2-0805.safetensors [100.00%] - 56.09 MB/s\n",
      "Download completed. File saved as: TomboyBuzzcut1-2-0805.safetensors\n",
      "Downloaded in 1s\n"
     ]
    }
   ],
   "source": [
    "# Download TomboyBuzzcut1-2-0805 LoRA\n",
    "!download-model https://civitai.com/api/download/models/91509 ./models/loras/sd15"
   ]
  },
  {
   "cell_type": "code",
   "execution_count": 16,
   "metadata": {},
   "outputs": [
    {
     "name": "stdout",
     "output_type": "stream",
     "text": [
      "Downloading: princess_carry_v0.1.safetensors [100.00%] - 40.51 MB/ss\n",
      "Download completed. File saved as: princess_carry_v0.1.safetensors\n",
      "Downloaded in 0s\n"
     ]
    }
   ],
   "source": [
    "# Download Princess Carry LoRA\n",
    "!download-model https://civitai.com/api/download/models/112975 ./models/loras/sd15"
   ]
  },
  {
   "cell_type": "code",
   "execution_count": 17,
   "metadata": {},
   "outputs": [
    {
     "name": "stdout",
     "output_type": "stream",
     "text": [
      "Downloading: shima920_v2-000011.safetensors [100.00%] - 369.25 MB/s\n",
      "Download completed. File saved as: shima920_v2-000011.safetensors\n",
      "Downloaded in 11s\n"
     ]
    }
   ],
   "source": [
    "# Download Shima920 V2 LoRA\n",
    "!download-model  https://civitai.com/api/download/models/92833 ./models/loras/sd15"
   ]
  },
  {
   "cell_type": "code",
   "execution_count": 18,
   "metadata": {},
   "outputs": [
    {
     "name": "stdout",
     "output_type": "stream",
     "text": [
      "Downloading: Anime Enhancer - Midrange - ClipSkip1 - [Concept] - Version 1.safetensors [100.00%] - 46.50 MB/s\n",
      "Download completed. File saved as: Anime Enhancer - Midrange - ClipSkip1 - [Concept] - Version 1.safetensors\n",
      "Downloaded in 6s\n"
     ]
    }
   ],
   "source": [
    "# Download Anime Enhancer Midrange LoRA\n",
    "!download-model https://civitai.com/api/download/models/215522 ./models/loras/sd15"
   ]
  },
  {
   "cell_type": "markdown",
   "metadata": {},
   "source": [
    "#### Embedding"
   ]
  },
  {
   "cell_type": "code",
   "execution_count": null,
   "metadata": {},
   "outputs": [],
   "source": [
    "# Download EasyNegative\n",
    "hf_hub_download(repo_id=\"gsdf/EasyNegative\", repo_type=\"dataset\", filename=\"EasyNegative.safetensors\", local_dir=\"./models/embeddings/sd15\")"
   ]
  },
  {
   "cell_type": "code",
   "execution_count": null,
   "metadata": {},
   "outputs": [],
   "source": [
    "# Download EasyNegativeV2\n",
    "hf_hub_download(repo_id=\"gsdf/Counterfeit-V3.0\", filename=\"embedding/EasyNegativeV2.safetensors\", local_dir=\"./models/embeddings/sd15\")\n",
    "!mv ./models/embeddings/sd15/embedding/EasyNegativeV2.safetensors ./models/embeddings/sd15\n",
    "!rmdir ./models/embeddings/sd15/embedding/"
   ]
  },
  {
   "cell_type": "code",
   "execution_count": null,
   "metadata": {},
   "outputs": [],
   "source": [
    "# Download bad-hand-v4\n",
    "!download-model https://civitai.com/api/download/models/230261?type=Model&format=SafeTensor ./models/embeddings/sd15"
   ]
  },
  {
   "cell_type": "code",
   "execution_count": null,
   "metadata": {},
   "outputs": [],
   "source": [
    "# Download bad-hands-v5\n",
    "hf_hub_download(repo_id=\"Kajise/bad-hands\", filename=\"bad-hands-5.safetensors\", local_dir=\"./models/embeddings/sd15\")"
   ]
  },
  {
   "cell_type": "code",
   "execution_count": null,
   "metadata": {},
   "outputs": [],
   "source": [
    "# Download bad_prompt_version2\n",
    "hf_hub_download(repo_id=\"Nerfgun3/bad_prompt\", repo_type=\"dataset\", filename=\"bad_prompt_version2.pt\", local_dir=\"./models/embeddings/sd15\")"
   ]
  },
  {
   "cell_type": "code",
   "execution_count": null,
   "metadata": {},
   "outputs": [],
   "source": [
    "# Download bad-artist-anime\n",
    "hf_hub_download(repo_id=\"nick-x-hacker/bad-artist\", filename=\"bad-artist-anime.pt\", local_dir=\"./models/embeddings/sd15\")"
   ]
  },
  {
   "cell_type": "code",
   "execution_count": null,
   "metadata": {},
   "outputs": [],
   "source": [
    "# Download bad-artist\n",
    "hf_hub_download(repo_id=\"nick-x-hacker/bad-artist\", filename=\"bad-artist.pt\", local_dir=\"./models/embeddings/sd15\")"
   ]
  },
  {
   "cell_type": "code",
   "execution_count": null,
   "metadata": {},
   "outputs": [],
   "source": [
    "# Download Deep Negative V1 75 T\n",
    "!download-model https://civitai.com/api/download/models/5637 ./models/embeddings/sd15"
   ]
  },
  {
   "cell_type": "code",
   "execution_count": null,
   "metadata": {},
   "outputs": [],
   "source": [
    "# Download veryBadImageNegative\n",
    "!download-model https://civitai.com/api/download/models/25820 ./models/embeddings/sd15"
   ]
  },
  {
   "cell_type": "code",
   "execution_count": null,
   "metadata": {},
   "outputs": [],
   "source": [
    "# Download GS-Boyish\n",
    "!download-model https://civitai.com/api/download/models/95611 ./models/embeddings/sd15"
   ]
  },
  {
   "cell_type": "markdown",
   "metadata": {},
   "source": [
    "#### ControlNet"
   ]
  },
  {
   "cell_type": "code",
   "execution_count": null,
   "metadata": {},
   "outputs": [],
   "source": [
    "# Download ControlNet SD15 ip2p Model\n",
    "hf_hub_download(repo_id=\"comfyanonymous/ControlNet-v1-1_fp16_safetensors\", filename=\"control_v11e_sd15_ip2p_fp16.safetensors\", local_dir=\"./models/controlnet/sd15\")"
   ]
  },
  {
   "cell_type": "code",
   "execution_count": null,
   "metadata": {},
   "outputs": [],
   "source": [
    "# Download ControlNet SD15 Shuffle Model\n",
    "hf_hub_download(repo_id=\"comfyanonymous/ControlNet-v1-1_fp16_safetensors\", filename=\"control_v11e_sd15_shuffle_fp16.safetensors\", local_dir=\"./models/controlnet/sd15\")"
   ]
  },
  {
   "cell_type": "code",
   "execution_count": null,
   "metadata": {},
   "outputs": [],
   "source": [
    "# Download ControlNet SD15 Tile Model\n",
    "hf_hub_download(repo_id=\"comfyanonymous/ControlNet-v1-1_fp16_safetensors\", filename=\"control_v11f1e_sd15_tile_fp16.safetensors\", local_dir=\"./models/controlnet/sd15\")"
   ]
  },
  {
   "cell_type": "code",
   "execution_count": null,
   "metadata": {},
   "outputs": [],
   "source": [
    "# Download ControlNet SD15 Depth Model\n",
    "hf_hub_download(repo_id=\"comfyanonymous/ControlNet-v1-1_fp16_safetensors\", filename=\"control_v11f1p_sd15_depth_fp16.safetensors\", local_dir=\"./models/controlnet/sd15\")"
   ]
  },
  {
   "cell_type": "code",
   "execution_count": null,
   "metadata": {},
   "outputs": [],
   "source": [
    "# Download ControlNet SD15 Canny Model\n",
    "hf_hub_download(repo_id=\"comfyanonymous/ControlNet-v1-1_fp16_safetensors\", filename=\"control_v11p_sd15_canny_fp16.safetensors\", local_dir=\"./models/controlnet/sd15\")"
   ]
  },
  {
   "cell_type": "code",
   "execution_count": null,
   "metadata": {},
   "outputs": [],
   "source": [
    "# Download ControlNet SD15 Inpaint Model\n",
    "hf_hub_download(repo_id=\"comfyanonymous/ControlNet-v1-1_fp16_safetensors\", filename=\"control_v11p_sd15_inpaint_fp16.safetensors\", local_dir=\"./models/controlnet/sd15\")"
   ]
  },
  {
   "cell_type": "code",
   "execution_count": null,
   "metadata": {},
   "outputs": [],
   "source": [
    "# Download ControlNet SD15 Lineart Model\n",
    "hf_hub_download(repo_id=\"comfyanonymous/ControlNet-v1-1_fp16_safetensors\", filename=\"control_v11p_sd15_lineart_fp16.safetensors\", local_dir=\"./models/controlnet/sd15\")"
   ]
  },
  {
   "cell_type": "code",
   "execution_count": null,
   "metadata": {},
   "outputs": [],
   "source": [
    "# Download ControlNet SD15 MLSD Model\n",
    "hf_hub_download(repo_id=\"comfyanonymous/ControlNet-v1-1_fp16_safetensors\", filename=\"control_v11p_sd15_mlsd_fp16.safetensors\", local_dir=\"./models/controlnet/sd15\")"
   ]
  },
  {
   "cell_type": "code",
   "execution_count": null,
   "metadata": {},
   "outputs": [],
   "source": [
    "# Download ControlNet NormalBae Canny Model\n",
    "hf_hub_download(repo_id=\"comfyanonymous/ControlNet-v1-1_fp16_safetensors\", filename=\"control_v11p_sd15_normalbae_fp16.safetensors\", local_dir=\"./models/controlnet/sd15\")"
   ]
  },
  {
   "cell_type": "code",
   "execution_count": null,
   "metadata": {},
   "outputs": [],
   "source": [
    "# Download ControlNet SD15 OpenPose Model\n",
    "hf_hub_download(repo_id=\"comfyanonymous/ControlNet-v1-1_fp16_safetensors\", filename=\"control_v11p_sd15_openpose_fp16.safetensors\", local_dir=\"./models/controlnet/sd15\")"
   ]
  },
  {
   "cell_type": "code",
   "execution_count": null,
   "metadata": {},
   "outputs": [],
   "source": [
    "# Download ControlNet SD15 Scribble Model\n",
    "hf_hub_download(repo_id=\"comfyanonymous/ControlNet-v1-1_fp16_safetensors\", filename=\"control_v11p_sd15_scribble_fp16.safetensors\", local_dir=\"./models/controlnet/sd15\")"
   ]
  },
  {
   "cell_type": "code",
   "execution_count": null,
   "metadata": {},
   "outputs": [],
   "source": [
    "# Download ControlNet SD15 Seg Model\n",
    "hf_hub_download(repo_id=\"comfyanonymous/ControlNet-v1-1_fp16_safetensors\", filename=\"control_v11p_sd15_seg_fp16.safetensors\", local_dir=\"./models/controlnet/sd15\")"
   ]
  },
  {
   "cell_type": "code",
   "execution_count": null,
   "metadata": {},
   "outputs": [],
   "source": [
    "# Download ControlNet SD15 Softedge Model\n",
    "hf_hub_download(repo_id=\"comfyanonymous/ControlNet-v1-1_fp16_safetensors\", filename=\"control_v11p_sd15_softedge_fp16.safetensors\", local_dir=\"./models/controlnet/sd15\")"
   ]
  },
  {
   "cell_type": "code",
   "execution_count": null,
   "metadata": {},
   "outputs": [],
   "source": [
    "# Download ControlNet SD15 Lineart Anime Model\n",
    "hf_hub_download(repo_id=\"comfyanonymous/ControlNet-v1-1_fp16_safetensors\", filename=\"control_v11p_sd15s2_lineart_anime_fp16.safetensors\", local_dir=\"./models/controlnet/sd15\")"
   ]
  }
 ],
 "metadata": {
  "kernelspec": {
   "display_name": "base",
   "language": "python",
   "name": "python3"
  },
  "language_info": {
   "codemirror_mode": {
    "name": "ipython",
    "version": 3
   },
   "file_extension": ".py",
   "mimetype": "text/x-python",
   "name": "python",
   "nbconvert_exporter": "python",
   "pygments_lexer": "ipython3",
   "version": "3.10.14"
  }
 },
 "nbformat": 4,
 "nbformat_minor": 2
}
