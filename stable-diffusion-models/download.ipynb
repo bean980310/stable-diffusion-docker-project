{
 "cells": [
  {
   "cell_type": "markdown",
   "metadata": {},
   "source": [
    "# Download Model"
   ]
  },
  {
   "cell_type": "markdown",
   "metadata": {},
   "source": [
    "## Create a sub-directory"
   ]
  },
  {
   "cell_type": "code",
   "execution_count": null,
   "metadata": {},
   "outputs": [],
   "source": [
    "!bash run_first.sh"
   ]
  },
  {
   "cell_type": "markdown",
   "metadata": {},
   "source": [
    "## Login to huggingface"
   ]
  },
  {
   "cell_type": "code",
   "execution_count": null,
   "metadata": {},
   "outputs": [],
   "source": [
    "from huggingface_hub import notebook_login, hf_hub_download\n",
    "\n",
    "notebook_login()"
   ]
  },
  {
   "cell_type": "markdown",
   "metadata": {},
   "source": [
    "## Download Model"
   ]
  },
  {
   "cell_type": "markdown",
   "metadata": {},
   "source": [
    "### Download SD15 Model"
   ]
  },
  {
   "cell_type": "markdown",
   "metadata": {},
   "source": [
    "#### Checkpoint"
   ]
  },
  {
   "cell_type": "code",
   "execution_count": null,
   "metadata": {},
   "outputs": [],
   "source": [
    "# Download Stable Diffusion 1.5 Model\n",
    "hf_hub_download(repo_id=\"stable-diffusion-v1-5/stable-diffusion-v1-5\", filename=\"v1-5-pruned-emaonly.safetensors\", local_dir=\"./models/checkpoints/sd15\")"
   ]
  },
  {
   "cell_type": "code",
   "execution_count": null,
   "metadata": {},
   "outputs": [],
   "source": [
    "# Download Stable Diffusion 1.5 Inpaint Model\n",
    "hf_hub_download(repo_id=\"stable-diffusion-v1-5/stable-diffusion-inpainting\", filename=\"sd-v1-5-inpainting.ckpt\", local_dir=\"./models/checkpoints/sd15\")"
   ]
  },
  {
   "cell_type": "code",
   "execution_count": null,
   "metadata": {},
   "outputs": [],
   "source": [
    "# Download Anything V3 Model\n",
    "!download-model https://civitai.com/api/download/models/34373 ./models/checkpoints/sd15"
   ]
  },
  {
   "cell_type": "code",
   "execution_count": null,
   "metadata": {},
   "outputs": [],
   "source": [
    "# Download Anything V5 Model\n",
    "!download-model https://civitai.com/api/download/models/30163 ./models/checkpoints/sd15"
   ]
  },
  {
   "cell_type": "code",
   "execution_count": null,
   "metadata": {},
   "outputs": [],
   "source": [
    "# Download Anything Ink Model\n",
    "!download-model https://civitai.com/api/download/models/90854 ./models/checkpoints/sd15"
   ]
  },
  {
   "cell_type": "code",
   "execution_count": null,
   "metadata": {},
   "outputs": [],
   "source": [
    "# Download AbyssOrangeMix3 Model\n",
    "hf_hub_download(repo_id=\"WarriorMama777/OrangeMixs\", filename=\"Models/AbyssOrangeMix3/AOM3A1B_orangemixs.safetensors\", local_dir=\"./models/checkpoints/sd15\")\n",
    "!mv ./models/checkpoints/sd15/Models/AbyssOrangeMix3/AOM3A1B_orangemixs.safetensors ./models/checkpoints/sd15/AOM3A1B_orangemixs.safetensors\n",
    "!rmdir ./models/checkpoints/sd15/Models/AbyssOrangeMix3/\n",
    "!rmdir ./models/checkpoints/sd15/Models/"
   ]
  },
  {
   "cell_type": "code",
   "execution_count": null,
   "metadata": {},
   "outputs": [],
   "source": [
    "# Download Counterfeit-V3.0 fp32 Model\n",
    "hf_hub_download(repo_id=\"gsdf/Counterfeit-V3.0\", filename=\"Counterfeit-V3.0_fp32.safetensors\", local_dir=\"./models/checkpoints/sd15\")"
   ]
  },
  {
   "cell_type": "code",
   "execution_count": null,
   "metadata": {},
   "outputs": [],
   "source": [
    "# Download Counterfeit-V3.0 fp16 fix Model\n",
    "hf_hub_download(repo_id=\"gsdf/Counterfeit-V3.0\", filename=\"Counterfeit-V3.0_fix_fp16.safetensors\", local_dir=\"./models/checkpoints/sd15\")"
   ]
  },
  {
   "cell_type": "code",
   "execution_count": null,
   "metadata": {},
   "outputs": [],
   "source": [
    "# Download ChilloutMix Ni pruned fp32 fix Model\n",
    "!download-model https://civitai.com/api/download/models/11745 ./models/checkpoints/sd15"
   ]
  },
  {
   "cell_type": "code",
   "execution_count": null,
   "metadata": {},
   "outputs": [],
   "source": [
    "# Download ChilloutMix Ni pruned fp16 fix Model\n",
    "!download-model https://civitai.com/api/download/models/11732 ./models/checkpoints/sd15"
   ]
  },
  {
   "cell_type": "code",
   "execution_count": null,
   "metadata": {},
   "outputs": [],
   "source": [
    "# Download DreamShaper 8 pruned Model\n",
    "hf_hub_download(repo_id=\"Lykon/DreamShaper\", filename=\"DreamShaper_8_pruned.safetensors\", local_dir=\"./models/checkpoints/sd15\")"
   ]
  },
  {
   "cell_type": "code",
   "execution_count": null,
   "metadata": {},
   "outputs": [],
   "source": [
    "# Download DreamShaper 8 Inpainting Model\n",
    "hf_hub_download(repo_id=\"Lykon/DreamShaper\", filename=\"DreamShaper_8_INPAINTING.inpainting.safetensors\", local_dir=\"./models/checkpoints/sd15\")"
   ]
  },
  {
   "cell_type": "code",
   "execution_count": null,
   "metadata": {},
   "outputs": [],
   "source": [
    "# Download MeinaMix Model\n",
    "!download-model https://civitai.com/api/download/models/948574?type=Model&format=SafeTensor&size=pruned&fp=fp16 ./models/checkpoints/sd15"
   ]
  },
  {
   "cell_type": "code",
   "execution_count": null,
   "metadata": {},
   "outputs": [],
   "source": [
    "# Download Waifu Diffusion v1.4 Model\n",
    "hf_hub_download(repo_id=\"hakurei/waifu-diffusion-v1-4\", filename=\"wd-1-4-anime_e2.ckpt\", local_dir=\"./models/checkpoints/sd15\")"
   ]
  },
  {
   "cell_type": "markdown",
   "metadata": {},
   "source": [
    "#### VAE"
   ]
  },
  {
   "cell_type": "code",
   "execution_count": null,
   "metadata": {},
   "outputs": [],
   "source": [
    "# Download Stable Diffusion 1.5 VAE\n",
    "hf_hub_download(repo_id=\"stabilityai/sd-vae-ft-mse-original\", filename=\"vae-ft-mse-840000-ema-pruned.safetensors\", local_dir=\"./models/vae/sd15\")"
   ]
  },
  {
   "cell_type": "code",
   "execution_count": null,
   "metadata": {},
   "outputs": [],
   "source": [
    "# Download Waifu Diffusion v1.4 kl-f8-anime2 VAE\n",
    "hf_hub_download(repo_id=\"hakurei/waifu-diffusion-v1-4\", filename=\"vae/kl-f8-anime2.ckpt\", local_dir=\"./models/vae/sd15\")\n",
    "!mv ./models/vae/sd15/vae/kl-f8-anime2.ckpt ./models/vae/sd15/kl-f8-anime2.ckpt\n",
    "!rmdir ./models/vae/sd15/vae/"
   ]
  },
  {
   "cell_type": "code",
   "execution_count": null,
   "metadata": {},
   "outputs": [],
   "source": [
    "# Download OrangeMix VAE\n",
    "hf_hub_download(repo_id=\"WarriorMama777/OrangeMixs\", filename=\"VAEs/orangemix.vae.pt\", local_dir=\"./models/vae/sd15\")\n",
    "!mv ./models/vae/sd15/VAEs/orangemix.vae.pt ./models/vae/sd15/orangemix.vae.pt\n",
    "!rmdir ./models/vae/sd15/VAEs/"
   ]
  },
  {
   "cell_type": "code",
   "execution_count": null,
   "metadata": {},
   "outputs": [],
   "source": [
    "# Download Anything VAE\n",
    "!download-model https://civitai.com/api/download/models/119279?type=Model&format=PickleTensor ./models/vae/sd15"
   ]
  },
  {
   "cell_type": "markdown",
   "metadata": {},
   "source": [
    "#### LoRA"
   ]
  },
  {
   "cell_type": "code",
   "execution_count": null,
   "metadata": {},
   "outputs": [],
   "source": [
    "# Download Stable Diffusion 1.5 LCM LoRA\n",
    "hf_hub_download(repo_id=\"latent-consistency/lcm-lora-sdv1-5\", filename=\"pytorch_lora_weights.safetensors\", local_dir=\"./models/loras/sd15\")\n",
    "!mv ./models/loras/sd15/pytorch_lora_weights.safetensors ./models/loras/sd15/lcm-lora-sdv1-5.safetensors"
   ]
  },
  {
   "cell_type": "code",
   "execution_count": null,
   "metadata": {},
   "outputs": [],
   "source": [
    "# Download ShortBang Concept LoRA\n",
    "!download-model https://civitai.com/api/download/models/122064 ./models/loras/sd15"
   ]
  },
  {
   "cell_type": "code",
   "execution_count": null,
   "metadata": {},
   "outputs": [],
   "source": [
    "# Download Disembodied Head V2 LoRA\n",
    "!download-model https://civitai.com/api/download/models/100482 ./models/loras/sd15"
   ]
  },
  {
   "cell_type": "code",
   "execution_count": null,
   "metadata": {},
   "outputs": [],
   "source": [
    "# Download Dullahan LoRA\n",
    "!download-model https://civitai.com/api/download/models/186885 ./models/loras/sd15"
   ]
  },
  {
   "cell_type": "code",
   "execution_count": null,
   "metadata": {},
   "outputs": [],
   "source": [
    "# Download HeadinJar LoRA\n",
    "!download-model https://civitai.com/api/download/models/77230 ./models/loras/sd15"
   ]
  },
  {
   "cell_type": "code",
   "execution_count": null,
   "metadata": {},
   "outputs": [],
   "source": [
    "# Download Kirito LoRA\n",
    "!download-model https://civitai.com/api/download/models/141405 ./models/loras/sd15"
   ]
  },
  {
   "cell_type": "code",
   "execution_count": null,
   "metadata": {},
   "outputs": [],
   "source": [
    "# Download Eugeo LoRA\n",
    "!download-model https://civitai.com/api/download/models/158391 ./models/loras/sd15"
   ]
  },
  {
   "cell_type": "code",
   "execution_count": null,
   "metadata": {},
   "outputs": [],
   "source": [
    "# Download Tomboy LoRA\n",
    "!download-model https://civitai.com/api/download/models/120588 ./models/loras/sd15"
   ]
  },
  {
   "cell_type": "code",
   "execution_count": null,
   "metadata": {},
   "outputs": [],
   "source": [
    "# Download TomboyBuzzcut1-2-0805 LoRA\n",
    "!download-model https://civitai.com/api/download/models/91509 ./models/loras/sd15"
   ]
  },
  {
   "cell_type": "code",
   "execution_count": null,
   "metadata": {},
   "outputs": [],
   "source": [
    "# Download Princess Carry LoRA\n",
    "!download-model https://civitai.com/api/download/models/112975 ./models/loras/sd15"
   ]
  },
  {
   "cell_type": "code",
   "execution_count": null,
   "metadata": {},
   "outputs": [],
   "source": [
    "# Download Shima920 V2 LoRA\n",
    "!download-model  https://civitai.com/api/download/models/92833 ./models/loras/sd15"
   ]
  },
  {
   "cell_type": "code",
   "execution_count": null,
   "metadata": {},
   "outputs": [],
   "source": [
    "# Download Anime Enhancer Midrange LoRA\n",
    "!download-model https://civitai.com/api/download/models/215522 ./models/loras/sd15"
   ]
  },
  {
   "cell_type": "markdown",
   "metadata": {},
   "source": [
    "#### Embedding"
   ]
  },
  {
   "cell_type": "code",
   "execution_count": null,
   "metadata": {},
   "outputs": [],
   "source": [
    "# Download EasyNegative\n",
    "hf_hub_download(repo_id=\"gsdf/EasyNegative\", repo_type=\"dataset\", filename=\"EasyNegative.safetensors\", local_dir=\"./models/embeddings/sd15\")"
   ]
  },
  {
   "cell_type": "code",
   "execution_count": null,
   "metadata": {},
   "outputs": [],
   "source": [
    "# Download EasyNegativeV2\n",
    "hf_hub_download(repo_id=\"gsdf/Counterfeit-V3.0\", filename=\"embedding/EasyNegativeV2.safetensors\", local_dir=\"./models/embeddings/sd15\")\n",
    "!mv ./models/embeddings/sd15/embedding/EasyNegativeV2.safetensors ./models/embeddings/sd15/EasyNegativeV2.safetensors\n",
    "!rmdir ./models/embeddings/sd15/embedding/"
   ]
  },
  {
   "cell_type": "code",
   "execution_count": null,
   "metadata": {},
   "outputs": [],
   "source": [
    "# Download bad-hand-v4\n",
    "!download-model https://civitai.com/api/download/models/230261?type=Model&format=SafeTensor ./models/embeddings/sd15"
   ]
  },
  {
   "cell_type": "code",
   "execution_count": null,
   "metadata": {},
   "outputs": [],
   "source": [
    "# Download bad-hands-v5\n",
    "hf_hub_download(repo_id=\"Kajise/bad-hands\", filename=\"bad-hands-5.safetensors\", local_dir=\"./models/embeddings/sd15\")"
   ]
  },
  {
   "cell_type": "code",
   "execution_count": null,
   "metadata": {},
   "outputs": [],
   "source": [
    "# Download bad_prompt_version2\n",
    "hf_hub_download(repo_id=\"Nerfgun3/bad_prompt\", repo_type=\"dataset\", filename=\"bad_prompt_version2.pt\", local_dir=\"./models/embeddings/sd15\")"
   ]
  },
  {
   "cell_type": "code",
   "execution_count": null,
   "metadata": {},
   "outputs": [],
   "source": [
    "# Download bad-artist-anime\n",
    "hf_hub_download(repo_id=\"nick-x-hacker/bad-artist\", filename=\"bad-artist-anime.pt\", local_dir=\"./models/embeddings/sd15\")"
   ]
  },
  {
   "cell_type": "code",
   "execution_count": null,
   "metadata": {},
   "outputs": [],
   "source": [
    "# Download bad-artist\n",
    "hf_hub_download(repo_id=\"nick-x-hacker/bad-artist\", filename=\"bad-artist.pt\", local_dir=\"./models/embeddings/sd15\")"
   ]
  },
  {
   "cell_type": "code",
   "execution_count": null,
   "metadata": {},
   "outputs": [],
   "source": [
    "# Download Deep Negative V1 75 T\n",
    "!download-model https://civitai.com/api/download/models/5637 ./models/embeddings/sd15"
   ]
  },
  {
   "cell_type": "code",
   "execution_count": null,
   "metadata": {},
   "outputs": [],
   "source": [
    "# Download veryBadImageNegative\n",
    "!download-model https://civitai.com/api/download/models/25820 ./models/embeddings/sd15"
   ]
  },
  {
   "cell_type": "code",
   "execution_count": null,
   "metadata": {},
   "outputs": [],
   "source": [
    "# Download GS-Boyish\n",
    "!download-model https://civitai.com/api/download/models/95611 ./models/embeddings/sd15"
   ]
  },
  {
   "cell_type": "markdown",
   "metadata": {},
   "source": [
    "#### ControlNet"
   ]
  },
  {
   "cell_type": "code",
   "execution_count": null,
   "metadata": {},
   "outputs": [],
   "source": [
    "# Download ControlNet SD15 ip2p Model\n",
    "hf_hub_download(repo_id=\"comfyanonymous/ControlNet-v1-1_fp16_safetensors\", filename=\"control_v11e_sd15_ip2p_fp16.safetensors\", local_dir=\"./models/controlnet/sd15\")"
   ]
  },
  {
   "cell_type": "code",
   "execution_count": null,
   "metadata": {},
   "outputs": [],
   "source": [
    "# Download ControlNet SD15 Shuffle Model\n",
    "hf_hub_download(repo_id=\"comfyanonymous/ControlNet-v1-1_fp16_safetensors\", filename=\"control_v11e_sd15_shuffle_fp16.safetensors\", local_dir=\"./models/controlnet/sd15\")"
   ]
  },
  {
   "cell_type": "code",
   "execution_count": null,
   "metadata": {},
   "outputs": [],
   "source": [
    "# Download ControlNet SD15 Tile Model\n",
    "hf_hub_download(repo_id=\"comfyanonymous/ControlNet-v1-1_fp16_safetensors\", filename=\"control_v11f1e_sd15_tile_fp16.safetensors\", local_dir=\"./models/controlnet/sd15\")"
   ]
  },
  {
   "cell_type": "code",
   "execution_count": null,
   "metadata": {},
   "outputs": [],
   "source": [
    "# Download ControlNet SD15 Depth Model\n",
    "hf_hub_download(repo_id=\"comfyanonymous/ControlNet-v1-1_fp16_safetensors\", filename=\"control_v11f1p_sd15_depth_fp16.safetensors\", local_dir=\"./models/controlnet/sd15\")"
   ]
  },
  {
   "cell_type": "code",
   "execution_count": null,
   "metadata": {},
   "outputs": [],
   "source": [
    "# Download ControlNet SD15 Canny Model\n",
    "hf_hub_download(repo_id=\"comfyanonymous/ControlNet-v1-1_fp16_safetensors\", filename=\"control_v11p_sd15_canny_fp16.safetensors\", local_dir=\"./models/controlnet/sd15\")"
   ]
  },
  {
   "cell_type": "code",
   "execution_count": null,
   "metadata": {},
   "outputs": [],
   "source": [
    "# Download ControlNet SD15 Inpaint Model\n",
    "hf_hub_download(repo_id=\"comfyanonymous/ControlNet-v1-1_fp16_safetensors\", filename=\"control_v11p_sd15_inpaint_fp16.safetensors\", local_dir=\"./models/controlnet/sd15\")"
   ]
  },
  {
   "cell_type": "code",
   "execution_count": null,
   "metadata": {},
   "outputs": [],
   "source": [
    "# Download ControlNet SD15 Lineart Model\n",
    "hf_hub_download(repo_id=\"comfyanonymous/ControlNet-v1-1_fp16_safetensors\", filename=\"control_v11p_sd15_lineart_fp16.safetensors\", local_dir=\"./models/controlnet/sd15\")"
   ]
  },
  {
   "cell_type": "code",
   "execution_count": null,
   "metadata": {},
   "outputs": [],
   "source": [
    "# Download ControlNet SD15 MLSD Model\n",
    "hf_hub_download(repo_id=\"comfyanonymous/ControlNet-v1-1_fp16_safetensors\", filename=\"control_v11p_sd15_mlsd_fp16.safetensors\", local_dir=\"./models/controlnet/sd15\")"
   ]
  },
  {
   "cell_type": "code",
   "execution_count": null,
   "metadata": {},
   "outputs": [],
   "source": [
    "# Download ControlNet NormalBae Canny Model\n",
    "hf_hub_download(repo_id=\"comfyanonymous/ControlNet-v1-1_fp16_safetensors\", filename=\"control_v11p_sd15_normalbae_fp16.safetensors\", local_dir=\"./models/controlnet/sd15\")"
   ]
  },
  {
   "cell_type": "code",
   "execution_count": null,
   "metadata": {},
   "outputs": [],
   "source": [
    "# Download ControlNet SD15 OpenPose Model\n",
    "hf_hub_download(repo_id=\"comfyanonymous/ControlNet-v1-1_fp16_safetensors\", filename=\"control_v11p_sd15_openpose_fp16.safetensors\", local_dir=\"./models/controlnet/sd15\")"
   ]
  },
  {
   "cell_type": "code",
   "execution_count": null,
   "metadata": {},
   "outputs": [],
   "source": [
    "# Download ControlNet SD15 Scribble Model\n",
    "hf_hub_download(repo_id=\"comfyanonymous/ControlNet-v1-1_fp16_safetensors\", filename=\"control_v11p_sd15_scribble_fp16.safetensors\", local_dir=\"./models/controlnet/sd15\")"
   ]
  },
  {
   "cell_type": "code",
   "execution_count": null,
   "metadata": {},
   "outputs": [],
   "source": [
    "# Download ControlNet SD15 Seg Model\n",
    "hf_hub_download(repo_id=\"comfyanonymous/ControlNet-v1-1_fp16_safetensors\", filename=\"control_v11p_sd15_seg_fp16.safetensors\", local_dir=\"./models/controlnet/sd15\")"
   ]
  },
  {
   "cell_type": "code",
   "execution_count": null,
   "metadata": {},
   "outputs": [],
   "source": [
    "# Download ControlNet SD15 Softedge Model\n",
    "hf_hub_download(repo_id=\"comfyanonymous/ControlNet-v1-1_fp16_safetensors\", filename=\"control_v11p_sd15_softedge_fp16.safetensors\", local_dir=\"./models/controlnet/sd15\")"
   ]
  },
  {
   "cell_type": "code",
   "execution_count": null,
   "metadata": {},
   "outputs": [],
   "source": [
    "# Download ControlNet SD15 Lineart Anime Model\n",
    "hf_hub_download(repo_id=\"comfyanonymous/ControlNet-v1-1_fp16_safetensors\", filename=\"control_v11p_sd15s2_lineart_anime_fp16.safetensors\", local_dir=\"./models/controlnet/sd15\")"
   ]
  },
  {
   "cell_type": "markdown",
   "metadata": {},
   "source": [
    "### Download SD2x Model"
   ]
  },
  {
   "cell_type": "markdown",
   "metadata": {},
   "source": [
    "#### Checkpoint"
   ]
  },
  {
   "cell_type": "code",
   "execution_count": null,
   "metadata": {},
   "outputs": [],
   "source": [
    "# Download Stable Diffusion 2.0 768 Model\n",
    "hf_hub_download(repo_id=\"stabilityai/stable-diffusion-2\", filename=\"768-v-ema.safetensors\", local_dir=\"./models/checkpoints/sd2\")"
   ]
  },
  {
   "cell_type": "code",
   "execution_count": null,
   "metadata": {},
   "outputs": [],
   "source": [
    "# Download Stable Diffusion 2.0 512 Base Model\n",
    "hf_hub_download(repo_id=\"stabilityai/stable-diffusion-2-base\", filename=\"512-base-ema.safetensors\", local_dir=\"./models/checkpoints/sd2\")"
   ]
  },
  {
   "cell_type": "code",
   "execution_count": null,
   "metadata": {},
   "outputs": [],
   "source": [
    "# Download Stable Diffusion 2.0 512 Depth Model\n",
    "hf_hub_download(repo_id=\"stabilityai/stable-diffusion-2-depth\", filename=\"512-depth-ema.safetensors\", local_dir=\"./models/checkpoints/sd2\")"
   ]
  },
  {
   "cell_type": "code",
   "execution_count": null,
   "metadata": {},
   "outputs": [],
   "source": [
    "# Download Stable Diffusion 2.0 512 Inpainting Model\n",
    "hf_hub_download(repo_id=\"stabilityai/stable-diffusion-2-inpainting\", filename=\"512-inpainting-ema.safetensors\", local_dir=\"./models/checkpoints/sd2\")"
   ]
  },
  {
   "cell_type": "code",
   "execution_count": null,
   "metadata": {},
   "outputs": [],
   "source": [
    "# Download Stable Diffusion 2.1 Model\n",
    "hf_hub_download(repo_id=\"stabilityai/stable-diffusion-2-1\", filename=\"v2-1_768-ema-pruned.safetensors\", local_dir=\"./models/checkpoints/sd2\")"
   ]
  },
  {
   "cell_type": "code",
   "execution_count": null,
   "metadata": {},
   "outputs": [],
   "source": [
    "# Download Stable Diffusion 2.1 Base Model\n",
    "hf_hub_download(repo_id=\"stabilityai/stable-diffusion-2-1-base\", filename=\"v2-1_512-ema-pruned.safetensors\", local_dir=\"./models/checkpoints/sd2\")"
   ]
  },
  {
   "cell_type": "markdown",
   "metadata": {},
   "source": [
    "#### ControlNet"
   ]
  },
  {
   "cell_type": "code",
   "execution_count": null,
   "metadata": {},
   "outputs": [],
   "source": [
    "# Download Stable Diffusion 2.1 ControlNet\n",
    "hf_hub_download(repo_id=\"thibaud/controlnet-sd21\", filename=\"control_v11p_sd21_ade20k.safetensors\", local_dir=\"./models/controlnet/sd2\")\n",
    "hf_hub_download(repo_id=\"thibaud/controlnet-sd21\", filename=\"control_v11p_sd21_canny.safetensors\", local_dir=\"./models/controlnet/sd2\")\n",
    "hf_hub_download(repo_id=\"thibaud/controlnet-sd21\", filename=\"control_v11p_sd21_color.safetensors\", local_dir=\"./models/controlnet/sd2\")\n",
    "hf_hub_download(repo_id=\"thibaud/controlnet-sd21\", filename=\"control_v11p_sd21_depth.safetensors\", local_dir=\"./models/controlnet/sd2\")\n",
    "hf_hub_download(repo_id=\"thibaud/controlnet-sd21\", filename=\"control_v11p_sd21_hed.safetensors\", local_dir=\"./models/controlnet/sd2\")\n",
    "hf_hub_download(repo_id=\"thibaud/controlnet-sd21\", filename=\"control_v11p_sd21_lineart.safetensors\", local_dir=\"./models/controlnet/sd2\")\n",
    "hf_hub_download(repo_id=\"thibaud/controlnet-sd21\", filename=\"control_v11p_sd21_normalbae.safetensors\", local_dir=\"./models/controlnet/sd2\")\n",
    "hf_hub_download(repo_id=\"thibaud/controlnet-sd21\", filename=\"control_v11p_sd21_openpose.safetensors\", local_dir=\"./models/controlnet/sd2\")\n",
    "hf_hub_download(repo_id=\"thibaud/controlnet-sd21\", filename=\"control_v11p_sd21_openposev2.safetensors\", local_dir=\"./models/controlnet/sd2\")\n",
    "hf_hub_download(repo_id=\"thibaud/controlnet-sd21\", filename=\"control_v11p_sd21_scribble.safetensors\", local_dir=\"./models/controlnet/sd2\")\n",
    "hf_hub_download(repo_id=\"thibaud/controlnet-sd21\", filename=\"control_v11p_sd21_zoedepth.safetensors\", local_dir=\"./models/controlnet/sd2\")"
   ]
  },
  {
   "cell_type": "markdown",
   "metadata": {},
   "source": [
    "### Download SDXL Model"
   ]
  },
  {
   "cell_type": "markdown",
   "metadata": {},
   "source": [
    "#### Checkpoint"
   ]
  },
  {
   "cell_type": "code",
   "execution_count": null,
   "metadata": {},
   "outputs": [],
   "source": [
    "# Download Stable Diffusion XL 1.0 Base Model\n",
    "hf_hub_download(repo_id=\"stabilityai/stable-diffusion-xl-base-1.0\", filename=\"sd_xl_base_1.0.safetensors\", local_dir=\"./models/checkpoints/sdxl\")"
   ]
  },
  {
   "cell_type": "code",
   "execution_count": null,
   "metadata": {},
   "outputs": [],
   "source": [
    "# Download Stable Diffusion XL 1.0 Refiner Model\n",
    "hf_hub_download(repo_id=\"stabilityai/stable-diffusion-xl-refiner-1.0\", filename=\"sd_xl_refiner_1.0.safetensors\", local_dir=\"./models/checkpoints/sdxl\")"
   ]
  },
  {
   "cell_type": "code",
   "execution_count": null,
   "metadata": {},
   "outputs": [],
   "source": [
    "# Download Anything XL Model\n",
    "!download-model https://civitai.com/api/download/models/384264 ./models/checkpoints/sdxl"
   ]
  },
  {
   "cell_type": "code",
   "execution_count": null,
   "metadata": {},
   "outputs": [],
   "source": [
    "# Download AnimagineXL 3.1 Model\n",
    "hf_hub_download(repo_id=\"cagliostrolab/animagine-xl-3.1\", filename=\"animagine-xl-3.1.safetensors\", local_dir=\"./models/checkpoints/sdxl\")"
   ]
  },
  {
   "cell_type": "code",
   "execution_count": null,
   "metadata": {},
   "outputs": [],
   "source": [
    "# Download Gamma XL NSFW for Anything XL Model\n",
    "!download-model https://civitai.com/api/download/models/412021 ./models/checkpoints/sdxl"
   ]
  },
  {
   "cell_type": "code",
   "execution_count": null,
   "metadata": {},
   "outputs": [],
   "source": [
    "# Download Kohaku XL Epsilon Model\n",
    "!download-model https://civitai.com/api/download/models/546178 ./models/checkpoints/sdxl"
   ]
  },
  {
   "cell_type": "code",
   "execution_count": null,
   "metadata": {},
   "outputs": [],
   "source": [
    "# Download CounterfeitXL V2.5 Model\n",
    "hf_hub_download(repo_id=\"gsdf/CounterfeitXL-V2.0\", filename=\"CounterfeitXL-V2.5.safetensors\", local_dir=\"./models/checkpoints/sdxl\")"
   ]
  },
  {
   "cell_type": "code",
   "execution_count": null,
   "metadata": {},
   "outputs": [],
   "source": [
    "# Download Juggernaut XL Model\n",
    "hf_hub_download(repo_id=\"RunDiffusion/Juggernaut-XI-v11\", filename=\"Juggernaut-XI-byRunDiffusion.safetensors\", local_dir=\"./models/checkpoints/sdxl\")"
   ]
  },
  {
   "cell_type": "markdown",
   "metadata": {},
   "source": [
    "#### VAE"
   ]
  },
  {
   "cell_type": "code",
   "execution_count": null,
   "metadata": {},
   "outputs": [],
   "source": [
    "# Download Stable Diffusion XL 1.0 VAE\n",
    "hf_hub_download(repo_id=\"madebyollin/sdxl-vae-fp16-fix\", filename=\"sdxl_vae.safetensors\", local_dir=\"./models/vae/sdxl\")"
   ]
  },
  {
   "cell_type": "markdown",
   "metadata": {},
   "source": [
    "#### LoRA"
   ]
  },
  {
   "cell_type": "code",
   "execution_count": null,
   "metadata": {},
   "outputs": [],
   "source": [
    "# Download Stable Diffusion XL LCM LoRA\n",
    "hf_hub_download(repo_id=\"latent-consistency/lcm-lora-sdxl\", filename=\"pytorch_lora_weights.safetensors\", local_dir=\"./models/loras/sd15\")\n",
    "!mv ./models/loras/sd15/pytorch_lora_weights.safetensors ./models/loras/sdxl/lcm-lora-sdxl.safetensors"
   ]
  },
  {
   "cell_type": "code",
   "execution_count": null,
   "metadata": {},
   "outputs": [],
   "source": [
    "# Download Envy Tomboy Slider XL LoRA\n",
    "!download-model https://civitai.com/api/download/models/251963 ./models/loras/sdxl"
   ]
  },
  {
   "cell_type": "code",
   "execution_count": null,
   "metadata": {},
   "outputs": [],
   "source": [
    "# Download SAO Kirito SDXL Satu LoRA\n",
    "!download-model https://civitai.com/api/download/models/489270 ./models/loras/sdxl"
   ]
  },
  {
   "cell_type": "code",
   "execution_count": null,
   "metadata": {},
   "outputs": [],
   "source": [
    "# Download XL Eugeo SAO Animagine XL 3.1 LoRA\n",
    "!download-model https://civitai.com/api/download/models/437049 ./models/loras/sdxl"
   ]
  },
  {
   "cell_type": "code",
   "execution_count": null,
   "metadata": {},
   "outputs": [],
   "source": [
    "# Download Sailorboy XL LoRA\n",
    "!download-model https://civitai.com/api/download/models/134460 ./models/loras/sdxl"
   ]
  },
  {
   "cell_type": "code",
   "execution_count": null,
   "metadata": {},
   "outputs": [],
   "source": [
    "# Download SDXL Disembodied head Headless LoRA\n",
    "!download-model https://civitai.com/api/download/models/515553 ./models/loras/sdxl"
   ]
  },
  {
   "cell_type": "code",
   "execution_count": null,
   "metadata": {},
   "outputs": [],
   "source": [
    "# Download [Yue] Paintingboys SDXL LoRA\n",
    "!download-model https://civitai.com/api/download/models/144865 ./models/loras/sdxl"
   ]
  },
  {
   "cell_type": "code",
   "execution_count": null,
   "metadata": {},
   "outputs": [],
   "source": [
    "# Download A Short cut v3 SDXL LoRA\n",
    "!download-model https://civitai.com/api/download/models/298618 ./models/loras/sdxl"
   ]
  },
  {
   "cell_type": "code",
   "execution_count": null,
   "metadata": {},
   "outputs": [],
   "source": [
    "# Download Breasts Slider LoRA\n",
    "!download-model https://civitai.com/api/download/models/173866 ./models/loras/sdxl"
   ]
  },
  {
   "cell_type": "code",
   "execution_count": null,
   "metadata": {},
   "outputs": [],
   "source": [
    "# Download SDXL Dark Knight LoRA\n",
    "!download-model https://civitai.com/api/download/models/570644 ./models/loras/sdxl"
   ]
  },
  {
   "cell_type": "code",
   "execution_count": null,
   "metadata": {},
   "outputs": [],
   "source": [
    "# Download Enhancer V4 XL LoRA\n",
    "!download-model https://civitai.com/api/download/models/497695 ./models/loras/sdxl"
   ]
  },
  {
   "cell_type": "code",
   "execution_count": null,
   "metadata": {},
   "outputs": [],
   "source": [
    "# Download Add Details XL LoRA\n",
    "!download-model https://civitai.com/api/download/models/436121 ./models/loras/sdxl"
   ]
  },
  {
   "cell_type": "code",
   "execution_count": null,
   "metadata": {},
   "outputs": [],
   "source": [
    "# Download Head Swap (Male Head on Female Body) Animagine XL 3.1 LoRA\n",
    "!download-model https://civitai.com/api/download/models/513742 ./models/loras/sdxl"
   ]
  },
  {
   "cell_type": "code",
   "execution_count": null,
   "metadata": {},
   "outputs": [],
   "source": [
    "# Download Head Swap (Female Head on Male Body) Animagine XL 3.1 LoRA\n",
    "!download-model https://civitai.com/api/download/models/429832 ./models/loras/sdxl"
   ]
  },
  {
   "cell_type": "markdown",
   "metadata": {},
   "source": [
    "#### Embedding"
   ]
  },
  {
   "cell_type": "code",
   "execution_count": null,
   "metadata": {},
   "outputs": [],
   "source": [
    "# Download NegativeXL A\n",
    "hf_hub_download(repo_id=\"gsdf/CounterfeitXL\", filename=\"embeddings/negativeXL_A.safetensors\", local_dir=\"./models/embeddings/sdxl\")\n",
    "!mv ./models/embeddings/sdxl/embeddings/negativeXL_A.safetensors ./models/embeddings/sdxl/negativeXL_A.safetensors\n",
    "!rmdir ./models/embeddings/sdxl/embeddings/"
   ]
  },
  {
   "cell_type": "code",
   "execution_count": null,
   "metadata": {},
   "outputs": [],
   "source": [
    "# Download NegativeXL B\n",
    "hf_hub_download(repo_id=\"gsdf/CounterfeitXL\", filename=\"embeddings/negativeXL_B.safetensors\", local_dir=\"./models/embeddings/sdxl\")\n",
    "!mv ./models/embeddings/sdxl/embeddings/negativeXL_B.safetensors ./models/embeddings/sdxl/negativeXL_B.safetensors\n",
    "!rmdir ./models/embeddings/sdxl/embeddings/"
   ]
  },
  {
   "cell_type": "code",
   "execution_count": null,
   "metadata": {},
   "outputs": [],
   "source": [
    "# Download NegativeXL C\n",
    "hf_hub_download(repo_id=\"gsdf/CounterfeitXL\", filename=\"embeddings/negativeXL_C.safetensors\", local_dir=\"./models/embeddings/sdxl\")\n",
    "!mv ./models/embeddings/sdxl/embeddings/negativeXL_C.safetensors ./models/embeddings/sdxl/negativeXL_C.safetensors\n",
    "!rmdir ./models/embeddings/sdxl/embeddings/"
   ]
  },
  {
   "cell_type": "code",
   "execution_count": null,
   "metadata": {},
   "outputs": [],
   "source": [
    "# Download NegativeXL D\n",
    "hf_hub_download(repo_id=\"gsdf/CounterfeitXL\", filename=\"embeddings/negativeXL_D.safetensors\", local_dir=\"./models/embeddings/sdxl\")\n",
    "!mv ./models/embeddings/sdxl/embeddings/negativeXL_D.safetensors ./models/embeddings/sdxl/negativeXL_D.safetensors\n",
    "!rmdir ./models/embeddings/sdxl/embeddings/"
   ]
  },
  {
   "cell_type": "code",
   "execution_count": null,
   "metadata": {},
   "outputs": [],
   "source": [
    "# Download DeepNegative XL\n",
    "!download-model https://civitai.com/api/download/models/454217 ./models/embeddings/sdxl"
   ]
  },
  {
   "cell_type": "code",
   "execution_count": null,
   "metadata": {},
   "outputs": [],
   "source": [
    "# Download Negative XL\n",
    "!download-model https://civitai.com/api/download/models/261856 ./models/embeddings/sdxl"
   ]
  },
  {
   "cell_type": "code",
   "execution_count": null,
   "metadata": {},
   "outputs": [],
   "source": [
    "# Download Negative XL V2\n",
    "!download-model https://civitai.com/api/download/models/264111 ./models/embeddings/sdxl"
   ]
  },
  {
   "cell_type": "code",
   "execution_count": null,
   "metadata": {},
   "outputs": [],
   "source": [
    "# Download Negative XL Color_Balance_Calibration_0.8\n",
    "!download-model https://civitai.com/api/download/models/431425 ./models/embeddings/sdxl"
   ]
  },
  {
   "cell_type": "markdown",
   "metadata": {},
   "source": [
    "#### ControlNet"
   ]
  },
  {
   "cell_type": "markdown",
   "metadata": {},
   "source": [
    "**Stability AI**"
   ]
  },
  {
   "cell_type": "code",
   "execution_count": null,
   "metadata": {},
   "outputs": [],
   "source": [
    "# Download Stability AI ControlNet XL Canny\n",
    "hf_hub_download(repo_id=\"stabilityai/control-lora\", filename=\"control-LoRAs-rank256/control-lora-canny-rank256.safetensors\", local_dir=\"./models/controlnet/sdxl\")\n",
    "!mv ./models/controlnet/sdxl/control-LoRAs-rank256/control-lora-canny-rank256.safetensors ./models/controlnet/sdxl/control-lora-canny-rank256.safetensors\n",
    "!rmdir ./models/controlnet/sdxl/control-LoRAs-rank256/"
   ]
  },
  {
   "cell_type": "code",
   "execution_count": null,
   "metadata": {},
   "outputs": [],
   "source": [
    "# Download Stability AI ControlNet XL Depth\n",
    "hf_hub_download(repo_id=\"stabilityai/control-lora\", filename=\"control-LoRAs-rank256/control-lora-depth-rank256.safetensors\", local_dir=\"./models/controlnet/sdxl\")\n",
    "!mv ./models/controlnet/sdxl/control-LoRAs-rank256/control-lora-depth-rank256.safetensors ./models/controlnet/sdxl/control-lora-depth-rank256.safetensors\n",
    "!rmdir ./models/controlnet/sdxl/control-LoRAs-rank256/"
   ]
  },
  {
   "cell_type": "code",
   "execution_count": null,
   "metadata": {},
   "outputs": [],
   "source": [
    "# Download Stability AI ControlNet XL Recolor\n",
    "hf_hub_download(repo_id=\"stabilityai/control-lora\", filename=\"control-LoRAs-rank256/control-lora-recolor-rank256.safetensors\", local_dir=\"./models/controlnet/sdxl\")\n",
    "!mv ./models/controlnet/sdxl/control-LoRAs-rank256/control-lora-recolor-rank256.safetensors ./models/controlnet/sdxl/control-lora-recolor-rank256.safetensors\n",
    "!rmdir ./models/controlnet/sdxl/control-LoRAs-rank256/"
   ]
  },
  {
   "cell_type": "code",
   "execution_count": null,
   "metadata": {},
   "outputs": [],
   "source": [
    "# Download Stability AI ControlNet XL Sketch\n",
    "hf_hub_download(repo_id=\"stabilityai/control-lora\", filename=\"control-LoRAs-rank256/control-lora-sketch-rank256.safetensors\", local_dir=\"./models/controlnet/sdxl\")\n",
    "!mv ./models/controlnet/sdxl/control-LoRAs-rank256/control-lora-sketch-rank256.safetensors ./models/controlnet/sdxl/control-lora-sketch-rank256.safetensors\n",
    "!rmdir ./models/controlnet/sdxl/control-LoRAs-rank256/"
   ]
  },
  {
   "cell_type": "markdown",
   "metadata": {},
   "source": [
    "**Diffusers**"
   ]
  },
  {
   "cell_type": "code",
   "execution_count": null,
   "metadata": {},
   "outputs": [],
   "source": [
    "# Download Diffusers ControlNet XL Canny\n",
    "hf_hub_download(repo_id=\"diffusers/controlnet-canny-sdxl-1.0\", filename=\"diffusion_pytorch_model.fp16.safetensors\", local_dir=\"./models/controlnet/sdxl\")\n",
    "!mv ./models/controlnet/sdxl/diffusion_pytorch_model.fp16.safetensors ./models/controlnet/sdxl/controlnet-canny-sdxl-1.0.safetensors"
   ]
  },
  {
   "cell_type": "code",
   "execution_count": null,
   "metadata": {},
   "outputs": [],
   "source": [
    "# Download Diffusers ControlNet XL Depth\n",
    "hf_hub_download(repo_id=\"diffusers/controlnet-depth-sdxl-1.0\", filename=\"diffusion_pytorch_model.fp16.safetensors\", local_dir=\"./models/controlnet/sdxl\")\n",
    "!mv ./models/controlnet/sdxl/diffusion_pytorch_model.fp16.safetensors ./models/controlnet/sdxl/controlnet-depth-sdxl-1.0.safetensors"
   ]
  },
  {
   "cell_type": "markdown",
   "metadata": {},
   "source": [
    "**Kataragi**"
   ]
  },
  {
   "cell_type": "code",
   "execution_count": null,
   "metadata": {},
   "outputs": [],
   "source": [
    "# Download Kataragi ControlNet XL Canny\n",
    "hf_hub_download(repo_id=\"kataragi/controlnet_canny\", filename=\"Kataragi_cannyXL-fp16.safetensors\", local_dir=\"./models/controlnet/sdxl\")"
   ]
  },
  {
   "cell_type": "code",
   "execution_count": null,
   "metadata": {},
   "outputs": [],
   "source": [
    "# Download Kataragi ControlNet XL Flatline\n",
    "hf_hub_download(repo_id=\"kataragi/flatline\", filename=\"diffusers_xl_flatline_testXL-fp16.safetensors\", local_dir=\"./models/controlnet/sdxl\")"
   ]
  },
  {
   "cell_type": "code",
   "execution_count": null,
   "metadata": {},
   "outputs": [],
   "source": [
    "# Download Kataragi ControlNet XL Inpaint\n",
    "hf_hub_download(repo_id=\"kataragi/controlnetXL_inpaint\", filename=\"Kataragi_inpaintXL-fp16.safetensors\", local_dir=\"./models/controlnet/sdxl\")"
   ]
  },
  {
   "cell_type": "code",
   "execution_count": null,
   "metadata": {},
   "outputs": [],
   "source": [
    "# Download Kataragi ControlNet XL Line2Color\n",
    "hf_hub_download(repo_id=\"kataragi/controlnetXL_line2color\", filename=\"controlnetXL_line2colorV2-fp16.safetensors\", local_dir=\"./models/controlnet/sdxl\")"
   ]
  },
  {
   "cell_type": "code",
   "execution_count": null,
   "metadata": {},
   "outputs": [],
   "source": [
    "# Download Kataragi ControlNet XL LineArt\n",
    "hf_hub_download(repo_id=\"kataragi/ControlNet-LineartXL\", filename=\"Katarag_lineartXL-fp16.safetensors\", local_dir=\"./models/controlnet/sdxl\")"
   ]
  },
  {
   "cell_type": "code",
   "execution_count": null,
   "metadata": {},
   "outputs": [],
   "source": [
    "# Download Kataragi ControlNet XL ReColor\n",
    "hf_hub_download(repo_id=\"kataragi/ControlNet-recolorXL\", filename=\"diffusers_xl_recolor_testXL-fp16.safetensors\", local_dir=\"./models/controlnet/sdxl\")"
   ]
  },
  {
   "cell_type": "code",
   "execution_count": null,
   "metadata": {},
   "outputs": [],
   "source": [
    "# Download Kataragi ControlNet XL Tori29 Blur\n",
    "hf_hub_download(repo_id=\"kataragi/ControlNet_tori29_blur\", filename=\"ControlNet_tori29_blur-fp16.safetensors\", local_dir=\"./models/controlnet/sdxl\")"
   ]
  },
  {
   "cell_type": "code",
   "execution_count": null,
   "metadata": {},
   "outputs": [],
   "source": [
    "# Download Kataragi ControlNet XL Routh Coating\n",
    "hf_hub_download(repo_id=\"kataragi/controlnetXL-rough-coating\", filename=\"rough-coatingV1.safetensors\", local_dir=\"./models/controlnet/sdxl\")"
   ]
  },
  {
   "cell_type": "markdown",
   "metadata": {},
   "source": [
    "**Thibaud**"
   ]
  },
  {
   "cell_type": "code",
   "execution_count": null,
   "metadata": {},
   "outputs": [],
   "source": [
    "# Download Thibaud ControlNet XL OpenPose\n",
    "hf_hub_download(repo_id=\"thibaud/controlnet-openpose-sdxl-1.0\", filename=\"control-lora-openposeXL2-rank256.safetensors\", local_dir=\"./models/controlnet/sdxl\")"
   ]
  },
  {
   "cell_type": "markdown",
   "metadata": {},
   "source": [
    "**xinsir**"
   ]
  },
  {
   "cell_type": "code",
   "execution_count": null,
   "metadata": {},
   "outputs": [],
   "source": [
    "# Download Xinsir ControlNet XL Union\n",
    "hf_hub_download(repo_id=\"xinsir/controlnet-union-sdxl-1.0\", filename=\"diffusion_pytorch_model_promax.safetensors\", local_dir=\"./models/controlnet/sdxl\")\n",
    "!mv ./models/controlnet/sdxl/diffusion_pytorch_model_promax.safetensors ./models/controlnet/sdxl/controlnet-union-sdxl-1.0-promax.safetensors"
   ]
  },
  {
   "cell_type": "markdown",
   "metadata": {},
   "source": [
    "### Download Pony Model"
   ]
  },
  {
   "cell_type": "markdown",
   "metadata": {},
   "source": [
    "#### Checkpoint"
   ]
  },
  {
   "cell_type": "code",
   "execution_count": null,
   "metadata": {},
   "outputs": [],
   "source": [
    "# Download Pony Diffusion XL V6 Model\n",
    "!download-model https://civitai.com/api/download/models/290640 ./models/checkpoints/pony"
   ]
  },
  {
   "cell_type": "code",
   "execution_count": null,
   "metadata": {},
   "outputs": [],
   "source": [
    "# Download AutismMix Pony Model\n",
    "!download-model https://civitai.com/api/download/models/324619 ./models/checkpoints/pony"
   ]
  },
  {
   "cell_type": "code",
   "execution_count": null,
   "metadata": {},
   "outputs": [],
   "source": [
    "# Download 7th Anime XL Pony Model\n",
    "!download-model https://civitai.com/api/download/models/441236 ./models/checkpoints/pony"
   ]
  },
  {
   "cell_type": "markdown",
   "metadata": {},
   "source": [
    "#### VAE"
   ]
  },
  {
   "cell_type": "code",
   "execution_count": null,
   "metadata": {},
   "outputs": [],
   "source": [
    "# Download Pony Standard VAE\n",
    "!download-model https://civitai.com/api/download/models/739304 ./models/vae/pony"
   ]
  },
  {
   "cell_type": "code",
   "execution_count": null,
   "metadata": {},
   "outputs": [],
   "source": [
    "# Download Pony Enhanced VAE Pastels\n",
    "!download-model https://civitai.com/api/download/models/739267 ./models/vae/pony"
   ]
  },
  {
   "cell_type": "markdown",
   "metadata": {},
   "source": [
    "#### LoRA"
   ]
  },
  {
   "cell_type": "code",
   "execution_count": null,
   "metadata": {},
   "outputs": [],
   "source": [
    "# Download Head Swap (Male Head on Female Body) Pony\n",
    "!download-model https://civitai.com/api/download/models/528192 ./models/loras/pony"
   ]
  }
 ],
 "metadata": {
  "kernelspec": {
   "display_name": "base",
   "language": "python",
   "name": "python3"
  },
  "language_info": {
   "codemirror_mode": {
    "name": "ipython",
    "version": 3
   },
   "file_extension": ".py",
   "mimetype": "text/x-python",
   "name": "python",
   "nbconvert_exporter": "python",
   "pygments_lexer": "ipython3",
   "version": "3.10.14"
  }
 },
 "nbformat": 4,
 "nbformat_minor": 2
}
