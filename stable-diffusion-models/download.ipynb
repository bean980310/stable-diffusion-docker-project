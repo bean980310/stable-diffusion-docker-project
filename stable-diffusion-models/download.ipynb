{
 "cells": [
  {
   "cell_type": "markdown",
   "metadata": {},
   "source": [
    "# Download Model"
   ]
  },
  {
   "cell_type": "markdown",
   "metadata": {},
   "source": [
    "## Create a sub-directory"
   ]
  },
  {
   "cell_type": "code",
   "execution_count": 2,
   "metadata": {},
   "outputs": [
    {
     "name": "stdout",
     "output_type": "stream",
     "text": [
      "./models/checkpoints/sd15 already exists\n",
      "./models/checkpoints/sd2 already exists\n",
      "./models/checkpoints/sdxl already exists\n",
      "./models/checkpoints/pony already exists\n",
      "./models/checkpoints/ilxl already exists\n",
      "./models/checkpoints/sd3 already exists\n",
      "./models/checkpoints/flux1 already exists\n",
      "./models/checkpoints/upscale already exists\n",
      "./models/vae/sd15 already exists\n",
      "./models/vae/sd2 already exists\n",
      "./models/vae/sdxl already exists\n",
      "./models/vae/pony already exists\n",
      "./models/vae/ilxl already exists\n",
      "./models/vae/sd3 already exists\n",
      "./models/vae/flux1 already exists\n",
      "./models/loras/sd15 already exists\n",
      "./models/loras/sd2 already exists\n",
      "./models/loras/sdxl already exists\n",
      "./models/loras/pony already exists\n",
      "./models/loras/ilxl already exists\n",
      "./models/loras/sd3 already exists\n",
      "./models/loras/flux1 already exists\n",
      "./models/embeddings/sd15 already exists\n",
      "./models/embeddings/sd2 already exists\n",
      "./models/embeddings/sdxl already exists\n",
      "./models/embeddings/sd3 already exists\n",
      "./models/embeddings/flux1 already exists\n",
      "./models/controlnet/sd15 already exists\n",
      "./models/controlnet/sd2 already exists\n",
      "./models/controlnet/sdxl already exists\n",
      "./models/controlnet/sd3 already exists\n",
      "./models/controlnet/flux1 already exists\n",
      "./models/clip/sd3 already exists\n"
     ]
    },
    {
     "data": {
      "text/plain": [
       "[None]"
      ]
     },
     "execution_count": 2,
     "metadata": {},
     "output_type": "execute_result"
    }
   ],
   "source": [
    "import os\n",
    "import shutil\n",
    "\n",
    "def makedirs(path):\n",
    "    if not os.path.exists(path):\n",
    "        os.makedirs(path)\n",
    "        print(f\"{path} created\")\n",
    "    else:\n",
    "        print(f\"{path} already exists\")\n",
    "\n",
    "ckpt_dir = ['sd15', 'sd2', 'sdxl', 'pony', 'ilxl', 'sd3', 'flux1', 'upscale']\n",
    "[makedirs(os.path.join(\"./models/checkpoints\", dir)) for dir in ckpt_dir]\n",
    "\n",
    "vae_dir=['sd15', 'sd2', 'sdxl', 'pony', 'ilxl', 'sd3', 'flux1']\n",
    "[makedirs(os.path.join(\"./models/vae\", dir)) for dir in vae_dir]\n",
    "\n",
    "lora_dir=['sd15', 'sd2', 'sdxl', 'pony', 'ilxl', 'sd3', 'flux1']\n",
    "[makedirs(os.path.join(\"./models/loras\", dir)) for dir in lora_dir]\n",
    "\n",
    "embedding_dir=['sd15', 'sd2', 'sdxl', 'sd3', 'flux1']\n",
    "[makedirs(os.path.join(\"./models/embeddings\", dir)) for dir in embedding_dir]\n",
    "\n",
    "controlnet_dir=['sd15', 'sd2', 'sdxl', 'sd3', 'flux1']\n",
    "[makedirs(os.path.join(\"./models/controlnet\", dir)) for dir in controlnet_dir]\n",
    "\n",
    "clip_dir=['sd3']\n",
    "[makedirs(os.path.join(\"./models/clip\", dir)) for dir in clip_dir]"
   ]
  },
  {
   "cell_type": "markdown",
   "metadata": {},
   "source": [
    "## Login to huggingface"
   ]
  },
  {
   "cell_type": "code",
   "execution_count": 3,
   "metadata": {},
   "outputs": [],
   "source": [
    "from huggingface_hub import notebook_login, hf_hub_download, snapshot_download\n",
    "\n",
    "notebook_login(new_session=False)"
   ]
  },
  {
   "cell_type": "markdown",
   "metadata": {},
   "source": [
    "## Login to CivitAI with API token"
   ]
  },
  {
   "cell_type": "code",
   "execution_count": 4,
   "metadata": {},
   "outputs": [],
   "source": [
    "from civitai_downloader import login, civitai_download, advanced_download\n",
    "\n",
    "token=login()"
   ]
  },
  {
   "cell_type": "markdown",
   "metadata": {},
   "source": [
    "## Download Model"
   ]
  },
  {
   "cell_type": "code",
   "execution_count": 5,
   "metadata": {},
   "outputs": [],
   "source": [
    "models_dir='./models'\n",
    "model_types=['checkpoints', 'clip', 'clip_vision', 'configs', 'controlnet', 'deepbooru', 'diffusers', 'embeddings', 'facerestore_models', 'gligen', 'hypernetworks', 'inpaint', 'karlo', 'loras', 'mmdets', 'onnx', 'photomaker', 'prompt_expansion', 'safety_ckecker', 'sams', 'style_models', 'ultralytics', 'unet', 'upscale_models', 'vae', 'vae_approx']\n",
    "model_versions=['sd15', 'sd2', 'sdxl', 'pony', 'ilxl', 'sd3', 'flux1']\n",
    "\n",
    "class ModelDirs:\n",
    "    def __init__(self, model_versions):\n",
    "        self.dirs={}\n",
    "        for ver in model_versions:\n",
    "            dirs_for_ver={}\n",
    "            for model_type in model_types:\n",
    "                dir_path=os.path.join(models_dir, model_type, ver)\n",
    "                attr_name=model_type\n",
    "                dirs_for_ver[attr_name]=dir_path\n",
    "            self.dirs[ver]=dirs_for_ver\n",
    "    \n",
    "model_dirs=ModelDirs(model_versions)"
   ]
  },
  {
   "cell_type": "markdown",
   "metadata": {},
   "source": [
    "### Download Stable Diffusion 1.5 Model"
   ]
  },
  {
   "cell_type": "code",
   "execution_count": 5,
   "metadata": {},
   "outputs": [],
   "source": [
    "# Set Stable Diffusion 1.5 Model Path\n",
    "\n",
    "sd15_ckpt_dir=model_dirs.dirs['sd15']['checkpoints']\n",
    "sd15_vae_dir=model_dirs.dirs['sd15']['vae']\n",
    "sd15_lora_dir=model_dirs.dirs['sd15']['loras']\n",
    "sd15_controlnet_dir=model_dirs.dirs['sd15']['controlnet']\n",
    "sd15_embedding_dir=model_dirs.dirs['sd15']['embeddings']"
   ]
  },
  {
   "cell_type": "markdown",
   "metadata": {},
   "source": [
    "#### Checkpoint"
   ]
  },
  {
   "cell_type": "code",
   "execution_count": 6,
   "metadata": {},
   "outputs": [
    {
     "data": {
      "application/vnd.jupyter.widget-view+json": {
       "model_id": "74f0dad0da644fd59aa17bdaa9fbe22a",
       "version_major": 2,
       "version_minor": 0
      },
      "text/plain": [
       "v1-5-pruned-emaonly.safetensors:   0%|          | 0.00/4.27G [00:00<?, ?B/s]"
      ]
     },
     "metadata": {},
     "output_type": "display_data"
    },
    {
     "data": {
      "text/plain": [
       "'models/checkpoints/sd15/v1-5-pruned-emaonly.safetensors'"
      ]
     },
     "execution_count": 6,
     "metadata": {},
     "output_type": "execute_result"
    }
   ],
   "source": [
    "# Download Stable Diffusion 1.5 Model\n",
    "hf_hub_download(repo_id=\"runwayml/stable-diffusion-v1-5\", filename=\"v1-5-pruned-emaonly.safetensors\", local_dir=sd15_ckpt_dir)"
   ]
  },
  {
   "cell_type": "code",
   "execution_count": 7,
   "metadata": {},
   "outputs": [
    {
     "data": {
      "application/vnd.jupyter.widget-view+json": {
       "model_id": "4fff2837086d44fc9a01701b8e02ffaa",
       "version_major": 2,
       "version_minor": 0
      },
      "text/plain": [
       "sd-v1-5-inpainting.ckpt:   0%|          | 0.00/4.27G [00:00<?, ?B/s]"
      ]
     },
     "metadata": {},
     "output_type": "display_data"
    },
    {
     "data": {
      "text/plain": [
       "'models/checkpoints/sd15/sd-v1-5-inpainting.ckpt'"
      ]
     },
     "execution_count": 7,
     "metadata": {},
     "output_type": "execute_result"
    }
   ],
   "source": [
    "# Download Stable Diffusion 1.5 Inpaint Model\n",
    "hf_hub_download(repo_id=\"runwayml/stable-diffusion-inpainting\", filename=\"sd-v1-5-inpainting.ckpt\", local_dir=sd15_ckpt_dir)"
   ]
  },
  {
   "cell_type": "code",
   "execution_count": 8,
   "metadata": {},
   "outputs": [
    {
     "data": {
      "application/vnd.jupyter.widget-view+json": {
       "model_id": "1cd010069b424bbf8f6b924758d29ad1",
       "version_major": 2,
       "version_minor": 0
      },
      "text/plain": [
       "VBox(children=(HTML(value='<b>Downloading</b> AnythingXL_v30.ckpt'), HBox(children=(IntProgress(value=0, bar_s…"
      ]
     },
     "metadata": {},
     "output_type": "display_data"
    },
    {
     "name": "stdout",
     "output_type": "stream",
     "text": [
      "Downloading: https://civitai.com/api/download/models/34373\n",
      "Saved as: ./models/checkpoints/sd15/AnythingXL_v30.ckpt\n",
      "\n"
     ]
    },
    {
     "data": {
      "text/plain": [
       "('https://civitai.com/api/download/models/34373',\n",
       " 'AnythingXL_v30.ckpt',\n",
       " 4265327726,\n",
       " './models/checkpoints/sd15',\n",
       " '19825f021991cd8c7685bc2f7fee3b24')"
      ]
     },
     "execution_count": 8,
     "metadata": {},
     "output_type": "execute_result"
    }
   ],
   "source": [
    "# Download Anything V3 Model\n",
    "civitai_download(model_version_id=34373, local_dir=sd15_ckpt_dir)"
   ]
  },
  {
   "cell_type": "code",
   "execution_count": 9,
   "metadata": {},
   "outputs": [
    {
     "data": {
      "application/vnd.jupyter.widget-view+json": {
       "model_id": "94621949db7a4a8fb033734d9bffb619",
       "version_major": 2,
       "version_minor": 0
      },
      "text/plain": [
       "VBox(children=(HTML(value='<b>Downloading</b> AnythingXL_v50.safetensors'), HBox(children=(IntProgress(value=0…"
      ]
     },
     "metadata": {},
     "output_type": "display_data"
    },
    {
     "name": "stdout",
     "output_type": "stream",
     "text": [
      "Downloading: https://civitai.com/api/download/models/30163\n",
      "Saved as: ./models/checkpoints/sd15/AnythingXL_v50.safetensors\n",
      "\n"
     ]
    },
    {
     "data": {
      "text/plain": [
       "('https://civitai.com/api/download/models/30163',\n",
       " 'AnythingXL_v50.safetensors',\n",
       " 2132626102,\n",
       " './models/checkpoints/sd15',\n",
       " '19825f021991cd8c7685bc2f7fee3b24')"
      ]
     },
     "execution_count": 9,
     "metadata": {},
     "output_type": "execute_result"
    }
   ],
   "source": [
    "# Download Anything V5 Model\n",
    "civitai_download(model_version_id=30163, local_dir=sd15_ckpt_dir)"
   ]
  },
  {
   "cell_type": "code",
   "execution_count": 10,
   "metadata": {},
   "outputs": [
    {
     "data": {
      "application/vnd.jupyter.widget-view+json": {
       "model_id": "c0d4d606b1e94418a5f5bbf89760b116",
       "version_major": 2,
       "version_minor": 0
      },
      "text/plain": [
       "VBox(children=(HTML(value='<b>Downloading</b> AnythingXL_inkBase.safetensors'), HBox(children=(IntProgress(val…"
      ]
     },
     "metadata": {},
     "output_type": "display_data"
    },
    {
     "name": "stdout",
     "output_type": "stream",
     "text": [
      "Downloading: https://civitai.com/api/download/models/90854\n",
      "Saved as: ./models/checkpoints/sd15/AnythingXL_inkBase.safetensors\n",
      "\n"
     ]
    },
    {
     "data": {
      "text/plain": [
       "('https://civitai.com/api/download/models/90854',\n",
       " 'AnythingXL_inkBase.safetensors',\n",
       " 2132626066,\n",
       " './models/checkpoints/sd15',\n",
       " '19825f021991cd8c7685bc2f7fee3b24')"
      ]
     },
     "execution_count": 10,
     "metadata": {},
     "output_type": "execute_result"
    }
   ],
   "source": [
    "# Download Anything Ink Model\n",
    "civitai_download(model_version_id=90854, local_dir=sd15_ckpt_dir)"
   ]
  },
  {
   "cell_type": "code",
   "execution_count": 11,
   "metadata": {},
   "outputs": [
    {
     "data": {
      "application/vnd.jupyter.widget-view+json": {
       "model_id": "3bb0cc89c181446eb709ad638aa6ec8d",
       "version_major": 2,
       "version_minor": 0
      },
      "text/plain": [
       "AOM3A1B_orangemixs.safetensors:   0%|          | 0.00/2.13G [00:00<?, ?B/s]"
      ]
     },
     "metadata": {},
     "output_type": "display_data"
    }
   ],
   "source": [
    "# Download AbyssOrangeMix3 Model\n",
    "hf_hub_download(repo_id=\"WarriorMama777/OrangeMixs\", filename=\"Models/AbyssOrangeMix3/AOM3A1B_orangemixs.safetensors\", local_dir=sd15_ckpt_dir)\n",
    "filename=\"AOM3A1B_orangemixs.safetensors\"\n",
    "src=os.path.join(sd15_ckpt_dir, \"Models/AbyssOrangeMix3\")\n",
    "dst=sd15_ckpt_dir\n",
    "shutil.move(os.path.join(src, filename), os.path.join(dst, filename))\n",
    "shutil.rmtree(os.path.join(sd15_ckpt_dir, \"Models\"))"
   ]
  },
  {
   "cell_type": "code",
   "execution_count": 12,
   "metadata": {},
   "outputs": [
    {
     "data": {
      "application/vnd.jupyter.widget-view+json": {
       "model_id": "be7a7b5278854fddae9ad990676d5fd1",
       "version_major": 2,
       "version_minor": 0
      },
      "text/plain": [
       "Counterfeit-V3.0_fp32.safetensors:   0%|          | 0.00/5.67G [00:00<?, ?B/s]"
      ]
     },
     "metadata": {},
     "output_type": "display_data"
    },
    {
     "data": {
      "text/plain": [
       "'models/checkpoints/sd15/Counterfeit-V3.0_fp32.safetensors'"
      ]
     },
     "execution_count": 12,
     "metadata": {},
     "output_type": "execute_result"
    }
   ],
   "source": [
    "# Download Counterfeit-V3.0 fp32 Model\n",
    "hf_hub_download(repo_id=\"gsdf/Counterfeit-V3.0\", filename=\"Counterfeit-V3.0_fp32.safetensors\", local_dir=sd15_ckpt_dir)"
   ]
  },
  {
   "cell_type": "code",
   "execution_count": 13,
   "metadata": {},
   "outputs": [
    {
     "data": {
      "application/vnd.jupyter.widget-view+json": {
       "model_id": "4af7fdaa71c4432695fd986c5963ad8c",
       "version_major": 2,
       "version_minor": 0
      },
      "text/plain": [
       "Counterfeit-V3.0_fix_fp16.safetensors:   0%|          | 0.00/2.13G [00:00<?, ?B/s]"
      ]
     },
     "metadata": {},
     "output_type": "display_data"
    },
    {
     "data": {
      "text/plain": [
       "'models/checkpoints/sd15/Counterfeit-V3.0_fix_fp16.safetensors'"
      ]
     },
     "execution_count": 13,
     "metadata": {},
     "output_type": "execute_result"
    }
   ],
   "source": [
    "# Download Counterfeit-V3.0 fp16 fix Model\n",
    "hf_hub_download(repo_id=\"gsdf/Counterfeit-V3.0\", filename=\"Counterfeit-V3.0_fix_fp16.safetensors\", local_dir=sd15_ckpt_dir)"
   ]
  },
  {
   "cell_type": "code",
   "execution_count": 14,
   "metadata": {},
   "outputs": [
    {
     "data": {
      "application/vnd.jupyter.widget-view+json": {
       "model_id": "3794f9521b014b3b8613d612f796569e",
       "version_major": 2,
       "version_minor": 0
      },
      "text/plain": [
       "VBox(children=(HTML(value='<b>Downloading</b> chilloutmix_NiPrunedFp32Fix.safetensors'), HBox(children=(IntPro…"
      ]
     },
     "metadata": {},
     "output_type": "display_data"
    },
    {
     "name": "stdout",
     "output_type": "stream",
     "text": [
      "Downloading: https://civitai.com/api/download/models/11745\n",
      "Saved as: ./models/checkpoints/sd15/chilloutmix_NiPrunedFp32Fix.safetensors\n",
      "\n"
     ]
    },
    {
     "data": {
      "text/plain": [
       "('https://civitai.com/api/download/models/11745',\n",
       " 'chilloutmix_NiPrunedFp32Fix.safetensors',\n",
       " 4265097179,\n",
       " './models/checkpoints/sd15',\n",
       " '19825f021991cd8c7685bc2f7fee3b24')"
      ]
     },
     "execution_count": 14,
     "metadata": {},
     "output_type": "execute_result"
    }
   ],
   "source": [
    "# Download ChilloutMix Ni pruned fp32 fix Model\n",
    "civitai_download(model_version_id=11745, local_dir=sd15_ckpt_dir)"
   ]
  },
  {
   "cell_type": "code",
   "execution_count": 15,
   "metadata": {},
   "outputs": [
    {
     "data": {
      "application/vnd.jupyter.widget-view+json": {
       "model_id": "26caf7518340456ca4073254b635ea65",
       "version_major": 2,
       "version_minor": 0
      },
      "text/plain": [
       "VBox(children=(HTML(value='<b>Downloading</b> chilloutmix_NiPrunedFp16Fix.safetensors'), HBox(children=(IntPro…"
      ]
     },
     "metadata": {},
     "output_type": "display_data"
    },
    {
     "name": "stdout",
     "output_type": "stream",
     "text": [
      "Downloading: https://civitai.com/api/download/models/11732\n",
      "Saved as: ./models/checkpoints/sd15/chilloutmix_NiPrunedFp16Fix.safetensors\n",
      "\n"
     ]
    },
    {
     "data": {
      "text/plain": [
       "('https://civitai.com/api/download/models/11732',\n",
       " 'chilloutmix_NiPrunedFp16Fix.safetensors',\n",
       " 2132626071,\n",
       " './models/checkpoints/sd15',\n",
       " '19825f021991cd8c7685bc2f7fee3b24')"
      ]
     },
     "execution_count": 15,
     "metadata": {},
     "output_type": "execute_result"
    }
   ],
   "source": [
    "# Download ChilloutMix Ni pruned fp16 fix Model\n",
    "civitai_download(model_version_id=11732, local_dir=sd15_ckpt_dir)"
   ]
  },
  {
   "cell_type": "code",
   "execution_count": 16,
   "metadata": {},
   "outputs": [
    {
     "data": {
      "application/vnd.jupyter.widget-view+json": {
       "model_id": "8baac4a082774cfda0ad8cc2b48d680b",
       "version_major": 2,
       "version_minor": 0
      },
      "text/plain": [
       "DreamShaper_8_pruned.safetensors:   0%|          | 0.00/2.13G [00:00<?, ?B/s]"
      ]
     },
     "metadata": {},
     "output_type": "display_data"
    },
    {
     "data": {
      "text/plain": [
       "'models/checkpoints/sd15/DreamShaper_8_pruned.safetensors'"
      ]
     },
     "execution_count": 16,
     "metadata": {},
     "output_type": "execute_result"
    }
   ],
   "source": [
    "# Download DreamShaper 8 pruned Model\n",
    "hf_hub_download(repo_id=\"Lykon/DreamShaper\", filename=\"DreamShaper_8_pruned.safetensors\", local_dir=sd15_ckpt_dir)"
   ]
  },
  {
   "cell_type": "code",
   "execution_count": 17,
   "metadata": {},
   "outputs": [
    {
     "data": {
      "application/vnd.jupyter.widget-view+json": {
       "model_id": "dbdc012d750b4c7c9b2b963538380de3",
       "version_major": 2,
       "version_minor": 0
      },
      "text/plain": [
       "(…)aper_8_INPAINTING.inpainting.safetensors:   0%|          | 0.00/2.13G [00:00<?, ?B/s]"
      ]
     },
     "metadata": {},
     "output_type": "display_data"
    },
    {
     "data": {
      "text/plain": [
       "'models/checkpoints/sd15/DreamShaper_8_INPAINTING.inpainting.safetensors'"
      ]
     },
     "execution_count": 17,
     "metadata": {},
     "output_type": "execute_result"
    }
   ],
   "source": [
    "# Download DreamShaper 8 Inpainting Model\n",
    "hf_hub_download(repo_id=\"Lykon/DreamShaper\", filename=\"DreamShaper_8_INPAINTING.inpainting.safetensors\", local_dir=sd15_ckpt_dir)"
   ]
  },
  {
   "cell_type": "code",
   "execution_count": 18,
   "metadata": {},
   "outputs": [
    {
     "data": {
      "application/vnd.jupyter.widget-view+json": {
       "model_id": "28fd927ea2aa4cd786a3918835d9dc6e",
       "version_major": 2,
       "version_minor": 0
      },
      "text/plain": [
       "VBox(children=(HTML(value='<b>Downloading</b> meinamix_v12Final.safetensors'), HBox(children=(IntProgress(valu…"
      ]
     },
     "metadata": {},
     "output_type": "display_data"
    },
    {
     "name": "stdout",
     "output_type": "stream",
     "text": [
      "Downloading: https://civitai.com/api/download/models/948574\n",
      "Saved as: ./models/checkpoints/sd15/meinamix_v12Final.safetensors\n",
      "\n"
     ]
    },
    {
     "data": {
      "text/plain": [
       "('https://civitai.com/api/download/models/948574',\n",
       " 'meinamix_v12Final.safetensors',\n",
       " 2132651786,\n",
       " './models/checkpoints/sd15',\n",
       " '19825f021991cd8c7685bc2f7fee3b24')"
      ]
     },
     "execution_count": 18,
     "metadata": {},
     "output_type": "execute_result"
    }
   ],
   "source": [
    "# Download MeinaMix Model\n",
    "civitai_download(model_version_id=948574, local_dir=sd15_ckpt_dir)"
   ]
  },
  {
   "cell_type": "code",
   "execution_count": 19,
   "metadata": {},
   "outputs": [
    {
     "data": {
      "application/vnd.jupyter.widget-view+json": {
       "model_id": "9bfdfe9d62dd4eb48d54356569f75cfb",
       "version_major": 2,
       "version_minor": 0
      },
      "text/plain": [
       "wd-1-4-anime_e2.ckpt:   0%|          | 0.00/5.16G [00:00<?, ?B/s]"
      ]
     },
     "metadata": {},
     "output_type": "display_data"
    },
    {
     "data": {
      "text/plain": [
       "'models/checkpoints/sd15/wd-1-4-anime_e2.ckpt'"
      ]
     },
     "execution_count": 19,
     "metadata": {},
     "output_type": "execute_result"
    }
   ],
   "source": [
    "# Download Waifu Diffusion v1.4 Model\n",
    "hf_hub_download(repo_id=\"hakurei/waifu-diffusion-v1-4\", filename=\"wd-1-4-anime_e2.ckpt\", local_dir=sd15_ckpt_dir)"
   ]
  },
  {
   "cell_type": "code",
   "execution_count": 20,
   "metadata": {},
   "outputs": [
    {
     "data": {
      "application/vnd.jupyter.widget-view+json": {
       "model_id": "a2c9d328e48e4ea28192530007791838",
       "version_major": 2,
       "version_minor": 0
      },
      "text/plain": [
       "AAM_Anylora_AnimeMix.safetensors:   0%|          | 0.00/3.46G [00:00<?, ?B/s]"
      ]
     },
     "metadata": {},
     "output_type": "display_data"
    },
    {
     "data": {
      "text/plain": [
       "'models/checkpoints/sd15/AAM_Anylora_AnimeMix.safetensors'"
      ]
     },
     "execution_count": 20,
     "metadata": {},
     "output_type": "execute_result"
    }
   ],
   "source": [
    "# Download AAM AnyLora Anime Mix Model\n",
    "hf_hub_download(repo_id=\"Lykon/AnyLoRA\", filename=\"AAM_Anylora_AnimeMix.safetensors\", local_dir=sd15_ckpt_dir)"
   ]
  },
  {
   "cell_type": "code",
   "execution_count": 21,
   "metadata": {},
   "outputs": [
    {
     "data": {
      "application/vnd.jupyter.widget-view+json": {
       "model_id": "7a1248a043d74f3bafbc86032b9081f4",
       "version_major": 2,
       "version_minor": 0
      },
      "text/plain": [
       "blue_pencil-v10.safetensors:   0%|          | 0.00/2.13G [00:00<?, ?B/s]"
      ]
     },
     "metadata": {},
     "output_type": "display_data"
    },
    {
     "data": {
      "text/plain": [
       "'models/checkpoints/sd15/blue_pencil-v10.safetensors'"
      ]
     },
     "execution_count": 21,
     "metadata": {},
     "output_type": "execute_result"
    }
   ],
   "source": [
    "# Download Blue Pencil Model\n",
    "hf_hub_download(repo_id=\"bluepen5805/blue_pencil\", filename=\"blue_pencil-v10.safetensors\", local_dir=sd15_ckpt_dir)"
   ]
  },
  {
   "cell_type": "code",
   "execution_count": 22,
   "metadata": {},
   "outputs": [
    {
     "data": {
      "application/vnd.jupyter.widget-view+json": {
       "model_id": "67b3824fe66146c188ec9ecbaecede78",
       "version_major": 2,
       "version_minor": 0
      },
      "text/plain": [
       "blue_pencil_realistic-v1.safetensors:   0%|          | 0.00/2.13G [00:00<?, ?B/s]"
      ]
     },
     "metadata": {},
     "output_type": "display_data"
    },
    {
     "data": {
      "text/plain": [
       "'models/checkpoints/sd15/blue_pencil_realistic-v1.safetensors'"
      ]
     },
     "execution_count": 22,
     "metadata": {},
     "output_type": "execute_result"
    }
   ],
   "source": [
    "# Download Blue Pencil Realistic Model\n",
    "hf_hub_download(repo_id=\"bluepen5805/blue_pencil_realistic\", filename=\"blue_pencil_realistic-v1.safetensors\", local_dir=sd15_ckpt_dir)"
   ]
  },
  {
   "cell_type": "code",
   "execution_count": 23,
   "metadata": {},
   "outputs": [
    {
     "data": {
      "application/vnd.jupyter.widget-view+json": {
       "model_id": "4501ef72af06426d975fcaa72cd40f6d",
       "version_major": 2,
       "version_minor": 0
      },
      "text/plain": [
       "Reliberate_v3.safetensors:   0%|          | 0.00/2.13G [00:00<?, ?B/s]"
      ]
     },
     "metadata": {},
     "output_type": "display_data"
    },
    {
     "data": {
      "text/plain": [
       "'models/checkpoints/sd15/Reliberate_v3.safetensors'"
      ]
     },
     "execution_count": 23,
     "metadata": {},
     "output_type": "execute_result"
    }
   ],
   "source": [
    "# Download XpucT Reliberate Model\n",
    "hf_hub_download(repo_id=\"XpucT/Reliberate\", filename=\"Reliberate_v3.safetensors\", local_dir=sd15_ckpt_dir)"
   ]
  },
  {
   "cell_type": "code",
   "execution_count": 24,
   "metadata": {},
   "outputs": [
    {
     "data": {
      "application/vnd.jupyter.widget-view+json": {
       "model_id": "96170749899a438f9f665861331cf688",
       "version_major": 2,
       "version_minor": 0
      },
      "text/plain": [
       "Reliberate_v3-inpainting.safetensors:   0%|          | 0.00/2.13G [00:00<?, ?B/s]"
      ]
     },
     "metadata": {},
     "output_type": "display_data"
    },
    {
     "data": {
      "text/plain": [
       "'models/checkpoints/sd15/Reliberate_v3-inpainting.safetensors'"
      ]
     },
     "execution_count": 24,
     "metadata": {},
     "output_type": "execute_result"
    }
   ],
   "source": [
    "# Download XpucT Reliberate Inpainting Model\n",
    "hf_hub_download(repo_id=\"XpucT/Reliberate\", filename=\"Reliberate_v3-inpainting.safetensors\", local_dir=sd15_ckpt_dir)"
   ]
  },
  {
   "cell_type": "code",
   "execution_count": 25,
   "metadata": {},
   "outputs": [
    {
     "data": {
      "application/vnd.jupyter.widget-view+json": {
       "model_id": "691b90e5e5e547609cd4312a54cf2078",
       "version_major": 2,
       "version_minor": 0
      },
      "text/plain": [
       "Anime_v2.safetensors:   0%|          | 0.00/2.13G [00:00<?, ?B/s]"
      ]
     },
     "metadata": {},
     "output_type": "display_data"
    },
    {
     "data": {
      "text/plain": [
       "'models/checkpoints/sd15/Anime_v2.safetensors'"
      ]
     },
     "execution_count": 25,
     "metadata": {},
     "output_type": "execute_result"
    }
   ],
   "source": [
    "# Download XpucT Anime Model\n",
    "hf_hub_download(repo_id=\"XpucT/Anime\", filename=\"Anime_v2.safetensors\", local_dir=sd15_ckpt_dir)"
   ]
  },
  {
   "cell_type": "code",
   "execution_count": 26,
   "metadata": {},
   "outputs": [
    {
     "data": {
      "application/vnd.jupyter.widget-view+json": {
       "model_id": "1ac55c7f31684a9d9bc068ff8dc86382",
       "version_major": 2,
       "version_minor": 0
      },
      "text/plain": [
       "Anime_v2-inpainting.safetensors:   0%|          | 0.00/2.13G [00:00<?, ?B/s]"
      ]
     },
     "metadata": {},
     "output_type": "display_data"
    },
    {
     "data": {
      "text/plain": [
       "'models/checkpoints/sd15/Anime_v2-inpainting.safetensors'"
      ]
     },
     "execution_count": 26,
     "metadata": {},
     "output_type": "execute_result"
    }
   ],
   "source": [
    "# Download XpucT Anime Inpainting Model\n",
    "hf_hub_download(repo_id=\"XpucT/Anime\", filename=\"Anime_v2-inpainting.safetensors\", local_dir=sd15_ckpt_dir)"
   ]
  },
  {
   "cell_type": "code",
   "execution_count": 27,
   "metadata": {},
   "outputs": [
    {
     "data": {
      "application/vnd.jupyter.widget-view+json": {
       "model_id": "168efc27b6e842c18f1b7758a7d46341",
       "version_major": 2,
       "version_minor": 0
      },
      "text/plain": [
       "Deliberate_v6.safetensors:   0%|          | 0.00/2.13G [00:00<?, ?B/s]"
      ]
     },
     "metadata": {},
     "output_type": "display_data"
    },
    {
     "data": {
      "text/plain": [
       "'models/checkpoints/sd15/Deliberate_v6.safetensors'"
      ]
     },
     "execution_count": 27,
     "metadata": {},
     "output_type": "execute_result"
    }
   ],
   "source": [
    "# Download XpucT Deliberate Model\n",
    "hf_hub_download(repo_id=\"XpucT/Deliberate\", filename=\"Deliberate_v6.safetensors\", local_dir=sd15_ckpt_dir)"
   ]
  },
  {
   "cell_type": "code",
   "execution_count": 28,
   "metadata": {},
   "outputs": [
    {
     "data": {
      "application/vnd.jupyter.widget-view+json": {
       "model_id": "278063fd58b14829b1348f3fcbc08b16",
       "version_major": 2,
       "version_minor": 0
      },
      "text/plain": [
       "Deliberate_v6-inpainting.safetensors:   0%|          | 0.00/2.13G [00:00<?, ?B/s]"
      ]
     },
     "metadata": {},
     "output_type": "display_data"
    },
    {
     "data": {
      "text/plain": [
       "'models/checkpoints/sd15/Deliberate_v6-inpainting.safetensors'"
      ]
     },
     "execution_count": 28,
     "metadata": {},
     "output_type": "execute_result"
    }
   ],
   "source": [
    "# Download XpucT Deliberate Inpainting Model\n",
    "hf_hub_download(repo_id=\"XpucT/Deliberate\", filename=\"Deliberate_v6-inpainting.safetensors\", local_dir=sd15_ckpt_dir)"
   ]
  },
  {
   "cell_type": "code",
   "execution_count": 29,
   "metadata": {},
   "outputs": [
    {
     "data": {
      "application/vnd.jupyter.widget-view+json": {
       "model_id": "f66ef8e6586b4ff89aca97e286c8c4c5",
       "version_major": 2,
       "version_minor": 0
      },
      "text/plain": [
       "(…)nyLoRA_bakedVae_blessed_fp16.safetensors:   0%|          | 0.00/3.46G [00:00<?, ?B/s]"
      ]
     },
     "metadata": {},
     "output_type": "display_data"
    },
    {
     "data": {
      "text/plain": [
       "'models/checkpoints/sd15/AnyLoRA_bakedVae_blessed_fp16.safetensors'"
      ]
     },
     "execution_count": 29,
     "metadata": {},
     "output_type": "execute_result"
    }
   ],
   "source": [
    "# Download AnyLoRA BakedVae Blessed FP16 Model\n",
    "hf_hub_download(repo_id=\"Lykon/AnyLoRA\", filename=\"AnyLoRA_bakedVae_blessed_fp16.safetensors\", local_dir=sd15_ckpt_dir)"
   ]
  },
  {
   "cell_type": "code",
   "execution_count": 30,
   "metadata": {},
   "outputs": [],
   "source": [
    "# Delete cache\n",
    "!rm -rf {sd15_ckpt_dir}/.cache"
   ]
  },
  {
   "cell_type": "markdown",
   "metadata": {},
   "source": [
    "#### VAE"
   ]
  },
  {
   "cell_type": "code",
   "execution_count": 31,
   "metadata": {},
   "outputs": [
    {
     "data": {
      "application/vnd.jupyter.widget-view+json": {
       "model_id": "a29e43b190dd4bdd844006fa5efbf567",
       "version_major": 2,
       "version_minor": 0
      },
      "text/plain": [
       "vae-ft-mse-840000-ema-pruned.safetensors:   0%|          | 0.00/335M [00:00<?, ?B/s]"
      ]
     },
     "metadata": {},
     "output_type": "display_data"
    },
    {
     "data": {
      "text/plain": [
       "'models/vae/sd15/vae-ft-mse-840000-ema-pruned.safetensors'"
      ]
     },
     "execution_count": 31,
     "metadata": {},
     "output_type": "execute_result"
    }
   ],
   "source": [
    "# Download Stable Diffusion 1.5 VAE\n",
    "hf_hub_download(repo_id=\"stabilityai/sd-vae-ft-mse-original\", filename=\"vae-ft-mse-840000-ema-pruned.safetensors\", local_dir=sd15_vae_dir)"
   ]
  },
  {
   "cell_type": "code",
   "execution_count": 32,
   "metadata": {},
   "outputs": [
    {
     "data": {
      "application/vnd.jupyter.widget-view+json": {
       "model_id": "6fe56f2b07b34571a4a30c575a721d0e",
       "version_major": 2,
       "version_minor": 0
      },
      "text/plain": [
       "kl-f8-anime2.ckpt:   0%|          | 0.00/405M [00:00<?, ?B/s]"
      ]
     },
     "metadata": {},
     "output_type": "display_data"
    }
   ],
   "source": [
    "# Download Waifu Diffusion v1.4 kl-f8-anime2 VAE\n",
    "hf_hub_download(repo_id=\"hakurei/waifu-diffusion-v1-4\", filename=\"vae/kl-f8-anime2.ckpt\", local_dir=sd15_vae_dir)\n",
    "filename=\"kl-f8-anime2.ckpt\"\n",
    "src=os.path.join(sd15_vae_dir, \"vae\")\n",
    "dst=sd15_vae_dir\n",
    "shutil.move(os.path.join(src, filename), os.path.join(dst, filename))\n",
    "os.rmdir(src)"
   ]
  },
  {
   "cell_type": "code",
   "execution_count": 33,
   "metadata": {},
   "outputs": [
    {
     "data": {
      "application/vnd.jupyter.widget-view+json": {
       "model_id": "e2cd531508c54a03a082198488852cfe",
       "version_major": 2,
       "version_minor": 0
      },
      "text/plain": [
       "orangemix.vae.pt:   0%|          | 0.00/823M [00:00<?, ?B/s]"
      ]
     },
     "metadata": {},
     "output_type": "display_data"
    }
   ],
   "source": [
    "# Download OrangeMix VAE\n",
    "hf_hub_download(repo_id=\"WarriorMama777/OrangeMixs\", filename=\"VAEs/orangemix.vae.pt\", local_dir=sd15_vae_dir)\n",
    "filename=\"orangemix.vae.pt\"\n",
    "src=os.path.join(sd15_vae_dir, \"VAEs\")\n",
    "dst=sd15_vae_dir\n",
    "shutil.move(os.path.join(src, filename), os.path.join(dst, filename))\n",
    "os.rmdir(src)"
   ]
  },
  {
   "cell_type": "code",
   "execution_count": 34,
   "metadata": {},
   "outputs": [
    {
     "data": {
      "application/vnd.jupyter.widget-view+json": {
       "model_id": "74141d12d99b419d84669e30db6718b8",
       "version_major": 2,
       "version_minor": 0
      },
      "text/plain": [
       "VBox(children=(HTML(value='<b>Downloading</b> anythingModelVAEV40_v10.pt'), HBox(children=(IntProgress(value=0…"
      ]
     },
     "metadata": {},
     "output_type": "display_data"
    },
    {
     "name": "stdout",
     "output_type": "stream",
     "text": [
      "Downloading: https://civitai.com/api/download/models/119279\n",
      "Saved as: ./models/vae/sd15/anythingModelVAEV40_v10.pt\n",
      "\n"
     ]
    },
    {
     "data": {
      "text/plain": [
       "('https://civitai.com/api/download/models/119279',\n",
       " 'anythingModelVAEV40_v10.pt',\n",
       " 822802803,\n",
       " './models/vae/sd15',\n",
       " '19825f021991cd8c7685bc2f7fee3b24')"
      ]
     },
     "execution_count": 34,
     "metadata": {},
     "output_type": "execute_result"
    }
   ],
   "source": [
    "# Download Anything VAE\n",
    "civitai_download(model_version_id=119279, local_dir=sd15_vae_dir)"
   ]
  },
  {
   "cell_type": "code",
   "execution_count": 35,
   "metadata": {},
   "outputs": [
    {
     "data": {
      "application/vnd.jupyter.widget-view+json": {
       "model_id": "b54d5e69901047a9a22c285e78d15e95",
       "version_major": 2,
       "version_minor": 0
      },
      "text/plain": [
       "VBox(children=(HTML(value='<b>Downloading</b> clearvaeSD15_v23.safetensors'), HBox(children=(IntProgress(value…"
      ]
     },
     "metadata": {},
     "output_type": "display_data"
    },
    {
     "name": "stdout",
     "output_type": "stream",
     "text": [
      "Downloading: https://civitai.com/api/download/models/88156\n",
      "Saved as: ./models/vae/sd15/clearvaeSD15_v23.safetensors\n",
      "\n"
     ]
    },
    {
     "data": {
      "text/plain": [
       "('https://civitai.com/api/download/models/88156',\n",
       " 'clearvaeSD15_v23.safetensors',\n",
       " 334640988,\n",
       " './models/vae/sd15',\n",
       " '19825f021991cd8c7685bc2f7fee3b24')"
      ]
     },
     "execution_count": 35,
     "metadata": {},
     "output_type": "execute_result"
    }
   ],
   "source": [
    "# Download ClearVAE\n",
    "civitai_download(model_version_id=88156, local_dir=sd15_vae_dir)"
   ]
  },
  {
   "cell_type": "code",
   "execution_count": 36,
   "metadata": {},
   "outputs": [],
   "source": [
    "# Delete cache\n",
    "!rm -rf {sd15_vae_dir}/.cache"
   ]
  },
  {
   "cell_type": "markdown",
   "metadata": {},
   "source": [
    "#### LoRA"
   ]
  },
  {
   "cell_type": "code",
   "execution_count": 37,
   "metadata": {},
   "outputs": [
    {
     "data": {
      "application/vnd.jupyter.widget-view+json": {
       "model_id": "1d5dd408e91542c9a91b63f6f268bc56",
       "version_major": 2,
       "version_minor": 0
      },
      "text/plain": [
       "pytorch_lora_weights.safetensors:   0%|          | 0.00/135M [00:00<?, ?B/s]"
      ]
     },
     "metadata": {},
     "output_type": "display_data"
    }
   ],
   "source": [
    "# Download Stable Diffusion 1.5 LCM LoRA\n",
    "hf_hub_download(repo_id=\"latent-consistency/lcm-lora-sdv1-5\", filename=\"pytorch_lora_weights.safetensors\", local_dir=sd15_lora_dir)\n",
    "filepath=sd15_lora_dir\n",
    "src=os.path.join(filepath, \"pytorch_lora_weights.safetensors\")\n",
    "dst=os.path.join(filepath, \"lcm-lora-sdv1-5.safetensors\")\n",
    "os.rename(src, dst)"
   ]
  },
  {
   "cell_type": "code",
   "execution_count": 38,
   "metadata": {},
   "outputs": [
    {
     "data": {
      "application/vnd.jupyter.widget-view+json": {
       "model_id": "2075dbacd0824a1ab7fe916e3190ea98",
       "version_major": 2,
       "version_minor": 0
      },
      "text/plain": [
       "VBox(children=(HTML(value='<b>Downloading</b> concept-shortbangs.safetensors'), HBox(children=(IntProgress(val…"
      ]
     },
     "metadata": {},
     "output_type": "display_data"
    },
    {
     "name": "stdout",
     "output_type": "stream",
     "text": [
      "Downloading: https://civitai.com/api/download/models/122064\n",
      "Saved as: ./models/loras/sd15/concept-shortbangs.safetensors\n",
      "\n"
     ]
    },
    {
     "data": {
      "text/plain": [
       "('https://civitai.com/api/download/models/122064',\n",
       " 'concept-shortbangs.safetensors',\n",
       " 19040030,\n",
       " './models/loras/sd15',\n",
       " '19825f021991cd8c7685bc2f7fee3b24')"
      ]
     },
     "execution_count": 38,
     "metadata": {},
     "output_type": "execute_result"
    }
   ],
   "source": [
    "# Download ShortBang Concept LoRA\n",
    "civitai_download(model_version_id=122064, local_dir=sd15_lora_dir)"
   ]
  },
  {
   "cell_type": "code",
   "execution_count": 39,
   "metadata": {},
   "outputs": [
    {
     "data": {
      "application/vnd.jupyter.widget-view+json": {
       "model_id": "def7b0212408454f92d6a1512712b03d",
       "version_major": 2,
       "version_minor": 0
      },
      "text/plain": [
       "VBox(children=(HTML(value='<b>Downloading</b> DisembodiedHeadV2.safetensors'), HBox(children=(IntProgress(valu…"
      ]
     },
     "metadata": {},
     "output_type": "display_data"
    },
    {
     "name": "stdout",
     "output_type": "stream",
     "text": [
      "Downloading: https://civitai.com/api/download/models/100482\n",
      "Saved as: ./models/loras/sd15/DisembodiedHeadV2.safetensors\n",
      "\n"
     ]
    },
    {
     "data": {
      "text/plain": [
       "('https://civitai.com/api/download/models/100482',\n",
       " 'DisembodiedHeadV2.safetensors',\n",
       " 37901023,\n",
       " './models/loras/sd15',\n",
       " '19825f021991cd8c7685bc2f7fee3b24')"
      ]
     },
     "execution_count": 39,
     "metadata": {},
     "output_type": "execute_result"
    }
   ],
   "source": [
    "# Download Disembodied Head V2 LoRA\n",
    "civitai_download(model_version_id=100482, local_dir=sd15_lora_dir)"
   ]
  },
  {
   "cell_type": "code",
   "execution_count": 40,
   "metadata": {},
   "outputs": [
    {
     "data": {
      "application/vnd.jupyter.widget-view+json": {
       "model_id": "ee1265bd8e9f40db8c60736480859126",
       "version_major": 2,
       "version_minor": 0
      },
      "text/plain": [
       "VBox(children=(HTML(value='<b>Downloading</b> Headless-Holding head- T13.safetensors'), HBox(children=(IntProg…"
      ]
     },
     "metadata": {},
     "output_type": "display_data"
    },
    {
     "name": "stdout",
     "output_type": "stream",
     "text": [
      "Downloading: https://civitai.com/api/download/models/186885\n",
      "Saved as: ./models/loras/sd15/Headless-Holding head- T13.safetensors\n",
      "\n"
     ]
    },
    {
     "data": {
      "text/plain": [
       "('https://civitai.com/api/download/models/186885',\n",
       " 'Headless-Holding head- T13.safetensors',\n",
       " 6093168,\n",
       " './models/loras/sd15',\n",
       " '19825f021991cd8c7685bc2f7fee3b24')"
      ]
     },
     "execution_count": 40,
     "metadata": {},
     "output_type": "execute_result"
    }
   ],
   "source": [
    "# Download Dullahan LoRA\n",
    "civitai_download(model_version_id=186885, local_dir=sd15_lora_dir)"
   ]
  },
  {
   "cell_type": "code",
   "execution_count": 41,
   "metadata": {},
   "outputs": [
    {
     "data": {
      "application/vnd.jupyter.widget-view+json": {
       "model_id": "38aad52d6433485ca39e35368350b4b9",
       "version_major": 2,
       "version_minor": 0
      },
      "text/plain": [
       "VBox(children=(HTML(value='<b>Downloading</b> HeadinJar.safetensors'), HBox(children=(IntProgress(value=0, bar…"
      ]
     },
     "metadata": {},
     "output_type": "display_data"
    },
    {
     "name": "stdout",
     "output_type": "stream",
     "text": [
      "Downloading: https://civitai.com/api/download/models/77230\n",
      "Saved as: ./models/loras/sd15/HeadinJar.safetensors\n",
      "\n"
     ]
    },
    {
     "data": {
      "text/plain": [
       "('https://civitai.com/api/download/models/77230',\n",
       " 'HeadinJar.safetensors',\n",
       " 37867508,\n",
       " './models/loras/sd15',\n",
       " '19825f021991cd8c7685bc2f7fee3b24')"
      ]
     },
     "execution_count": 41,
     "metadata": {},
     "output_type": "execute_result"
    }
   ],
   "source": [
    "# Download HeadinJar LoRA\n",
    "civitai_download(model_version_id=77230, local_dir=sd15_lora_dir)"
   ]
  },
  {
   "cell_type": "code",
   "execution_count": 42,
   "metadata": {},
   "outputs": [
    {
     "data": {
      "application/vnd.jupyter.widget-view+json": {
       "model_id": "3eae257803fc473e934c73c086f40e36",
       "version_major": 2,
       "version_minor": 0
      },
      "text/plain": [
       "VBox(children=(HTML(value='<b>Downloading</b> kirito-10.safetensors'), HBox(children=(IntProgress(value=0, bar…"
      ]
     },
     "metadata": {},
     "output_type": "display_data"
    },
    {
     "name": "stdout",
     "output_type": "stream",
     "text": [
      "Downloading: https://civitai.com/api/download/models/141405\n",
      "Saved as: ./models/loras/sd15/kirito-10.safetensors\n",
      "\n"
     ]
    },
    {
     "data": {
      "text/plain": [
       "('https://civitai.com/api/download/models/141405',\n",
       " 'kirito-10.safetensors',\n",
       " 19000540,\n",
       " './models/loras/sd15',\n",
       " '19825f021991cd8c7685bc2f7fee3b24')"
      ]
     },
     "execution_count": 42,
     "metadata": {},
     "output_type": "execute_result"
    }
   ],
   "source": [
    "# Download Kirito LoRA\n",
    "civitai_download(model_version_id=141405, local_dir=sd15_lora_dir)"
   ]
  },
  {
   "cell_type": "code",
   "execution_count": 43,
   "metadata": {},
   "outputs": [
    {
     "data": {
      "application/vnd.jupyter.widget-view+json": {
       "model_id": "c762097c4de84e8fa7d068850fe7c7eb",
       "version_major": 2,
       "version_minor": 0
      },
      "text/plain": [
       "VBox(children=(HTML(value='<b>Downloading</b> eugeo-10.safetensors'), HBox(children=(IntProgress(value=0, bar_…"
      ]
     },
     "metadata": {},
     "output_type": "display_data"
    },
    {
     "name": "stdout",
     "output_type": "stream",
     "text": [
      "Downloading: https://civitai.com/api/download/models/158391\n",
      "Saved as: ./models/loras/sd15/eugeo-10.safetensors\n",
      "\n"
     ]
    },
    {
     "data": {
      "text/plain": [
       "('https://civitai.com/api/download/models/158391',\n",
       " 'eugeo-10.safetensors',\n",
       " 19005161,\n",
       " './models/loras/sd15',\n",
       " '19825f021991cd8c7685bc2f7fee3b24')"
      ]
     },
     "execution_count": 43,
     "metadata": {},
     "output_type": "execute_result"
    }
   ],
   "source": [
    "# Download Eugeo LoRA\n",
    "civitai_download(model_version_id=158391, local_dir=sd15_lora_dir)"
   ]
  },
  {
   "cell_type": "code",
   "execution_count": 44,
   "metadata": {},
   "outputs": [
    {
     "data": {
      "application/vnd.jupyter.widget-view+json": {
       "model_id": "6a77998b56e54ac7a00a8eb201abec2b",
       "version_major": 2,
       "version_minor": 0
      },
      "text/plain": [
       "VBox(children=(HTML(value='<b>Downloading</b> Tomboy.safetensors'), HBox(children=(IntProgress(value=0, bar_st…"
      ]
     },
     "metadata": {},
     "output_type": "display_data"
    },
    {
     "name": "stdout",
     "output_type": "stream",
     "text": [
      "Downloading: https://civitai.com/api/download/models/120588\n",
      "Saved as: ./models/loras/sd15/Tomboy.safetensors\n",
      "\n"
     ]
    },
    {
     "data": {
      "text/plain": [
       "('https://civitai.com/api/download/models/120588',\n",
       " 'Tomboy.safetensors',\n",
       " 19051210,\n",
       " './models/loras/sd15',\n",
       " '19825f021991cd8c7685bc2f7fee3b24')"
      ]
     },
     "execution_count": 44,
     "metadata": {},
     "output_type": "execute_result"
    }
   ],
   "source": [
    "# Download Tomboy LoRA\n",
    "civitai_download(model_version_id=120588, local_dir=sd15_lora_dir)"
   ]
  },
  {
   "cell_type": "code",
   "execution_count": 45,
   "metadata": {},
   "outputs": [
    {
     "data": {
      "application/vnd.jupyter.widget-view+json": {
       "model_id": "655b107716a746b2835a762d5e350b96",
       "version_major": 2,
       "version_minor": 0
      },
      "text/plain": [
       "VBox(children=(HTML(value='<b>Downloading</b> TomboyBuzzcut1-2-0805.safetensors'), HBox(children=(IntProgress(…"
      ]
     },
     "metadata": {},
     "output_type": "display_data"
    },
    {
     "name": "stdout",
     "output_type": "stream",
     "text": [
      "Downloading: https://civitai.com/api/download/models/91509\n",
      "Saved as: ./models/loras/sd15/TomboyBuzzcut1-2-0805.safetensors\n",
      "\n"
     ]
    },
    {
     "data": {
      "text/plain": [
       "('https://civitai.com/api/download/models/91509',\n",
       " 'TomboyBuzzcut1-2-0805.safetensors',\n",
       " 37861176,\n",
       " './models/loras/sd15',\n",
       " '19825f021991cd8c7685bc2f7fee3b24')"
      ]
     },
     "execution_count": 45,
     "metadata": {},
     "output_type": "execute_result"
    }
   ],
   "source": [
    "# Download TomboyBuzzcut1-2-0805 LoRA\n",
    "civitai_download(model_version_id=91509, local_dir=sd15_lora_dir)"
   ]
  },
  {
   "cell_type": "code",
   "execution_count": 46,
   "metadata": {},
   "outputs": [
    {
     "data": {
      "application/vnd.jupyter.widget-view+json": {
       "model_id": "0604350c8ffd467e8b6e2e9d81d96e88",
       "version_major": 2,
       "version_minor": 0
      },
      "text/plain": [
       "VBox(children=(HTML(value='<b>Downloading</b> princess_carry_v0.1.safetensors'), HBox(children=(IntProgress(va…"
      ]
     },
     "metadata": {},
     "output_type": "display_data"
    },
    {
     "name": "stdout",
     "output_type": "stream",
     "text": [
      "Downloading: https://civitai.com/api/download/models/112975\n",
      "Saved as: ./models/loras/sd15/princess_carry_v0.1.safetensors\n",
      "\n"
     ]
    },
    {
     "data": {
      "text/plain": [
       "('https://civitai.com/api/download/models/112975',\n",
       " 'princess_carry_v0.1.safetensors',\n",
       " 9585300,\n",
       " './models/loras/sd15',\n",
       " '19825f021991cd8c7685bc2f7fee3b24')"
      ]
     },
     "execution_count": 46,
     "metadata": {},
     "output_type": "execute_result"
    }
   ],
   "source": [
    "# Download Princess Carry LoRA\n",
    "civitai_download(model_version_id=112975, local_dir=sd15_lora_dir)"
   ]
  },
  {
   "cell_type": "code",
   "execution_count": 47,
   "metadata": {},
   "outputs": [
    {
     "data": {
      "application/vnd.jupyter.widget-view+json": {
       "model_id": "1b56f123442640cb98bed49148dbcccc",
       "version_major": 2,
       "version_minor": 0
      },
      "text/plain": [
       "VBox(children=(HTML(value='<b>Downloading</b> shima920_v2-000011.safetensors'), HBox(children=(IntProgress(val…"
      ]
     },
     "metadata": {},
     "output_type": "display_data"
    },
    {
     "name": "stdout",
     "output_type": "stream",
     "text": [
      "Downloading: https://civitai.com/api/download/models/92833\n",
      "Saved as: ./models/loras/sd15/shima920_v2-000011.safetensors\n",
      "\n"
     ]
    },
    {
     "data": {
      "text/plain": [
       "('https://civitai.com/api/download/models/92833',\n",
       " 'shima920_v2-000011.safetensors',\n",
       " 302107634,\n",
       " './models/loras/sd15',\n",
       " '19825f021991cd8c7685bc2f7fee3b24')"
      ]
     },
     "execution_count": 47,
     "metadata": {},
     "output_type": "execute_result"
    }
   ],
   "source": [
    "# Download Shima920 V2 LoRA\n",
    "civitai_download(model_version_id=92833, local_dir=sd15_lora_dir)"
   ]
  },
  {
   "cell_type": "code",
   "execution_count": 48,
   "metadata": {},
   "outputs": [
    {
     "data": {
      "application/vnd.jupyter.widget-view+json": {
       "model_id": "8e37f4026bd747629f96ce8d6c031b2f",
       "version_major": 2,
       "version_minor": 0
      },
      "text/plain": [
       "VBox(children=(HTML(value='<b>Downloading</b> Anime Enhancer - Midrange - ClipSkip1 - [Concept] - Version 1.sa…"
      ]
     },
     "metadata": {},
     "output_type": "display_data"
    },
    {
     "name": "stdout",
     "output_type": "stream",
     "text": [
      "Downloading: https://civitai.com/api/download/models/215522\n",
      "Saved as: ./models/loras/sd15/Anime Enhancer - Midrange - ClipSkip1 - [Concept] - Version 1.safetensors\n",
      "\n"
     ]
    },
    {
     "data": {
      "text/plain": [
       "('https://civitai.com/api/download/models/215522',\n",
       " 'Anime Enhancer - Midrange - ClipSkip1 - [Concept] - Version 1.safetensors',\n",
       " 151110184,\n",
       " './models/loras/sd15',\n",
       " '19825f021991cd8c7685bc2f7fee3b24')"
      ]
     },
     "execution_count": 48,
     "metadata": {},
     "output_type": "execute_result"
    }
   ],
   "source": [
    "# Download Anime Enhancer Midrange LoRA\n",
    "civitai_download(model_version_id=215522, local_dir=sd15_lora_dir)"
   ]
  },
  {
   "cell_type": "code",
   "execution_count": 49,
   "metadata": {},
   "outputs": [],
   "source": [
    "# Delete cache\n",
    "!rm -rf {sd15_lora_dir}/.cache"
   ]
  },
  {
   "cell_type": "markdown",
   "metadata": {},
   "source": [
    "#### Embedding"
   ]
  },
  {
   "cell_type": "code",
   "execution_count": 50,
   "metadata": {},
   "outputs": [
    {
     "data": {
      "application/vnd.jupyter.widget-view+json": {
       "model_id": "1723a3226ee6456ab457a6581d953f6e",
       "version_major": 2,
       "version_minor": 0
      },
      "text/plain": [
       "EasyNegative.safetensors:   0%|          | 0.00/24.7k [00:00<?, ?B/s]"
      ]
     },
     "metadata": {},
     "output_type": "display_data"
    },
    {
     "data": {
      "text/plain": [
       "'models/embeddings/sd15/EasyNegative.safetensors'"
      ]
     },
     "execution_count": 50,
     "metadata": {},
     "output_type": "execute_result"
    }
   ],
   "source": [
    "# Download EasyNegative\n",
    "hf_hub_download(repo_id=\"gsdf/EasyNegative\", repo_type=\"dataset\", filename=\"EasyNegative.safetensors\", local_dir=sd15_embedding_dir)"
   ]
  },
  {
   "cell_type": "code",
   "execution_count": 51,
   "metadata": {},
   "outputs": [
    {
     "data": {
      "application/vnd.jupyter.widget-view+json": {
       "model_id": "9b0529e128a34e00b1884fdd12ab4088",
       "version_major": 2,
       "version_minor": 0
      },
      "text/plain": [
       "EasyNegativeV2.safetensors:   0%|          | 0.00/49.2k [00:00<?, ?B/s]"
      ]
     },
     "metadata": {},
     "output_type": "display_data"
    }
   ],
   "source": [
    "# Download EasyNegativeV2\n",
    "hf_hub_download(repo_id=\"gsdf/Counterfeit-V3.0\", filename=\"embedding/EasyNegativeV2.safetensors\", local_dir=sd15_embedding_dir)\n",
    "filename=\"EasyNegativeV2.safetensors\"\n",
    "src=os.path.join(sd15_embedding_dir, \"embedding\")\n",
    "dst=os.path.join(sd15_embedding_dir)\n",
    "shutil.move(os.path.join(src, filename), os.path.join(dst, filename))\n",
    "os.rmdir(src)"
   ]
  },
  {
   "cell_type": "code",
   "execution_count": 52,
   "metadata": {},
   "outputs": [
    {
     "data": {
      "application/vnd.jupyter.widget-view+json": {
       "model_id": "332d82ac26064dda98346dea86d3633c",
       "version_major": 2,
       "version_minor": 0
      },
      "text/plain": [
       "VBox(children=(HTML(value='<b>Downloading</b> badhandv4.pt'), HBox(children=(IntProgress(value=0, bar_style='i…"
      ]
     },
     "metadata": {},
     "output_type": "display_data"
    },
    {
     "name": "stdout",
     "output_type": "stream",
     "text": [
      "Downloading: https://civitai.com/api/download/models/230261?type=Model&format=PickleTensor\n",
      "Saved as: ./models/embeddings/sd15/badhandv4.pt\n",
      "\n"
     ]
    },
    {
     "data": {
      "text/plain": [
       "('https://civitai.com/api/download/models/230261?type=Model&format=PickleTensor',\n",
       " 'badhandv4.pt',\n",
       " 19371,\n",
       " './models/embeddings/sd15',\n",
       " '19825f021991cd8c7685bc2f7fee3b24')"
      ]
     },
     "execution_count": 52,
     "metadata": {},
     "output_type": "execute_result"
    }
   ],
   "source": [
    "# Download bad-hand-v4\n",
    "civitai_download(model_version_id=230261, local_dir=sd15_embedding_dir)"
   ]
  },
  {
   "cell_type": "code",
   "execution_count": 53,
   "metadata": {},
   "outputs": [
    {
     "data": {
      "application/vnd.jupyter.widget-view+json": {
       "model_id": "b6ab082823bf44f59126dc2d1aba05ff",
       "version_major": 2,
       "version_minor": 0
      },
      "text/plain": [
       "bad-hands-5.safetensors:   0%|          | 0.00/6.22k [00:00<?, ?B/s]"
      ]
     },
     "metadata": {},
     "output_type": "display_data"
    },
    {
     "data": {
      "text/plain": [
       "'models/embeddings/sd15/bad-hands-5.safetensors'"
      ]
     },
     "execution_count": 53,
     "metadata": {},
     "output_type": "execute_result"
    }
   ],
   "source": [
    "# Download bad-hands-v5\n",
    "hf_hub_download(repo_id=\"Kajise/bad-hands\", filename=\"bad-hands-5.safetensors\", local_dir=sd15_embedding_dir)"
   ]
  },
  {
   "cell_type": "code",
   "execution_count": 54,
   "metadata": {},
   "outputs": [
    {
     "data": {
      "application/vnd.jupyter.widget-view+json": {
       "model_id": "20f957f209e0487d9353e8858920fbea",
       "version_major": 2,
       "version_minor": 0
      },
      "text/plain": [
       "bad_prompt_version2.pt:   0%|          | 0.00/25.5k [00:00<?, ?B/s]"
      ]
     },
     "metadata": {},
     "output_type": "display_data"
    },
    {
     "data": {
      "text/plain": [
       "'models/embeddings/sd15/bad_prompt_version2.pt'"
      ]
     },
     "execution_count": 54,
     "metadata": {},
     "output_type": "execute_result"
    }
   ],
   "source": [
    "# Download bad_prompt_version2\n",
    "hf_hub_download(repo_id=\"Nerfgun3/bad_prompt\", repo_type=\"dataset\", filename=\"bad_prompt_version2.pt\", local_dir=sd15_embedding_dir)"
   ]
  },
  {
   "cell_type": "code",
   "execution_count": 55,
   "metadata": {},
   "outputs": [
    {
     "data": {
      "application/vnd.jupyter.widget-view+json": {
       "model_id": "f587073c64044f1ba77bbad1d7c65bc1",
       "version_major": 2,
       "version_minor": 0
      },
      "text/plain": [
       "bad-artist-anime.pt:   0%|          | 0.00/7.08k [00:00<?, ?B/s]"
      ]
     },
     "metadata": {},
     "output_type": "display_data"
    },
    {
     "data": {
      "text/plain": [
       "'models/embeddings/sd15/bad-artist-anime.pt'"
      ]
     },
     "execution_count": 55,
     "metadata": {},
     "output_type": "execute_result"
    }
   ],
   "source": [
    "# Download bad-artist-anime\n",
    "hf_hub_download(repo_id=\"nick-x-hacker/bad-artist\", filename=\"bad-artist-anime.pt\", local_dir=sd15_embedding_dir)"
   ]
  },
  {
   "cell_type": "code",
   "execution_count": 56,
   "metadata": {},
   "outputs": [
    {
     "data": {
      "application/vnd.jupyter.widget-view+json": {
       "model_id": "855b2e1211f3489e822d0a77d123aaaa",
       "version_major": 2,
       "version_minor": 0
      },
      "text/plain": [
       "bad-artist.pt:   0%|          | 0.00/7.08k [00:00<?, ?B/s]"
      ]
     },
     "metadata": {},
     "output_type": "display_data"
    },
    {
     "data": {
      "text/plain": [
       "'models/embeddings/sd15/bad-artist.pt'"
      ]
     },
     "execution_count": 56,
     "metadata": {},
     "output_type": "execute_result"
    }
   ],
   "source": [
    "# Download bad-artist\n",
    "hf_hub_download(repo_id=\"nick-x-hacker/bad-artist\", filename=\"bad-artist.pt\", local_dir=sd15_embedding_dir)"
   ]
  },
  {
   "cell_type": "code",
   "execution_count": 57,
   "metadata": {},
   "outputs": [
    {
     "data": {
      "application/vnd.jupyter.widget-view+json": {
       "model_id": "8e22ddf2e3174590aa30f95a91ad4f0a",
       "version_major": 2,
       "version_minor": 0
      },
      "text/plain": [
       "VBox(children=(HTML(value='<b>Downloading</b> ng_deepnegative_v1_75t.pt'), HBox(children=(IntProgress(value=0,…"
      ]
     },
     "metadata": {},
     "output_type": "display_data"
    },
    {
     "name": "stdout",
     "output_type": "stream",
     "text": [
      "Downloading: https://civitai.com/api/download/models/5637\n",
      "Saved as: ./models/embeddings/sd15/ng_deepnegative_v1_75t.pt\n",
      "\n"
     ]
    },
    {
     "data": {
      "text/plain": [
       "('https://civitai.com/api/download/models/5637',\n",
       " 'ng_deepnegative_v1_75t.pt',\n",
       " 231339,\n",
       " './models/embeddings/sd15',\n",
       " '19825f021991cd8c7685bc2f7fee3b24')"
      ]
     },
     "execution_count": 57,
     "metadata": {},
     "output_type": "execute_result"
    }
   ],
   "source": [
    "# Download Deep Negative V1 75 T\n",
    "civitai_download(model_version_id=5637, local_dir=sd15_embedding_dir)"
   ]
  },
  {
   "cell_type": "code",
   "execution_count": 58,
   "metadata": {},
   "outputs": [
    {
     "data": {
      "application/vnd.jupyter.widget-view+json": {
       "model_id": "22c12fa5de5e4829a100c72b8773050b",
       "version_major": 2,
       "version_minor": 0
      },
      "text/plain": [
       "VBox(children=(HTML(value='<b>Downloading</b> verybadimagenegative_v1.3.pt'), HBox(children=(IntProgress(value…"
      ]
     },
     "metadata": {},
     "output_type": "display_data"
    },
    {
     "name": "stdout",
     "output_type": "stream",
     "text": [
      "Downloading: https://civitai.com/api/download/models/25820\n",
      "Saved as: ./models/embeddings/sd15/verybadimagenegative_v1.3.pt\n",
      "\n"
     ]
    },
    {
     "data": {
      "text/plain": [
       "('https://civitai.com/api/download/models/25820',\n",
       " 'verybadimagenegative_v1.3.pt',\n",
       " 31659,\n",
       " './models/embeddings/sd15',\n",
       " '19825f021991cd8c7685bc2f7fee3b24')"
      ]
     },
     "execution_count": 58,
     "metadata": {},
     "output_type": "execute_result"
    }
   ],
   "source": [
    "# Download veryBadImageNegative\n",
    "civitai_download(model_version_id=25820, local_dir=sd15_embedding_dir)"
   ]
  },
  {
   "cell_type": "code",
   "execution_count": 59,
   "metadata": {},
   "outputs": [
    {
     "data": {
      "application/vnd.jupyter.widget-view+json": {
       "model_id": "13b5a9467aa8482187a331d7aca46717",
       "version_major": 2,
       "version_minor": 0
      },
      "text/plain": [
       "VBox(children=(HTML(value='<b>Downloading</b> GS-Boyish.pt'), HBox(children=(IntProgress(value=0, bar_style='i…"
      ]
     },
     "metadata": {},
     "output_type": "display_data"
    },
    {
     "name": "stdout",
     "output_type": "stream",
     "text": [
      "Downloading: https://civitai.com/api/download/models/95611\n",
      "Saved as: ./models/embeddings/sd15/GS-Boyish.pt\n",
      "\n"
     ]
    },
    {
     "data": {
      "text/plain": [
       "('https://civitai.com/api/download/models/95611',\n",
       " 'GS-Boyish.pt',\n",
       " 31601,\n",
       " './models/embeddings/sd15',\n",
       " '19825f021991cd8c7685bc2f7fee3b24')"
      ]
     },
     "execution_count": 59,
     "metadata": {},
     "output_type": "execute_result"
    }
   ],
   "source": [
    "# Download GS-Boyish\n",
    "civitai_download(model_version_id=95611, local_dir=sd15_embedding_dir)"
   ]
  },
  {
   "cell_type": "code",
   "execution_count": 60,
   "metadata": {},
   "outputs": [],
   "source": [
    "# Delete cache\n",
    "!rm -rf {sd15_embedding_dir}/.cache"
   ]
  },
  {
   "cell_type": "markdown",
   "metadata": {},
   "source": [
    "#### ControlNet"
   ]
  },
  {
   "cell_type": "code",
   "execution_count": 61,
   "metadata": {},
   "outputs": [
    {
     "data": {
      "application/vnd.jupyter.widget-view+json": {
       "model_id": "789f3e2051224022b9c450f838957734",
       "version_major": 2,
       "version_minor": 0
      },
      "text/plain": [
       "control_v11e_sd15_ip2p_fp16.safetensors:   0%|          | 0.00/723M [00:00<?, ?B/s]"
      ]
     },
     "metadata": {},
     "output_type": "display_data"
    },
    {
     "data": {
      "text/plain": [
       "'models/controlnet/sd15/control_v11e_sd15_ip2p_fp16.safetensors'"
      ]
     },
     "execution_count": 61,
     "metadata": {},
     "output_type": "execute_result"
    }
   ],
   "source": [
    "# Download ControlNet SD15 ip2p Model\n",
    "hf_hub_download(repo_id=\"comfyanonymous/ControlNet-v1-1_fp16_safetensors\", filename=\"control_v11e_sd15_ip2p_fp16.safetensors\", local_dir=sd15_controlnet_dir)"
   ]
  },
  {
   "cell_type": "code",
   "execution_count": 62,
   "metadata": {},
   "outputs": [
    {
     "data": {
      "application/vnd.jupyter.widget-view+json": {
       "model_id": "1e45d698ec5a4cda9dafa70bc42c81bd",
       "version_major": 2,
       "version_minor": 0
      },
      "text/plain": [
       "(…)ntrol_v11e_sd15_shuffle_fp16.safetensors:   0%|          | 0.00/723M [00:00<?, ?B/s]"
      ]
     },
     "metadata": {},
     "output_type": "display_data"
    },
    {
     "data": {
      "text/plain": [
       "'models/controlnet/sd15/control_v11e_sd15_shuffle_fp16.safetensors'"
      ]
     },
     "execution_count": 62,
     "metadata": {},
     "output_type": "execute_result"
    }
   ],
   "source": [
    "# Download ControlNet SD15 Shuffle Model\n",
    "hf_hub_download(repo_id=\"comfyanonymous/ControlNet-v1-1_fp16_safetensors\", filename=\"control_v11e_sd15_shuffle_fp16.safetensors\", local_dir=sd15_controlnet_dir)"
   ]
  },
  {
   "cell_type": "code",
   "execution_count": 63,
   "metadata": {},
   "outputs": [
    {
     "data": {
      "application/vnd.jupyter.widget-view+json": {
       "model_id": "c8fed76c7579498e9ccf19e0f8f68728",
       "version_major": 2,
       "version_minor": 0
      },
      "text/plain": [
       "(…)ontrol_v11f1e_sd15_tile_fp16.safetensors:   0%|          | 0.00/723M [00:00<?, ?B/s]"
      ]
     },
     "metadata": {},
     "output_type": "display_data"
    },
    {
     "data": {
      "text/plain": [
       "'models/controlnet/sd15/control_v11f1e_sd15_tile_fp16.safetensors'"
      ]
     },
     "execution_count": 63,
     "metadata": {},
     "output_type": "execute_result"
    }
   ],
   "source": [
    "# Download ControlNet SD15 Tile Model\n",
    "hf_hub_download(repo_id=\"comfyanonymous/ControlNet-v1-1_fp16_safetensors\", filename=\"control_v11f1e_sd15_tile_fp16.safetensors\", local_dir=sd15_controlnet_dir)"
   ]
  },
  {
   "cell_type": "code",
   "execution_count": 64,
   "metadata": {},
   "outputs": [
    {
     "data": {
      "application/vnd.jupyter.widget-view+json": {
       "model_id": "d6c7eaa4968a428cbff53e3e993e2863",
       "version_major": 2,
       "version_minor": 0
      },
      "text/plain": [
       "(…)ntrol_v11f1p_sd15_depth_fp16.safetensors:   0%|          | 0.00/723M [00:00<?, ?B/s]"
      ]
     },
     "metadata": {},
     "output_type": "display_data"
    },
    {
     "data": {
      "text/plain": [
       "'models/controlnet/sd15/control_v11f1p_sd15_depth_fp16.safetensors'"
      ]
     },
     "execution_count": 64,
     "metadata": {},
     "output_type": "execute_result"
    }
   ],
   "source": [
    "# Download ControlNet SD15 Depth Model\n",
    "hf_hub_download(repo_id=\"comfyanonymous/ControlNet-v1-1_fp16_safetensors\", filename=\"control_v11f1p_sd15_depth_fp16.safetensors\", local_dir=sd15_controlnet_dir)"
   ]
  },
  {
   "cell_type": "code",
   "execution_count": 65,
   "metadata": {},
   "outputs": [
    {
     "data": {
      "application/vnd.jupyter.widget-view+json": {
       "model_id": "d61850dafb344fe8bf6996e829a67aef",
       "version_major": 2,
       "version_minor": 0
      },
      "text/plain": [
       "control_v11p_sd15_canny_fp16.safetensors:   0%|          | 0.00/723M [00:00<?, ?B/s]"
      ]
     },
     "metadata": {},
     "output_type": "display_data"
    },
    {
     "data": {
      "text/plain": [
       "'models/controlnet/sd15/control_v11p_sd15_canny_fp16.safetensors'"
      ]
     },
     "execution_count": 65,
     "metadata": {},
     "output_type": "execute_result"
    }
   ],
   "source": [
    "# Download ControlNet SD15 Canny Model\n",
    "hf_hub_download(repo_id=\"comfyanonymous/ControlNet-v1-1_fp16_safetensors\", filename=\"control_v11p_sd15_canny_fp16.safetensors\", local_dir=sd15_controlnet_dir)"
   ]
  },
  {
   "cell_type": "code",
   "execution_count": 66,
   "metadata": {},
   "outputs": [
    {
     "data": {
      "application/vnd.jupyter.widget-view+json": {
       "model_id": "88bf3e48976447e6ba26a3969d3851c7",
       "version_major": 2,
       "version_minor": 0
      },
      "text/plain": [
       "(…)ntrol_v11p_sd15_inpaint_fp16.safetensors:   0%|          | 0.00/723M [00:00<?, ?B/s]"
      ]
     },
     "metadata": {},
     "output_type": "display_data"
    },
    {
     "data": {
      "text/plain": [
       "'models/controlnet/sd15/control_v11p_sd15_inpaint_fp16.safetensors'"
      ]
     },
     "execution_count": 66,
     "metadata": {},
     "output_type": "execute_result"
    }
   ],
   "source": [
    "# Download ControlNet SD15 Inpaint Model\n",
    "hf_hub_download(repo_id=\"comfyanonymous/ControlNet-v1-1_fp16_safetensors\", filename=\"control_v11p_sd15_inpaint_fp16.safetensors\", local_dir=sd15_controlnet_dir)"
   ]
  },
  {
   "cell_type": "code",
   "execution_count": 67,
   "metadata": {},
   "outputs": [
    {
     "data": {
      "application/vnd.jupyter.widget-view+json": {
       "model_id": "20ff5c448f7d42eb8d4cc7e2a7faab0d",
       "version_major": 2,
       "version_minor": 0
      },
      "text/plain": [
       "(…)ntrol_v11p_sd15_lineart_fp16.safetensors:   0%|          | 0.00/723M [00:00<?, ?B/s]"
      ]
     },
     "metadata": {},
     "output_type": "display_data"
    },
    {
     "data": {
      "text/plain": [
       "'models/controlnet/sd15/control_v11p_sd15_lineart_fp16.safetensors'"
      ]
     },
     "execution_count": 67,
     "metadata": {},
     "output_type": "execute_result"
    }
   ],
   "source": [
    "# Download ControlNet SD15 Lineart Model\n",
    "hf_hub_download(repo_id=\"comfyanonymous/ControlNet-v1-1_fp16_safetensors\", filename=\"control_v11p_sd15_lineart_fp16.safetensors\", local_dir=sd15_controlnet_dir)"
   ]
  },
  {
   "cell_type": "code",
   "execution_count": 68,
   "metadata": {},
   "outputs": [
    {
     "data": {
      "application/vnd.jupyter.widget-view+json": {
       "model_id": "b9daba4eafba438f906a67744098bd05",
       "version_major": 2,
       "version_minor": 0
      },
      "text/plain": [
       "control_v11p_sd15_mlsd_fp16.safetensors:   0%|          | 0.00/723M [00:00<?, ?B/s]"
      ]
     },
     "metadata": {},
     "output_type": "display_data"
    },
    {
     "data": {
      "text/plain": [
       "'models/controlnet/sd15/control_v11p_sd15_mlsd_fp16.safetensors'"
      ]
     },
     "execution_count": 68,
     "metadata": {},
     "output_type": "execute_result"
    }
   ],
   "source": [
    "# Download ControlNet SD15 MLSD Model\n",
    "hf_hub_download(repo_id=\"comfyanonymous/ControlNet-v1-1_fp16_safetensors\", filename=\"control_v11p_sd15_mlsd_fp16.safetensors\", local_dir=sd15_controlnet_dir)"
   ]
  },
  {
   "cell_type": "code",
   "execution_count": 69,
   "metadata": {},
   "outputs": [
    {
     "data": {
      "application/vnd.jupyter.widget-view+json": {
       "model_id": "d751402da0074fa7898502a4e53ceab0",
       "version_major": 2,
       "version_minor": 0
      },
      "text/plain": [
       "(…)rol_v11p_sd15_normalbae_fp16.safetensors:   0%|          | 0.00/723M [00:00<?, ?B/s]"
      ]
     },
     "metadata": {},
     "output_type": "display_data"
    },
    {
     "data": {
      "text/plain": [
       "'models/controlnet/sd15/control_v11p_sd15_normalbae_fp16.safetensors'"
      ]
     },
     "execution_count": 69,
     "metadata": {},
     "output_type": "execute_result"
    }
   ],
   "source": [
    "# Download ControlNet NormalBae Canny Model\n",
    "hf_hub_download(repo_id=\"comfyanonymous/ControlNet-v1-1_fp16_safetensors\", filename=\"control_v11p_sd15_normalbae_fp16.safetensors\", local_dir=sd15_controlnet_dir)"
   ]
  },
  {
   "cell_type": "code",
   "execution_count": 70,
   "metadata": {},
   "outputs": [
    {
     "data": {
      "application/vnd.jupyter.widget-view+json": {
       "model_id": "8f0d358b6b5c4826a790c56bd5e3e28e",
       "version_major": 2,
       "version_minor": 0
      },
      "text/plain": [
       "(…)trol_v11p_sd15_openpose_fp16.safetensors:   0%|          | 0.00/723M [00:00<?, ?B/s]"
      ]
     },
     "metadata": {},
     "output_type": "display_data"
    },
    {
     "data": {
      "text/plain": [
       "'models/controlnet/sd15/control_v11p_sd15_openpose_fp16.safetensors'"
      ]
     },
     "execution_count": 70,
     "metadata": {},
     "output_type": "execute_result"
    }
   ],
   "source": [
    "# Download ControlNet SD15 OpenPose Model\n",
    "hf_hub_download(repo_id=\"comfyanonymous/ControlNet-v1-1_fp16_safetensors\", filename=\"control_v11p_sd15_openpose_fp16.safetensors\", local_dir=sd15_controlnet_dir)"
   ]
  },
  {
   "cell_type": "code",
   "execution_count": 71,
   "metadata": {},
   "outputs": [
    {
     "data": {
      "application/vnd.jupyter.widget-view+json": {
       "model_id": "8af8e5ff60024847b36d8a98d0404afe",
       "version_major": 2,
       "version_minor": 0
      },
      "text/plain": [
       "(…)trol_v11p_sd15_scribble_fp16.safetensors:   0%|          | 0.00/723M [00:00<?, ?B/s]"
      ]
     },
     "metadata": {},
     "output_type": "display_data"
    },
    {
     "data": {
      "text/plain": [
       "'models/controlnet/sd15/control_v11p_sd15_scribble_fp16.safetensors'"
      ]
     },
     "execution_count": 71,
     "metadata": {},
     "output_type": "execute_result"
    }
   ],
   "source": [
    "# Download ControlNet SD15 Scribble Model\n",
    "hf_hub_download(repo_id=\"comfyanonymous/ControlNet-v1-1_fp16_safetensors\", filename=\"control_v11p_sd15_scribble_fp16.safetensors\", local_dir=sd15_controlnet_dir)"
   ]
  },
  {
   "cell_type": "code",
   "execution_count": 72,
   "metadata": {},
   "outputs": [
    {
     "data": {
      "application/vnd.jupyter.widget-view+json": {
       "model_id": "c1252394f70c41418dc7bedd8b2ad6e7",
       "version_major": 2,
       "version_minor": 0
      },
      "text/plain": [
       "control_v11p_sd15_seg_fp16.safetensors:   0%|          | 0.00/723M [00:00<?, ?B/s]"
      ]
     },
     "metadata": {},
     "output_type": "display_data"
    },
    {
     "data": {
      "text/plain": [
       "'models/controlnet/sd15/control_v11p_sd15_seg_fp16.safetensors'"
      ]
     },
     "execution_count": 72,
     "metadata": {},
     "output_type": "execute_result"
    }
   ],
   "source": [
    "# Download ControlNet SD15 Seg Model\n",
    "hf_hub_download(repo_id=\"comfyanonymous/ControlNet-v1-1_fp16_safetensors\", filename=\"control_v11p_sd15_seg_fp16.safetensors\", local_dir=sd15_controlnet_dir)"
   ]
  },
  {
   "cell_type": "code",
   "execution_count": 73,
   "metadata": {},
   "outputs": [
    {
     "data": {
      "application/vnd.jupyter.widget-view+json": {
       "model_id": "a8992219059a4dcaa35819078c23389d",
       "version_major": 2,
       "version_minor": 0
      },
      "text/plain": [
       "(…)trol_v11p_sd15_softedge_fp16.safetensors:   0%|          | 0.00/723M [00:00<?, ?B/s]"
      ]
     },
     "metadata": {},
     "output_type": "display_data"
    },
    {
     "data": {
      "text/plain": [
       "'models/controlnet/sd15/control_v11p_sd15_softedge_fp16.safetensors'"
      ]
     },
     "execution_count": 73,
     "metadata": {},
     "output_type": "execute_result"
    }
   ],
   "source": [
    "# Download ControlNet SD15 Softedge Model\n",
    "hf_hub_download(repo_id=\"comfyanonymous/ControlNet-v1-1_fp16_safetensors\", filename=\"control_v11p_sd15_softedge_fp16.safetensors\", local_dir=sd15_controlnet_dir)"
   ]
  },
  {
   "cell_type": "code",
   "execution_count": 74,
   "metadata": {},
   "outputs": [
    {
     "data": {
      "application/vnd.jupyter.widget-view+json": {
       "model_id": "70b1e3cfa8b049289a5659070c5e933f",
       "version_major": 2,
       "version_minor": 0
      },
      "text/plain": [
       "(…)1p_sd15s2_lineart_anime_fp16.safetensors:   0%|          | 0.00/723M [00:00<?, ?B/s]"
      ]
     },
     "metadata": {},
     "output_type": "display_data"
    },
    {
     "data": {
      "text/plain": [
       "'models/controlnet/sd15/control_v11p_sd15s2_lineart_anime_fp16.safetensors'"
      ]
     },
     "execution_count": 74,
     "metadata": {},
     "output_type": "execute_result"
    }
   ],
   "source": [
    "# Download ControlNet SD15 Lineart Anime Model\n",
    "hf_hub_download(repo_id=\"comfyanonymous/ControlNet-v1-1_fp16_safetensors\", filename=\"control_v11p_sd15s2_lineart_anime_fp16.safetensors\", local_dir=sd15_controlnet_dir)"
   ]
  },
  {
   "cell_type": "code",
   "execution_count": 75,
   "metadata": {},
   "outputs": [],
   "source": [
    "# Delete cache\n",
    "!rm -rf {sd15_controlnet_dir}/.cache"
   ]
  },
  {
   "cell_type": "markdown",
   "metadata": {},
   "source": [
    "### Download Stable Diffusion 2.x Model"
   ]
  },
  {
   "cell_type": "code",
   "execution_count": 76,
   "metadata": {},
   "outputs": [],
   "source": [
    "# Set Stable Diffusion 2.x Model Path\n",
    "\n",
    "sd2_ckpt_dir=model_dirs.dirs['sd2']['checkpoints']\n",
    "sd2_controlnet_dir=model_dirs.dirs['sd2']['controlnet']"
   ]
  },
  {
   "cell_type": "markdown",
   "metadata": {},
   "source": [
    "#### Checkpoint"
   ]
  },
  {
   "cell_type": "code",
   "execution_count": 77,
   "metadata": {},
   "outputs": [
    {
     "data": {
      "application/vnd.jupyter.widget-view+json": {
       "model_id": "f8f7d0e48ccc4c8894b8250e3bd4a6d1",
       "version_major": 2,
       "version_minor": 0
      },
      "text/plain": [
       "768-v-ema.safetensors:   0%|          | 0.00/5.21G [00:00<?, ?B/s]"
      ]
     },
     "metadata": {},
     "output_type": "display_data"
    },
    {
     "data": {
      "text/plain": [
       "'models/checkpoints/sd2/768-v-ema.safetensors'"
      ]
     },
     "execution_count": 77,
     "metadata": {},
     "output_type": "execute_result"
    }
   ],
   "source": [
    "# Download Stable Diffusion 2.0 768 Model\n",
    "hf_hub_download(repo_id=\"stabilityai/stable-diffusion-2\", filename=\"768-v-ema.safetensors\", local_dir=sd2_ckpt_dir)"
   ]
  },
  {
   "cell_type": "code",
   "execution_count": 78,
   "metadata": {},
   "outputs": [
    {
     "data": {
      "application/vnd.jupyter.widget-view+json": {
       "model_id": "b3f92ba4bfeb494f95370cd065443d32",
       "version_major": 2,
       "version_minor": 0
      },
      "text/plain": [
       "512-base-ema.safetensors:   0%|          | 0.00/5.21G [00:00<?, ?B/s]"
      ]
     },
     "metadata": {},
     "output_type": "display_data"
    },
    {
     "data": {
      "text/plain": [
       "'models/checkpoints/sd2/512-base-ema.safetensors'"
      ]
     },
     "execution_count": 78,
     "metadata": {},
     "output_type": "execute_result"
    }
   ],
   "source": [
    "# Download Stable Diffusion 2.0 512 Base Model\n",
    "hf_hub_download(repo_id=\"stabilityai/stable-diffusion-2-base\", filename=\"512-base-ema.safetensors\", local_dir=sd2_ckpt_dir)"
   ]
  },
  {
   "cell_type": "code",
   "execution_count": 79,
   "metadata": {},
   "outputs": [
    {
     "data": {
      "application/vnd.jupyter.widget-view+json": {
       "model_id": "2a49db3d385a4204beaddab7ab3fcfef",
       "version_major": 2,
       "version_minor": 0
      },
      "text/plain": [
       "512-depth-ema.safetensors:   0%|          | 0.00/5.71G [00:00<?, ?B/s]"
      ]
     },
     "metadata": {},
     "output_type": "display_data"
    },
    {
     "data": {
      "text/plain": [
       "'models/checkpoints/sd2/512-depth-ema.safetensors'"
      ]
     },
     "execution_count": 79,
     "metadata": {},
     "output_type": "execute_result"
    }
   ],
   "source": [
    "# Download Stable Diffusion 2.0 512 Depth Model\n",
    "hf_hub_download(repo_id=\"stabilityai/stable-diffusion-2-depth\", filename=\"512-depth-ema.safetensors\", local_dir=sd2_ckpt_dir)"
   ]
  },
  {
   "cell_type": "code",
   "execution_count": 80,
   "metadata": {},
   "outputs": [
    {
     "data": {
      "application/vnd.jupyter.widget-view+json": {
       "model_id": "e88f35829f54452083832dbc79c26f76",
       "version_major": 2,
       "version_minor": 0
      },
      "text/plain": [
       "512-inpainting-ema.safetensors:   0%|          | 0.00/5.21G [00:00<?, ?B/s]"
      ]
     },
     "metadata": {},
     "output_type": "display_data"
    },
    {
     "data": {
      "text/plain": [
       "'models/checkpoints/sd2/512-inpainting-ema.safetensors'"
      ]
     },
     "execution_count": 80,
     "metadata": {},
     "output_type": "execute_result"
    }
   ],
   "source": [
    "# Download Stable Diffusion 2.0 512 Inpainting Model\n",
    "hf_hub_download(repo_id=\"stabilityai/stable-diffusion-2-inpainting\", filename=\"512-inpainting-ema.safetensors\", local_dir=sd2_ckpt_dir)"
   ]
  },
  {
   "cell_type": "code",
   "execution_count": 81,
   "metadata": {},
   "outputs": [
    {
     "data": {
      "application/vnd.jupyter.widget-view+json": {
       "model_id": "311ec1730cb04107af3359111a26b505",
       "version_major": 2,
       "version_minor": 0
      },
      "text/plain": [
       "v2-1_768-ema-pruned.safetensors:   0%|          | 0.00/5.21G [00:00<?, ?B/s]"
      ]
     },
     "metadata": {},
     "output_type": "display_data"
    },
    {
     "data": {
      "text/plain": [
       "'models/checkpoints/sd2/v2-1_768-ema-pruned.safetensors'"
      ]
     },
     "execution_count": 81,
     "metadata": {},
     "output_type": "execute_result"
    }
   ],
   "source": [
    "# Download Stable Diffusion 2.1 Model\n",
    "hf_hub_download(repo_id=\"stabilityai/stable-diffusion-2-1\", filename=\"v2-1_768-ema-pruned.safetensors\", local_dir=sd2_ckpt_dir)"
   ]
  },
  {
   "cell_type": "code",
   "execution_count": 82,
   "metadata": {},
   "outputs": [
    {
     "data": {
      "application/vnd.jupyter.widget-view+json": {
       "model_id": "555dd87ed6244c468c77ac39854627ea",
       "version_major": 2,
       "version_minor": 0
      },
      "text/plain": [
       "v2-1_512-ema-pruned.safetensors:   0%|          | 0.00/5.21G [00:00<?, ?B/s]"
      ]
     },
     "metadata": {},
     "output_type": "display_data"
    },
    {
     "data": {
      "text/plain": [
       "'models/checkpoints/sd2/v2-1_512-ema-pruned.safetensors'"
      ]
     },
     "execution_count": 82,
     "metadata": {},
     "output_type": "execute_result"
    }
   ],
   "source": [
    "# Download Stable Diffusion 2.1 Base Model\n",
    "hf_hub_download(repo_id=\"stabilityai/stable-diffusion-2-1-base\", filename=\"v2-1_512-ema-pruned.safetensors\", local_dir=sd2_ckpt_dir)"
   ]
  },
  {
   "cell_type": "code",
   "execution_count": 83,
   "metadata": {},
   "outputs": [],
   "source": [
    "# Delete cache\n",
    "!rm -rf {sd2_ckpt_dir}/.cache"
   ]
  },
  {
   "cell_type": "markdown",
   "metadata": {},
   "source": [
    "#### ControlNet"
   ]
  },
  {
   "cell_type": "code",
   "execution_count": 84,
   "metadata": {},
   "outputs": [
    {
     "data": {
      "application/vnd.jupyter.widget-view+json": {
       "model_id": "a33f00f4e9c84ad79c66f0f0568e9432",
       "version_major": 2,
       "version_minor": 0
      },
      "text/plain": [
       "control_v11p_sd21_ade20k.safetensors:   0%|          | 0.00/728M [00:00<?, ?B/s]"
      ]
     },
     "metadata": {},
     "output_type": "display_data"
    },
    {
     "data": {
      "application/vnd.jupyter.widget-view+json": {
       "model_id": "f421103eb05e4a9bb48c2ce06647e8d7",
       "version_major": 2,
       "version_minor": 0
      },
      "text/plain": [
       "control_v11p_sd21_canny.safetensors:   0%|          | 0.00/728M [00:00<?, ?B/s]"
      ]
     },
     "metadata": {},
     "output_type": "display_data"
    },
    {
     "data": {
      "application/vnd.jupyter.widget-view+json": {
       "model_id": "519e0076cb22489185b1a3697145f839",
       "version_major": 2,
       "version_minor": 0
      },
      "text/plain": [
       "control_v11p_sd21_color.safetensors:   0%|          | 0.00/728M [00:00<?, ?B/s]"
      ]
     },
     "metadata": {},
     "output_type": "display_data"
    },
    {
     "data": {
      "application/vnd.jupyter.widget-view+json": {
       "model_id": "8e9e0867ced54e569fd02be20185bdef",
       "version_major": 2,
       "version_minor": 0
      },
      "text/plain": [
       "control_v11p_sd21_depth.safetensors:   0%|          | 0.00/728M [00:00<?, ?B/s]"
      ]
     },
     "metadata": {},
     "output_type": "display_data"
    },
    {
     "data": {
      "application/vnd.jupyter.widget-view+json": {
       "model_id": "ffc217b72450465a919c5c7f158953ee",
       "version_major": 2,
       "version_minor": 0
      },
      "text/plain": [
       "control_v11p_sd21_hed.safetensors:   0%|          | 0.00/728M [00:00<?, ?B/s]"
      ]
     },
     "metadata": {},
     "output_type": "display_data"
    },
    {
     "data": {
      "application/vnd.jupyter.widget-view+json": {
       "model_id": "87ec1fc0350f47b5a11d399bf3957c9d",
       "version_major": 2,
       "version_minor": 0
      },
      "text/plain": [
       "control_v11p_sd21_lineart.safetensors:   0%|          | 0.00/728M [00:00<?, ?B/s]"
      ]
     },
     "metadata": {},
     "output_type": "display_data"
    },
    {
     "data": {
      "application/vnd.jupyter.widget-view+json": {
       "model_id": "3df8b84d7246471bba92eeea95a78355",
       "version_major": 2,
       "version_minor": 0
      },
      "text/plain": [
       "control_v11p_sd21_normalbae.safetensors:   0%|          | 0.00/728M [00:00<?, ?B/s]"
      ]
     },
     "metadata": {},
     "output_type": "display_data"
    },
    {
     "data": {
      "application/vnd.jupyter.widget-view+json": {
       "model_id": "5bdb273693824aa3bbeadb896d832b81",
       "version_major": 2,
       "version_minor": 0
      },
      "text/plain": [
       "control_v11p_sd21_openpose.safetensors:   0%|          | 0.00/728M [00:00<?, ?B/s]"
      ]
     },
     "metadata": {},
     "output_type": "display_data"
    },
    {
     "data": {
      "application/vnd.jupyter.widget-view+json": {
       "model_id": "6b3b6b6cb400441e9b1bff1aae00305e",
       "version_major": 2,
       "version_minor": 0
      },
      "text/plain": [
       "control_v11p_sd21_openposev2.safetensors:   0%|          | 0.00/728M [00:00<?, ?B/s]"
      ]
     },
     "metadata": {},
     "output_type": "display_data"
    },
    {
     "data": {
      "application/vnd.jupyter.widget-view+json": {
       "model_id": "1733c76572dd4be3b8d8a00c0f068607",
       "version_major": 2,
       "version_minor": 0
      },
      "text/plain": [
       "control_v11p_sd21_scribble.safetensors:   0%|          | 0.00/728M [00:00<?, ?B/s]"
      ]
     },
     "metadata": {},
     "output_type": "display_data"
    },
    {
     "data": {
      "application/vnd.jupyter.widget-view+json": {
       "model_id": "d3e4e372aced4a97a0c21da537396943",
       "version_major": 2,
       "version_minor": 0
      },
      "text/plain": [
       "control_v11p_sd21_zoedepth.safetensors:   0%|          | 0.00/728M [00:00<?, ?B/s]"
      ]
     },
     "metadata": {},
     "output_type": "display_data"
    },
    {
     "data": {
      "text/plain": [
       "'models/controlnet/sd2/control_v11p_sd21_zoedepth.safetensors'"
      ]
     },
     "execution_count": 84,
     "metadata": {},
     "output_type": "execute_result"
    }
   ],
   "source": [
    "# Download Stable Diffusion 2.1 ControlNet\n",
    "hf_hub_download(repo_id=\"thibaud/controlnet-sd21\", filename=\"control_v11p_sd21_ade20k.safetensors\", local_dir=sd2_controlnet_dir)\n",
    "hf_hub_download(repo_id=\"thibaud/controlnet-sd21\", filename=\"control_v11p_sd21_canny.safetensors\", local_dir=sd2_controlnet_dir)\n",
    "hf_hub_download(repo_id=\"thibaud/controlnet-sd21\", filename=\"control_v11p_sd21_color.safetensors\", local_dir=sd2_controlnet_dir)\n",
    "hf_hub_download(repo_id=\"thibaud/controlnet-sd21\", filename=\"control_v11p_sd21_depth.safetensors\", local_dir=sd2_controlnet_dir)\n",
    "hf_hub_download(repo_id=\"thibaud/controlnet-sd21\", filename=\"control_v11p_sd21_hed.safetensors\", local_dir=sd2_controlnet_dir)\n",
    "hf_hub_download(repo_id=\"thibaud/controlnet-sd21\", filename=\"control_v11p_sd21_lineart.safetensors\", local_dir=sd2_controlnet_dir)\n",
    "hf_hub_download(repo_id=\"thibaud/controlnet-sd21\", filename=\"control_v11p_sd21_normalbae.safetensors\", local_dir=sd2_controlnet_dir)\n",
    "hf_hub_download(repo_id=\"thibaud/controlnet-sd21\", filename=\"control_v11p_sd21_openpose.safetensors\", local_dir=sd2_controlnet_dir)\n",
    "hf_hub_download(repo_id=\"thibaud/controlnet-sd21\", filename=\"control_v11p_sd21_openposev2.safetensors\", local_dir=sd2_controlnet_dir)\n",
    "hf_hub_download(repo_id=\"thibaud/controlnet-sd21\", filename=\"control_v11p_sd21_scribble.safetensors\", local_dir=sd2_controlnet_dir)\n",
    "hf_hub_download(repo_id=\"thibaud/controlnet-sd21\", filename=\"control_v11p_sd21_zoedepth.safetensors\", local_dir=sd2_controlnet_dir)"
   ]
  },
  {
   "cell_type": "code",
   "execution_count": 85,
   "metadata": {},
   "outputs": [],
   "source": [
    "# Delete cache\n",
    "!rm -rf {sd2_controlnet_dir}/.cache"
   ]
  },
  {
   "cell_type": "markdown",
   "metadata": {},
   "source": [
    "### Download Stable Diffusion XL Model"
   ]
  },
  {
   "cell_type": "code",
   "execution_count": 86,
   "metadata": {},
   "outputs": [],
   "source": [
    "sdxl_ckpt_dir=model_dirs.dirs['sdxl']['checkpoints']\n",
    "sdxl_vae_dir=model_dirs.dirs['sdxl']['vae']\n",
    "sdxl_lora_dir=model_dirs.dirs['sdxl']['loras']\n",
    "sdxl_controlnet_dir=model_dirs.dirs['sdxl']['controlnet']\n",
    "sdxl_embedding_dir=model_dirs.dirs['sdxl']['embeddings']"
   ]
  },
  {
   "cell_type": "markdown",
   "metadata": {},
   "source": [
    "#### Checkpoint"
   ]
  },
  {
   "cell_type": "code",
   "execution_count": 87,
   "metadata": {},
   "outputs": [
    {
     "data": {
      "application/vnd.jupyter.widget-view+json": {
       "model_id": "a970b2502ccc420880c440e89ea5662d",
       "version_major": 2,
       "version_minor": 0
      },
      "text/plain": [
       "sd_xl_base_1.0.safetensors:   0%|          | 0.00/6.94G [00:00<?, ?B/s]"
      ]
     },
     "metadata": {},
     "output_type": "display_data"
    },
    {
     "data": {
      "text/plain": [
       "'models/checkpoints/sdxl/sd_xl_base_1.0.safetensors'"
      ]
     },
     "execution_count": 87,
     "metadata": {},
     "output_type": "execute_result"
    }
   ],
   "source": [
    "# Download Stable Diffusion XL 1.0 Base Model\n",
    "hf_hub_download(repo_id=\"stabilityai/stable-diffusion-xl-base-1.0\", filename=\"sd_xl_base_1.0.safetensors\", local_dir=sdxl_ckpt_dir)"
   ]
  },
  {
   "cell_type": "code",
   "execution_count": 88,
   "metadata": {},
   "outputs": [
    {
     "data": {
      "application/vnd.jupyter.widget-view+json": {
       "model_id": "0693b90ae3264380a3d3261016fe59b7",
       "version_major": 2,
       "version_minor": 0
      },
      "text/plain": [
       "sd_xl_refiner_1.0.safetensors:   0%|          | 0.00/6.08G [00:00<?, ?B/s]"
      ]
     },
     "metadata": {},
     "output_type": "display_data"
    },
    {
     "data": {
      "text/plain": [
       "'models/checkpoints/sdxl/sd_xl_refiner_1.0.safetensors'"
      ]
     },
     "execution_count": 88,
     "metadata": {},
     "output_type": "execute_result"
    }
   ],
   "source": [
    "# Download Stable Diffusion XL 1.0 Refiner Model\n",
    "hf_hub_download(repo_id=\"stabilityai/stable-diffusion-xl-refiner-1.0\", filename=\"sd_xl_refiner_1.0.safetensors\", local_dir=sdxl_ckpt_dir)"
   ]
  },
  {
   "cell_type": "code",
   "execution_count": 89,
   "metadata": {},
   "outputs": [
    {
     "data": {
      "application/vnd.jupyter.widget-view+json": {
       "model_id": "bde9213424eb4ab6957cc2bef4a062c3",
       "version_major": 2,
       "version_minor": 0
      },
      "text/plain": [
       "VBox(children=(HTML(value='<b>Downloading</b> AnythingXL_xl.safetensors'), HBox(children=(IntProgress(value=0,…"
      ]
     },
     "metadata": {},
     "output_type": "display_data"
    },
    {
     "name": "stdout",
     "output_type": "stream",
     "text": [
      "Downloading: https://civitai.com/api/download/models/384264\n",
      "Saved as: ./models/checkpoints/sdxl/AnythingXL_xl.safetensors\n",
      "\n"
     ]
    },
    {
     "data": {
      "text/plain": [
       "('https://civitai.com/api/download/models/384264',\n",
       " 'AnythingXL_xl.safetensors',\n",
       " 6938041578,\n",
       " './models/checkpoints/sdxl',\n",
       " '19825f021991cd8c7685bc2f7fee3b24')"
      ]
     },
     "execution_count": 89,
     "metadata": {},
     "output_type": "execute_result"
    }
   ],
   "source": [
    "# Download Anything XL Model\n",
    "civitai_download(model_version_id=384264, local_dir=sdxl_ckpt_dir)"
   ]
  },
  {
   "cell_type": "code",
   "execution_count": 90,
   "metadata": {},
   "outputs": [
    {
     "data": {
      "application/vnd.jupyter.widget-view+json": {
       "model_id": "8d99b76796784dc2ba87936592435f46",
       "version_major": 2,
       "version_minor": 0
      },
      "text/plain": [
       "animagine-xl-3.1.safetensors:   0%|          | 0.00/6.94G [00:00<?, ?B/s]"
      ]
     },
     "metadata": {},
     "output_type": "display_data"
    },
    {
     "data": {
      "text/plain": [
       "'models/checkpoints/sdxl/animagine-xl-3.1.safetensors'"
      ]
     },
     "execution_count": 90,
     "metadata": {},
     "output_type": "execute_result"
    }
   ],
   "source": [
    "# Download AnimagineXL 3.1 Model\n",
    "hf_hub_download(repo_id=\"cagliostrolab/animagine-xl-3.1\", filename=\"animagine-xl-3.1.safetensors\", local_dir=sdxl_ckpt_dir)"
   ]
  },
  {
   "cell_type": "code",
   "execution_count": 91,
   "metadata": {},
   "outputs": [
    {
     "data": {
      "application/vnd.jupyter.widget-view+json": {
       "model_id": "fa124dc7ecb3407eaeb3bda4e59a42ad",
       "version_major": 2,
       "version_minor": 0
      },
      "text/plain": [
       "VBox(children=(HTML(value='<b>Downloading</b> GammaxlNSFWFor_v10.safetensors'), HBox(children=(IntProgress(val…"
      ]
     },
     "metadata": {},
     "output_type": "display_data"
    },
    {
     "name": "stdout",
     "output_type": "stream",
     "text": [
      "Downloading: https://civitai.com/api/download/models/412021\n",
      "Saved as: ./models/checkpoints/sdxl/GammaxlNSFWFor_v10.safetensors\n",
      "\n"
     ]
    },
    {
     "data": {
      "text/plain": [
       "('https://civitai.com/api/download/models/412021',\n",
       " 'GammaxlNSFWFor_v10.safetensors',\n",
       " 6938043442,\n",
       " './models/checkpoints/sdxl',\n",
       " '19825f021991cd8c7685bc2f7fee3b24')"
      ]
     },
     "execution_count": 91,
     "metadata": {},
     "output_type": "execute_result"
    }
   ],
   "source": [
    "# Download Gamma XL NSFW for Anything XL Model\n",
    "civitai_download(model_version_id=412021, local_dir=sdxl_ckpt_dir)"
   ]
  },
  {
   "cell_type": "code",
   "execution_count": 92,
   "metadata": {},
   "outputs": [
    {
     "data": {
      "application/vnd.jupyter.widget-view+json": {
       "model_id": "fdcbbade17744cb49f495631197a2edc",
       "version_major": 2,
       "version_minor": 0
      },
      "text/plain": [
       "VBox(children=(HTML(value='<b>Downloading</b> kohakuXLEpsilon_rev2.safetensors'), HBox(children=(IntProgress(v…"
      ]
     },
     "metadata": {},
     "output_type": "display_data"
    },
    {
     "name": "stdout",
     "output_type": "stream",
     "text": [
      "Downloading: https://civitai.com/api/download/models/546178\n",
      "Saved as: ./models/checkpoints/sdxl/kohakuXLEpsilon_rev2.safetensors\n",
      "\n"
     ]
    },
    {
     "data": {
      "text/plain": [
       "('https://civitai.com/api/download/models/546178',\n",
       " 'kohakuXLEpsilon_rev2.safetensors',\n",
       " 6938040286,\n",
       " './models/checkpoints/sdxl',\n",
       " '19825f021991cd8c7685bc2f7fee3b24')"
      ]
     },
     "execution_count": 92,
     "metadata": {},
     "output_type": "execute_result"
    }
   ],
   "source": [
    "# Download Kohaku XL Epsilon Model\n",
    "civitai_download(model_version_id=546178, local_dir=sdxl_ckpt_dir)"
   ]
  },
  {
   "cell_type": "code",
   "execution_count": 93,
   "metadata": {},
   "outputs": [
    {
     "data": {
      "application/vnd.jupyter.widget-view+json": {
       "model_id": "09bd8d07c59146cc8aaa989525665094",
       "version_major": 2,
       "version_minor": 0
      },
      "text/plain": [
       "CounterfeitXL-V2.5.safetensors:   0%|          | 0.00/6.94G [00:00<?, ?B/s]"
      ]
     },
     "metadata": {},
     "output_type": "display_data"
    },
    {
     "data": {
      "text/plain": [
       "'models/checkpoints/sdxl/CounterfeitXL-V2.5.safetensors'"
      ]
     },
     "execution_count": 93,
     "metadata": {},
     "output_type": "execute_result"
    }
   ],
   "source": [
    "# Download CounterfeitXL V2.5 Model\n",
    "hf_hub_download(repo_id=\"gsdf/CounterfeitXL-V2.0\", filename=\"CounterfeitXL-V2.5.safetensors\", local_dir=sdxl_ckpt_dir)"
   ]
  },
  {
   "cell_type": "code",
   "execution_count": 94,
   "metadata": {},
   "outputs": [
    {
     "data": {
      "application/vnd.jupyter.widget-view+json": {
       "model_id": "60188b3541e04083a4564906939eea1c",
       "version_major": 2,
       "version_minor": 0
      },
      "text/plain": [
       "Juggernaut-XI-byRunDiffusion.safetensors:   0%|          | 0.00/7.11G [00:00<?, ?B/s]"
      ]
     },
     "metadata": {},
     "output_type": "display_data"
    },
    {
     "data": {
      "text/plain": [
       "'models/checkpoints/sdxl/Juggernaut-XI-byRunDiffusion.safetensors'"
      ]
     },
     "execution_count": 94,
     "metadata": {},
     "output_type": "execute_result"
    }
   ],
   "source": [
    "# Download Juggernaut XL Model\n",
    "hf_hub_download(repo_id=\"RunDiffusion/Juggernaut-XI-v11\", filename=\"Juggernaut-XI-byRunDiffusion.safetensors\", local_dir=sdxl_ckpt_dir)"
   ]
  },
  {
   "cell_type": "code",
   "execution_count": 95,
   "metadata": {},
   "outputs": [
    {
     "data": {
      "application/vnd.jupyter.widget-view+json": {
       "model_id": "6a93e799d6d344b4ba5b39ea1fd9b157",
       "version_major": 2,
       "version_minor": 0
      },
      "text/plain": [
       "VBox(children=(HTML(value='<b>Downloading</b> noobaiXLNAIXL_epsilonPred05Version.safetensors'), HBox(children=…"
      ]
     },
     "metadata": {},
     "output_type": "display_data"
    },
    {
     "name": "stdout",
     "output_type": "stream",
     "text": [
      "Downloading: https://civitai.com/api/download/models/968495\n",
      "Saved as: ./models/checkpoints/sdxl/noobaiXLNAIXL_epsilonPred05Version.safetensors\n",
      "\n"
     ]
    },
    {
     "data": {
      "text/plain": [
       "('https://civitai.com/api/download/models/968495',\n",
       " 'noobaiXLNAIXL_epsilonPred05Version.safetensors',\n",
       " 6938040400,\n",
       " './models/checkpoints/sdxl',\n",
       " '19825f021991cd8c7685bc2f7fee3b24')"
      ]
     },
     "execution_count": 95,
     "metadata": {},
     "output_type": "execute_result"
    }
   ],
   "source": [
    "# Download NoobAI XL Model\n",
    "civitai_download(model_version_id=968495, local_dir=sdxl_ckpt_dir)"
   ]
  },
  {
   "cell_type": "code",
   "execution_count": 96,
   "metadata": {},
   "outputs": [
    {
     "data": {
      "application/vnd.jupyter.widget-view+json": {
       "model_id": "6a2e1f3062ff43c988fc41f855a14394",
       "version_major": 2,
       "version_minor": 0
      },
      "text/plain": [
       "AAM_XL_Anime_Mix.safetensors:   0%|          | 0.00/6.94G [00:00<?, ?B/s]"
      ]
     },
     "metadata": {},
     "output_type": "display_data"
    },
    {
     "data": {
      "text/plain": [
       "'models/checkpoints/sdxl/AAM_XL_Anime_Mix.safetensors'"
      ]
     },
     "execution_count": 96,
     "metadata": {},
     "output_type": "execute_result"
    }
   ],
   "source": [
    "# Download AAM XL Anime Mix Model\n",
    "hf_hub_download(repo_id=\"Lykon/AnyLoRA\", filename=\"AAM_XL_Anime_Mix.safetensors\", local_dir=sdxl_ckpt_dir)"
   ]
  },
  {
   "cell_type": "code",
   "execution_count": 97,
   "metadata": {},
   "outputs": [
    {
     "data": {
      "application/vnd.jupyter.widget-view+json": {
       "model_id": "9e5833be917846fbad352381c5afb08e",
       "version_major": 2,
       "version_minor": 0
      },
      "text/plain": [
       "blue_pencil-XL-v7.0.0.safetensors:   0%|          | 0.00/6.94G [00:00<?, ?B/s]"
      ]
     },
     "metadata": {},
     "output_type": "display_data"
    },
    {
     "data": {
      "text/plain": [
       "'models/checkpoints/sdxl/blue_pencil-XL-v7.0.0.safetensors'"
      ]
     },
     "execution_count": 97,
     "metadata": {},
     "output_type": "execute_result"
    }
   ],
   "source": [
    "# Download Blue Pencil XL Model\n",
    "hf_hub_download(repo_id=\"bluepen5805/blue_pencil-XL\", filename=\"blue_pencil-XL-v7.0.0.safetensors\", local_dir=sdxl_ckpt_dir)"
   ]
  },
  {
   "cell_type": "code",
   "execution_count": 98,
   "metadata": {},
   "outputs": [
    {
     "data": {
      "application/vnd.jupyter.widget-view+json": {
       "model_id": "caa2498020da425791ae4a90562ac75c",
       "version_major": 2,
       "version_minor": 0
      },
      "text/plain": [
       "anima_pencil-XL-v5.0.0.safetensors:   0%|          | 0.00/6.94G [00:00<?, ?B/s]"
      ]
     },
     "metadata": {},
     "output_type": "display_data"
    },
    {
     "data": {
      "text/plain": [
       "'models/checkpoints/sdxl/anima_pencil-XL-v5.0.0.safetensors'"
      ]
     },
     "execution_count": 98,
     "metadata": {},
     "output_type": "execute_result"
    }
   ],
   "source": [
    "# Download Anima Pencil XL Model\n",
    "hf_hub_download(repo_id=\"bluepen5805/anima_pencil-XL\", filename=\"anima_pencil-XL-v5.0.0.safetensors\", local_dir=sdxl_ckpt_dir)"
   ]
  },
  {
   "cell_type": "code",
   "execution_count": 99,
   "metadata": {},
   "outputs": [
    {
     "data": {
      "application/vnd.jupyter.widget-view+json": {
       "model_id": "0059cab377ec4b59a13236de24e15ed3",
       "version_major": 2,
       "version_minor": 0
      },
      "text/plain": [
       "(…)0Alpha2_fixedVae_half_00001_.safetensors:   0%|          | 0.00/6.94G [00:00<?, ?B/s]"
      ]
     },
     "metadata": {},
     "output_type": "display_data"
    },
    {
     "data": {
      "text/plain": [
       "'models/checkpoints/sdxl/DreamShaperXL1.0Alpha2_fixedVae_half_00001_.safetensors'"
      ]
     },
     "execution_count": 99,
     "metadata": {},
     "output_type": "execute_result"
    }
   ],
   "source": [
    "# Download DreamShaper XL Model\n",
    "hf_hub_download(repo_id=\"Lykon/DreamShaper\", filename=\"DreamShaperXL1.0Alpha2_fixedVae_half_00001_.safetensors\", local_dir=sdxl_ckpt_dir)"
   ]
  },
  {
   "cell_type": "code",
   "execution_count": 100,
   "metadata": {},
   "outputs": [],
   "source": [
    "# Delete cache\n",
    "!rm -rf {sdxl_ckpt_dir}/.cache"
   ]
  },
  {
   "cell_type": "markdown",
   "metadata": {},
   "source": [
    "#### VAE"
   ]
  },
  {
   "cell_type": "code",
   "execution_count": 101,
   "metadata": {},
   "outputs": [
    {
     "data": {
      "application/vnd.jupyter.widget-view+json": {
       "model_id": "f6bbf478021641f7b7162bcdebc041fd",
       "version_major": 2,
       "version_minor": 0
      },
      "text/plain": [
       "sdxl_vae.safetensors:   0%|          | 0.00/335M [00:00<?, ?B/s]"
      ]
     },
     "metadata": {},
     "output_type": "display_data"
    },
    {
     "data": {
      "text/plain": [
       "'models/vae/sdxl/sdxl_vae.safetensors'"
      ]
     },
     "execution_count": 101,
     "metadata": {},
     "output_type": "execute_result"
    }
   ],
   "source": [
    "# Download Stable Diffusion XL 1.0 VAE\n",
    "hf_hub_download(repo_id=\"madebyollin/sdxl-vae-fp16-fix\", filename=\"sdxl_vae.safetensors\", local_dir=sdxl_vae_dir)"
   ]
  },
  {
   "cell_type": "code",
   "execution_count": 102,
   "metadata": {},
   "outputs": [],
   "source": [
    "# Delete cache\n",
    "!rm -rf {sdxl_vae_dir}/.cache"
   ]
  },
  {
   "cell_type": "markdown",
   "metadata": {},
   "source": [
    "#### LoRA"
   ]
  },
  {
   "cell_type": "code",
   "execution_count": 103,
   "metadata": {},
   "outputs": [
    {
     "data": {
      "application/vnd.jupyter.widget-view+json": {
       "model_id": "86b65332b34246aaba101b0b60e4b42f",
       "version_major": 2,
       "version_minor": 0
      },
      "text/plain": [
       "pytorch_lora_weights.safetensors:   0%|          | 0.00/394M [00:00<?, ?B/s]"
      ]
     },
     "metadata": {},
     "output_type": "display_data"
    }
   ],
   "source": [
    "# Download Stable Diffusion XL LCM LoRA\n",
    "hf_hub_download(repo_id=\"latent-consistency/lcm-lora-sdxl\", filename=\"pytorch_lora_weights.safetensors\", local_dir=sdxl_lora_dir)\n",
    "filepath=sdxl_lora_dir\n",
    "src=os.path.join(filepath,\"pytorch_lora_weights.safetensors\")\n",
    "dst=os.path.join(filepath, \"lcm-lora-sdxl.safetensors\")\n",
    "os.rename(src, dst)"
   ]
  },
  {
   "cell_type": "code",
   "execution_count": 104,
   "metadata": {},
   "outputs": [
    {
     "data": {
      "application/vnd.jupyter.widget-view+json": {
       "model_id": "4609b1f55a784fda994ecf19e7303aec",
       "version_major": 2,
       "version_minor": 0
      },
      "text/plain": [
       "VBox(children=(HTML(value='<b>Downloading</b> EnvyTomboyXL01.safetensors'), HBox(children=(IntProgress(value=0…"
      ]
     },
     "metadata": {},
     "output_type": "display_data"
    },
    {
     "name": "stdout",
     "output_type": "stream",
     "text": [
      "Downloading: https://civitai.com/api/download/models/251963\n",
      "Saved as: ./models/loras/sdxl/EnvyTomboyXL01.safetensors\n",
      "\n"
     ]
    },
    {
     "data": {
      "text/plain": [
       "('https://civitai.com/api/download/models/251963',\n",
       " 'EnvyTomboyXL01.safetensors',\n",
       " 46702144,\n",
       " './models/loras/sdxl',\n",
       " '19825f021991cd8c7685bc2f7fee3b24')"
      ]
     },
     "execution_count": 104,
     "metadata": {},
     "output_type": "execute_result"
    }
   ],
   "source": [
    "# Download Envy Tomboy Slider XL LoRA\n",
    "civitai_download(model_version_id=251963, local_dir=sdxl_lora_dir)"
   ]
  },
  {
   "cell_type": "code",
   "execution_count": 105,
   "metadata": {},
   "outputs": [
    {
     "data": {
      "application/vnd.jupyter.widget-view+json": {
       "model_id": "9a9182db3b2347b28b08fb149ee91731",
       "version_major": 2,
       "version_minor": 0
      },
      "text/plain": [
       "VBox(children=(HTML(value='<b>Downloading</b> SAO Kirito SDXL Satu.safetensors'), HBox(children=(IntProgress(v…"
      ]
     },
     "metadata": {},
     "output_type": "display_data"
    },
    {
     "name": "stdout",
     "output_type": "stream",
     "text": [
      "Downloading: https://civitai.com/api/download/models/489270\n",
      "Saved as: ./models/loras/sdxl/SAO Kirito SDXL Satu.safetensors\n",
      "\n"
     ]
    },
    {
     "data": {
      "text/plain": [
       "('https://civitai.com/api/download/models/489270',\n",
       " 'SAO Kirito SDXL Satu.safetensors',\n",
       " 228465564,\n",
       " './models/loras/sdxl',\n",
       " '19825f021991cd8c7685bc2f7fee3b24')"
      ]
     },
     "execution_count": 105,
     "metadata": {},
     "output_type": "execute_result"
    }
   ],
   "source": [
    "# Download SAO Kirito SDXL Satu LoRA\n",
    "civitai_download(model_version_id=489270, local_dir=sdxl_lora_dir)"
   ]
  },
  {
   "cell_type": "code",
   "execution_count": 106,
   "metadata": {},
   "outputs": [
    {
     "data": {
      "application/vnd.jupyter.widget-view+json": {
       "model_id": "c930e6e58ec145b9a5ce130b8c97f029",
       "version_major": 2,
       "version_minor": 0
      },
      "text/plain": [
       "VBox(children=(HTML(value='<b>Downloading</b> XL-Eugeo-SAO-AnimagineXL3.1-v1.safetensors'), HBox(children=(Int…"
      ]
     },
     "metadata": {},
     "output_type": "display_data"
    },
    {
     "name": "stdout",
     "output_type": "stream",
     "text": [
      "Downloading: https://civitai.com/api/download/models/437049\n",
      "Saved as: ./models/loras/sdxl/XL-Eugeo-SAO-AnimagineXL3.1-v1.safetensors\n",
      "\n"
     ]
    },
    {
     "data": {
      "text/plain": [
       "('https://civitai.com/api/download/models/437049',\n",
       " 'XL-Eugeo-SAO-AnimagineXL3.1-v1.safetensors',\n",
       " 228455908,\n",
       " './models/loras/sdxl',\n",
       " '19825f021991cd8c7685bc2f7fee3b24')"
      ]
     },
     "execution_count": 106,
     "metadata": {},
     "output_type": "execute_result"
    }
   ],
   "source": [
    "# Download XL Eugeo SAO Animagine XL 3.1 LoRA\n",
    "civitai_download(model_version_id=437049, local_dir=sdxl_lora_dir)"
   ]
  },
  {
   "cell_type": "code",
   "execution_count": 107,
   "metadata": {},
   "outputs": [
    {
     "data": {
      "application/vnd.jupyter.widget-view+json": {
       "model_id": "66c2e0775c63444c99030ed71fc0ff4c",
       "version_major": 2,
       "version_minor": 0
      },
      "text/plain": [
       "VBox(children=(HTML(value='<b>Downloading</b> out4.safetensors'), HBox(children=(IntProgress(value=0, bar_styl…"
      ]
     },
     "metadata": {},
     "output_type": "display_data"
    },
    {
     "name": "stdout",
     "output_type": "stream",
     "text": [
      "Downloading: https://civitai.com/api/download/models/134460\n",
      "Saved as: ./models/loras/sdxl/out4.safetensors\n",
      "\n"
     ]
    },
    {
     "data": {
      "text/plain": [
       "('https://civitai.com/api/download/models/134460',\n",
       " 'out4.safetensors',\n",
       " 17951076,\n",
       " './models/loras/sdxl',\n",
       " '19825f021991cd8c7685bc2f7fee3b24')"
      ]
     },
     "execution_count": 107,
     "metadata": {},
     "output_type": "execute_result"
    }
   ],
   "source": [
    "# Download Sailorboy XL LoRA\n",
    "civitai_download(model_version_id=134460, local_dir=sdxl_lora_dir)"
   ]
  },
  {
   "cell_type": "code",
   "execution_count": 108,
   "metadata": {},
   "outputs": [
    {
     "data": {
      "application/vnd.jupyter.widget-view+json": {
       "model_id": "2752e06087ae4432a6f0dcffe78a46af",
       "version_major": 2,
       "version_minor": 0
      },
      "text/plain": [
       "VBox(children=(HTML(value='<b>Downloading</b> SDXL_disembodied head_headless.safetensors'), HBox(children=(Int…"
      ]
     },
     "metadata": {},
     "output_type": "display_data"
    },
    {
     "name": "stdout",
     "output_type": "stream",
     "text": [
      "Downloading: https://civitai.com/api/download/models/515553\n",
      "Saved as: ./models/loras/sdxl/SDXL_disembodied head_headless.safetensors\n",
      "\n"
     ]
    },
    {
     "data": {
      "text/plain": [
       "('https://civitai.com/api/download/models/515553',\n",
       " 'SDXL_disembodied head_headless.safetensors',\n",
       " 57473156,\n",
       " './models/loras/sdxl',\n",
       " '19825f021991cd8c7685bc2f7fee3b24')"
      ]
     },
     "execution_count": 108,
     "metadata": {},
     "output_type": "execute_result"
    }
   ],
   "source": [
    "# Download SDXL Disembodied head Headless LoRA\n",
    "civitai_download(model_version_id=515553, local_dir=sdxl_lora_dir)"
   ]
  },
  {
   "cell_type": "code",
   "execution_count": 109,
   "metadata": {},
   "outputs": [
    {
     "data": {
      "application/vnd.jupyter.widget-view+json": {
       "model_id": "aaad0213bd7e4551a741284b90a49aa4",
       "version_major": 2,
       "version_minor": 0
      },
      "text/plain": [
       "VBox(children=(HTML(value='<b>Downloading</b> [Yue]Paintingboys-SDXL.safetensors'), HBox(children=(IntProgress…"
      ]
     },
     "metadata": {},
     "output_type": "display_data"
    },
    {
     "name": "stdout",
     "output_type": "stream",
     "text": [
      "Downloading: https://civitai.com/api/download/models/144865\n",
      "Saved as: ./models/loras/sdxl/[Yue]Paintingboys-SDXL.safetensors\n",
      "\n"
     ]
    },
    {
     "data": {
      "text/plain": [
       "('https://civitai.com/api/download/models/144865',\n",
       " '[Yue]Paintingboys-SDXL.safetensors',\n",
       " 114436972,\n",
       " './models/loras/sdxl',\n",
       " '19825f021991cd8c7685bc2f7fee3b24')"
      ]
     },
     "execution_count": 109,
     "metadata": {},
     "output_type": "execute_result"
    }
   ],
   "source": [
    "# Download [Yue] Paintingboys SDXL LoRA\n",
    "civitai_download(model_version_id=144865, local_dir=sdxl_lora_dir)"
   ]
  },
  {
   "cell_type": "code",
   "execution_count": 110,
   "metadata": {},
   "outputs": [
    {
     "data": {
      "application/vnd.jupyter.widget-view+json": {
       "model_id": "053518fbe86247e18b1f45e600643575",
       "version_major": 2,
       "version_minor": 0
      },
      "text/plain": [
       "VBox(children=(HTML(value='<b>Downloading</b> A_SHort_Cut_v3_SDXL.safetensors'), HBox(children=(IntProgress(va…"
      ]
     },
     "metadata": {},
     "output_type": "display_data"
    },
    {
     "name": "stdout",
     "output_type": "stream",
     "text": [
      "Downloading: https://civitai.com/api/download/models/298618\n",
      "Saved as: ./models/loras/sdxl/A_SHort_Cut_v3_SDXL.safetensors\n",
      "\n"
     ]
    },
    {
     "data": {
      "text/plain": [
       "('https://civitai.com/api/download/models/298618',\n",
       " 'A_SHort_Cut_v3_SDXL.safetensors',\n",
       " 57423412,\n",
       " './models/loras/sdxl',\n",
       " '19825f021991cd8c7685bc2f7fee3b24')"
      ]
     },
     "execution_count": 110,
     "metadata": {},
     "output_type": "execute_result"
    }
   ],
   "source": [
    "# Download A Short cut v3 SDXL LoRA\n",
    "civitai_download(model_version_id=298618, local_dir=sdxl_lora_dir)"
   ]
  },
  {
   "cell_type": "code",
   "execution_count": 111,
   "metadata": {},
   "outputs": [
    {
     "data": {
      "application/vnd.jupyter.widget-view+json": {
       "model_id": "9f714d7f538542ca91e5a368e0adc8f7",
       "version_major": 2,
       "version_minor": 0
      },
      "text/plain": [
       "VBox(children=(HTML(value='<b>Downloading</b> breasts_slider_v10.safetensors'), HBox(children=(IntProgress(val…"
      ]
     },
     "metadata": {},
     "output_type": "display_data"
    },
    {
     "name": "stdout",
     "output_type": "stream",
     "text": [
      "Downloading: https://civitai.com/api/download/models/173866\n",
      "Saved as: ./models/loras/sdxl/breasts_slider_v10.safetensors\n",
      "\n"
     ]
    },
    {
     "data": {
      "text/plain": [
       "('https://civitai.com/api/download/models/173866',\n",
       " 'breasts_slider_v10.safetensors',\n",
       " 23474312,\n",
       " './models/loras/sdxl',\n",
       " '19825f021991cd8c7685bc2f7fee3b24')"
      ]
     },
     "execution_count": 111,
     "metadata": {},
     "output_type": "execute_result"
    }
   ],
   "source": [
    "# Download Breasts Slider LoRA\n",
    "civitai_download(model_version_id=173866, local_dir=sdxl_lora_dir)"
   ]
  },
  {
   "cell_type": "code",
   "execution_count": 112,
   "metadata": {},
   "outputs": [
    {
     "data": {
      "application/vnd.jupyter.widget-view+json": {
       "model_id": "6f133f482b2144e19d612d797cbb7f40",
       "version_major": 2,
       "version_minor": 0
      },
      "text/plain": [
       "VBox(children=(HTML(value='<b>Downloading</b> SDXL_Dark_Knight.safetensors'), HBox(children=(IntProgress(value…"
      ]
     },
     "metadata": {},
     "output_type": "display_data"
    },
    {
     "name": "stdout",
     "output_type": "stream",
     "text": [
      "Downloading: https://civitai.com/api/download/models/570644\n",
      "Saved as: ./models/loras/sdxl/SDXL_Dark_Knight.safetensors\n",
      "\n"
     ]
    },
    {
     "data": {
      "text/plain": [
       "('https://civitai.com/api/download/models/570644',\n",
       " 'SDXL_Dark_Knight.safetensors',\n",
       " 228460260,\n",
       " './models/loras/sdxl',\n",
       " '19825f021991cd8c7685bc2f7fee3b24')"
      ]
     },
     "execution_count": 112,
     "metadata": {},
     "output_type": "execute_result"
    }
   ],
   "source": [
    "# Download SDXL Dark Knight LoRA\n",
    "civitai_download(model_version_id=570644, local_dir=sdxl_lora_dir)"
   ]
  },
  {
   "cell_type": "code",
   "execution_count": 113,
   "metadata": {},
   "outputs": [
    {
     "data": {
      "application/vnd.jupyter.widget-view+json": {
       "model_id": "03c03b40caeb495f90a10b5dc32013d9",
       "version_major": 2,
       "version_minor": 0
      },
      "text/plain": [
       "VBox(children=(HTML(value='<b>Downloading</b> enhancerV4-xl.safetensors'), HBox(children=(IntProgress(value=0,…"
      ]
     },
     "metadata": {},
     "output_type": "display_data"
    },
    {
     "name": "stdout",
     "output_type": "stream",
     "text": [
      "Downloading: https://civitai.com/api/download/models/497695\n",
      "Saved as: ./models/loras/sdxl/enhancerV4-xl.safetensors\n",
      "\n"
     ]
    },
    {
     "data": {
      "text/plain": [
       "('https://civitai.com/api/download/models/497695',\n",
       " 'enhancerV4-xl.safetensors',\n",
       " 342470916,\n",
       " './models/loras/sdxl',\n",
       " '19825f021991cd8c7685bc2f7fee3b24')"
      ]
     },
     "execution_count": 113,
     "metadata": {},
     "output_type": "execute_result"
    }
   ],
   "source": [
    "# Download Enhancer V4 XL LoRA\n",
    "civitai_download(model_version_id=497695, local_dir=sdxl_lora_dir)"
   ]
  },
  {
   "cell_type": "code",
   "execution_count": 114,
   "metadata": {},
   "outputs": [
    {
     "data": {
      "application/vnd.jupyter.widget-view+json": {
       "model_id": "50058913992445a296c21c156f639c71",
       "version_major": 2,
       "version_minor": 0
      },
      "text/plain": [
       "VBox(children=(HTML(value='<b>Downloading</b> add_details_xl.safetensors'), HBox(children=(IntProgress(value=0…"
      ]
     },
     "metadata": {},
     "output_type": "display_data"
    },
    {
     "name": "stdout",
     "output_type": "stream",
     "text": [
      "Downloading: https://civitai.com/api/download/models/436121\n",
      "Saved as: ./models/loras/sdxl/add_details_xl.safetensors\n",
      "\n"
     ]
    },
    {
     "data": {
      "text/plain": [
       "('https://civitai.com/api/download/models/436121',\n",
       " 'add_details_xl.safetensors',\n",
       " 456495548,\n",
       " './models/loras/sdxl',\n",
       " '19825f021991cd8c7685bc2f7fee3b24')"
      ]
     },
     "execution_count": 114,
     "metadata": {},
     "output_type": "execute_result"
    }
   ],
   "source": [
    "# Download Add Details XL LoRA\n",
    "civitai_download(model_version_id=436121, local_dir=sdxl_lora_dir)"
   ]
  },
  {
   "cell_type": "code",
   "execution_count": 115,
   "metadata": {},
   "outputs": [
    {
     "data": {
      "application/vnd.jupyter.widget-view+json": {
       "model_id": "b3a1e70a964743a6a24d2783ec80e3c5",
       "version_major": 2,
       "version_minor": 0
      },
      "text/plain": [
       "VBox(children=(HTML(value='<b>Downloading</b> sugekaewoman_v3.1.safetensors'), HBox(children=(IntProgress(valu…"
      ]
     },
     "metadata": {},
     "output_type": "display_data"
    },
    {
     "name": "stdout",
     "output_type": "stream",
     "text": [
      "Downloading: https://civitai.com/api/download/models/513742\n",
      "Saved as: ./models/loras/sdxl/sugekaewoman_v3.1.safetensors\n",
      "\n"
     ]
    },
    {
     "data": {
      "text/plain": [
       "('https://civitai.com/api/download/models/513742',\n",
       " 'sugekaewoman_v3.1.safetensors',\n",
       " 228452724,\n",
       " './models/loras/sdxl',\n",
       " '19825f021991cd8c7685bc2f7fee3b24')"
      ]
     },
     "execution_count": 115,
     "metadata": {},
     "output_type": "execute_result"
    }
   ],
   "source": [
    "# Download Head Swap (Male Head on Female Body) Animagine XL 3.1 LoRA\n",
    "civitai_download(model_version_id=513742, local_dir=sdxl_lora_dir)"
   ]
  },
  {
   "cell_type": "code",
   "execution_count": 116,
   "metadata": {},
   "outputs": [
    {
     "data": {
      "application/vnd.jupyter.widget-view+json": {
       "model_id": "9e647c91f9644f1e96a50716b402840b",
       "version_major": 2,
       "version_minor": 0
      },
      "text/plain": [
       "VBox(children=(HTML(value='<b>Downloading</b> sugekaeman_v3.1.safetensors'), HBox(children=(IntProgress(value=…"
      ]
     },
     "metadata": {},
     "output_type": "display_data"
    },
    {
     "name": "stdout",
     "output_type": "stream",
     "text": [
      "Downloading: https://civitai.com/api/download/models/429832\n",
      "Saved as: ./models/loras/sdxl/sugekaeman_v3.1.safetensors\n",
      "\n"
     ]
    },
    {
     "data": {
      "text/plain": [
       "('https://civitai.com/api/download/models/429832',\n",
       " 'sugekaeman_v3.1.safetensors',\n",
       " 228452676,\n",
       " './models/loras/sdxl',\n",
       " '19825f021991cd8c7685bc2f7fee3b24')"
      ]
     },
     "execution_count": 116,
     "metadata": {},
     "output_type": "execute_result"
    }
   ],
   "source": [
    "# Download Head Swap (Female Head on Male Body) Animagine XL 3.1 LoRA\n",
    "civitai_download(model_version_id=429832, local_dir=sdxl_lora_dir)"
   ]
  },
  {
   "cell_type": "code",
   "execution_count": 117,
   "metadata": {},
   "outputs": [
    {
     "data": {
      "application/vnd.jupyter.widget-view+json": {
       "model_id": "bb95da48c25c464693bc4e418aaed513",
       "version_major": 2,
       "version_minor": 0
      },
      "text/plain": [
       "minami_asuka_xl_animagine.safetensors:   0%|          | 0.00/228M [00:00<?, ?B/s]"
      ]
     },
     "metadata": {},
     "output_type": "display_data"
    },
    {
     "data": {
      "text/plain": [
       "'models/loras/sdxl/minami_asuka_xl_animagine.safetensors'"
      ]
     },
     "execution_count": 117,
     "metadata": {},
     "output_type": "execute_result"
    }
   ],
   "source": [
    "# Download Original Character - 南飛鳥(Minami Asuka) XL for Animagine XL 3.1 LoRA\n",
    "hf_hub_download(repo_id=\"bean980310/minami_asuka_xl_animagine\", filename=\"minami_asuka_xl_animagine.safetensors\", local_dir=sdxl_lora_dir)"
   ]
  },
  {
   "cell_type": "code",
   "execution_count": 118,
   "metadata": {},
   "outputs": [
    {
     "data": {
      "application/vnd.jupyter.widget-view+json": {
       "model_id": "53d98b52d9da47d39c1274b2f7430b40",
       "version_major": 2,
       "version_minor": 0
      },
      "text/plain": [
       "tomboy_xl_animagine.safetensors:   0%|          | 0.00/228M [00:00<?, ?B/s]"
      ]
     },
     "metadata": {},
     "output_type": "display_data"
    },
    {
     "data": {
      "text/plain": [
       "'models/loras/sdxl/tomboy_xl_animagine.safetensors'"
      ]
     },
     "execution_count": 118,
     "metadata": {},
     "output_type": "execute_result"
    }
   ],
   "source": [
    "# Download Tomboy XL for Animagine XL 3.1 LoRA\n",
    "hf_hub_download(repo_id=\"bean980310/tomboy_xl_animagine\", filename=\"tomboy_xl_animagine.safetensors\", local_dir=sdxl_lora_dir)"
   ]
  },
  {
   "cell_type": "code",
   "execution_count": 119,
   "metadata": {},
   "outputs": [
    {
     "data": {
      "application/vnd.jupyter.widget-view+json": {
       "model_id": "b0badaa842544efeb9dc42f2c442da9d",
       "version_major": 2,
       "version_minor": 0
      },
      "text/plain": [
       "headswap_xl_animagine.safetensors:   0%|          | 0.00/228M [00:00<?, ?B/s]"
      ]
     },
     "metadata": {},
     "output_type": "display_data"
    },
    {
     "data": {
      "text/plain": [
       "'models/loras/sdxl/headswap_xl_animagine.safetensors'"
      ]
     },
     "execution_count": 119,
     "metadata": {},
     "output_type": "execute_result"
    }
   ],
   "source": [
    "# Download headswap XL for Animagine XL 3.1 LoRA\n",
    "hf_hub_download(repo_id=\"bean980310/headswap_xl_animagine\", filename=\"headswap_xl_animagine.safetensors\", local_dir=sdxl_lora_dir)"
   ]
  },
  {
   "cell_type": "code",
   "execution_count": 120,
   "metadata": {},
   "outputs": [],
   "source": [
    "# Delete cache\n",
    "!rm -rf {sdxl_lora_dir}/.cache"
   ]
  },
  {
   "cell_type": "markdown",
   "metadata": {},
   "source": [
    "#### Embedding"
   ]
  },
  {
   "cell_type": "code",
   "execution_count": 121,
   "metadata": {},
   "outputs": [
    {
     "data": {
      "application/vnd.jupyter.widget-view+json": {
       "model_id": "31387e7d19734e5e965a267cc878f079",
       "version_major": 2,
       "version_minor": 0
      },
      "text/plain": [
       "negativeXL_A.safetensors:   0%|          | 0.00/131k [00:00<?, ?B/s]"
      ]
     },
     "metadata": {},
     "output_type": "display_data"
    },
    {
     "data": {
      "text/plain": [
       "'./models/embeddings/sdxl/negativeXL_A.safetensors'"
      ]
     },
     "execution_count": 121,
     "metadata": {},
     "output_type": "execute_result"
    }
   ],
   "source": [
    "# Download NegativeXL A\n",
    "hf_hub_download(repo_id=\"gsdf/CounterfeitXL\", filename=\"embeddings/negativeXL_A.safetensors\", local_dir=sdxl_embedding_dir)\n",
    "filename=\"negativeXL_A.safetensors\"\n",
    "src=os.path.join(sdxl_embedding_dir, \"embeddings\")\n",
    "dst=sdxl_embedding_dir\n",
    "shutil.move(os.path.join(src, filename), os.path.join(dst, filename))"
   ]
  },
  {
   "cell_type": "code",
   "execution_count": 122,
   "metadata": {},
   "outputs": [
    {
     "data": {
      "application/vnd.jupyter.widget-view+json": {
       "model_id": "3f01b7d850014036a8a45b8867e74165",
       "version_major": 2,
       "version_minor": 0
      },
      "text/plain": [
       "negativeXL_B.safetensors:   0%|          | 0.00/65.7k [00:00<?, ?B/s]"
      ]
     },
     "metadata": {},
     "output_type": "display_data"
    },
    {
     "data": {
      "text/plain": [
       "'./models/embeddings/sdxl/negativeXL_B.safetensors'"
      ]
     },
     "execution_count": 122,
     "metadata": {},
     "output_type": "execute_result"
    }
   ],
   "source": [
    "# Download NegativeXL B\n",
    "hf_hub_download(repo_id=\"gsdf/CounterfeitXL\", filename=\"embeddings/negativeXL_B.safetensors\", local_dir=sdxl_embedding_dir)\n",
    "filename=\"negativeXL_B.safetensors\"\n",
    "shutil.move(os.path.join(src, filename), os.path.join(dst, filename))"
   ]
  },
  {
   "cell_type": "code",
   "execution_count": 123,
   "metadata": {},
   "outputs": [
    {
     "data": {
      "application/vnd.jupyter.widget-view+json": {
       "model_id": "8c213c98f1104e8ea94f82f6b8600bc0",
       "version_major": 2,
       "version_minor": 0
      },
      "text/plain": [
       "negativeXL_C.safetensors:   0%|          | 0.00/131k [00:00<?, ?B/s]"
      ]
     },
     "metadata": {},
     "output_type": "display_data"
    },
    {
     "data": {
      "text/plain": [
       "'./models/embeddings/sdxl/negativeXL_C.safetensors'"
      ]
     },
     "execution_count": 123,
     "metadata": {},
     "output_type": "execute_result"
    }
   ],
   "source": [
    "# Download NegativeXL C\n",
    "hf_hub_download(repo_id=\"gsdf/CounterfeitXL\", filename=\"embeddings/negativeXL_C.safetensors\", local_dir=sdxl_embedding_dir)\n",
    "filename=\"negativeXL_C.safetensors\"\n",
    "shutil.move(os.path.join(src, filename), os.path.join(dst, filename))"
   ]
  },
  {
   "cell_type": "code",
   "execution_count": 124,
   "metadata": {},
   "outputs": [
    {
     "data": {
      "application/vnd.jupyter.widget-view+json": {
       "model_id": "cd5a7b166e49457ea1ddf239effed94f",
       "version_major": 2,
       "version_minor": 0
      },
      "text/plain": [
       "negativeXL_D.safetensors:   0%|          | 0.00/131k [00:00<?, ?B/s]"
      ]
     },
     "metadata": {},
     "output_type": "display_data"
    }
   ],
   "source": [
    "# Download NegativeXL D\n",
    "hf_hub_download(repo_id=\"gsdf/CounterfeitXL\", filename=\"embeddings/negativeXL_D.safetensors\", local_dir=sdxl_embedding_dir)\n",
    "filename=\"negativeXL_D.safetensors\"\n",
    "shutil.move(os.path.join(src, filename), os.path.join(dst, filename))\n",
    "os.rmdir(src)"
   ]
  },
  {
   "cell_type": "code",
   "execution_count": 125,
   "metadata": {},
   "outputs": [
    {
     "data": {
      "application/vnd.jupyter.widget-view+json": {
       "model_id": "013ab72c6a484d0093fc8f91a44c9dbb",
       "version_major": 2,
       "version_minor": 0
      },
      "text/plain": [
       "VBox(children=(HTML(value='<b>Downloading</b> DeepNegative_xl_v1.safetensors'), HBox(children=(IntProgress(val…"
      ]
     },
     "metadata": {},
     "output_type": "display_data"
    },
    {
     "name": "stdout",
     "output_type": "stream",
     "text": [
      "Downloading: https://civitai.com/api/download/models/454217\n",
      "Saved as: ./models/embeddings/sdxl/DeepNegative_xl_v1.safetensors\n",
      "\n"
     ]
    },
    {
     "data": {
      "text/plain": [
       "('https://civitai.com/api/download/models/454217',\n",
       " 'DeepNegative_xl_v1.safetensors',\n",
       " 262648,\n",
       " './models/embeddings/sdxl',\n",
       " '19825f021991cd8c7685bc2f7fee3b24')"
      ]
     },
     "execution_count": 125,
     "metadata": {},
     "output_type": "execute_result"
    }
   ],
   "source": [
    "# Download DeepNegative XL\n",
    "civitai_download(model_version_id=454217, local_dir=sdxl_embedding_dir)"
   ]
  },
  {
   "cell_type": "code",
   "execution_count": 126,
   "metadata": {},
   "outputs": [
    {
     "data": {
      "application/vnd.jupyter.widget-view+json": {
       "model_id": "eea4189c32b64fc09a9ffe60ffb8a405",
       "version_major": 2,
       "version_minor": 0
      },
      "text/plain": [
       "VBox(children=(HTML(value='<b>Downloading</b> negative.safetensors'), HBox(children=(IntProgress(value=0, bar_…"
      ]
     },
     "metadata": {},
     "output_type": "display_data"
    },
    {
     "name": "stdout",
     "output_type": "stream",
     "text": [
      "Downloading: https://civitai.com/api/download/models/261856\n",
      "Saved as: ./models/embeddings/sdxl/negative.safetensors\n",
      "\n"
     ]
    },
    {
     "data": {
      "text/plain": [
       "('https://civitai.com/api/download/models/261856',\n",
       " 'negative.safetensors',\n",
       " 25072,\n",
       " './models/embeddings/sdxl',\n",
       " '19825f021991cd8c7685bc2f7fee3b24')"
      ]
     },
     "execution_count": 126,
     "metadata": {},
     "output_type": "execute_result"
    }
   ],
   "source": [
    "# Download Negative XL\n",
    "civitai_download(model_version_id=261856, local_dir=sdxl_embedding_dir)"
   ]
  },
  {
   "cell_type": "code",
   "execution_count": 127,
   "metadata": {},
   "outputs": [
    {
     "data": {
      "application/vnd.jupyter.widget-view+json": {
       "model_id": "6de1615fe3fb49d48b6115ccac99318e",
       "version_major": 2,
       "version_minor": 0
      },
      "text/plain": [
       "VBox(children=(HTML(value='<b>Downloading</b> negative_v2.safetensors'), HBox(children=(IntProgress(value=0, b…"
      ]
     },
     "metadata": {},
     "output_type": "display_data"
    },
    {
     "name": "stdout",
     "output_type": "stream",
     "text": [
      "Downloading: https://civitai.com/api/download/models/264111\n",
      "Saved as: ./models/embeddings/sdxl/negative_v2.safetensors\n",
      "\n"
     ]
    },
    {
     "data": {
      "text/plain": [
       "('https://civitai.com/api/download/models/264111',\n",
       " 'negative_v2.safetensors',\n",
       " 25072,\n",
       " './models/embeddings/sdxl',\n",
       " '19825f021991cd8c7685bc2f7fee3b24')"
      ]
     },
     "execution_count": 127,
     "metadata": {},
     "output_type": "execute_result"
    }
   ],
   "source": [
    "# Download Negative XL V2\n",
    "civitai_download(model_version_id=264111, local_dir=sdxl_embedding_dir)"
   ]
  },
  {
   "cell_type": "code",
   "execution_count": 128,
   "metadata": {},
   "outputs": [
    {
     "data": {
      "application/vnd.jupyter.widget-view+json": {
       "model_id": "bbff800b5f60478dac38df598d0f041e",
       "version_major": 2,
       "version_minor": 0
      },
      "text/plain": [
       "VBox(children=(HTML(value='<b>Downloading</b> (negative_v2 Color_Balance_Calibration:0.8).safetensors'), HBox(…"
      ]
     },
     "metadata": {},
     "output_type": "display_data"
    },
    {
     "name": "stdout",
     "output_type": "stream",
     "text": [
      "Downloading: https://civitai.com/api/download/models/431425\n",
      "Saved as: ./models/embeddings/sdxl/(negative_v2 Color_Balance_Calibration:0.8).safetensors\n",
      "\n"
     ]
    },
    {
     "data": {
      "text/plain": [
       "('https://civitai.com/api/download/models/431425',\n",
       " '(negative_v2 Color_Balance_Calibration:0.8).safetensors',\n",
       " 29176,\n",
       " './models/embeddings/sdxl',\n",
       " '19825f021991cd8c7685bc2f7fee3b24')"
      ]
     },
     "execution_count": 128,
     "metadata": {},
     "output_type": "execute_result"
    }
   ],
   "source": [
    "# Download Negative XL Color_Balance_Calibration_0.8\n",
    "civitai_download(model_version_id=431425, local_dir=sdxl_embedding_dir)"
   ]
  },
  {
   "cell_type": "code",
   "execution_count": 129,
   "metadata": {},
   "outputs": [],
   "source": [
    "# Delete cache\n",
    "!rm -rf {sdxl_embedding_dir}/.cache"
   ]
  },
  {
   "cell_type": "markdown",
   "metadata": {},
   "source": [
    "#### ControlNet"
   ]
  },
  {
   "cell_type": "markdown",
   "metadata": {},
   "source": [
    "**Stability AI**"
   ]
  },
  {
   "cell_type": "code",
   "execution_count": 130,
   "metadata": {},
   "outputs": [
    {
     "data": {
      "application/vnd.jupyter.widget-view+json": {
       "model_id": "8fc02a1dd6fc4ae5a31486726e4e10fa",
       "version_major": 2,
       "version_minor": 0
      },
      "text/plain": [
       "control-lora-canny-rank256.safetensors:   0%|          | 0.00/774M [00:00<?, ?B/s]"
      ]
     },
     "metadata": {},
     "output_type": "display_data"
    },
    {
     "data": {
      "text/plain": [
       "'./models/controlnet/sdxl/control-lora-canny-rank256.safetensors'"
      ]
     },
     "execution_count": 130,
     "metadata": {},
     "output_type": "execute_result"
    }
   ],
   "source": [
    "# Download Stability AI ControlNet XL Canny\n",
    "hf_hub_download(repo_id=\"stabilityai/control-lora\", filename=\"control-LoRAs-rank256/control-lora-canny-rank256.safetensors\", local_dir=sdxl_controlnet_dir)\n",
    "filename='control-lora-canny-rank256.safetensors'\n",
    "src=os.path.join(sdxl_controlnet_dir, 'control-LoRAs-rank256')\n",
    "dst=sdxl_controlnet_dir\n",
    "shutil.move(os.path.join(src, filename), os.path.join(dst, filename))"
   ]
  },
  {
   "cell_type": "code",
   "execution_count": 131,
   "metadata": {},
   "outputs": [
    {
     "data": {
      "application/vnd.jupyter.widget-view+json": {
       "model_id": "d8a6e8d314584fc3b7df7ce6380f305a",
       "version_major": 2,
       "version_minor": 0
      },
      "text/plain": [
       "control-lora-depth-rank256.safetensors:   0%|          | 0.00/774M [00:00<?, ?B/s]"
      ]
     },
     "metadata": {},
     "output_type": "display_data"
    },
    {
     "data": {
      "text/plain": [
       "'./models/controlnet/sdxl/control-lora-depth-rank256.safetensors'"
      ]
     },
     "execution_count": 131,
     "metadata": {},
     "output_type": "execute_result"
    }
   ],
   "source": [
    "# Download Stability AI ControlNet XL Depth\n",
    "hf_hub_download(repo_id=\"stabilityai/control-lora\", filename=\"control-LoRAs-rank256/control-lora-depth-rank256.safetensors\", local_dir=sdxl_controlnet_dir)\n",
    "filename='control-lora-depth-rank256.safetensors'\n",
    "shutil.move(os.path.join(src, filename), os.path.join(dst, filename))"
   ]
  },
  {
   "cell_type": "code",
   "execution_count": 132,
   "metadata": {},
   "outputs": [
    {
     "data": {
      "application/vnd.jupyter.widget-view+json": {
       "model_id": "d0915f564e9e4d42938160aaa8a9fc3a",
       "version_major": 2,
       "version_minor": 0
      },
      "text/plain": [
       "control-lora-recolor-rank256.safetensors:   0%|          | 0.00/774M [00:00<?, ?B/s]"
      ]
     },
     "metadata": {},
     "output_type": "display_data"
    },
    {
     "data": {
      "text/plain": [
       "'./models/controlnet/sdxl/control-lora-recolor-rank256.safetensors'"
      ]
     },
     "execution_count": 132,
     "metadata": {},
     "output_type": "execute_result"
    }
   ],
   "source": [
    "# Download Stability AI ControlNet XL Recolor\n",
    "hf_hub_download(repo_id=\"stabilityai/control-lora\", filename=\"control-LoRAs-rank256/control-lora-recolor-rank256.safetensors\", local_dir=sdxl_controlnet_dir)\n",
    "filename='control-lora-recolor-rank256.safetensors'\n",
    "shutil.move(os.path.join(src, filename), os.path.join(dst, filename))"
   ]
  },
  {
   "cell_type": "code",
   "execution_count": 133,
   "metadata": {},
   "outputs": [
    {
     "data": {
      "application/vnd.jupyter.widget-view+json": {
       "model_id": "a31365ec4a934230940d0191944251d5",
       "version_major": 2,
       "version_minor": 0
      },
      "text/plain": [
       "control-lora-sketch-rank256.safetensors:   0%|          | 0.00/774M [00:00<?, ?B/s]"
      ]
     },
     "metadata": {},
     "output_type": "display_data"
    }
   ],
   "source": [
    "# Download Stability AI ControlNet XL Sketch\n",
    "hf_hub_download(repo_id=\"stabilityai/control-lora\", filename=\"control-LoRAs-rank256/control-lora-sketch-rank256.safetensors\", local_dir=sdxl_controlnet_dir)\n",
    "filename='control-lora-sketch-rank256.safetensors'\n",
    "shutil.move(os.path.join(src, filename), os.path.join(dst, filename))\n",
    "os.rmdir(src)"
   ]
  },
  {
   "cell_type": "markdown",
   "metadata": {},
   "source": [
    "**Diffusers**"
   ]
  },
  {
   "cell_type": "code",
   "execution_count": 134,
   "metadata": {},
   "outputs": [
    {
     "data": {
      "application/vnd.jupyter.widget-view+json": {
       "model_id": "1d2bbc9cde92468daad4b59d1122a1c9",
       "version_major": 2,
       "version_minor": 0
      },
      "text/plain": [
       "diffusion_pytorch_model.fp16.safetensors:   0%|          | 0.00/2.50G [00:00<?, ?B/s]"
      ]
     },
     "metadata": {},
     "output_type": "display_data"
    }
   ],
   "source": [
    "# Download Diffusers ControlNet XL Canny\n",
    "hf_hub_download(repo_id=\"diffusers/controlnet-canny-sdxl-1.0\", filename=\"diffusion_pytorch_model.fp16.safetensors\", local_dir=sdxl_controlnet_dir)\n",
    "filepath=sdxl_controlnet_dir\n",
    "src=os.path.join(filepath,\"diffusion_pytorch_model.fp16.safetensors\")\n",
    "dst=os.path.join(filepath, \"controlnet-canny-sdxl-1.0.safetensors\")\n",
    "os.rename(src, dst)"
   ]
  },
  {
   "cell_type": "code",
   "execution_count": 135,
   "metadata": {},
   "outputs": [
    {
     "data": {
      "application/vnd.jupyter.widget-view+json": {
       "model_id": "75d84a9421614edc9e86cd7d34e40582",
       "version_major": 2,
       "version_minor": 0
      },
      "text/plain": [
       "diffusion_pytorch_model.fp16.safetensors:   0%|          | 0.00/2.50G [00:00<?, ?B/s]"
      ]
     },
     "metadata": {},
     "output_type": "display_data"
    }
   ],
   "source": [
    "# Download Diffusers ControlNet XL Depth\n",
    "hf_hub_download(repo_id=\"diffusers/controlnet-depth-sdxl-1.0\", filename=\"diffusion_pytorch_model.fp16.safetensors\", local_dir=sdxl_controlnet_dir)\n",
    "src=os.path.join(filepath,\"diffusion_pytorch_model.fp16.safetensors\")\n",
    "dst=os.path.join(filepath, \"controlnet-depth-sdxl-1.0.safetensors\")\n",
    "os.rename(src, dst)"
   ]
  },
  {
   "cell_type": "markdown",
   "metadata": {},
   "source": [
    "**Kataragi**"
   ]
  },
  {
   "cell_type": "code",
   "execution_count": 136,
   "metadata": {},
   "outputs": [
    {
     "data": {
      "application/vnd.jupyter.widget-view+json": {
       "model_id": "7d3e5d2ee43f433fbe7baa16029fdbc5",
       "version_major": 2,
       "version_minor": 0
      },
      "text/plain": [
       "Kataragi_cannyXL-fp16.safetensors:   0%|          | 0.00/2.50G [00:00<?, ?B/s]"
      ]
     },
     "metadata": {},
     "output_type": "display_data"
    },
    {
     "data": {
      "text/plain": [
       "'models/controlnet/sdxl/Kataragi_cannyXL-fp16.safetensors'"
      ]
     },
     "execution_count": 136,
     "metadata": {},
     "output_type": "execute_result"
    }
   ],
   "source": [
    "# Download Kataragi ControlNet XL Canny\n",
    "hf_hub_download(repo_id=\"kataragi/controlnet_canny\", filename=\"Kataragi_cannyXL-fp16.safetensors\", local_dir=sdxl_controlnet_dir)"
   ]
  },
  {
   "cell_type": "code",
   "execution_count": 137,
   "metadata": {},
   "outputs": [
    {
     "data": {
      "application/vnd.jupyter.widget-view+json": {
       "model_id": "722125fe52bc41159bdf2af50695d967",
       "version_major": 2,
       "version_minor": 0
      },
      "text/plain": [
       "(…)sers_xl_flatline_testXL-fp16.safetensors:   0%|          | 0.00/2.50G [00:00<?, ?B/s]"
      ]
     },
     "metadata": {},
     "output_type": "display_data"
    },
    {
     "data": {
      "text/plain": [
       "'models/controlnet/sdxl/diffusers_xl_flatline_testXL-fp16.safetensors'"
      ]
     },
     "execution_count": 137,
     "metadata": {},
     "output_type": "execute_result"
    }
   ],
   "source": [
    "# Download Kataragi ControlNet XL Flatline\n",
    "hf_hub_download(repo_id=\"kataragi/flatline\", filename=\"diffusers_xl_flatline_testXL-fp16.safetensors\", local_dir=sdxl_controlnet_dir)"
   ]
  },
  {
   "cell_type": "code",
   "execution_count": 138,
   "metadata": {},
   "outputs": [
    {
     "data": {
      "application/vnd.jupyter.widget-view+json": {
       "model_id": "51e64bdb382a456e8a8bd821dc063ad6",
       "version_major": 2,
       "version_minor": 0
      },
      "text/plain": [
       "Kataragi_inpaintXL-fp16.safetensors:   0%|          | 0.00/2.50G [00:00<?, ?B/s]"
      ]
     },
     "metadata": {},
     "output_type": "display_data"
    },
    {
     "data": {
      "text/plain": [
       "'models/controlnet/sdxl/Kataragi_inpaintXL-fp16.safetensors'"
      ]
     },
     "execution_count": 138,
     "metadata": {},
     "output_type": "execute_result"
    }
   ],
   "source": [
    "# Download Kataragi ControlNet XL Inpaint\n",
    "hf_hub_download(repo_id=\"kataragi/controlnetXL_inpaint\", filename=\"Kataragi_inpaintXL-fp16.safetensors\", local_dir=sdxl_controlnet_dir)"
   ]
  },
  {
   "cell_type": "code",
   "execution_count": 139,
   "metadata": {},
   "outputs": [
    {
     "data": {
      "application/vnd.jupyter.widget-view+json": {
       "model_id": "2429a39b0beb48d9a229bbe91529c492",
       "version_major": 2,
       "version_minor": 0
      },
      "text/plain": [
       "(…)ntrolnetXL_line2colorV2-fp16.safetensors:   0%|          | 0.00/2.50G [00:00<?, ?B/s]"
      ]
     },
     "metadata": {},
     "output_type": "display_data"
    },
    {
     "data": {
      "text/plain": [
       "'models/controlnet/sdxl/controlnetXL_line2colorV2-fp16.safetensors'"
      ]
     },
     "execution_count": 139,
     "metadata": {},
     "output_type": "execute_result"
    }
   ],
   "source": [
    "# Download Kataragi ControlNet XL Line2Color\n",
    "hf_hub_download(repo_id=\"kataragi/controlnetXL_line2color\", filename=\"controlnetXL_line2colorV2-fp16.safetensors\", local_dir=sdxl_controlnet_dir)"
   ]
  },
  {
   "cell_type": "code",
   "execution_count": 140,
   "metadata": {},
   "outputs": [
    {
     "data": {
      "application/vnd.jupyter.widget-view+json": {
       "model_id": "0a6c90d0b248403ba886e53039d9e0ba",
       "version_major": 2,
       "version_minor": 0
      },
      "text/plain": [
       "Katarag_lineartXL-fp16.safetensors:   0%|          | 0.00/2.50G [00:00<?, ?B/s]"
      ]
     },
     "metadata": {},
     "output_type": "display_data"
    },
    {
     "data": {
      "text/plain": [
       "'models/controlnet/sdxl/Katarag_lineartXL-fp16.safetensors'"
      ]
     },
     "execution_count": 140,
     "metadata": {},
     "output_type": "execute_result"
    }
   ],
   "source": [
    "# Download Kataragi ControlNet XL LineArt\n",
    "hf_hub_download(repo_id=\"kataragi/ControlNet-LineartXL\", filename=\"Katarag_lineartXL-fp16.safetensors\", local_dir=sdxl_controlnet_dir)"
   ]
  },
  {
   "cell_type": "code",
   "execution_count": 141,
   "metadata": {},
   "outputs": [
    {
     "data": {
      "application/vnd.jupyter.widget-view+json": {
       "model_id": "06b7b71af5d0417484bb7a96a914b44e",
       "version_major": 2,
       "version_minor": 0
      },
      "text/plain": [
       "(…)users_xl_recolor_testXL-fp16.safetensors:   0%|          | 0.00/2.50G [00:00<?, ?B/s]"
      ]
     },
     "metadata": {},
     "output_type": "display_data"
    },
    {
     "data": {
      "text/plain": [
       "'models/controlnet/sdxl/diffusers_xl_recolor_testXL-fp16.safetensors'"
      ]
     },
     "execution_count": 141,
     "metadata": {},
     "output_type": "execute_result"
    }
   ],
   "source": [
    "# Download Kataragi ControlNet XL ReColor\n",
    "hf_hub_download(repo_id=\"kataragi/ControlNet-recolorXL\", filename=\"diffusers_xl_recolor_testXL-fp16.safetensors\", local_dir=sdxl_controlnet_dir)"
   ]
  },
  {
   "cell_type": "code",
   "execution_count": 142,
   "metadata": {},
   "outputs": [
    {
     "data": {
      "application/vnd.jupyter.widget-view+json": {
       "model_id": "2ab50cd7838443d9b1395c52daeac27f",
       "version_major": 2,
       "version_minor": 0
      },
      "text/plain": [
       "ControlNet_tori29_blur-fp16.safetensors:   0%|          | 0.00/2.50G [00:00<?, ?B/s]"
      ]
     },
     "metadata": {},
     "output_type": "display_data"
    },
    {
     "data": {
      "text/plain": [
       "'models/controlnet/sdxl/ControlNet_tori29_blur-fp16.safetensors'"
      ]
     },
     "execution_count": 142,
     "metadata": {},
     "output_type": "execute_result"
    }
   ],
   "source": [
    "# Download Kataragi ControlNet XL Tori29 Blur\n",
    "hf_hub_download(repo_id=\"kataragi/ControlNet_tori29_blur\", filename=\"ControlNet_tori29_blur-fp16.safetensors\", local_dir=sdxl_controlnet_dir)"
   ]
  },
  {
   "cell_type": "code",
   "execution_count": 143,
   "metadata": {},
   "outputs": [
    {
     "data": {
      "application/vnd.jupyter.widget-view+json": {
       "model_id": "053d74c1b3024930bdf039e8c94aec57",
       "version_major": 2,
       "version_minor": 0
      },
      "text/plain": [
       "rough-coatingV1.safetensors:   0%|          | 0.00/2.50G [00:00<?, ?B/s]"
      ]
     },
     "metadata": {},
     "output_type": "display_data"
    },
    {
     "data": {
      "text/plain": [
       "'models/controlnet/sdxl/rough-coatingV1.safetensors'"
      ]
     },
     "execution_count": 143,
     "metadata": {},
     "output_type": "execute_result"
    }
   ],
   "source": [
    "# Download Kataragi ControlNet XL Routh Coating\n",
    "hf_hub_download(repo_id=\"kataragi/controlnetXL-rough-coating\", filename=\"rough-coatingV1.safetensors\", local_dir=sdxl_controlnet_dir)"
   ]
  },
  {
   "cell_type": "markdown",
   "metadata": {},
   "source": [
    "**Thibaud**"
   ]
  },
  {
   "cell_type": "code",
   "execution_count": 144,
   "metadata": {},
   "outputs": [
    {
     "data": {
      "application/vnd.jupyter.widget-view+json": {
       "model_id": "8d8d021ccd35448fb08c586b06a3a69e",
       "version_major": 2,
       "version_minor": 0
      },
      "text/plain": [
       "(…)rol-lora-openposeXL2-rank256.safetensors:   0%|          | 0.00/774M [00:00<?, ?B/s]"
      ]
     },
     "metadata": {},
     "output_type": "display_data"
    },
    {
     "data": {
      "text/plain": [
       "'models/controlnet/sdxl/control-lora-openposeXL2-rank256.safetensors'"
      ]
     },
     "execution_count": 144,
     "metadata": {},
     "output_type": "execute_result"
    }
   ],
   "source": [
    "# Download Thibaud ControlNet XL OpenPose\n",
    "hf_hub_download(repo_id=\"thibaud/controlnet-openpose-sdxl-1.0\", filename=\"control-lora-openposeXL2-rank256.safetensors\", local_dir=sdxl_controlnet_dir)"
   ]
  },
  {
   "cell_type": "markdown",
   "metadata": {},
   "source": [
    "**xinsir**"
   ]
  },
  {
   "cell_type": "code",
   "execution_count": 145,
   "metadata": {},
   "outputs": [
    {
     "data": {
      "application/vnd.jupyter.widget-view+json": {
       "model_id": "6dcf8efd902d43d499fdb2b0c99ba64d",
       "version_major": 2,
       "version_minor": 0
      },
      "text/plain": [
       "(…)ffusion_pytorch_model_promax.safetensors:   0%|          | 0.00/2.51G [00:00<?, ?B/s]"
      ]
     },
     "metadata": {},
     "output_type": "display_data"
    }
   ],
   "source": [
    "# Download Xinsir ControlNet XL Union\n",
    "hf_hub_download(repo_id=\"xinsir/controlnet-union-sdxl-1.0\", filename=\"diffusion_pytorch_model_promax.safetensors\", local_dir=sdxl_controlnet_dir)\n",
    "src=os.path.join(sdxl_controlnet_dir,\"diffusion_pytorch_model_promax.safetensors\")\n",
    "dst=os.path.join(sdxl_controlnet_dir, \"controlnet-union-sdxl-1.0-promax.safetensors\")\n",
    "os.rename(src, dst)"
   ]
  },
  {
   "cell_type": "code",
   "execution_count": 146,
   "metadata": {},
   "outputs": [],
   "source": [
    "# Delete cache\n",
    "!rm -rf {sdxl_controlnet_dir}/.cache"
   ]
  },
  {
   "cell_type": "markdown",
   "metadata": {},
   "source": [
    "### Download Pony Diffusion Model"
   ]
  },
  {
   "cell_type": "code",
   "execution_count": 147,
   "metadata": {},
   "outputs": [],
   "source": [
    "pony_ckpt_dir=model_dirs.dirs['pony']['checkpoints']\n",
    "pony_vae_dir=model_dirs.dirs['pony']['vae']\n",
    "pony_lora_dir=model_dirs.dirs['pony']['loras']"
   ]
  },
  {
   "cell_type": "markdown",
   "metadata": {},
   "source": [
    "#### Checkpoint"
   ]
  },
  {
   "cell_type": "code",
   "execution_count": 148,
   "metadata": {},
   "outputs": [
    {
     "data": {
      "application/vnd.jupyter.widget-view+json": {
       "model_id": "51b351b816724fa0aaef028688e2ee1a",
       "version_major": 2,
       "version_minor": 0
      },
      "text/plain": [
       "VBox(children=(HTML(value='<b>Downloading</b> ponyDiffusionV6XL_v6StartWithThisOne.safetensors'), HBox(childre…"
      ]
     },
     "metadata": {},
     "output_type": "display_data"
    },
    {
     "name": "stdout",
     "output_type": "stream",
     "text": [
      "Downloading: https://civitai.com/api/download/models/290640\n",
      "Saved as: ./models/checkpoints/pony/ponyDiffusionV6XL_v6StartWithThisOne.safetensors\n",
      "\n"
     ]
    },
    {
     "data": {
      "text/plain": [
       "('https://civitai.com/api/download/models/290640',\n",
       " 'ponyDiffusionV6XL_v6StartWithThisOne.safetensors',\n",
       " 6938041050,\n",
       " './models/checkpoints/pony',\n",
       " '19825f021991cd8c7685bc2f7fee3b24')"
      ]
     },
     "execution_count": 148,
     "metadata": {},
     "output_type": "execute_result"
    }
   ],
   "source": [
    "# Download Pony Diffusion XL V6 Model\n",
    "civitai_download(model_version_id=290640, local_dir=pony_ckpt_dir)"
   ]
  },
  {
   "cell_type": "code",
   "execution_count": 149,
   "metadata": {},
   "outputs": [
    {
     "data": {
      "application/vnd.jupyter.widget-view+json": {
       "model_id": "9371c672c64a4ae98610ef267dadd8ff",
       "version_major": 2,
       "version_minor": 0
      },
      "text/plain": [
       "VBox(children=(HTML(value='<b>Downloading</b> autismmixSDXL_autismmixPony.safetensors'), HBox(children=(IntPro…"
      ]
     },
     "metadata": {},
     "output_type": "display_data"
    },
    {
     "name": "stdout",
     "output_type": "stream",
     "text": [
      "Downloading: https://civitai.com/api/download/models/324619\n",
      "Saved as: ./models/checkpoints/pony/autismmixSDXL_autismmixPony.safetensors\n",
      "\n"
     ]
    },
    {
     "data": {
      "text/plain": [
       "('https://civitai.com/api/download/models/324619',\n",
       " 'autismmixSDXL_autismmixPony.safetensors',\n",
       " 6938041146,\n",
       " './models/checkpoints/pony',\n",
       " '19825f021991cd8c7685bc2f7fee3b24')"
      ]
     },
     "execution_count": 149,
     "metadata": {},
     "output_type": "execute_result"
    }
   ],
   "source": [
    "# Download AutismMix Pony Model\n",
    "civitai_download(model_version_id=324619, local_dir=pony_ckpt_dir)"
   ]
  },
  {
   "cell_type": "code",
   "execution_count": 150,
   "metadata": {},
   "outputs": [
    {
     "data": {
      "application/vnd.jupyter.widget-view+json": {
       "model_id": "56c25d2a0c024176b565b3bc9985e2b9",
       "version_major": 2,
       "version_minor": 0
      },
      "text/plain": [
       "VBox(children=(HTML(value='<b>Downloading</b> 7thAnimeXLPonyA_v10.safetensors'), HBox(children=(IntProgress(va…"
      ]
     },
     "metadata": {},
     "output_type": "display_data"
    },
    {
     "name": "stdout",
     "output_type": "stream",
     "text": [
      "Downloading: https://civitai.com/api/download/models/441236\n",
      "Saved as: ./models/checkpoints/pony/7thAnimeXLPonyA_v10.safetensors\n",
      "\n"
     ]
    },
    {
     "data": {
      "text/plain": [
       "('https://civitai.com/api/download/models/441236',\n",
       " '7thAnimeXLPonyA_v10.safetensors',\n",
       " 6938040706,\n",
       " './models/checkpoints/pony',\n",
       " '19825f021991cd8c7685bc2f7fee3b24')"
      ]
     },
     "execution_count": 150,
     "metadata": {},
     "output_type": "execute_result"
    }
   ],
   "source": [
    "# Download 7th Anime XL Pony Model\n",
    "civitai_download(model_version_id=441236, local_dir=pony_ckpt_dir)"
   ]
  },
  {
   "cell_type": "code",
   "execution_count": 151,
   "metadata": {},
   "outputs": [
    {
     "data": {
      "application/vnd.jupyter.widget-view+json": {
       "model_id": "74748166e1d34a89b5779255b0acdb79",
       "version_major": 2,
       "version_minor": 0
      },
      "text/plain": [
       "VBox(children=(HTML(value='<b>Downloading</b> hassakuXLPony_v13BetterEyesVersion.safetensors'), HBox(children=…"
      ]
     },
     "metadata": {},
     "output_type": "display_data"
    },
    {
     "name": "stdout",
     "output_type": "stream",
     "text": [
      "Downloading: https://civitai.com/api/download/models/575495\n",
      "Saved as: ./models/checkpoints/pony/hassakuXLPony_v13BetterEyesVersion.safetensors\n",
      "\n"
     ]
    },
    {
     "data": {
      "text/plain": [
       "('https://civitai.com/api/download/models/575495',\n",
       " 'hassakuXLPony_v13BetterEyesVersion.safetensors',\n",
       " 6938042770,\n",
       " './models/checkpoints/pony',\n",
       " '19825f021991cd8c7685bc2f7fee3b24')"
      ]
     },
     "execution_count": 151,
     "metadata": {},
     "output_type": "execute_result"
    }
   ],
   "source": [
    "# Download Hassaku XL (Pony) Model\n",
    "civitai_download(model_version_id=575495, local_dir=pony_ckpt_dir)"
   ]
  },
  {
   "cell_type": "code",
   "execution_count": 152,
   "metadata": {},
   "outputs": [
    {
     "data": {
      "application/vnd.jupyter.widget-view+json": {
       "model_id": "3226b7f0a6a744acb7a20f90a16f95fe",
       "version_major": 2,
       "version_minor": 0
      },
      "text/plain": [
       "pony_pencil-XL-v2.0.0.safetensors:   0%|          | 0.00/6.94G [00:00<?, ?B/s]"
      ]
     },
     "metadata": {},
     "output_type": "display_data"
    },
    {
     "data": {
      "text/plain": [
       "'models/checkpoints/pony/pony_pencil-XL-v2.0.0.safetensors'"
      ]
     },
     "execution_count": 152,
     "metadata": {},
     "output_type": "execute_result"
    }
   ],
   "source": [
    "# Download Pony Pencil XL Model\n",
    "hf_hub_download(repo_id=\"bluepen5805/pony_pencil-XL\", filename=\"pony_pencil-XL-v2.0.0.safetensors\", local_dir=pony_ckpt_dir)"
   ]
  },
  {
   "cell_type": "code",
   "execution_count": 153,
   "metadata": {},
   "outputs": [
    {
     "data": {
      "application/vnd.jupyter.widget-view+json": {
       "model_id": "c98c282f35ad46c8a1a91f9a3483e2b3",
       "version_major": 2,
       "version_minor": 0
      },
      "text/plain": [
       "VBox(children=(HTML(value='<b>Downloading</b> tPonynai3_v65.safetensors'), HBox(children=(IntProgress(value=0,…"
      ]
     },
     "metadata": {},
     "output_type": "display_data"
    },
    {
     "name": "stdout",
     "output_type": "stream",
     "text": [
      "Downloading: https://civitai.com/api/download/models/814910\n",
      "Saved as: ./models/checkpoints/pony/tPonynai3_v65.safetensors\n",
      "\n"
     ]
    },
    {
     "data": {
      "text/plain": [
       "('https://civitai.com/api/download/models/814910',\n",
       " 'tPonynai3_v65.safetensors',\n",
       " 6938041730,\n",
       " './models/checkpoints/pony',\n",
       " '19825f021991cd8c7685bc2f7fee3b24')"
      ]
     },
     "execution_count": 153,
     "metadata": {},
     "output_type": "execute_result"
    }
   ],
   "source": [
    "# Download T-ponynai3 Model\n",
    "civitai_download(model_version_id=814910, local_dir=pony_ckpt_dir)"
   ]
  },
  {
   "cell_type": "code",
   "execution_count": 154,
   "metadata": {},
   "outputs": [],
   "source": [
    "# Delete cache\n",
    "!rm -rf {pony_ckpt_dir}/.cache"
   ]
  },
  {
   "cell_type": "markdown",
   "metadata": {},
   "source": [
    "#### VAE"
   ]
  },
  {
   "cell_type": "code",
   "execution_count": 155,
   "metadata": {},
   "outputs": [
    {
     "data": {
      "application/vnd.jupyter.widget-view+json": {
       "model_id": "99f58ed2ecf94eb2a3630fab3eee9fbb",
       "version_major": 2,
       "version_minor": 0
      },
      "text/plain": [
       "VBox(children=(HTML(value='<b>Downloading</b> ponyStandardVAE_v1.safetensors'), HBox(children=(IntProgress(val…"
      ]
     },
     "metadata": {},
     "output_type": "display_data"
    },
    {
     "name": "stdout",
     "output_type": "stream",
     "text": [
      "Downloading: https://civitai.com/api/download/models/739304\n",
      "Saved as: ./models/vae/pony/ponyStandardVAE_v1.safetensors\n",
      "\n"
     ]
    },
    {
     "data": {
      "text/plain": [
       "('https://civitai.com/api/download/models/739304',\n",
       " 'ponyStandardVAE_v1.safetensors',\n",
       " 167339150,\n",
       " './models/vae/pony',\n",
       " '19825f021991cd8c7685bc2f7fee3b24')"
      ]
     },
     "execution_count": 155,
     "metadata": {},
     "output_type": "execute_result"
    }
   ],
   "source": [
    "# Download Pony Standard VAE\n",
    "civitai_download(model_version_id=739304, local_dir=pony_vae_dir)"
   ]
  },
  {
   "cell_type": "code",
   "execution_count": 156,
   "metadata": {},
   "outputs": [
    {
     "data": {
      "application/vnd.jupyter.widget-view+json": {
       "model_id": "9ffd78034d4644e295e8332a054ebf2c",
       "version_major": 2,
       "version_minor": 0
      },
      "text/plain": [
       "VBox(children=(HTML(value='<b>Downloading</b> ponyEnhancedVAE_pastelHelperV1.safetensors'), HBox(children=(Int…"
      ]
     },
     "metadata": {},
     "output_type": "display_data"
    },
    {
     "name": "stdout",
     "output_type": "stream",
     "text": [
      "Downloading: https://civitai.com/api/download/models/739267\n",
      "Saved as: ./models/vae/pony/ponyEnhancedVAE_pastelHelperV1.safetensors\n",
      "\n"
     ]
    },
    {
     "data": {
      "text/plain": [
       "('https://civitai.com/api/download/models/739267',\n",
       " 'ponyEnhancedVAE_pastelHelperV1.safetensors',\n",
       " 167339134,\n",
       " './models/vae/pony',\n",
       " '19825f021991cd8c7685bc2f7fee3b24')"
      ]
     },
     "execution_count": 156,
     "metadata": {},
     "output_type": "execute_result"
    }
   ],
   "source": [
    "# Download Pony Enhanced VAE Pastels\n",
    "civitai_download(model_version_id=739267, local_dir=pony_vae_dir)"
   ]
  },
  {
   "cell_type": "code",
   "execution_count": 157,
   "metadata": {},
   "outputs": [],
   "source": [
    "# Delete cache\n",
    "# !rm -rf {pony_vae_dir}/.cache"
   ]
  },
  {
   "cell_type": "markdown",
   "metadata": {},
   "source": [
    "#### LoRA"
   ]
  },
  {
   "cell_type": "code",
   "execution_count": 158,
   "metadata": {},
   "outputs": [
    {
     "data": {
      "application/vnd.jupyter.widget-view+json": {
       "model_id": "ba41abf7b2ff4da1824f3f38418ca238",
       "version_major": 2,
       "version_minor": 0
      },
      "text/plain": [
       "VBox(children=(HTML(value='<b>Downloading</b> sugekaewoman_vp.safetensors'), HBox(children=(IntProgress(value=…"
      ]
     },
     "metadata": {},
     "output_type": "display_data"
    },
    {
     "name": "stdout",
     "output_type": "stream",
     "text": [
      "Downloading: https://civitai.com/api/download/models/528192\n",
      "Saved as: ./models/loras/pony/sugekaewoman_vp.safetensors\n",
      "\n"
     ]
    },
    {
     "data": {
      "text/plain": [
       "('https://civitai.com/api/download/models/528192',\n",
       " 'sugekaewoman_vp.safetensors',\n",
       " 228452740,\n",
       " './models/loras/pony',\n",
       " '19825f021991cd8c7685bc2f7fee3b24')"
      ]
     },
     "execution_count": 158,
     "metadata": {},
     "output_type": "execute_result"
    }
   ],
   "source": [
    "# Download Head Swap (Male Head on Female Body) Pony\n",
    "civitai_download(model_version_id=528192, local_dir=pony_lora_dir)"
   ]
  },
  {
   "cell_type": "code",
   "execution_count": 159,
   "metadata": {},
   "outputs": [
    {
     "data": {
      "application/vnd.jupyter.widget-view+json": {
       "model_id": "b0461a81d34943b696b6941c417223a2",
       "version_major": 2,
       "version_minor": 0
      },
      "text/plain": [
       "VBox(children=(HTML(value='<b>Downloading</b> sugekaeman_vp.safetensors'), HBox(children=(IntProgress(value=0,…"
      ]
     },
     "metadata": {},
     "output_type": "display_data"
    },
    {
     "name": "stdout",
     "output_type": "stream",
     "text": [
      "Downloading: https://civitai.com/api/download/models/528196\n",
      "Saved as: ./models/loras/pony/sugekaeman_vp.safetensors\n",
      "\n"
     ]
    },
    {
     "data": {
      "text/plain": [
       "('https://civitai.com/api/download/models/528196',\n",
       " 'sugekaeman_vp.safetensors',\n",
       " 228452692,\n",
       " './models/loras/pony',\n",
       " '19825f021991cd8c7685bc2f7fee3b24')"
      ]
     },
     "execution_count": 159,
     "metadata": {},
     "output_type": "execute_result"
    }
   ],
   "source": [
    "# Download Head Swap (Female Head on Male Body) Pony\n",
    "civitai_download(model_version_id=528196, local_dir=pony_lora_dir)"
   ]
  },
  {
   "cell_type": "code",
   "execution_count": 160,
   "metadata": {},
   "outputs": [
    {
     "data": {
      "application/vnd.jupyter.widget-view+json": {
       "model_id": "a1a5050dbf7c477e98341855501bea7f",
       "version_major": 2,
       "version_minor": 0
      },
      "text/plain": [
       "VBox(children=(HTML(value='<b>Downloading</b> sdxlponyheadless-000006.safetensors'), HBox(children=(IntProgres…"
      ]
     },
     "metadata": {},
     "output_type": "display_data"
    },
    {
     "name": "stdout",
     "output_type": "stream",
     "text": [
      "Downloading: https://civitai.com/api/download/models/357744\n",
      "Saved as: ./models/loras/pony/sdxlponyheadless-000006.safetensors\n",
      "\n"
     ]
    },
    {
     "data": {
      "text/plain": [
       "('https://civitai.com/api/download/models/357744',\n",
       " 'sdxlponyheadless-000006.safetensors',\n",
       " 57441772,\n",
       " './models/loras/pony',\n",
       " '19825f021991cd8c7685bc2f7fee3b24')"
      ]
     },
     "execution_count": 160,
     "metadata": {},
     "output_type": "execute_result"
    }
   ],
   "source": [
    "# Download SDXL Pony Headless\n",
    "civitai_download(model_version_id=357744, local_dir=pony_lora_dir)"
   ]
  },
  {
   "cell_type": "code",
   "execution_count": 161,
   "metadata": {},
   "outputs": [
    {
     "data": {
      "application/vnd.jupyter.widget-view+json": {
       "model_id": "467b7d70c197465bbb78e8a1063f800f",
       "version_major": 2,
       "version_minor": 0
      },
      "text/plain": [
       "VBox(children=(HTML(value='<b>Downloading</b> sdxlpony_disembodiedhead-t1-000006.safetensors'), HBox(children=…"
      ]
     },
     "metadata": {},
     "output_type": "display_data"
    },
    {
     "name": "stdout",
     "output_type": "stream",
     "text": [
      "Downloading: https://civitai.com/api/download/models/360519\n",
      "Saved as: ./models/loras/pony/sdxlpony_disembodiedhead-t1-000006.safetensors\n",
      "\n"
     ]
    },
    {
     "data": {
      "text/plain": [
       "('https://civitai.com/api/download/models/360519',\n",
       " 'sdxlpony_disembodiedhead-t1-000006.safetensors',\n",
       " 57440004,\n",
       " './models/loras/pony',\n",
       " '19825f021991cd8c7685bc2f7fee3b24')"
      ]
     },
     "execution_count": 161,
     "metadata": {},
     "output_type": "execute_result"
    }
   ],
   "source": [
    "# Download SDXL Pony Disembodied Head\n",
    "civitai_download(model_version_id=360519, local_dir=pony_lora_dir)"
   ]
  },
  {
   "cell_type": "code",
   "execution_count": 162,
   "metadata": {},
   "outputs": [
    {
     "data": {
      "application/vnd.jupyter.widget-view+json": {
       "model_id": "9d11f3b5dbf145c8a1a3e23282d40dac",
       "version_major": 2,
       "version_minor": 0
      },
      "text/plain": [
       "VBox(children=(HTML(value='<b>Downloading</b> Tomboy_Style_Pony.safetensors'), HBox(children=(IntProgress(valu…"
      ]
     },
     "metadata": {},
     "output_type": "display_data"
    },
    {
     "name": "stdout",
     "output_type": "stream",
     "text": [
      "Downloading: https://civitai.com/api/download/models/647477\n",
      "Saved as: ./models/loras/pony/Tomboy_Style_Pony.safetensors\n",
      "\n"
     ]
    },
    {
     "data": {
      "text/plain": [
       "('https://civitai.com/api/download/models/647477',\n",
       " 'Tomboy_Style_Pony.safetensors',\n",
       " 228475916,\n",
       " './models/loras/pony',\n",
       " '19825f021991cd8c7685bc2f7fee3b24')"
      ]
     },
     "execution_count": 162,
     "metadata": {},
     "output_type": "execute_result"
    }
   ],
   "source": [
    "# Download Tomboy Style Pony\n",
    "advanced_download(model_version_id=647477, local_dir=pony_lora_dir, type_filter='Model', format_filter='SafeTensor', size_filter=None, fp_filter=None)"
   ]
  },
  {
   "cell_type": "code",
   "execution_count": 163,
   "metadata": {},
   "outputs": [],
   "source": [
    "# Delete cache\n",
    "# !rm -rf {pony_lora_dir}/.cache"
   ]
  },
  {
   "cell_type": "markdown",
   "metadata": {},
   "source": [
    "### Download Illustrious XL Model"
   ]
  },
  {
   "cell_type": "code",
   "execution_count": 164,
   "metadata": {},
   "outputs": [],
   "source": [
    "ilxi_ckpt_dir=model_dirs.dirs['ilxl']['checkpoints']"
   ]
  },
  {
   "cell_type": "markdown",
   "metadata": {},
   "source": [
    "#### Checkpoint"
   ]
  },
  {
   "cell_type": "code",
   "execution_count": 165,
   "metadata": {},
   "outputs": [
    {
     "data": {
      "application/vnd.jupyter.widget-view+json": {
       "model_id": "d0093e9301564f5b84fa9e3893cdb2a0",
       "version_major": 2,
       "version_minor": 0
      },
      "text/plain": [
       "Illustrious-XL-v0.1.safetensors:   0%|          | 0.00/6.94G [00:00<?, ?B/s]"
      ]
     },
     "metadata": {},
     "output_type": "display_data"
    },
    {
     "data": {
      "text/plain": [
       "'models/checkpoints/ilxl/Illustrious-XL-v0.1.safetensors'"
      ]
     },
     "execution_count": 165,
     "metadata": {},
     "output_type": "execute_result"
    }
   ],
   "source": [
    "# Download Illustrious XL Model\n",
    "hf_hub_download(repo_id=\"OnomaAIResearch/Illustrious-xl-early-release-v0\", filename=\"Illustrious-XL-v0.1.safetensors\", local_dir=ilxi_ckpt_dir)"
   ]
  },
  {
   "cell_type": "code",
   "execution_count": 167,
   "metadata": {},
   "outputs": [
    {
     "data": {
      "application/vnd.jupyter.widget-view+json": {
       "model_id": "923e3818ec384db188f0244ccaa27b5e",
       "version_major": 2,
       "version_minor": 0
      },
      "text/plain": [
       "illustrious_pencil-XL-v1.2.0.safetensors:  38%|###7      | 2.63G/6.94G [00:00<?, ?B/s]"
      ]
     },
     "metadata": {},
     "output_type": "display_data"
    },
    {
     "data": {
      "text/plain": [
       "'models/checkpoints/ilxl/illustrious_pencil-XL-v1.2.0.safetensors'"
      ]
     },
     "execution_count": 167,
     "metadata": {},
     "output_type": "execute_result"
    }
   ],
   "source": [
    "# Download Illustrious Pencil XL Model\n",
    "hf_hub_download(repo_id=\"bluepen5805/illustrious_pencil-XL\", filename=\"illustrious_pencil-XL-v1.2.0.safetensors\", local_dir=ilxi_ckpt_dir)"
   ]
  },
  {
   "cell_type": "code",
   "execution_count": 168,
   "metadata": {},
   "outputs": [],
   "source": [
    "# Delete cache\n",
    "!rm -rf {ilxl_ckpt_dir}/.cache"
   ]
  },
  {
   "cell_type": "markdown",
   "metadata": {},
   "source": [
    "### Download Stable Diffusion 3.x Model"
   ]
  },
  {
   "cell_type": "code",
   "execution_count": 169,
   "metadata": {},
   "outputs": [],
   "source": [
    "sd3_ckpt_dir=model_dirs.dirs['sd3']['checkpoints']\n",
    "sd3_clip_dir=model_dirs.dirs['sd3']['clip']"
   ]
  },
  {
   "cell_type": "markdown",
   "metadata": {},
   "source": [
    "#### Checkpoint"
   ]
  },
  {
   "cell_type": "code",
   "execution_count": 170,
   "metadata": {},
   "outputs": [
    {
     "data": {
      "application/vnd.jupyter.widget-view+json": {
       "model_id": "8989fb1d5249431fb589888e658fcca1",
       "version_major": 2,
       "version_minor": 0
      },
      "text/plain": [
       "sd3_medium.safetensors:   0%|          | 0.00/4.34G [00:00<?, ?B/s]"
      ]
     },
     "metadata": {},
     "output_type": "display_data"
    },
    {
     "data": {
      "text/plain": [
       "'models/checkpoints/sd3/sd3_medium.safetensors'"
      ]
     },
     "execution_count": 170,
     "metadata": {},
     "output_type": "execute_result"
    }
   ],
   "source": [
    "# Download Stable Diffusion 3 Medium Model\n",
    "hf_hub_download(repo_id=\"stabilityai/stable-diffusion-3-medium\", filename=\"sd3_medium.safetensors\", local_dir=sd3_ckpt_dir)"
   ]
  },
  {
   "cell_type": "code",
   "execution_count": 171,
   "metadata": {},
   "outputs": [
    {
     "data": {
      "application/vnd.jupyter.widget-view+json": {
       "model_id": "faa00fcf2ae34e27a472daf351a95126",
       "version_major": 2,
       "version_minor": 0
      },
      "text/plain": [
       "sd3.5_medium.safetensors:   0%|          | 0.00/5.11G [00:00<?, ?B/s]"
      ]
     },
     "metadata": {},
     "output_type": "display_data"
    },
    {
     "data": {
      "text/plain": [
       "'models/checkpoints/sd3/sd3.5_medium.safetensors'"
      ]
     },
     "execution_count": 171,
     "metadata": {},
     "output_type": "execute_result"
    }
   ],
   "source": [
    "# Download Stable Diffusion 3.5 Medium Model\n",
    "hf_hub_download(repo_id=\"stabilityai/stable-diffusion-3.5-medium\", filename=\"sd3.5_medium.safetensors\", local_dir=sd3_ckpt_dir)"
   ]
  },
  {
   "cell_type": "code",
   "execution_count": 172,
   "metadata": {},
   "outputs": [
    {
     "data": {
      "application/vnd.jupyter.widget-view+json": {
       "model_id": "088d4b0ecc3748c8ad5342240e2cd12a",
       "version_major": 2,
       "version_minor": 0
      },
      "text/plain": [
       "sd3.5_large.safetensors:   0%|          | 0.00/16.5G [00:00<?, ?B/s]"
      ]
     },
     "metadata": {},
     "output_type": "display_data"
    },
    {
     "data": {
      "text/plain": [
       "'models/checkpoints/sd3/sd3.5_large.safetensors'"
      ]
     },
     "execution_count": 172,
     "metadata": {},
     "output_type": "execute_result"
    }
   ],
   "source": [
    "# Download Stable Diffusion 3.5 Large Model\n",
    "hf_hub_download(repo_id=\"stabilityai/stable-diffusion-3.5-large\", filename=\"sd3.5_large.safetensors\", local_dir=sd3_ckpt_dir)"
   ]
  },
  {
   "cell_type": "code",
   "execution_count": 173,
   "metadata": {},
   "outputs": [
    {
     "data": {
      "application/vnd.jupyter.widget-view+json": {
       "model_id": "1fc8d06efd304d8795e83324821e4775",
       "version_major": 2,
       "version_minor": 0
      },
      "text/plain": [
       "VBox(children=(HTML(value='<b>Downloading</b> intermediateSD35_v1.safetensors'), HBox(children=(IntProgress(va…"
      ]
     },
     "metadata": {},
     "output_type": "display_data"
    },
    {
     "name": "stdout",
     "output_type": "stream",
     "text": [
      "Downloading: https://civitai.com/api/download/models/1019118\n",
      "Saved as: ./models/checkpoints/sd3/intermediateSD35_v1.safetensors\n",
      "\n"
     ]
    },
    {
     "data": {
      "text/plain": [
       "('https://civitai.com/api/download/models/1019118',\n",
       " 'intermediateSD35_v1.safetensors',\n",
       " 5107101678,\n",
       " './models/checkpoints/sd3',\n",
       " '19825f021991cd8c7685bc2f7fee3b24')"
      ]
     },
     "execution_count": 173,
     "metadata": {},
     "output_type": "execute_result"
    }
   ],
   "source": [
    "# Download Intermediate(SD 3.5 medium) Model\n",
    "civitai_download(model_version_id=1019118, local_dir=sd3_ckpt_dir)"
   ]
  },
  {
   "cell_type": "code",
   "execution_count": 174,
   "metadata": {},
   "outputs": [],
   "source": [
    "# Delete cache\n",
    "!rm -rf {sd3_ckpt_dir}/.cache"
   ]
  },
  {
   "cell_type": "markdown",
   "metadata": {},
   "source": [
    "#### Clip"
   ]
  },
  {
   "cell_type": "code",
   "execution_count": 175,
   "metadata": {},
   "outputs": [
    {
     "data": {
      "application/vnd.jupyter.widget-view+json": {
       "model_id": "b0d278eaf1f24260919f11cc108c5dfc",
       "version_major": 2,
       "version_minor": 0
      },
      "text/plain": [
       "clip_l.safetensors:   0%|          | 0.00/246M [00:00<?, ?B/s]"
      ]
     },
     "metadata": {},
     "output_type": "display_data"
    },
    {
     "data": {
      "text/plain": [
       "'./models/clip/sd3/clip_l.safetensors'"
      ]
     },
     "execution_count": 175,
     "metadata": {},
     "output_type": "execute_result"
    }
   ],
   "source": [
    "# Download Clip L\n",
    "hf_hub_download(repo_id=\"stabilityai/stable-diffusion-3.5-large\", filename=\"text_encoders/clip_l.safetensors\", local_dir=sd3_clip_dir)\n",
    "filename='clip_l.safetensors'\n",
    "src=os.path.join(sd3_clip_dir, 'text_encoders')\n",
    "dst=os.path.join(sd3_clip_dir)\n",
    "shutil.move(os.path.join(src, filename), os.path.join(dst, filename))"
   ]
  },
  {
   "cell_type": "code",
   "execution_count": 176,
   "metadata": {},
   "outputs": [
    {
     "data": {
      "application/vnd.jupyter.widget-view+json": {
       "model_id": "59b6906266cd4c068f476b711e776639",
       "version_major": 2,
       "version_minor": 0
      },
      "text/plain": [
       "clip_g.safetensors:   0%|          | 0.00/1.39G [00:00<?, ?B/s]"
      ]
     },
     "metadata": {},
     "output_type": "display_data"
    },
    {
     "data": {
      "text/plain": [
       "'./models/clip/sd3/clip_g.safetensors'"
      ]
     },
     "execution_count": 176,
     "metadata": {},
     "output_type": "execute_result"
    }
   ],
   "source": [
    "# Download Clip G\n",
    "hf_hub_download(repo_id=\"stabilityai/stable-diffusion-3.5-large\", filename=\"text_encoders/clip_g.safetensors\", local_dir=sd3_clip_dir)\n",
    "filename='clip_g.safetensors'\n",
    "shutil.move(os.path.join(src, filename), os.path.join(dst, filename))"
   ]
  },
  {
   "cell_type": "code",
   "execution_count": 177,
   "metadata": {},
   "outputs": [
    {
     "data": {
      "application/vnd.jupyter.widget-view+json": {
       "model_id": "49ea246c5998425abb005f4ab8807e86",
       "version_major": 2,
       "version_minor": 0
      },
      "text/plain": [
       "t5xxl_fp8_e4m3fn.safetensors:   0%|          | 0.00/4.89G [00:00<?, ?B/s]"
      ]
     },
     "metadata": {},
     "output_type": "display_data"
    },
    {
     "data": {
      "text/plain": [
       "'./models/clip/sd3/t5xxl_fp8_e4m3fn.safetensors'"
      ]
     },
     "execution_count": 177,
     "metadata": {},
     "output_type": "execute_result"
    }
   ],
   "source": [
    "# Download T5 XXL FP8\n",
    "hf_hub_download(repo_id=\"stabilityai/stable-diffusion-3.5-large\", filename=\"text_encoders/t5xxl_fp8_e4m3fn.safetensors\", local_dir=sd3_clip_dir)\n",
    "filename='t5xxl_fp8_e4m3fn.safetensors'\n",
    "shutil.move(os.path.join(src, filename), os.path.join(dst, filename))"
   ]
  },
  {
   "cell_type": "code",
   "execution_count": 178,
   "metadata": {},
   "outputs": [
    {
     "data": {
      "application/vnd.jupyter.widget-view+json": {
       "model_id": "e5e553e6a79a4a87933809710298fda8",
       "version_major": 2,
       "version_minor": 0
      },
      "text/plain": [
       "t5xxl_fp16.safetensors:   0%|          | 0.00/9.79G [00:00<?, ?B/s]"
      ]
     },
     "metadata": {},
     "output_type": "display_data"
    }
   ],
   "source": [
    "# Download T5 XXL FP16\n",
    "hf_hub_download(repo_id=\"stabilityai/stable-diffusion-3.5-large\", filename=\"text_encoders/t5xxl_fp16.safetensors\", local_dir=sd3_clip_dir)\n",
    "filename='t5xxl_fp16.safetensors'\n",
    "shutil.move(os.path.join(src, filename), os.path.join(dst, filename))\n",
    "os.rmdir(src)"
   ]
  },
  {
   "cell_type": "code",
   "execution_count": 179,
   "metadata": {},
   "outputs": [],
   "source": [
    "# Delete cache\n",
    "!rm -rf {sd3_clip_dir}/.cache"
   ]
  },
  {
   "cell_type": "markdown",
   "metadata": {},
   "source": [
    "### Download Flux.1 Model"
   ]
  },
  {
   "cell_type": "code",
   "execution_count": 6,
   "metadata": {},
   "outputs": [],
   "source": [
    "flux_ckpt_dir=model_dirs.dirs['flux1']['checkpoints']\n",
    "flux_vae_dir=model_dirs.dirs['flux1']['vae']\n",
    "flux_lora_dir=model_dirs.dirs['flux1']['loras']"
   ]
  },
  {
   "cell_type": "markdown",
   "metadata": {},
   "source": [
    "#### Checkpoint"
   ]
  },
  {
   "cell_type": "code",
   "execution_count": 7,
   "metadata": {},
   "outputs": [
    {
     "data": {
      "application/vnd.jupyter.widget-view+json": {
       "model_id": "fe92ad2f77564fc7a1a91b7df8648b8a",
       "version_major": 2,
       "version_minor": 0
      },
      "text/plain": [
       "flux1-dev.safetensors:   0%|          | 0.00/23.8G [00:00<?, ?B/s]"
      ]
     },
     "metadata": {},
     "output_type": "display_data"
    },
    {
     "data": {
      "text/plain": [
       "'models/checkpoints/flux1/flux1-dev.safetensors'"
      ]
     },
     "execution_count": 7,
     "metadata": {},
     "output_type": "execute_result"
    }
   ],
   "source": [
    "# Download Flux.1 Dev Model\n",
    "hf_hub_download(repo_id=\"black-forest-labs/FLUX.1-dev\", filename=\"flux1-dev.safetensors\", local_dir=flux_ckpt_dir)"
   ]
  },
  {
   "cell_type": "code",
   "execution_count": 8,
   "metadata": {},
   "outputs": [
    {
     "data": {
      "application/vnd.jupyter.widget-view+json": {
       "model_id": "8cf2cf51485646a993ec5cf5f4669ffc",
       "version_major": 2,
       "version_minor": 0
      },
      "text/plain": [
       "(…)lue_pencil-flux1-v0.2.1-bf16.safetensors:   0%|          | 0.00/23.8G [00:00<?, ?B/s]"
      ]
     },
     "metadata": {},
     "output_type": "display_data"
    },
    {
     "data": {
      "text/plain": [
       "'models/checkpoints/flux1/blue_pencil-flux1-v0.2.1-bf16.safetensors'"
      ]
     },
     "execution_count": 8,
     "metadata": {},
     "output_type": "execute_result"
    }
   ],
   "source": [
    "# Download Blue Pencil Flux 1 Model\n",
    "hf_hub_download(repo_id=\"bluepen5805/blue_pencil-flux1\", filename=\"blue_pencil-flux1-v0.2.1-bf16.safetensors\", local_dir=flux_ckpt_dir)"
   ]
  },
  {
   "cell_type": "code",
   "execution_count": 9,
   "metadata": {},
   "outputs": [],
   "source": [
    "# Delete cache\n",
    "!rm -rf {flux_ckpt_dir}/.cache"
   ]
  },
  {
   "cell_type": "markdown",
   "metadata": {},
   "source": [
    "#### VAE"
   ]
  },
  {
   "cell_type": "code",
   "execution_count": 10,
   "metadata": {},
   "outputs": [
    {
     "data": {
      "application/vnd.jupyter.widget-view+json": {
       "model_id": "bbd8aa725e0d4a5fa95f5292a4695f80",
       "version_major": 2,
       "version_minor": 0
      },
      "text/plain": [
       "ae.safetensors:   0%|          | 0.00/335M [00:00<?, ?B/s]"
      ]
     },
     "metadata": {},
     "output_type": "display_data"
    },
    {
     "data": {
      "text/plain": [
       "'models/vae/flux1/ae.safetensors'"
      ]
     },
     "execution_count": 10,
     "metadata": {},
     "output_type": "execute_result"
    }
   ],
   "source": [
    "# Download Flux.1 Dev VAE\n",
    "hf_hub_download(repo_id=\"black-forest-labs/FLUX.1-dev\", filename=\"ae.safetensors\", local_dir=flux_vae_dir)"
   ]
  },
  {
   "cell_type": "code",
   "execution_count": 11,
   "metadata": {},
   "outputs": [],
   "source": [
    "# Delete cache\n",
    "!rm -rf {flux_vae_dir}/.cache"
   ]
  },
  {
   "cell_type": "markdown",
   "metadata": {},
   "source": [
    "#### LoRA"
   ]
  },
  {
   "cell_type": "code",
   "execution_count": 12,
   "metadata": {},
   "outputs": [
    {
     "data": {
      "application/vnd.jupyter.widget-view+json": {
       "model_id": "0b0e1b515e3244e4bdc70263e91c5903",
       "version_major": 2,
       "version_minor": 0
      },
      "text/plain": [
       "FLUX-dev-lora-AntiBlur.safetensors:   0%|          | 0.00/687M [00:00<?, ?B/s]"
      ]
     },
     "metadata": {},
     "output_type": "display_data"
    },
    {
     "data": {
      "text/plain": [
       "'models/loras/flux1/FLUX-dev-lora-AntiBlur.safetensors'"
      ]
     },
     "execution_count": 12,
     "metadata": {},
     "output_type": "execute_result"
    }
   ],
   "source": [
    "# Download Flux.1 Dev AntiBlur LoRA\n",
    "hf_hub_download(repo_id=\"Shakker-Labs/FLUX.1-dev-LoRA-AntiBlur\", filename=\"FLUX-dev-lora-AntiBlur.safetensors\", local_dir=flux_lora_dir)"
   ]
  },
  {
   "cell_type": "code",
   "execution_count": 13,
   "metadata": {},
   "outputs": [
    {
     "data": {
      "application/vnd.jupyter.widget-view+json": {
       "model_id": "8a033a15f7964a61b58dc3a467e080af",
       "version_major": 2,
       "version_minor": 0
      },
      "text/plain": [
       "FLUX-dev-lora-add_details.safetensors:   0%|          | 0.00/687M [00:00<?, ?B/s]"
      ]
     },
     "metadata": {},
     "output_type": "display_data"
    },
    {
     "data": {
      "text/plain": [
       "'models/loras/flux1/FLUX-dev-lora-add_details.safetensors'"
      ]
     },
     "execution_count": 13,
     "metadata": {},
     "output_type": "execute_result"
    }
   ],
   "source": [
    "# Download Flux.1 Dev Add Details LoRA\n",
    "hf_hub_download(repo_id=\"Shakker-Labs/FLUX.1-dev-LoRA-add-details\", filename=\"FLUX-dev-lora-add_details.safetensors\", local_dir=flux_lora_dir)"
   ]
  },
  {
   "cell_type": "code",
   "execution_count": 14,
   "metadata": {},
   "outputs": [
    {
     "data": {
      "application/vnd.jupyter.widget-view+json": {
       "model_id": "17e66f4f65ab47e6ac882021189d065b",
       "version_major": 2,
       "version_minor": 0
      },
      "text/plain": [
       "VBox(children=(HTML(value='<b>Downloading</b> Tomboys_for_FLUX6-000010.safetensors'), HBox(children=(IntProgre…"
      ]
     },
     "metadata": {},
     "output_type": "display_data"
    },
    {
     "name": "stdout",
     "output_type": "stream",
     "text": [
      "Downloading: https://civitai.com/api/download/models/797322\n",
      "Saved as: ./models/loras/flux1/Tomboys_for_FLUX6-000010.safetensors\n",
      "\n"
     ]
    },
    {
     "data": {
      "text/plain": [
       "('https://civitai.com/api/download/models/797322',\n",
       " 'Tomboys_for_FLUX6-000010.safetensors',\n",
       " 19339232,\n",
       " './models/loras/flux1',\n",
       " '19825f021991cd8c7685bc2f7fee3b24')"
      ]
     },
     "execution_count": 14,
     "metadata": {},
     "output_type": "execute_result"
    }
   ],
   "source": [
    "# Download Tomboy for Flux LoRA\n",
    "civitai_download(model_version_id=797322, local_dir=flux_lora_dir)"
   ]
  },
  {
   "cell_type": "code",
   "execution_count": 15,
   "metadata": {},
   "outputs": [],
   "source": [
    "# Delete cache\n",
    "!rm -rf {flux_lora_dir}/.cache"
   ]
  },
  {
   "cell_type": "markdown",
   "metadata": {},
   "source": [
    "### Download Upscale Model"
   ]
  },
  {
   "cell_type": "markdown",
   "metadata": {},
   "source": [
    "#### ESRGAN"
   ]
  },
  {
   "cell_type": "code",
   "execution_count": 180,
   "metadata": {},
   "outputs": [
    {
     "data": {
      "application/vnd.jupyter.widget-view+json": {
       "model_id": "2f17044de11449fba68460fefe92c180",
       "version_major": 2,
       "version_minor": 0
      },
      "text/plain": [
       "4x-AnimeSharp.pth:   0%|          | 0.00/67.0M [00:00<?, ?B/s]"
      ]
     },
     "metadata": {},
     "output_type": "display_data"
    },
    {
     "data": {
      "text/plain": [
       "'models/upscale_models/ESRGAN/4x-AnimeSharp.pth'"
      ]
     },
     "execution_count": 180,
     "metadata": {},
     "output_type": "execute_result"
    }
   ],
   "source": [
    "# Download 4x AnimeSharp Model\n",
    "hf_hub_download(repo_id=\"Kim2091/AnimeSharp\", filename=\"4x-AnimeSharp.pth\", local_dir=\"./models/upscale_models/ESRGAN\")"
   ]
  },
  {
   "cell_type": "code",
   "execution_count": 181,
   "metadata": {},
   "outputs": [
    {
     "data": {
      "application/vnd.jupyter.widget-view+json": {
       "model_id": "ae1d502d1bda4edf92d708b3b831fc2e",
       "version_major": 2,
       "version_minor": 0
      },
      "text/plain": [
       "4x-UltraSharp.pth:   0%|          | 0.00/67.0M [00:00<?, ?B/s]"
      ]
     },
     "metadata": {},
     "output_type": "display_data"
    },
    {
     "data": {
      "text/plain": [
       "'models/upscale_models/ESRGAN/4x-UltraSharp.pth'"
      ]
     },
     "execution_count": 181,
     "metadata": {},
     "output_type": "execute_result"
    }
   ],
   "source": [
    "# Download 4x UltraSharp Model\n",
    "hf_hub_download(repo_id=\"Kim2091/UltraSharp\", filename=\"4x-UltraSharp.pth\", local_dir=\"./models/upscale_models/ESRGAN\")"
   ]
  },
  {
   "cell_type": "code",
   "execution_count": 182,
   "metadata": {},
   "outputs": [],
   "source": [
    "# Delete cache\n",
    "!rm -rf ./models/upscale_models/ESRGAN/.cache"
   ]
  },
  {
   "cell_type": "markdown",
   "metadata": {},
   "source": [
    "#### RealESRGAN"
   ]
  },
  {
   "cell_type": "code",
   "execution_count": 183,
   "metadata": {},
   "outputs": [],
   "source": [
    "from requests import get\n",
    "from urllib.parse import urljoin\n",
    "\n",
    "def git_download(repo_id: str, filename: str, tag: str, local_dir: str):\n",
    "    repo_url=urljoin('https://github.com', repo_id, 'releases/download')\n",
    "    src=urljoin(repo_url, tag, filename)\n",
    "    filepath=os.path.join(local_dir, filename)\n",
    "    download(src, filepath)\n",
    "    return src, filepath\n",
    "\n",
    "def download(url, filename):\n",
    "    with open(filename, 'wb') as f:\n",
    "        response = get(url)\n",
    "        f.write(response.content)\n",
    "\n",
    "realesrgan_dir=\"./models/upscale_models/RealESRGAN\"\n",
    "os.makedirs(realesrgan_dir, exist_ok=True)"
   ]
  },
  {
   "cell_type": "code",
   "execution_count": 184,
   "metadata": {},
   "outputs": [
    {
     "data": {
      "text/plain": [
       "('https://github.com/xinntao/v0.1.0',\n",
       " './models/upscale_models/RealESRGAN/RealESRGAN_x4plus.pth')"
      ]
     },
     "execution_count": 184,
     "metadata": {},
     "output_type": "execute_result"
    }
   ],
   "source": [
    "# Download RealESRGAN x4 Plus Model\n",
    "git_download(repo_id='xinntao/Real-ESRGAN', filename='RealESRGAN_x4plus.pth', tag='v0.1.0', local_dir=realesrgan_dir)"
   ]
  },
  {
   "cell_type": "code",
   "execution_count": 185,
   "metadata": {},
   "outputs": [
    {
     "data": {
      "text/plain": [
       "('https://github.com/xinntao/v0.2.2.4',\n",
       " './models/upscale_models/RealESRGAN/RealESRGAN_x4plus_anime_6B.pth')"
      ]
     },
     "execution_count": 185,
     "metadata": {},
     "output_type": "execute_result"
    }
   ],
   "source": [
    "# Download RealESRGAN x4 Plus Anime 6B Model\n",
    "git_download(repo_id=\"xinntao/Real-ESRGAN\", filename=\"RealESRGAN_x4plus_anime_6B.pth\", tag='v0.2.2.4', local_dir=realesrgan_dir)"
   ]
  },
  {
   "cell_type": "markdown",
   "metadata": {},
   "source": [
    "#### LDSR"
   ]
  },
  {
   "cell_type": "code",
   "execution_count": 186,
   "metadata": {},
   "outputs": [],
   "source": [
    "# Download LDSR Model\n",
    "ldsr_dir='./models/upscale_models/LDSR'\n",
    "download(\"https://heibox.uni-heidelberg.de/f/31a76 db13ea27482981b4/?dl=1\", f\"{ldsr_dir}/2021-11-02T06-24-44-project.yaml\")\n",
    "download(\"https://heibox.uni-heidelberg.de/f/578df07c8fc04ffbadf3/?dl=1\", f\"{ldsr_dir}/last.ckpt\")"
   ]
  },
  {
   "cell_type": "markdown",
   "metadata": {},
   "source": [
    "#### Stable Diffusion x4 Upscale Model"
   ]
  },
  {
   "cell_type": "code",
   "execution_count": 187,
   "metadata": {},
   "outputs": [
    {
     "data": {
      "application/vnd.jupyter.widget-view+json": {
       "model_id": "142cd7760c3247b1863e17af37120ded",
       "version_major": 2,
       "version_minor": 0
      },
      "text/plain": [
       "x4-upscaler-ema.safetensors:   0%|          | 0.00/3.53G [00:00<?, ?B/s]"
      ]
     },
     "metadata": {},
     "output_type": "display_data"
    },
    {
     "data": {
      "text/plain": [
       "'models/checkpoints/upscale/x4-upscaler-ema.safetensors'"
      ]
     },
     "execution_count": 187,
     "metadata": {},
     "output_type": "execute_result"
    }
   ],
   "source": [
    "#download Stable Diffusion x4 Upscale model\n",
    "hf_hub_download(repo_id=\"stabilityai/stable-diffusion-x4-upscaler\", filename=\"x4-upscaler-ema.safetensors\", local_dir=\"./models/checkpoints/upscale\")"
   ]
  },
  {
   "cell_type": "code",
   "execution_count": 188,
   "metadata": {},
   "outputs": [],
   "source": [
    "# Delete cache\n",
    "!rm -rf ./models/checkpoints/upscale/.cache"
   ]
  },
  {
   "cell_type": "markdown",
   "metadata": {},
   "source": [
    "### Download Face Restore Model"
   ]
  },
  {
   "cell_type": "code",
   "execution_count": null,
   "metadata": {},
   "outputs": [],
   "source": [
    "# Download GFPGAN Model\n",
    "git_download(repo_id=\"TencentARC/GFPGAN\", filename=\"GFPGANv1.4.pth\", tag='v1.3.4', local_dir='./models/facerestore_models/GFPGAN')"
   ]
  },
  {
   "cell_type": "code",
   "execution_count": null,
   "metadata": {},
   "outputs": [],
   "source": [
    "# Download Code Former Model\n",
    "git_download(repo_id=\"TencentARC/GFPGAN\", filename=\"CodeFormer.pth\", tag='v1.3.4', local_dir=\"./models/facerestore_models/Codeformer\")"
   ]
  },
  {
   "cell_type": "code",
   "execution_count": null,
   "metadata": {},
   "outputs": [],
   "source": [
    "# Download Restore Former Model\n",
    "git_download(repo_id='TencentARC/GFPGAN', filename='RestoreFormer.pth', tag='v1,3,4', local_dir='./models/facerestore_models/Codeformer')"
   ]
  },
  {
   "cell_type": "markdown",
   "metadata": {},
   "source": [
    "### Download UltraLytics Model"
   ]
  },
  {
   "cell_type": "code",
   "execution_count": 189,
   "metadata": {},
   "outputs": [
    {
     "data": {
      "application/vnd.jupyter.widget-view+json": {
       "model_id": "31887ae35cbe49668c029371d2b7ff03",
       "version_major": 2,
       "version_minor": 0
      },
      "text/plain": [
       "Fetching 8 files:   0%|          | 0/8 [00:00<?, ?it/s]"
      ]
     },
     "metadata": {},
     "output_type": "display_data"
    },
    {
     "data": {
      "application/vnd.jupyter.widget-view+json": {
       "model_id": "c42fb8a513d54343917ab61bc9c0a0b9",
       "version_major": 2,
       "version_minor": 0
      },
      "text/plain": [
       "face_yolov9c.pt:   0%|          | 0.00/51.6M [00:00<?, ?B/s]"
      ]
     },
     "metadata": {},
     "output_type": "display_data"
    },
    {
     "data": {
      "application/vnd.jupyter.widget-view+json": {
       "model_id": "1cfff2f7293b483aa86af76ec3f8ef55",
       "version_major": 2,
       "version_minor": 0
      },
      "text/plain": [
       "hand_yolov8n.pt:   0%|          | 0.00/6.24M [00:00<?, ?B/s]"
      ]
     },
     "metadata": {},
     "output_type": "display_data"
    },
    {
     "data": {
      "application/vnd.jupyter.widget-view+json": {
       "model_id": "91cbc3a273494bec9682a9ada4ad0302",
       "version_major": 2,
       "version_minor": 0
      },
      "text/plain": [
       "hand_yolov9c.pt:   0%|          | 0.00/51.6M [00:00<?, ?B/s]"
      ]
     },
     "metadata": {},
     "output_type": "display_data"
    },
    {
     "data": {
      "application/vnd.jupyter.widget-view+json": {
       "model_id": "e84f0d2a6e0847968f4e8739709dabf1",
       "version_major": 2,
       "version_minor": 0
      },
      "text/plain": [
       "face_yolov8s.pt:   0%|          | 0.00/22.5M [00:00<?, ?B/s]"
      ]
     },
     "metadata": {},
     "output_type": "display_data"
    },
    {
     "data": {
      "application/vnd.jupyter.widget-view+json": {
       "model_id": "9fa155315141407aac84fda020b78010",
       "version_major": 2,
       "version_minor": 0
      },
      "text/plain": [
       "face_yolov8n.pt:   0%|          | 0.00/6.23M [00:00<?, ?B/s]"
      ]
     },
     "metadata": {},
     "output_type": "display_data"
    },
    {
     "data": {
      "application/vnd.jupyter.widget-view+json": {
       "model_id": "ec236a8f0f1744509c45eec16537cedd",
       "version_major": 2,
       "version_minor": 0
      },
      "text/plain": [
       "face_yolov8m.pt:   0%|          | 0.00/52.0M [00:00<?, ?B/s]"
      ]
     },
     "metadata": {},
     "output_type": "display_data"
    },
    {
     "data": {
      "application/vnd.jupyter.widget-view+json": {
       "model_id": "cb790e37405642648c1edb6c08176eab",
       "version_major": 2,
       "version_minor": 0
      },
      "text/plain": [
       "face_yolov8n_v2.pt:   0%|          | 0.00/6.24M [00:00<?, ?B/s]"
      ]
     },
     "metadata": {},
     "output_type": "display_data"
    },
    {
     "data": {
      "application/vnd.jupyter.widget-view+json": {
       "model_id": "41799c142c984cc48865bd8f6efae5d9",
       "version_major": 2,
       "version_minor": 0
      },
      "text/plain": [
       "hand_yolov8s.pt:   0%|          | 0.00/22.5M [00:00<?, ?B/s]"
      ]
     },
     "metadata": {},
     "output_type": "display_data"
    },
    {
     "data": {
      "text/plain": [
       "'/home/bean980310/stable-diffusion-docker-project/stable-diffusion-models/models/ultralytics/bbox'"
      ]
     },
     "execution_count": 189,
     "metadata": {},
     "output_type": "execute_result"
    }
   ],
   "source": [
    "# Download UltraLytics BBOX Model\n",
    "snapshot_download(repo_id=\"Bingsu/adetailer\", allow_patterns=\"*.pt\", ignore_patterns=\"*-seg.pt\", local_dir=\"./models/ultralytics/bbox\")"
   ]
  },
  {
   "cell_type": "code",
   "execution_count": 190,
   "metadata": {},
   "outputs": [
    {
     "data": {
      "application/vnd.jupyter.widget-view+json": {
       "model_id": "5b699a8c062b4f93a586b2785eb9ee70",
       "version_major": 2,
       "version_minor": 0
      },
      "text/plain": [
       "Fetching 4 files:   0%|          | 0/4 [00:00<?, ?it/s]"
      ]
     },
     "metadata": {},
     "output_type": "display_data"
    },
    {
     "data": {
      "application/vnd.jupyter.widget-view+json": {
       "model_id": "4c791a3e0fe845b7aab6fff059c4f90d",
       "version_major": 2,
       "version_minor": 0
      },
      "text/plain": [
       "person_yolov8s-seg.pt:   0%|          | 0.00/23.9M [00:00<?, ?B/s]"
      ]
     },
     "metadata": {},
     "output_type": "display_data"
    },
    {
     "data": {
      "application/vnd.jupyter.widget-view+json": {
       "model_id": "f0790bacb832427a8dca3b3ff36b8fce",
       "version_major": 2,
       "version_minor": 0
      },
      "text/plain": [
       "person_yolov8n-seg.pt:   0%|          | 0.00/6.78M [00:00<?, ?B/s]"
      ]
     },
     "metadata": {},
     "output_type": "display_data"
    },
    {
     "data": {
      "application/vnd.jupyter.widget-view+json": {
       "model_id": "3e9af0915f024fbf9216e6261164aa15",
       "version_major": 2,
       "version_minor": 0
      },
      "text/plain": [
       "person_yolov8m-seg.pt:   0%|          | 0.00/54.8M [00:00<?, ?B/s]"
      ]
     },
     "metadata": {},
     "output_type": "display_data"
    },
    {
     "data": {
      "application/vnd.jupyter.widget-view+json": {
       "model_id": "b84fccfd18a1405c8f17d5511461c3ca",
       "version_major": 2,
       "version_minor": 0
      },
      "text/plain": [
       "deepfashion2_yolov8s-seg.pt:   0%|          | 0.00/23.9M [00:00<?, ?B/s]"
      ]
     },
     "metadata": {},
     "output_type": "display_data"
    },
    {
     "data": {
      "text/plain": [
       "'/home/bean980310/stable-diffusion-docker-project/stable-diffusion-models/models/ultralytics/segm'"
      ]
     },
     "execution_count": 190,
     "metadata": {},
     "output_type": "execute_result"
    }
   ],
   "source": [
    "# Download UltraLytics SEGM Model\n",
    "snapshot_download(repo_id=\"Bingsu/adetailer\", allow_patterns=\"*-seg.pt\", local_dir=\"./models/ultralytics/segm\")"
   ]
  },
  {
   "cell_type": "code",
   "execution_count": 191,
   "metadata": {},
   "outputs": [],
   "source": [
    "# Delete cache\n",
    "!rm -rf ./models/ultralytics/bbox/.cache\n",
    "!rm -rf ./models/ultralytics/segm/.cache"
   ]
  },
  {
   "cell_type": "markdown",
   "metadata": {},
   "source": [
    "### Download Segment Anything Model"
   ]
  },
  {
   "cell_type": "markdown",
   "metadata": {},
   "source": [
    "#### SAMS"
   ]
  },
  {
   "cell_type": "code",
   "execution_count": 192,
   "metadata": {},
   "outputs": [],
   "source": [
    "# Download SAM Vit H Model\n",
    "download(\"https://dl.fbaipublicfiles.com/segment_anything/sam_vit_h_4b8939.pth\", \"./models/sams/sam_vit_h_4b8939.pth\")"
   ]
  },
  {
   "cell_type": "code",
   "execution_count": 193,
   "metadata": {},
   "outputs": [],
   "source": [
    "# Download SAM Vit L Model\n",
    "download(\"https://dl.fbaipublicfiles.com/segment_anything/sam_vit_l_0b3195.pth\", \"./models/sams/sam_vit_l_0b3195.pth\")"
   ]
  },
  {
   "cell_type": "code",
   "execution_count": 194,
   "metadata": {},
   "outputs": [],
   "source": [
    "# Download SAM Vit B Model\n",
    "download(\"https://dl.fbaipublicfiles.com/segment_anything/sam_vit_b_01ec64.pth\", \"./models/sams/sam_vit_b_01ec64.pth\")"
   ]
  },
  {
   "cell_type": "markdown",
   "metadata": {},
   "source": [
    "#### SAMS HQ"
   ]
  },
  {
   "cell_type": "code",
   "execution_count": 195,
   "metadata": {},
   "outputs": [],
   "source": [
    "sams_dir='./models/sams'"
   ]
  },
  {
   "cell_type": "code",
   "execution_count": 196,
   "metadata": {},
   "outputs": [
    {
     "data": {
      "application/vnd.jupyter.widget-view+json": {
       "model_id": "20e86c85c37345028a8ecb43a89e2060",
       "version_major": 2,
       "version_minor": 0
      },
      "text/plain": [
       "sam_hq_vit_h.pth:   0%|          | 0.00/2.57G [00:00<?, ?B/s]"
      ]
     },
     "metadata": {},
     "output_type": "display_data"
    },
    {
     "data": {
      "text/plain": [
       "'models/sams/sam_hq_vit_h.pth'"
      ]
     },
     "execution_count": 196,
     "metadata": {},
     "output_type": "execute_result"
    }
   ],
   "source": [
    "# Download SAM HQ Vit H Model\n",
    "hf_hub_download(repo_id='lkeab/hq-sam', filename='sam_hq_vit_h.pth', local_dir=sams_dir)"
   ]
  },
  {
   "cell_type": "code",
   "execution_count": 197,
   "metadata": {},
   "outputs": [
    {
     "data": {
      "application/vnd.jupyter.widget-view+json": {
       "model_id": "ddc2258ce5b94446851384fd63f79006",
       "version_major": 2,
       "version_minor": 0
      },
      "text/plain": [
       "sam_hq_vit_l.pth:   0%|          | 0.00/1.25G [00:00<?, ?B/s]"
      ]
     },
     "metadata": {},
     "output_type": "display_data"
    },
    {
     "data": {
      "text/plain": [
       "'models/sams/sam_hq_vit_l.pth'"
      ]
     },
     "execution_count": 197,
     "metadata": {},
     "output_type": "execute_result"
    }
   ],
   "source": [
    "# Download SAM HQ Vit L Model\n",
    "hf_hub_download(repo_id='lkeab/hq-sam', filename='sam_hq_vit_l.pth', local_dir=sams_dir)"
   ]
  },
  {
   "cell_type": "code",
   "execution_count": 198,
   "metadata": {},
   "outputs": [
    {
     "data": {
      "application/vnd.jupyter.widget-view+json": {
       "model_id": "9be0856e083544ea8881f0dc58de09b4",
       "version_major": 2,
       "version_minor": 0
      },
      "text/plain": [
       "sam_hq_vit_b.pth:   0%|          | 0.00/379M [00:00<?, ?B/s]"
      ]
     },
     "metadata": {},
     "output_type": "display_data"
    },
    {
     "data": {
      "text/plain": [
       "'models/sams/sam_hq_vit_b.pth'"
      ]
     },
     "execution_count": 198,
     "metadata": {},
     "output_type": "execute_result"
    }
   ],
   "source": [
    "# Download SAM HQ Vit B Model\n",
    "hf_hub_download(repo_id='lkeab/hq-sam', filename='sam_hq_vit_b.pth', local_dir=sams_dir)"
   ]
  },
  {
   "cell_type": "code",
   "execution_count": 199,
   "metadata": {},
   "outputs": [
    {
     "data": {
      "application/vnd.jupyter.widget-view+json": {
       "model_id": "0e4f2f03f04840ed9268bcff3617f3f5",
       "version_major": 2,
       "version_minor": 0
      },
      "text/plain": [
       "sam_hq_vit_tiny.pth:   0%|          | 0.00/42.5M [00:00<?, ?B/s]"
      ]
     },
     "metadata": {},
     "output_type": "display_data"
    },
    {
     "data": {
      "text/plain": [
       "'models/sams/sam_hq_vit_tiny.pth'"
      ]
     },
     "execution_count": 199,
     "metadata": {},
     "output_type": "execute_result"
    }
   ],
   "source": [
    "# Download SAM HQ Vit Tiny Model\n",
    "hf_hub_download(repo_id='lkeab/hq-sam', filename='sam_hq_vit_tiny.pth', local_dir=sams_dir)"
   ]
  },
  {
   "cell_type": "code",
   "execution_count": 200,
   "metadata": {},
   "outputs": [],
   "source": [
    "# Delete cache\n",
    "!rm -rf {sams_dir}/.cache"
   ]
  },
  {
   "cell_type": "markdown",
   "metadata": {},
   "source": [
    "### Download Clip Vision Model"
   ]
  },
  {
   "cell_type": "code",
   "execution_count": 201,
   "metadata": {},
   "outputs": [],
   "source": [
    "clip_vision_dir='./models/clip_vision'"
   ]
  },
  {
   "cell_type": "code",
   "execution_count": 202,
   "metadata": {},
   "outputs": [
    {
     "data": {
      "application/vnd.jupyter.widget-view+json": {
       "model_id": "e8f72e2153104f06862101995ce608d5",
       "version_major": 2,
       "version_minor": 0
      },
      "text/plain": [
       "model.safetensors:   0%|          | 0.00/1.71G [00:00<?, ?B/s]"
      ]
     },
     "metadata": {},
     "output_type": "display_data"
    }
   ],
   "source": [
    "# Download OpenAI Clip Vit Large Patch14\n",
    "hf_hub_download(repo_id=\"openai/clip-vit-large-patch14\", filename=\"model.safetensors\", local_dir=clip_vision_dir)\n",
    "src=os.path.join(clip_vision_dir,\"model.safetensors\")\n",
    "dst=os.path.join(clip_vision_dir, \"clip-vit-large-patch14.safetensors\")\n",
    "os.rename(src, dst)"
   ]
  },
  {
   "cell_type": "code",
   "execution_count": 203,
   "metadata": {},
   "outputs": [
    {
     "data": {
      "application/vnd.jupyter.widget-view+json": {
       "model_id": "afd458d742e94cb087828d3c99408cb6",
       "version_major": 2,
       "version_minor": 0
      },
      "text/plain": [
       "open_clip_pytorch_model.safetensors:   0%|          | 0.00/3.94G [00:00<?, ?B/s]"
      ]
     },
     "metadata": {},
     "output_type": "display_data"
    }
   ],
   "source": [
    "# Download Laion CLIP-ViT-H-14-laion2B-s32B-b79K\n",
    "hf_hub_download(repo_id=\"laion/CLIP-ViT-H-14-laion2B-s32B-b79K\", filename=\"open_clip_pytorch_model.safetensors\", local_dir=clip_vision_dir)\n",
    "src=os.path.join(clip_vision_dir,\"open_clip_pytorch_model.safetensors\")\n",
    "dst=os.path.join(clip_vision_dir, \"CLIP-ViT-H-14-laion2B-s32B-b79K.safetensors\")\n",
    "os.rename(src, dst)"
   ]
  },
  {
   "cell_type": "code",
   "execution_count": 204,
   "metadata": {},
   "outputs": [
    {
     "data": {
      "application/vnd.jupyter.widget-view+json": {
       "model_id": "d8b564abcd47448bba162c2fa1445282",
       "version_major": 2,
       "version_minor": 0
      },
      "text/plain": [
       "open_clip_pytorch_model.safetensors:   0%|          | 0.00/10.2G [00:00<?, ?B/s]"
      ]
     },
     "metadata": {},
     "output_type": "display_data"
    }
   ],
   "source": [
    "# Download Laion CLIP-ViT-bigG-14-laion2B-39B-b160k\n",
    "hf_hub_download(repo_id=\"laion/CLIP-ViT-bigG-14-laion2B-39B-b160k\", filename=\"open_clip_pytorch_model.safetensors\", local_dir=clip_vision_dir)\n",
    "src=os.path.join(clip_vision_dir,\"open_clip_pytorch_model.safetensors\")\n",
    "dst=os.path.join(clip_vision_dir, \"CLIP-ViT-bigG-14-laion2B-39B-b160k.safetensors\")\n",
    "os.rename(src, dst)"
   ]
  },
  {
   "cell_type": "code",
   "execution_count": 205,
   "metadata": {},
   "outputs": [],
   "source": [
    "# Delete cache\n",
    "!rm -rf {clip_vision_dir}/.cache"
   ]
  }
 ],
 "metadata": {
  "kernelspec": {
   "display_name": "base",
   "language": "python",
   "name": "python3"
  },
  "language_info": {
   "codemirror_mode": {
    "name": "ipython",
    "version": 3
   },
   "file_extension": ".py",
   "mimetype": "text/x-python",
   "name": "python",
   "nbconvert_exporter": "python",
   "pygments_lexer": "ipython3",
   "version": "3.12.7"
  }
 },
 "nbformat": 4,
 "nbformat_minor": 2
}
