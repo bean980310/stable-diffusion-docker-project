{
 "cells": [
  {
   "cell_type": "markdown",
   "metadata": {},
   "source": [
    "# Download Model"
   ]
  },
  {
   "cell_type": "markdown",
   "metadata": {},
   "source": [
    "## Create a sub-directory"
   ]
  },
  {
   "cell_type": "code",
   "execution_count": null,
   "metadata": {},
   "outputs": [],
   "source": [
    "import os\n",
    "import shutil\n",
    "\n",
    "def makedirs(path):\n",
    "    if not os.path.exists(path):\n",
    "        os.makedirs(path)\n",
    "        print(f\"{path} created\")\n",
    "    else:\n",
    "        print(f\"{path} already exists\")\n",
    "\n",
    "ckpt_dir = ['sd15', 'sd2', 'sdxl', 'pony', 'ilxl', 'sd3', 'sd35_medium', 'sd35_large', 'flux1_s', 'flux1_d', 'upscale']\n",
    "clip_dir=['sd3', 'sd35_medium', 'sd35_large']\n",
    "controlnet_dir=['sd15', 'sd2', 'sdxl', 'sd3', 'sd35_medium', 'sd35_large', 'flux1_s', 'flux1_d']\n",
    "diffusers_dir = ['sd15', 'sd2', 'sdxl', 'pony', 'ilxl', 'sd3', 'sd35_medium', 'sd35_large', 'flux1_s', 'flux1_d', 'flux1']\n",
    "embedding_dir=['sd15', 'sd2', 'sdxl', 'sd3', 'sd35_medium', 'sd35_large', 'flux1_s', 'flux1_d']\n",
    "facerestore_model_dir=['CodeFormer', 'GFPGAN', 'RestoreFormer']\n",
    "hypernetwork_dir=['sd15', 'sd2', 'sdxl', 'pony', 'ilxl', 'sd3', 'sd35_medium', 'sd35_large', 'flux1_s', 'flux1_d']\n",
    "lora_dir=['sd15', 'sd2', 'sdxl', 'pony', 'ilxl', 'sd3', 'sd35_medium', 'sd35_large', 'flux1_s', 'flux1_d']\n",
    "onnx_model_dir=['sd15', 'sd2', 'sdxl', 'pony', 'ilxl', 'sd3', 'sd35_medium', 'sd35_large', 'flux1_s', 'flux1_d']\n",
    "ultralytics_dir=['bbox', 'segm']\n",
    "unet_model_dir=['sd15', 'sd2', 'sdxl', 'pony', 'ilxl', 'sd3', 'sd35_medium', 'sd35_large', 'flux1_s', 'flux1_d']\n",
    "upscale_model_dir=['ESRGAN', 'RealESRGAN', 'LDSR', 'SwinIR']\n",
    "vae_dir=['sd15', 'sd2', 'sdxl', 'pony', 'ilxl', 'sd3', 'sd35_medium', 'sd35_large', 'flux1_s', 'flux1_d']\n",
    "\n",
    "makedirs(\"./models/animatediff_models\")\n",
    "makedirs(\"./models/animatediff_motion_lora\")\n",
    "makedirs(\"./models/animatediff_video_formats\")\n",
    "makedirs(\"./models/blip\")\n",
    "[makedirs(os.path.join(\"./models/checkpoints\", dir)) for dir in ckpt_dir]\n",
    "makedirs(\"./models/clip\")\n",
    "makedirs(\"./models/clip_vision\")\n",
    "makedirs(\"./models/CogVideo\")\n",
    "makedirs(\"./models/configs\")\n",
    "[makedirs(os.path.join(\"./models/controlnet\", dir)) for dir in controlnet_dir]\n",
    "makedirs(\"./models/deepbooru\")\n",
    "[makedirs(os.path.join(\"./models/diffusers\", dir)) for dir in diffusers_dir]\n",
    "makedirs(\"./models/diffusion_models\")\n",
    "[makedirs(os.path.join(\"./models/embeddings\", dir)) for dir in embedding_dir]\n",
    "[makedirs(os.path.join('./models/facerestore_models', dir)) for dir in facerestore_model_dir]\n",
    "makedirs(\"./models/gligen\")\n",
    "[makedirs(os.path.join(\"./models/hypernetworks\", dir)) for dir in hypernetwork_dir]\n",
    "makedirs(\"./models/insightface\")\n",
    "makedirs(\"./models/inpaint\")\n",
    "makedirs(\"./models/Joy_caption\")\n",
    "makedirs(\"./models/karlo\")\n",
    "makedirs(\"./models/layerstyle\")\n",
    "makedirs(\"./models/liveportrait\")\n",
    "makedirs(\"./models/LLM\")\n",
    "[makedirs(os.path.join(\"./models/loras\", dir)) for dir in lora_dir]\n",
    "makedirs(\"./models/mmdets\")\n",
    "[makedirs(os.path.join('./models/onnx', dir)) for dir in onnx_model_dir]\n",
    "makedirs(\"./models/photomaker\")\n",
    "makedirs(\"./models/prompt_expansion\")\n",
    "makedirs(\"./models/safety_ckecker\")\n",
    "makedirs(\"./models/sams\")\n",
    "makedirs(\"./models/style_models\")\n",
    "[makedirs(os.path.join('./models/ultralytics', dir)) for dir in ultralytics_dir]\n",
    "[makedirs(os.path.join('./models/unet', dir)) for dir in unet_model_dir]\n",
    "[makedirs(os.path.join('./models/upscale_models', dir)) for dir in upscale_model_dir]\n",
    "[makedirs(os.path.join(\"./models/vae\", dir)) for dir in vae_dir]\n",
    "makedirs(\"./models/vae_approx\")\n",
    "makedirs(\"./models/xlabs\")"
   ]
  },
  {
   "cell_type": "markdown",
   "metadata": {},
   "source": [
    "## Login to huggingface"
   ]
  },
  {
   "cell_type": "code",
   "execution_count": 2,
   "metadata": {},
   "outputs": [],
   "source": [
    "from huggingface_hub import notebook_login, hf_hub_download, snapshot_download\n",
    "\n",
    "notebook_login(new_session=False)"
   ]
  },
  {
   "cell_type": "markdown",
   "metadata": {},
   "source": [
    "## Login to CivitAI with API token"
   ]
  },
  {
   "cell_type": "code",
   "execution_count": 3,
   "metadata": {},
   "outputs": [],
   "source": [
    "from civitai_downloader import login, civitai_download, advanced_download\n",
    "\n",
    "token=login()"
   ]
  },
  {
   "cell_type": "markdown",
   "metadata": {},
   "source": [
    "## Download Model"
   ]
  },
  {
   "cell_type": "code",
   "execution_count": 4,
   "metadata": {},
   "outputs": [],
   "source": [
    "models_dir='./models'\n",
    "model_types=['checkpoints', 'clip', 'clip_vision', 'configs', 'controlnet', 'deepbooru', 'diffusers', 'embeddings', 'facerestore_models', 'gligen', 'hypernetworks', 'inpaint', 'karlo', 'loras', 'mmdets', 'onnx', 'photomaker', 'prompt_expansion', 'safety_ckecker', 'sams', 'style_models', 'ultralytics', 'unet', 'upscale_models', 'vae', 'vae_approx']\n",
    "model_versions=['sd15', 'sd2', 'sdxl', 'pony', 'ilxl', 'sd3', 'sd35_medium', 'sd35_large', 'flux1_s', 'flux1_d']\n",
    "\n",
    "class ModelDirs:\n",
    "    def __init__(self, model_versions):\n",
    "        self.dirs={}\n",
    "        for ver in model_versions:\n",
    "            dirs_for_ver={}\n",
    "            for model_type in model_types:\n",
    "                dir_path=os.path.join(models_dir, model_type, ver)\n",
    "                attr_name=model_type\n",
    "                dirs_for_ver[attr_name]=dir_path\n",
    "            self.dirs[ver]=dirs_for_ver\n",
    "    \n",
    "model_dirs=ModelDirs(model_versions)"
   ]
  },
  {
   "cell_type": "markdown",
   "metadata": {},
   "source": [
    "### Download Stable Diffusion 1.5 Model"
   ]
  },
  {
   "cell_type": "code",
   "execution_count": 5,
   "metadata": {},
   "outputs": [],
   "source": [
    "# Set Stable Diffusion 1.5 Model Path\n",
    "\n",
    "sd15_ckpt_dir=model_dirs.dirs['sd15']['checkpoints']\n",
    "sd15_vae_dir=model_dirs.dirs['sd15']['vae']\n",
    "sd15_lora_dir=model_dirs.dirs['sd15']['loras']\n",
    "sd15_controlnet_dir=model_dirs.dirs['sd15']['controlnet']\n",
    "sd15_embedding_dir=model_dirs.dirs['sd15']['embeddings']"
   ]
  },
  {
   "cell_type": "markdown",
   "metadata": {},
   "source": [
    "#### Checkpoint"
   ]
  },
  {
   "cell_type": "code",
   "execution_count": null,
   "metadata": {},
   "outputs": [],
   "source": [
    "# Download Stable Diffusion 1.5 Model\n",
    "hf_hub_download(repo_id=\"runwayml/stable-diffusion-v1-5\", filename=\"v1-5-pruned-emaonly.safetensors\", local_dir=sd15_ckpt_dir)"
   ]
  },
  {
   "cell_type": "code",
   "execution_count": null,
   "metadata": {},
   "outputs": [],
   "source": [
    "# Download Stable Diffusion 1.5 Inpaint Model\n",
    "hf_hub_download(repo_id=\"runwayml/stable-diffusion-inpainting\", filename=\"sd-v1-5-inpainting.ckpt\", local_dir=sd15_ckpt_dir)"
   ]
  },
  {
   "cell_type": "code",
   "execution_count": null,
   "metadata": {},
   "outputs": [],
   "source": [
    "# Download Anything V3 Model\n",
    "civitai_download(model_version_id=34373, local_dir=sd15_ckpt_dir)"
   ]
  },
  {
   "cell_type": "code",
   "execution_count": null,
   "metadata": {},
   "outputs": [],
   "source": [
    "# Download Anything V5 Model\n",
    "civitai_download(model_version_id=30163, local_dir=sd15_ckpt_dir)"
   ]
  },
  {
   "cell_type": "code",
   "execution_count": null,
   "metadata": {},
   "outputs": [],
   "source": [
    "# Download Anything Ink Model\n",
    "civitai_download(model_version_id=90854, local_dir=sd15_ckpt_dir)"
   ]
  },
  {
   "cell_type": "code",
   "execution_count": null,
   "metadata": {},
   "outputs": [],
   "source": [
    "# Download AbyssOrangeMix3 Model\n",
    "if os.path.exists(f\"{sd15_ckpt_dir}/AOM3A1B_orangemixs.safetensors\"):\n",
    "    pass\n",
    "else:\n",
    "    hf_hub_download(repo_id=\"WarriorMama777/OrangeMixs\", filename=\"AOM3A1B_orangemixs.safetensors\", subfolder='Models/AbyssOrangeMix3', local_dir=sd15_ckpt_dir)\n",
    "    filename=\"AOM3A1B_orangemixs.safetensors\"\n",
    "    src=os.path.join(sd15_ckpt_dir, \"Models/AbyssOrangeMix3\")\n",
    "    dst=sd15_ckpt_dir\n",
    "    shutil.move(os.path.join(src, filename), os.path.join(dst, filename))\n",
    "    shutil.rmtree(os.path.join(sd15_ckpt_dir, \"Models\"))"
   ]
  },
  {
   "cell_type": "code",
   "execution_count": null,
   "metadata": {},
   "outputs": [],
   "source": [
    "# Download Counterfeit-V3.0 fp32 Model\n",
    "hf_hub_download(repo_id=\"gsdf/Counterfeit-V3.0\", filename=\"Counterfeit-V3.0_fp32.safetensors\", local_dir=sd15_ckpt_dir)"
   ]
  },
  {
   "cell_type": "code",
   "execution_count": null,
   "metadata": {},
   "outputs": [],
   "source": [
    "# Download Counterfeit-V3.0 fp16 fix Model\n",
    "hf_hub_download(repo_id=\"gsdf/Counterfeit-V3.0\", filename=\"Counterfeit-V3.0_fix_fp16.safetensors\", local_dir=sd15_ckpt_dir)"
   ]
  },
  {
   "cell_type": "code",
   "execution_count": null,
   "metadata": {},
   "outputs": [],
   "source": [
    "# Download ChilloutMix Ni pruned fp32 fix Model\n",
    "civitai_download(model_version_id=11745, local_dir=sd15_ckpt_dir)"
   ]
  },
  {
   "cell_type": "code",
   "execution_count": null,
   "metadata": {},
   "outputs": [],
   "source": [
    "# Download ChilloutMix Ni pruned fp16 fix Model\n",
    "civitai_download(model_version_id=11732, local_dir=sd15_ckpt_dir)"
   ]
  },
  {
   "cell_type": "code",
   "execution_count": null,
   "metadata": {},
   "outputs": [],
   "source": [
    "# Download DreamShaper 8 pruned Model\n",
    "hf_hub_download(repo_id=\"Lykon/DreamShaper\", filename=\"DreamShaper_8_pruned.safetensors\", local_dir=sd15_ckpt_dir)"
   ]
  },
  {
   "cell_type": "code",
   "execution_count": null,
   "metadata": {},
   "outputs": [],
   "source": [
    "# Download DreamShaper 8 Inpainting Model\n",
    "hf_hub_download(repo_id=\"Lykon/DreamShaper\", filename=\"DreamShaper_8_INPAINTING.inpainting.safetensors\", local_dir=sd15_ckpt_dir)"
   ]
  },
  {
   "cell_type": "code",
   "execution_count": null,
   "metadata": {},
   "outputs": [],
   "source": [
    "# Download MeinaMix Model\n",
    "civitai_download(model_version_id=948574, local_dir=sd15_ckpt_dir)"
   ]
  },
  {
   "cell_type": "code",
   "execution_count": null,
   "metadata": {},
   "outputs": [],
   "source": [
    "# Download Waifu Diffusion v1.4 Model\n",
    "hf_hub_download(repo_id=\"hakurei/waifu-diffusion-v1-4\", filename=\"wd-1-4-anime_e2.ckpt\", local_dir=sd15_ckpt_dir)"
   ]
  },
  {
   "cell_type": "code",
   "execution_count": null,
   "metadata": {},
   "outputs": [],
   "source": [
    "# Download AAM AnyLora Anime Mix Model\n",
    "hf_hub_download(repo_id=\"Lykon/AnyLoRA\", filename=\"AAM_Anylora_AnimeMix.safetensors\", local_dir=sd15_ckpt_dir)"
   ]
  },
  {
   "cell_type": "code",
   "execution_count": null,
   "metadata": {},
   "outputs": [],
   "source": [
    "# Download Blue Pencil Model\n",
    "hf_hub_download(repo_id=\"bluepen5805/blue_pencil\", filename=\"blue_pencil-v10.safetensors\", local_dir=sd15_ckpt_dir)"
   ]
  },
  {
   "cell_type": "code",
   "execution_count": null,
   "metadata": {},
   "outputs": [],
   "source": [
    "# Download Blue Pencil Realistic Model\n",
    "hf_hub_download(repo_id=\"bluepen5805/blue_pencil_realistic\", filename=\"blue_pencil_realistic-v1.safetensors\", local_dir=sd15_ckpt_dir)"
   ]
  },
  {
   "cell_type": "code",
   "execution_count": null,
   "metadata": {},
   "outputs": [],
   "source": [
    "# Download XpucT Reliberate Model\n",
    "hf_hub_download(repo_id=\"XpucT/Reliberate\", filename=\"Reliberate_v3.safetensors\", local_dir=sd15_ckpt_dir)"
   ]
  },
  {
   "cell_type": "code",
   "execution_count": null,
   "metadata": {},
   "outputs": [],
   "source": [
    "# Download XpucT Reliberate Inpainting Model\n",
    "hf_hub_download(repo_id=\"XpucT/Reliberate\", filename=\"Reliberate_v3-inpainting.safetensors\", local_dir=sd15_ckpt_dir)"
   ]
  },
  {
   "cell_type": "code",
   "execution_count": null,
   "metadata": {},
   "outputs": [],
   "source": [
    "# Download XpucT Anime Model\n",
    "hf_hub_download(repo_id=\"XpucT/Anime\", filename=\"Anime_v2.safetensors\", local_dir=sd15_ckpt_dir)"
   ]
  },
  {
   "cell_type": "code",
   "execution_count": null,
   "metadata": {},
   "outputs": [],
   "source": [
    "# Download XpucT Anime Inpainting Model\n",
    "hf_hub_download(repo_id=\"XpucT/Anime\", filename=\"Anime_v2-inpainting.safetensors\", local_dir=sd15_ckpt_dir)"
   ]
  },
  {
   "cell_type": "code",
   "execution_count": null,
   "metadata": {},
   "outputs": [],
   "source": [
    "# Download XpucT Deliberate Model\n",
    "hf_hub_download(repo_id=\"XpucT/Deliberate\", filename=\"Deliberate_v6.safetensors\", local_dir=sd15_ckpt_dir)"
   ]
  },
  {
   "cell_type": "code",
   "execution_count": null,
   "metadata": {},
   "outputs": [],
   "source": [
    "# Download XpucT Deliberate Inpainting Model\n",
    "hf_hub_download(repo_id=\"XpucT/Deliberate\", filename=\"Deliberate_v6-inpainting.safetensors\", local_dir=sd15_ckpt_dir)"
   ]
  },
  {
   "cell_type": "code",
   "execution_count": null,
   "metadata": {},
   "outputs": [],
   "source": [
    "# Download AnyLoRA BakedVae Blessed FP16 Model\n",
    "hf_hub_download(repo_id=\"Lykon/AnyLoRA\", filename=\"AnyLoRA_bakedVae_blessed_fp16.safetensors\", local_dir=sd15_ckpt_dir)"
   ]
  },
  {
   "cell_type": "code",
   "execution_count": 30,
   "metadata": {},
   "outputs": [],
   "source": [
    "# Delete cache\n",
    "!rm -rf {sd15_ckpt_dir}/.cache\n",
    "!rm -rf {sd15_ckpt_dir}/.civitai"
   ]
  },
  {
   "cell_type": "markdown",
   "metadata": {},
   "source": [
    "#### VAE"
   ]
  },
  {
   "cell_type": "code",
   "execution_count": null,
   "metadata": {},
   "outputs": [],
   "source": [
    "# Download Stable Diffusion 1.5 VAE\n",
    "hf_hub_download(repo_id=\"stabilityai/sd-vae-ft-mse-original\", filename=\"vae-ft-mse-840000-ema-pruned.safetensors\", local_dir=sd15_vae_dir)"
   ]
  },
  {
   "cell_type": "code",
   "execution_count": 32,
   "metadata": {},
   "outputs": [],
   "source": [
    "# Download Waifu Diffusion v1.4 kl-f8-anime2 VAE\n",
    "if os.path.exists(f\"{sd15_vae_dir}/kl-f8-anime2.ckpt\"):\n",
    "    pass\n",
    "else:\n",
    "    hf_hub_download(repo_id=\"hakurei/waifu-diffusion-v1-4\", filename=\"kl-f8-anime2.ckpt\", subfolder='vae', local_dir=sd15_vae_dir)\n",
    "    filename=\"kl-f8-anime2.ckpt\"\n",
    "    src=os.path.join(sd15_vae_dir, \"vae\")\n",
    "    dst=sd15_vae_dir\n",
    "    shutil.move(os.path.join(src, filename), os.path.join(dst, filename))\n",
    "    os.rmdir(src)"
   ]
  },
  {
   "cell_type": "code",
   "execution_count": 33,
   "metadata": {},
   "outputs": [],
   "source": [
    "# Download OrangeMix VAE\n",
    "if os.path.exists(f\"{sd15_vae_dir}/orangemix.vae.pt\"):\n",
    "    pass\n",
    "else:\n",
    "    hf_hub_download(repo_id=\"WarriorMama777/OrangeMixs\", filename=\"orangemix.vae.pt\", subfolder='VAEs', local_dir=sd15_vae_dir)\n",
    "    filename=\"orangemix.vae.pt\"\n",
    "    src=os.path.join(sd15_vae_dir, \"VAEs\")\n",
    "    dst=sd15_vae_dir\n",
    "    shutil.move(os.path.join(src, filename), os.path.join(dst, filename))\n",
    "    os.rmdir(src)"
   ]
  },
  {
   "cell_type": "code",
   "execution_count": null,
   "metadata": {},
   "outputs": [],
   "source": [
    "# Download Anything VAE\n",
    "civitai_download(model_version_id=119279, local_dir=sd15_vae_dir)"
   ]
  },
  {
   "cell_type": "code",
   "execution_count": null,
   "metadata": {},
   "outputs": [],
   "source": [
    "# Download ClearVAE\n",
    "civitai_download(model_version_id=88156, local_dir=sd15_vae_dir)"
   ]
  },
  {
   "cell_type": "code",
   "execution_count": 36,
   "metadata": {},
   "outputs": [],
   "source": [
    "# Delete cache\n",
    "!rm -rf {sd15_vae_dir}/.cache\n",
    "!rm -rf {sd15_vae_dir}/.civitai"
   ]
  },
  {
   "cell_type": "markdown",
   "metadata": {},
   "source": [
    "#### LoRA"
   ]
  },
  {
   "cell_type": "code",
   "execution_count": 37,
   "metadata": {},
   "outputs": [],
   "source": [
    "# Download Stable Diffusion 1.5 LCM LoRA\n",
    "if os.path.exists(f\"{sd15_lora_dir}/lcm-lora-sdv1-5.safetensors\"):\n",
    "    pass\n",
    "else:\n",
    "    hf_hub_download(repo_id=\"latent-consistency/lcm-lora-sdv1-5\", filename=\"pytorch_lora_weights.safetensors\", local_dir=sd15_lora_dir)\n",
    "    filepath=sd15_lora_dir\n",
    "    src=os.path.join(filepath, \"pytorch_lora_weights.safetensors\")\n",
    "    dst=os.path.join(filepath, \"lcm-lora-sdv1-5.safetensors\")\n",
    "    os.rename(src, dst)"
   ]
  },
  {
   "cell_type": "code",
   "execution_count": null,
   "metadata": {},
   "outputs": [],
   "source": [
    "# Download ShortBang Concept LoRA\n",
    "civitai_download(model_version_id=122064, local_dir=sd15_lora_dir)"
   ]
  },
  {
   "cell_type": "code",
   "execution_count": null,
   "metadata": {},
   "outputs": [],
   "source": [
    "# Download Disembodied Head V2 LoRA\n",
    "civitai_download(model_version_id=100482, local_dir=sd15_lora_dir)"
   ]
  },
  {
   "cell_type": "code",
   "execution_count": null,
   "metadata": {},
   "outputs": [],
   "source": [
    "# Download Dullahan LoRA\n",
    "civitai_download(model_version_id=186885, local_dir=sd15_lora_dir)"
   ]
  },
  {
   "cell_type": "code",
   "execution_count": null,
   "metadata": {},
   "outputs": [],
   "source": [
    "# Download HeadinJar LoRA\n",
    "civitai_download(model_version_id=77230, local_dir=sd15_lora_dir)"
   ]
  },
  {
   "cell_type": "code",
   "execution_count": null,
   "metadata": {},
   "outputs": [],
   "source": [
    "# Download Kirito LoRA\n",
    "civitai_download(model_version_id=141405, local_dir=sd15_lora_dir)"
   ]
  },
  {
   "cell_type": "code",
   "execution_count": null,
   "metadata": {},
   "outputs": [],
   "source": [
    "# Download Eugeo LoRA\n",
    "civitai_download(model_version_id=158391, local_dir=sd15_lora_dir)"
   ]
  },
  {
   "cell_type": "code",
   "execution_count": null,
   "metadata": {},
   "outputs": [],
   "source": [
    "# Download Tomboy LoRA\n",
    "civitai_download(model_version_id=120588, local_dir=sd15_lora_dir)"
   ]
  },
  {
   "cell_type": "code",
   "execution_count": null,
   "metadata": {},
   "outputs": [],
   "source": [
    "# Download TomboyBuzzcut1-2-0805 LoRA\n",
    "civitai_download(model_version_id=91509, local_dir=sd15_lora_dir)"
   ]
  },
  {
   "cell_type": "code",
   "execution_count": null,
   "metadata": {},
   "outputs": [],
   "source": [
    "# Download Princess Carry LoRA\n",
    "civitai_download(model_version_id=112975, local_dir=sd15_lora_dir)"
   ]
  },
  {
   "cell_type": "code",
   "execution_count": null,
   "metadata": {},
   "outputs": [],
   "source": [
    "# Download Shima920 V2 LoRA\n",
    "civitai_download(model_version_id=92833, local_dir=sd15_lora_dir)"
   ]
  },
  {
   "cell_type": "code",
   "execution_count": null,
   "metadata": {},
   "outputs": [],
   "source": [
    "# Download Anime Enhancer Midrange LoRA\n",
    "civitai_download(model_version_id=215522, local_dir=sd15_lora_dir)"
   ]
  },
  {
   "cell_type": "code",
   "execution_count": 49,
   "metadata": {},
   "outputs": [],
   "source": [
    "# Delete cache\n",
    "!rm -rf {sd15_lora_dir}/.cache\n",
    "!rm -rf {sd15_lora_dir}/.civitai"
   ]
  },
  {
   "cell_type": "markdown",
   "metadata": {},
   "source": [
    "#### Embedding"
   ]
  },
  {
   "cell_type": "code",
   "execution_count": null,
   "metadata": {},
   "outputs": [],
   "source": [
    "# Download EasyNegative\n",
    "hf_hub_download(repo_id=\"gsdf/EasyNegative\", repo_type=\"dataset\", filename=\"EasyNegative.safetensors\", local_dir=sd15_embedding_dir)"
   ]
  },
  {
   "cell_type": "code",
   "execution_count": 51,
   "metadata": {},
   "outputs": [],
   "source": [
    "# Download EasyNegativeV2\n",
    "if os.path.exists(f\"{sd15_embedding_dir}/EasyNegativeV2.safetensors\"):\n",
    "    pass\n",
    "else:\n",
    "    hf_hub_download(repo_id=\"gsdf/Counterfeit-V3.0\", filename=\"EasyNegativeV2.safetensors\", subfolder='embedding', local_dir=sd15_embedding_dir)\n",
    "    filename=\"EasyNegativeV2.safetensors\"\n",
    "    src=os.path.join(sd15_embedding_dir, \"embedding\")\n",
    "    dst=os.path.join(sd15_embedding_dir)\n",
    "    shutil.move(os.path.join(src, filename), os.path.join(dst, filename))\n",
    "    os.rmdir(src)"
   ]
  },
  {
   "cell_type": "code",
   "execution_count": null,
   "metadata": {},
   "outputs": [],
   "source": [
    "# Download bad-hand-v4\n",
    "civitai_download(model_version_id=230261, local_dir=sd15_embedding_dir)"
   ]
  },
  {
   "cell_type": "code",
   "execution_count": null,
   "metadata": {},
   "outputs": [],
   "source": [
    "# Download bad-hands-v5\n",
    "hf_hub_download(repo_id=\"Kajise/bad-hands\", filename=\"bad-hands-5.safetensors\", local_dir=sd15_embedding_dir)"
   ]
  },
  {
   "cell_type": "code",
   "execution_count": null,
   "metadata": {},
   "outputs": [],
   "source": [
    "# Download bad_prompt_version2\n",
    "hf_hub_download(repo_id=\"Nerfgun3/bad_prompt\", repo_type=\"dataset\", filename=\"bad_prompt_version2.pt\", local_dir=sd15_embedding_dir)"
   ]
  },
  {
   "cell_type": "code",
   "execution_count": null,
   "metadata": {},
   "outputs": [],
   "source": [
    "# Download bad-artist-anime\n",
    "hf_hub_download(repo_id=\"nick-x-hacker/bad-artist\", filename=\"bad-artist-anime.pt\", local_dir=sd15_embedding_dir)"
   ]
  },
  {
   "cell_type": "code",
   "execution_count": null,
   "metadata": {},
   "outputs": [],
   "source": [
    "# Download bad-artist\n",
    "hf_hub_download(repo_id=\"nick-x-hacker/bad-artist\", filename=\"bad-artist.pt\", local_dir=sd15_embedding_dir)"
   ]
  },
  {
   "cell_type": "code",
   "execution_count": null,
   "metadata": {},
   "outputs": [],
   "source": [
    "# Download Deep Negative V1 75 T\n",
    "civitai_download(model_version_id=5637, local_dir=sd15_embedding_dir)"
   ]
  },
  {
   "cell_type": "code",
   "execution_count": null,
   "metadata": {},
   "outputs": [],
   "source": [
    "# Download veryBadImageNegative\n",
    "civitai_download(model_version_id=25820, local_dir=sd15_embedding_dir)"
   ]
  },
  {
   "cell_type": "code",
   "execution_count": null,
   "metadata": {},
   "outputs": [],
   "source": [
    "# Download GS-Boyish\n",
    "civitai_download(model_version_id=95611, local_dir=sd15_embedding_dir)"
   ]
  },
  {
   "cell_type": "code",
   "execution_count": 60,
   "metadata": {},
   "outputs": [],
   "source": [
    "# Delete cache\n",
    "!rm -rf {sd15_embedding_dir}/.cache\n",
    "!rm -rf {sd15_embedding_dir}/.civitai"
   ]
  },
  {
   "cell_type": "markdown",
   "metadata": {},
   "source": [
    "#### ControlNet"
   ]
  },
  {
   "cell_type": "code",
   "execution_count": null,
   "metadata": {},
   "outputs": [],
   "source": [
    "# Download ControlNet SD15 ip2p Model\n",
    "hf_hub_download(repo_id=\"comfyanonymous/ControlNet-v1-1_fp16_safetensors\", filename=\"control_v11e_sd15_ip2p_fp16.safetensors\", local_dir=sd15_controlnet_dir)"
   ]
  },
  {
   "cell_type": "code",
   "execution_count": null,
   "metadata": {},
   "outputs": [],
   "source": [
    "# Download ControlNet SD15 Shuffle Model\n",
    "hf_hub_download(repo_id=\"comfyanonymous/ControlNet-v1-1_fp16_safetensors\", filename=\"control_v11e_sd15_shuffle_fp16.safetensors\", local_dir=sd15_controlnet_dir)"
   ]
  },
  {
   "cell_type": "code",
   "execution_count": null,
   "metadata": {},
   "outputs": [],
   "source": [
    "# Download ControlNet SD15 Tile Model\n",
    "hf_hub_download(repo_id=\"comfyanonymous/ControlNet-v1-1_fp16_safetensors\", filename=\"control_v11f1e_sd15_tile_fp16.safetensors\", local_dir=sd15_controlnet_dir)"
   ]
  },
  {
   "cell_type": "code",
   "execution_count": null,
   "metadata": {},
   "outputs": [],
   "source": [
    "# Download ControlNet SD15 Depth Model\n",
    "hf_hub_download(repo_id=\"comfyanonymous/ControlNet-v1-1_fp16_safetensors\", filename=\"control_v11f1p_sd15_depth_fp16.safetensors\", local_dir=sd15_controlnet_dir)"
   ]
  },
  {
   "cell_type": "code",
   "execution_count": null,
   "metadata": {},
   "outputs": [],
   "source": [
    "# Download ControlNet SD15 Canny Model\n",
    "hf_hub_download(repo_id=\"comfyanonymous/ControlNet-v1-1_fp16_safetensors\", filename=\"control_v11p_sd15_canny_fp16.safetensors\", local_dir=sd15_controlnet_dir)"
   ]
  },
  {
   "cell_type": "code",
   "execution_count": null,
   "metadata": {},
   "outputs": [],
   "source": [
    "# Download ControlNet SD15 Inpaint Model\n",
    "hf_hub_download(repo_id=\"comfyanonymous/ControlNet-v1-1_fp16_safetensors\", filename=\"control_v11p_sd15_inpaint_fp16.safetensors\", local_dir=sd15_controlnet_dir)"
   ]
  },
  {
   "cell_type": "code",
   "execution_count": null,
   "metadata": {},
   "outputs": [],
   "source": [
    "# Download ControlNet SD15 Lineart Model\n",
    "hf_hub_download(repo_id=\"comfyanonymous/ControlNet-v1-1_fp16_safetensors\", filename=\"control_v11p_sd15_lineart_fp16.safetensors\", local_dir=sd15_controlnet_dir)"
   ]
  },
  {
   "cell_type": "code",
   "execution_count": null,
   "metadata": {},
   "outputs": [],
   "source": [
    "# Download ControlNet SD15 MLSD Model\n",
    "hf_hub_download(repo_id=\"comfyanonymous/ControlNet-v1-1_fp16_safetensors\", filename=\"control_v11p_sd15_mlsd_fp16.safetensors\", local_dir=sd15_controlnet_dir)"
   ]
  },
  {
   "cell_type": "code",
   "execution_count": null,
   "metadata": {},
   "outputs": [],
   "source": [
    "# Download ControlNet NormalBae Canny Model\n",
    "hf_hub_download(repo_id=\"comfyanonymous/ControlNet-v1-1_fp16_safetensors\", filename=\"control_v11p_sd15_normalbae_fp16.safetensors\", local_dir=sd15_controlnet_dir)"
   ]
  },
  {
   "cell_type": "code",
   "execution_count": null,
   "metadata": {},
   "outputs": [],
   "source": [
    "# Download ControlNet SD15 OpenPose Model\n",
    "hf_hub_download(repo_id=\"comfyanonymous/ControlNet-v1-1_fp16_safetensors\", filename=\"control_v11p_sd15_openpose_fp16.safetensors\", local_dir=sd15_controlnet_dir)"
   ]
  },
  {
   "cell_type": "code",
   "execution_count": null,
   "metadata": {},
   "outputs": [],
   "source": [
    "# Download ControlNet SD15 Scribble Model\n",
    "hf_hub_download(repo_id=\"comfyanonymous/ControlNet-v1-1_fp16_safetensors\", filename=\"control_v11p_sd15_scribble_fp16.safetensors\", local_dir=sd15_controlnet_dir)"
   ]
  },
  {
   "cell_type": "code",
   "execution_count": null,
   "metadata": {},
   "outputs": [],
   "source": [
    "# Download ControlNet SD15 Seg Model\n",
    "hf_hub_download(repo_id=\"comfyanonymous/ControlNet-v1-1_fp16_safetensors\", filename=\"control_v11p_sd15_seg_fp16.safetensors\", local_dir=sd15_controlnet_dir)"
   ]
  },
  {
   "cell_type": "code",
   "execution_count": null,
   "metadata": {},
   "outputs": [],
   "source": [
    "# Download ControlNet SD15 Softedge Model\n",
    "hf_hub_download(repo_id=\"comfyanonymous/ControlNet-v1-1_fp16_safetensors\", filename=\"control_v11p_sd15_softedge_fp16.safetensors\", local_dir=sd15_controlnet_dir)"
   ]
  },
  {
   "cell_type": "code",
   "execution_count": null,
   "metadata": {},
   "outputs": [],
   "source": [
    "# Download ControlNet SD15 Lineart Anime Model\n",
    "hf_hub_download(repo_id=\"comfyanonymous/ControlNet-v1-1_fp16_safetensors\", filename=\"control_v11p_sd15s2_lineart_anime_fp16.safetensors\", local_dir=sd15_controlnet_dir)"
   ]
  },
  {
   "cell_type": "code",
   "execution_count": 75,
   "metadata": {},
   "outputs": [],
   "source": [
    "# Delete cache\n",
    "!rm -rf {sd15_controlnet_dir}/.cache"
   ]
  },
  {
   "cell_type": "markdown",
   "metadata": {},
   "source": [
    "### Download Stable Diffusion 2.x Model"
   ]
  },
  {
   "cell_type": "code",
   "execution_count": 76,
   "metadata": {},
   "outputs": [],
   "source": [
    "# Set Stable Diffusion 2.x Model Path\n",
    "\n",
    "sd2_ckpt_dir=model_dirs.dirs['sd2']['checkpoints']\n",
    "sd2_controlnet_dir=model_dirs.dirs['sd2']['controlnet']"
   ]
  },
  {
   "cell_type": "markdown",
   "metadata": {},
   "source": [
    "#### Checkpoint"
   ]
  },
  {
   "cell_type": "code",
   "execution_count": null,
   "metadata": {},
   "outputs": [],
   "source": [
    "# Download Stable Diffusion 2.0 768 Model\n",
    "hf_hub_download(repo_id=\"stabilityai/stable-diffusion-2\", filename=\"768-v-ema.safetensors\", local_dir=sd2_ckpt_dir)"
   ]
  },
  {
   "cell_type": "code",
   "execution_count": null,
   "metadata": {},
   "outputs": [],
   "source": [
    "# Download Stable Diffusion 2.0 512 Base Model\n",
    "hf_hub_download(repo_id=\"stabilityai/stable-diffusion-2-base\", filename=\"512-base-ema.safetensors\", local_dir=sd2_ckpt_dir)"
   ]
  },
  {
   "cell_type": "code",
   "execution_count": null,
   "metadata": {},
   "outputs": [],
   "source": [
    "# Download Stable Diffusion 2.0 512 Depth Model\n",
    "hf_hub_download(repo_id=\"stabilityai/stable-diffusion-2-depth\", filename=\"512-depth-ema.safetensors\", local_dir=sd2_ckpt_dir)"
   ]
  },
  {
   "cell_type": "code",
   "execution_count": null,
   "metadata": {},
   "outputs": [],
   "source": [
    "# Download Stable Diffusion 2.0 512 Inpainting Model\n",
    "hf_hub_download(repo_id=\"stabilityai/stable-diffusion-2-inpainting\", filename=\"512-inpainting-ema.safetensors\", local_dir=sd2_ckpt_dir)"
   ]
  },
  {
   "cell_type": "code",
   "execution_count": null,
   "metadata": {},
   "outputs": [],
   "source": [
    "# Download Stable Diffusion 2.1 Model\n",
    "hf_hub_download(repo_id=\"stabilityai/stable-diffusion-2-1\", filename=\"v2-1_768-ema-pruned.safetensors\", local_dir=sd2_ckpt_dir)"
   ]
  },
  {
   "cell_type": "code",
   "execution_count": null,
   "metadata": {},
   "outputs": [],
   "source": [
    "# Download Stable Diffusion 2.1 Base Model\n",
    "hf_hub_download(repo_id=\"stabilityai/stable-diffusion-2-1-base\", filename=\"v2-1_512-ema-pruned.safetensors\", local_dir=sd2_ckpt_dir)"
   ]
  },
  {
   "cell_type": "code",
   "execution_count": 83,
   "metadata": {},
   "outputs": [],
   "source": [
    "# Delete cache\n",
    "!rm -rf {sd2_ckpt_dir}/.cache"
   ]
  },
  {
   "cell_type": "markdown",
   "metadata": {},
   "source": [
    "#### ControlNet"
   ]
  },
  {
   "cell_type": "code",
   "execution_count": null,
   "metadata": {},
   "outputs": [],
   "source": [
    "# Download Stable Diffusion 2.1 ControlNet\n",
    "snapshot_download(repo_id=\"thibaud/controlnet-sd21\", allow_patterns=\"*.safetensors\", local_dir=sd2_controlnet_dir)"
   ]
  },
  {
   "cell_type": "code",
   "execution_count": 85,
   "metadata": {},
   "outputs": [],
   "source": [
    "# Delete cache\n",
    "!rm -rf {sd2_controlnet_dir}/.cache"
   ]
  },
  {
   "cell_type": "markdown",
   "metadata": {},
   "source": [
    "### Download Stable Diffusion XL Model"
   ]
  },
  {
   "cell_type": "code",
   "execution_count": 86,
   "metadata": {},
   "outputs": [],
   "source": [
    "sdxl_ckpt_dir=model_dirs.dirs['sdxl']['checkpoints']\n",
    "sdxl_vae_dir=model_dirs.dirs['sdxl']['vae']\n",
    "sdxl_lora_dir=model_dirs.dirs['sdxl']['loras']\n",
    "sdxl_controlnet_dir=model_dirs.dirs['sdxl']['controlnet']\n",
    "sdxl_embedding_dir=model_dirs.dirs['sdxl']['embeddings']"
   ]
  },
  {
   "cell_type": "markdown",
   "metadata": {},
   "source": [
    "#### Checkpoint"
   ]
  },
  {
   "cell_type": "code",
   "execution_count": null,
   "metadata": {},
   "outputs": [],
   "source": [
    "# Download Stable Diffusion XL 1.0 Base Model\n",
    "hf_hub_download(repo_id=\"stabilityai/stable-diffusion-xl-base-1.0\", filename=\"sd_xl_base_1.0.safetensors\", local_dir=sdxl_ckpt_dir)"
   ]
  },
  {
   "cell_type": "code",
   "execution_count": null,
   "metadata": {},
   "outputs": [],
   "source": [
    "# Download Stable Diffusion XL 1.0 Refiner Model\n",
    "hf_hub_download(repo_id=\"stabilityai/stable-diffusion-xl-refiner-1.0\", filename=\"sd_xl_refiner_1.0.safetensors\", local_dir=sdxl_ckpt_dir)"
   ]
  },
  {
   "cell_type": "code",
   "execution_count": null,
   "metadata": {},
   "outputs": [],
   "source": [
    "# Download Anything XL Model\n",
    "civitai_download(model_version_id=384264, local_dir=sdxl_ckpt_dir)"
   ]
  },
  {
   "cell_type": "code",
   "execution_count": null,
   "metadata": {},
   "outputs": [],
   "source": [
    "# Download AnimagineXL 3.1 Model\n",
    "hf_hub_download(repo_id=\"cagliostrolab/animagine-xl-3.1\", filename=\"animagine-xl-3.1.safetensors\", local_dir=sdxl_ckpt_dir)"
   ]
  },
  {
   "cell_type": "code",
   "execution_count": null,
   "metadata": {},
   "outputs": [],
   "source": [
    "# Download Gamma XL NSFW for Anything XL Model\n",
    "civitai_download(model_version_id=412021, local_dir=sdxl_ckpt_dir)"
   ]
  },
  {
   "cell_type": "code",
   "execution_count": null,
   "metadata": {},
   "outputs": [],
   "source": [
    "# Download Kohaku XL Epsilon Model\n",
    "civitai_download(model_version_id=546178, local_dir=sdxl_ckpt_dir)"
   ]
  },
  {
   "cell_type": "code",
   "execution_count": null,
   "metadata": {},
   "outputs": [],
   "source": [
    "# Download CounterfeitXL V2.5 Model\n",
    "hf_hub_download(repo_id=\"gsdf/CounterfeitXL-V2.0\", filename=\"CounterfeitXL-V2.5.safetensors\", local_dir=sdxl_ckpt_dir)"
   ]
  },
  {
   "cell_type": "code",
   "execution_count": null,
   "metadata": {},
   "outputs": [],
   "source": [
    "# Download Juggernaut XL Model\n",
    "hf_hub_download(repo_id=\"RunDiffusion/Juggernaut-XI-v11\", filename=\"Juggernaut-XI-byRunDiffusion.safetensors\", local_dir=sdxl_ckpt_dir)"
   ]
  },
  {
   "cell_type": "code",
   "execution_count": null,
   "metadata": {},
   "outputs": [],
   "source": [
    "# Download NoobAI XL Model\n",
    "civitai_download(model_version_id=968495, local_dir=sdxl_ckpt_dir)"
   ]
  },
  {
   "cell_type": "code",
   "execution_count": null,
   "metadata": {},
   "outputs": [],
   "source": [
    "# Download AAM XL Anime Mix Model\n",
    "hf_hub_download(repo_id=\"Lykon/AnyLoRA\", filename=\"AAM_XL_Anime_Mix.safetensors\", local_dir=sdxl_ckpt_dir)"
   ]
  },
  {
   "cell_type": "code",
   "execution_count": null,
   "metadata": {},
   "outputs": [],
   "source": [
    "# Download Blue Pencil XL Model\n",
    "hf_hub_download(repo_id=\"bluepen5805/blue_pencil-XL\", filename=\"blue_pencil-XL-v7.0.0.safetensors\", local_dir=sdxl_ckpt_dir)"
   ]
  },
  {
   "cell_type": "code",
   "execution_count": null,
   "metadata": {},
   "outputs": [],
   "source": [
    "# Download Anima Pencil XL Model\n",
    "hf_hub_download(repo_id=\"bluepen5805/anima_pencil-XL\", filename=\"anima_pencil-XL-v5.0.0.safetensors\", local_dir=sdxl_ckpt_dir)"
   ]
  },
  {
   "cell_type": "code",
   "execution_count": null,
   "metadata": {},
   "outputs": [],
   "source": [
    "# Download DreamShaper XL Model\n",
    "hf_hub_download(repo_id=\"Lykon/DreamShaper\", filename=\"DreamShaperXL1.0Alpha2_fixedVae_half_00001_.safetensors\", local_dir=sdxl_ckpt_dir)"
   ]
  },
  {
   "cell_type": "code",
   "execution_count": 100,
   "metadata": {},
   "outputs": [],
   "source": [
    "# Delete cache\n",
    "!rm -rf {sdxl_ckpt_dir}/.cache\n",
    "!rm -rf {sdxl_ckpt_dir}/.civitai"
   ]
  },
  {
   "cell_type": "markdown",
   "metadata": {},
   "source": [
    "#### VAE"
   ]
  },
  {
   "cell_type": "code",
   "execution_count": null,
   "metadata": {},
   "outputs": [],
   "source": [
    "# Download Stable Diffusion XL 1.0 VAE\n",
    "hf_hub_download(repo_id=\"madebyollin/sdxl-vae-fp16-fix\", filename=\"sdxl_vae.safetensors\", local_dir=sdxl_vae_dir)"
   ]
  },
  {
   "cell_type": "code",
   "execution_count": 102,
   "metadata": {},
   "outputs": [],
   "source": [
    "# Delete cache\n",
    "!rm -rf {sdxl_vae_dir}/.cache"
   ]
  },
  {
   "cell_type": "markdown",
   "metadata": {},
   "source": [
    "#### LoRA"
   ]
  },
  {
   "cell_type": "code",
   "execution_count": 103,
   "metadata": {},
   "outputs": [],
   "source": [
    "# Download Stable Diffusion XL LCM LoRA\n",
    "if os.path.exists(f\"{sdxl_lora_dir}/lcm-lora-sdxl.safetensors\"):\n",
    "    pass\n",
    "else:\n",
    "    hf_hub_download(repo_id=\"latent-consistency/lcm-lora-sdxl\", filename=\"pytorch_lora_weights.safetensors\", local_dir=sdxl_lora_dir)\n",
    "    filepath=sdxl_lora_dir\n",
    "    src=os.path.join(filepath,\"pytorch_lora_weights.safetensors\")\n",
    "    dst=os.path.join(filepath, \"lcm-lora-sdxl.safetensors\")\n",
    "    os.rename(src, dst)"
   ]
  },
  {
   "cell_type": "code",
   "execution_count": null,
   "metadata": {},
   "outputs": [],
   "source": [
    "# Download Envy Tomboy Slider XL LoRA\n",
    "civitai_download(model_version_id=251963, local_dir=sdxl_lora_dir)"
   ]
  },
  {
   "cell_type": "code",
   "execution_count": null,
   "metadata": {},
   "outputs": [],
   "source": [
    "# Download SAO Kirito SDXL Satu LoRA\n",
    "civitai_download(model_version_id=489270, local_dir=sdxl_lora_dir)"
   ]
  },
  {
   "cell_type": "code",
   "execution_count": null,
   "metadata": {},
   "outputs": [],
   "source": [
    "# Download XL Eugeo SAO Animagine XL 3.1 LoRA\n",
    "civitai_download(model_version_id=437049, local_dir=sdxl_lora_dir)"
   ]
  },
  {
   "cell_type": "code",
   "execution_count": null,
   "metadata": {},
   "outputs": [],
   "source": [
    "# Download Sailorboy XL LoRA\n",
    "civitai_download(model_version_id=134460, local_dir=sdxl_lora_dir)"
   ]
  },
  {
   "cell_type": "code",
   "execution_count": null,
   "metadata": {},
   "outputs": [],
   "source": [
    "# Download SDXL Disembodied head Headless LoRA\n",
    "civitai_download(model_version_id=515553, local_dir=sdxl_lora_dir)"
   ]
  },
  {
   "cell_type": "code",
   "execution_count": null,
   "metadata": {},
   "outputs": [],
   "source": [
    "# Download [Yue] Paintingboys SDXL LoRA\n",
    "civitai_download(model_version_id=144865, local_dir=sdxl_lora_dir)"
   ]
  },
  {
   "cell_type": "code",
   "execution_count": null,
   "metadata": {},
   "outputs": [],
   "source": [
    "# Download A Short cut v3 SDXL LoRA\n",
    "civitai_download(model_version_id=298618, local_dir=sdxl_lora_dir)"
   ]
  },
  {
   "cell_type": "code",
   "execution_count": null,
   "metadata": {},
   "outputs": [],
   "source": [
    "# Download Breasts Slider LoRA\n",
    "civitai_download(model_version_id=173866, local_dir=sdxl_lora_dir)"
   ]
  },
  {
   "cell_type": "code",
   "execution_count": null,
   "metadata": {},
   "outputs": [],
   "source": [
    "# Download SDXL Dark Knight LoRA\n",
    "civitai_download(model_version_id=570644, local_dir=sdxl_lora_dir)"
   ]
  },
  {
   "cell_type": "code",
   "execution_count": null,
   "metadata": {},
   "outputs": [],
   "source": [
    "# Download Enhancer V4 XL LoRA\n",
    "civitai_download(model_version_id=497695, local_dir=sdxl_lora_dir)"
   ]
  },
  {
   "cell_type": "code",
   "execution_count": null,
   "metadata": {},
   "outputs": [],
   "source": [
    "# Download Add Details XL LoRA\n",
    "civitai_download(model_version_id=436121, local_dir=sdxl_lora_dir)"
   ]
  },
  {
   "cell_type": "code",
   "execution_count": null,
   "metadata": {},
   "outputs": [],
   "source": [
    "# Download Head Swap (Male Head on Female Body) Animagine XL 3.1 LoRA\n",
    "civitai_download(model_version_id=513742, local_dir=sdxl_lora_dir)"
   ]
  },
  {
   "cell_type": "code",
   "execution_count": null,
   "metadata": {},
   "outputs": [],
   "source": [
    "# Download Head Swap (Female Head on Male Body) Animagine XL 3.1 LoRA\n",
    "civitai_download(model_version_id=429832, local_dir=sdxl_lora_dir)"
   ]
  },
  {
   "cell_type": "code",
   "execution_count": null,
   "metadata": {},
   "outputs": [],
   "source": [
    "# Download Original Character - 南飛鳥(Minami Asuka) XL for Animagine XL 3.1 LoRA\n",
    "hf_hub_download(repo_id=\"bean980310/minami-asuka-xl-animagine\", filename=\"minami-asuka-xl-animagine.safetensors\", local_dir=sdxl_lora_dir)"
   ]
  },
  {
   "cell_type": "code",
   "execution_count": null,
   "metadata": {},
   "outputs": [],
   "source": [
    "# Download Original Character - 南飛鳥(Minami Asuka) XL for Animagine XL 3.1 (Revision 1) LoRA\n",
    "hf_hub_download(repo_id=\"bean980310/minami-asuka-xl-animagine-rev-1\", filename=\"minami-asuka-xl-animagine-rev-1.safetensors\", local_dir=sdxl_lora_dir)"
   ]
  },
  {
   "cell_type": "code",
   "execution_count": null,
   "metadata": {},
   "outputs": [],
   "source": [
    "# Download Tomboy XL for Animagine XL 3.1 LoRA\n",
    "hf_hub_download(repo_id=\"bean980310/tomboy-xl-animagine\", filename=\"tomboy-xl-animagine.safetensors\", local_dir=sdxl_lora_dir)"
   ]
  },
  {
   "cell_type": "code",
   "execution_count": null,
   "metadata": {},
   "outputs": [],
   "source": [
    "# Download headswap XL for Animagine XL 3.1 LoRA\n",
    "hf_hub_download(repo_id=\"bean980310/headswap-xl-animagine\", filename=\"headswap-xl-animagine.safetensors\", local_dir=sdxl_lora_dir)"
   ]
  },
  {
   "cell_type": "code",
   "execution_count": null,
   "metadata": {},
   "outputs": [],
   "source": [
    "# Download anime-detailer-xl-lora\n",
    "hf_hub_download(repo_id=\"Linaqruf/anime-detailer-xl-lora\", filename=\"anime-detailer-xl.safetensors\", local_dir=sdxl_lora_dir)"
   ]
  },
  {
   "cell_type": "code",
   "execution_count": 120,
   "metadata": {},
   "outputs": [],
   "source": [
    "# Delete cache\n",
    "!rm -rf {sdxl_lora_dir}/.cache\n",
    "!rm -rf {sdxl_lora_dir}/.civitai"
   ]
  },
  {
   "cell_type": "markdown",
   "metadata": {},
   "source": [
    "#### Embedding"
   ]
  },
  {
   "cell_type": "code",
   "execution_count": 121,
   "metadata": {},
   "outputs": [],
   "source": [
    "# Download NegativeXL A\n",
    "if os.path.exists(f\"{sdxl_embedding_dir}/negativeXL_A.safetensors\"):\n",
    "    pass\n",
    "else:\n",
    "    hf_hub_download(repo_id=\"gsdf/CounterfeitXL\", filename=\"negativeXL_A.safetensors\", subfolder='embeddings', local_dir=sdxl_embedding_dir)\n",
    "    filename=\"negativeXL_A.safetensors\"\n",
    "    src=os.path.join(sdxl_embedding_dir, \"embeddings\")\n",
    "    dst=sdxl_embedding_dir\n",
    "    shutil.move(os.path.join(src, filename), os.path.join(dst, filename))\n",
    "    os.rmdir(src)"
   ]
  },
  {
   "cell_type": "code",
   "execution_count": 122,
   "metadata": {},
   "outputs": [],
   "source": [
    "# Download NegativeXL B\n",
    "if os.path.exists(f\"{sdxl_embedding_dir}/negativeXL_B.safetensors\"):\n",
    "    pass\n",
    "else:\n",
    "    hf_hub_download(repo_id=\"gsdf/CounterfeitXL\", filename=\"negativeXL_B.safetensors\", subfolder='embeddings', local_dir=sdxl_embedding_dir)\n",
    "    filename=\"negativeXL_B.safetensors\"\n",
    "    src=os.path.join(sdxl_embedding_dir, \"embeddings\")\n",
    "    dst=sdxl_embedding_dir\n",
    "    shutil.move(os.path.join(src, filename), os.path.join(dst, filename))\n",
    "    os.rmdir(src)"
   ]
  },
  {
   "cell_type": "code",
   "execution_count": 123,
   "metadata": {},
   "outputs": [],
   "source": [
    "# Download NegativeXL C\n",
    "if os.path.exists(f\"{sdxl_embedding_dir}/negativeXL_C.safetensors\"):\n",
    "    pass\n",
    "else:\n",
    "    hf_hub_download(repo_id=\"gsdf/CounterfeitXL\", filename=\"negativeXL_C.safetensors\", subfolder='embeddings', local_dir=sdxl_embedding_dir)\n",
    "    filename=\"negativeXL_C.safetensors\"\n",
    "    src=os.path.join(sdxl_embedding_dir, \"embeddings\")\n",
    "    dst=sdxl_embedding_dir\n",
    "    shutil.move(os.path.join(src, filename), os.path.join(dst, filename))\n",
    "    os.rmdir(src)"
   ]
  },
  {
   "cell_type": "code",
   "execution_count": 124,
   "metadata": {},
   "outputs": [],
   "source": [
    "# Download NegativeXL D\n",
    "if os.path.exists(f\"{sdxl_embedding_dir}/negativeXL_D.safetensors\"):\n",
    "    pass\n",
    "else:\n",
    "    hf_hub_download(repo_id=\"gsdf/CounterfeitXL\", filename=\"negativeXL_D.safetensors\", subfolder='embeddings', local_dir=sdxl_embedding_dir)\n",
    "    filename=\"negativeXL_D.safetensors\"\n",
    "    src=os.path.join(sdxl_embedding_dir, \"embeddings\")\n",
    "    dst=sdxl_embedding_dir\n",
    "    shutil.move(os.path.join(src, filename), os.path.join(dst, filename))\n",
    "    os.rmdir(src)"
   ]
  },
  {
   "cell_type": "code",
   "execution_count": null,
   "metadata": {},
   "outputs": [],
   "source": [
    "# Download DeepNegative XL\n",
    "civitai_download(model_version_id=454217, local_dir=sdxl_embedding_dir)"
   ]
  },
  {
   "cell_type": "code",
   "execution_count": null,
   "metadata": {},
   "outputs": [],
   "source": [
    "# Download Negative XL\n",
    "civitai_download(model_version_id=261856, local_dir=sdxl_embedding_dir)"
   ]
  },
  {
   "cell_type": "code",
   "execution_count": null,
   "metadata": {},
   "outputs": [],
   "source": [
    "# Download Negative XL V2\n",
    "civitai_download(model_version_id=264111, local_dir=sdxl_embedding_dir)"
   ]
  },
  {
   "cell_type": "code",
   "execution_count": null,
   "metadata": {},
   "outputs": [],
   "source": [
    "# Download Negative XL Color_Balance_Calibration_0.8\n",
    "civitai_download(model_version_id=431425, local_dir=sdxl_embedding_dir)"
   ]
  },
  {
   "cell_type": "code",
   "execution_count": 129,
   "metadata": {},
   "outputs": [],
   "source": [
    "# Delete cache\n",
    "!rm -rf {sdxl_embedding_dir}/.cache\n",
    "!rm -rf {sdxl_embedding_dir}/.civitai"
   ]
  },
  {
   "cell_type": "markdown",
   "metadata": {},
   "source": [
    "#### ControlNet"
   ]
  },
  {
   "cell_type": "markdown",
   "metadata": {},
   "source": [
    "**Stability AI**"
   ]
  },
  {
   "cell_type": "code",
   "execution_count": 130,
   "metadata": {},
   "outputs": [],
   "source": [
    "# Download Stability AI ControlNet XL Canny\n",
    "if os.path.exists(f\"{sdxl_controlnet_dir}/control-lora-canny-rank256.safetensors\"):\n",
    "    pass\n",
    "else:\n",
    "    hf_hub_download(repo_id=\"stabilityai/control-lora\", filename=\"control-lora-canny-rank256.safetensors\", subfolder='control-LoRAs-rank256', local_dir=sdxl_controlnet_dir)\n",
    "    filename='control-lora-canny-rank256.safetensors'\n",
    "    src=os.path.join(sdxl_controlnet_dir, 'control-LoRAs-rank256')\n",
    "    dst=sdxl_controlnet_dir\n",
    "    shutil.move(os.path.join(src, filename), os.path.join(dst, filename))\n",
    "    os.rmdir(src)"
   ]
  },
  {
   "cell_type": "code",
   "execution_count": 131,
   "metadata": {},
   "outputs": [],
   "source": [
    "# Download Stability AI ControlNet XL Depth\n",
    "if os.path.exists(f\"{sdxl_controlnet_dir}/control-lora-depth-rank256.safetensors\"):\n",
    "    pass\n",
    "else:\n",
    "    hf_hub_download(repo_id=\"stabilityai/control-lora\", filename=\"control-lora-depth-rank256.safetensors\", subfolder='control-LoRAs-rank256', local_dir=sdxl_controlnet_dir)\n",
    "    filename='control-lora-depth-rank256.safetensors'\n",
    "    src=os.path.join(sdxl_controlnet_dir, 'control-LoRAs-rank256')\n",
    "    dst=sdxl_controlnet_dir\n",
    "    shutil.move(os.path.join(src, filename), os.path.join(dst, filename))\n",
    "    os.rmdir(src)"
   ]
  },
  {
   "cell_type": "code",
   "execution_count": 132,
   "metadata": {},
   "outputs": [],
   "source": [
    "# Download Stability AI ControlNet XL Recolor\n",
    "if os.path.exists(f\"{sdxl_controlnet_dir}/control-lora-recolor-rank256.safetensors\"):\n",
    "    pass\n",
    "else:\n",
    "    hf_hub_download(repo_id=\"stabilityai/control-lora\", filename=\"control-lora-recolor-rank256.safetensors\", subfolder='control-LoRAs-rank256', local_dir=sdxl_controlnet_dir)\n",
    "    filename='control-lora-recolor-rank256.safetensors'\n",
    "    src=os.path.join(sdxl_controlnet_dir, 'control-LoRAs-rank256')\n",
    "    dst=sdxl_controlnet_dir\n",
    "    shutil.move(os.path.join(src, filename), os.path.join(dst, filename))\n",
    "    os.rmdir(src)"
   ]
  },
  {
   "cell_type": "code",
   "execution_count": 133,
   "metadata": {},
   "outputs": [],
   "source": [
    "# Download Stability AI ControlNet XL Sketch\n",
    "if os.path.exists(f\"{sdxl_controlnet_dir}/control-lora-sketch-rank256.safetensors\"):\n",
    "    pass\n",
    "else:\n",
    "    hf_hub_download(repo_id=\"stabilityai/control-lora\", filename=\"control-lora-sketch-rank256.safetensors\", subfolder='control-LoRAs-rank256', local_dir=sdxl_controlnet_dir)\n",
    "    filename='control-lora-sketch-rank256.safetensors'\n",
    "    src=os.path.join(sdxl_controlnet_dir, 'control-LoRAs-rank256')\n",
    "    dst=sdxl_controlnet_dir\n",
    "    shutil.move(os.path.join(src, filename), os.path.join(dst, filename))\n",
    "    os.rmdir(src)"
   ]
  },
  {
   "cell_type": "markdown",
   "metadata": {},
   "source": [
    "**Diffusers**"
   ]
  },
  {
   "cell_type": "code",
   "execution_count": 134,
   "metadata": {},
   "outputs": [],
   "source": [
    "# Download Diffusers ControlNet XL Canny\n",
    "if os.path.exists(f\"{sdxl_controlnet_dir}/controlnet-canny-sdxl-1.0.safetensors\"):\n",
    "    pass\n",
    "else:\n",
    "    hf_hub_download(repo_id=\"diffusers/controlnet-canny-sdxl-1.0\", filename=\"diffusion_pytorch_model.fp16.safetensors\", local_dir=sdxl_controlnet_dir)\n",
    "    filepath=sdxl_controlnet_dir\n",
    "    src=os.path.join(filepath,\"diffusion_pytorch_model.fp16.safetensors\")\n",
    "    dst=os.path.join(filepath, \"controlnet-canny-sdxl-1.0.safetensors\")\n",
    "    os.rename(src, dst)"
   ]
  },
  {
   "cell_type": "code",
   "execution_count": 135,
   "metadata": {},
   "outputs": [],
   "source": [
    "# Download Diffusers ControlNet XL Depth\n",
    "if os.path.exists(f\"{sdxl_controlnet_dir}/controlnet-depth-sdxl-1.0.safetensors\"):\n",
    "    pass\n",
    "else:\n",
    "    hf_hub_download(repo_id=\"diffusers/controlnet-depth-sdxl-1.0\", filename=\"diffusion_pytorch_model.fp16.safetensors\", local_dir=sdxl_controlnet_dir)\n",
    "    src=os.path.join(filepath,\"diffusion_pytorch_model.fp16.safetensors\")\n",
    "    dst=os.path.join(filepath, \"controlnet-depth-sdxl-1.0.safetensors\")\n",
    "    os.rename(src, dst)"
   ]
  },
  {
   "cell_type": "markdown",
   "metadata": {},
   "source": [
    "**Kataragi**"
   ]
  },
  {
   "cell_type": "code",
   "execution_count": null,
   "metadata": {},
   "outputs": [],
   "source": [
    "# Download Kataragi ControlNet XL Canny\n",
    "hf_hub_download(repo_id=\"kataragi/controlnet_canny\", filename=\"Kataragi_cannyXL-fp16.safetensors\", local_dir=sdxl_controlnet_dir)"
   ]
  },
  {
   "cell_type": "code",
   "execution_count": null,
   "metadata": {},
   "outputs": [],
   "source": [
    "# Download Kataragi ControlNet XL Flatline\n",
    "hf_hub_download(repo_id=\"kataragi/flatline\", filename=\"diffusers_xl_flatline_testXL-fp16.safetensors\", local_dir=sdxl_controlnet_dir)"
   ]
  },
  {
   "cell_type": "code",
   "execution_count": null,
   "metadata": {},
   "outputs": [],
   "source": [
    "# Download Kataragi ControlNet XL Inpaint\n",
    "hf_hub_download(repo_id=\"kataragi/controlnetXL_inpaint\", filename=\"Kataragi_inpaintXL-fp16.safetensors\", local_dir=sdxl_controlnet_dir)"
   ]
  },
  {
   "cell_type": "code",
   "execution_count": null,
   "metadata": {},
   "outputs": [],
   "source": [
    "# Download Kataragi ControlNet XL Line2Color\n",
    "hf_hub_download(repo_id=\"kataragi/controlnetXL_line2color\", filename=\"controlnetXL_line2colorV2-fp16.safetensors\", local_dir=sdxl_controlnet_dir)"
   ]
  },
  {
   "cell_type": "code",
   "execution_count": null,
   "metadata": {},
   "outputs": [],
   "source": [
    "# Download Kataragi ControlNet XL LineArt\n",
    "hf_hub_download(repo_id=\"kataragi/ControlNet-LineartXL\", filename=\"Katarag_lineartXL-fp16.safetensors\", local_dir=sdxl_controlnet_dir)"
   ]
  },
  {
   "cell_type": "code",
   "execution_count": null,
   "metadata": {},
   "outputs": [],
   "source": [
    "# Download Kataragi ControlNet XL ReColor\n",
    "hf_hub_download(repo_id=\"kataragi/ControlNet-recolorXL\", filename=\"diffusers_xl_recolor_testXL-fp16.safetensors\", local_dir=sdxl_controlnet_dir)"
   ]
  },
  {
   "cell_type": "code",
   "execution_count": null,
   "metadata": {},
   "outputs": [],
   "source": [
    "# Download Kataragi ControlNet XL Tori29 Blur\n",
    "hf_hub_download(repo_id=\"kataragi/ControlNet_tori29_blur\", filename=\"ControlNet_tori29_blur-fp16.safetensors\", local_dir=sdxl_controlnet_dir)"
   ]
  },
  {
   "cell_type": "code",
   "execution_count": null,
   "metadata": {},
   "outputs": [],
   "source": [
    "# Download Kataragi ControlNet XL Routh Coating\n",
    "hf_hub_download(repo_id=\"kataragi/controlnetXL-rough-coating\", filename=\"rough-coatingV1.safetensors\", local_dir=sdxl_controlnet_dir)"
   ]
  },
  {
   "cell_type": "markdown",
   "metadata": {},
   "source": [
    "**Thibaud**"
   ]
  },
  {
   "cell_type": "code",
   "execution_count": null,
   "metadata": {},
   "outputs": [],
   "source": [
    "# Download Thibaud ControlNet XL OpenPose\n",
    "hf_hub_download(repo_id=\"thibaud/controlnet-openpose-sdxl-1.0\", filename=\"control-lora-openposeXL2-rank256.safetensors\", local_dir=sdxl_controlnet_dir)"
   ]
  },
  {
   "cell_type": "markdown",
   "metadata": {},
   "source": [
    "**xinsir**"
   ]
  },
  {
   "cell_type": "code",
   "execution_count": 145,
   "metadata": {},
   "outputs": [],
   "source": [
    "# Download Xinsir ControlNet XL Union\n",
    "if os.path.exists(f\"{sdxl_controlnet_dir}/controlnet-union-sdxl-1.0-promax.safetensors\"):\n",
    "    pass\n",
    "else:\n",
    "    hf_hub_download(repo_id=\"xinsir/controlnet-union-sdxl-1.0\", filename=\"diffusion_pytorch_model_promax.safetensors\", local_dir=sdxl_controlnet_dir)\n",
    "    src=os.path.join(sdxl_controlnet_dir,\"diffusion_pytorch_model_promax.safetensors\")\n",
    "    dst=os.path.join(sdxl_controlnet_dir, \"controlnet-union-sdxl-1.0-promax.safetensors\")\n",
    "    os.rename(src, dst)"
   ]
  },
  {
   "cell_type": "code",
   "execution_count": 146,
   "metadata": {},
   "outputs": [],
   "source": [
    "# Delete cache\n",
    "!rm -rf {sdxl_controlnet_dir}/.cache"
   ]
  },
  {
   "cell_type": "markdown",
   "metadata": {},
   "source": [
    "### Download Pony Diffusion Model"
   ]
  },
  {
   "cell_type": "code",
   "execution_count": 147,
   "metadata": {},
   "outputs": [],
   "source": [
    "pony_ckpt_dir=model_dirs.dirs['pony']['checkpoints']\n",
    "pony_vae_dir=model_dirs.dirs['pony']['vae']\n",
    "pony_lora_dir=model_dirs.dirs['pony']['loras']"
   ]
  },
  {
   "cell_type": "markdown",
   "metadata": {},
   "source": [
    "#### Checkpoint"
   ]
  },
  {
   "cell_type": "code",
   "execution_count": null,
   "metadata": {},
   "outputs": [],
   "source": [
    "# Download Pony Diffusion XL V6 Model\n",
    "civitai_download(model_version_id=290640, local_dir=pony_ckpt_dir)"
   ]
  },
  {
   "cell_type": "code",
   "execution_count": null,
   "metadata": {},
   "outputs": [],
   "source": [
    "# Download AutismMix Pony Model\n",
    "civitai_download(model_version_id=324619, local_dir=pony_ckpt_dir)"
   ]
  },
  {
   "cell_type": "code",
   "execution_count": null,
   "metadata": {},
   "outputs": [],
   "source": [
    "# Download 7th Anime XL Pony Model\n",
    "civitai_download(model_version_id=441236, local_dir=pony_ckpt_dir)"
   ]
  },
  {
   "cell_type": "code",
   "execution_count": null,
   "metadata": {},
   "outputs": [],
   "source": [
    "# Download Hassaku XL (Pony) Model\n",
    "civitai_download(model_version_id=575495, local_dir=pony_ckpt_dir)"
   ]
  },
  {
   "cell_type": "code",
   "execution_count": null,
   "metadata": {},
   "outputs": [],
   "source": [
    "# Download Pony Pencil XL Model\n",
    "hf_hub_download(repo_id=\"bluepen5805/pony_pencil-XL\", filename=\"pony_pencil-XL-v2.0.0.safetensors\", local_dir=pony_ckpt_dir)"
   ]
  },
  {
   "cell_type": "code",
   "execution_count": null,
   "metadata": {},
   "outputs": [],
   "source": [
    "# Download T-ponynai3 Model\n",
    "civitai_download(model_version_id=814910, local_dir=pony_ckpt_dir)"
   ]
  },
  {
   "cell_type": "code",
   "execution_count": 154,
   "metadata": {},
   "outputs": [],
   "source": [
    "# Delete cache\n",
    "!rm -rf {pony_ckpt_dir}/.cache\n",
    "!rm -rf {pony_ckpt_dir}/.civitai"
   ]
  },
  {
   "cell_type": "markdown",
   "metadata": {},
   "source": [
    "#### VAE"
   ]
  },
  {
   "cell_type": "code",
   "execution_count": null,
   "metadata": {},
   "outputs": [],
   "source": [
    "# Download Pony Standard VAE\n",
    "civitai_download(model_version_id=739304, local_dir=pony_vae_dir)"
   ]
  },
  {
   "cell_type": "code",
   "execution_count": null,
   "metadata": {},
   "outputs": [],
   "source": [
    "# Download Pony Enhanced VAE Pastels\n",
    "civitai_download(model_version_id=739267, local_dir=pony_vae_dir)"
   ]
  },
  {
   "cell_type": "code",
   "execution_count": 157,
   "metadata": {},
   "outputs": [],
   "source": [
    "# Delete cache\n",
    "!rm -rf {pony_vae_dir}/.civitai"
   ]
  },
  {
   "cell_type": "markdown",
   "metadata": {},
   "source": [
    "#### LoRA"
   ]
  },
  {
   "cell_type": "code",
   "execution_count": null,
   "metadata": {},
   "outputs": [],
   "source": [
    "# Download Head Swap (Male Head on Female Body) Pony\n",
    "civitai_download(model_version_id=528192, local_dir=pony_lora_dir)"
   ]
  },
  {
   "cell_type": "code",
   "execution_count": null,
   "metadata": {},
   "outputs": [],
   "source": [
    "# Download Head Swap (Female Head on Male Body) Pony\n",
    "civitai_download(model_version_id=528196, local_dir=pony_lora_dir)"
   ]
  },
  {
   "cell_type": "code",
   "execution_count": null,
   "metadata": {},
   "outputs": [],
   "source": [
    "# Download SDXL Pony Headless\n",
    "civitai_download(model_version_id=357744, local_dir=pony_lora_dir)"
   ]
  },
  {
   "cell_type": "code",
   "execution_count": null,
   "metadata": {},
   "outputs": [],
   "source": [
    "# Download SDXL Pony Disembodied Head\n",
    "civitai_download(model_version_id=360519, local_dir=pony_lora_dir)"
   ]
  },
  {
   "cell_type": "code",
   "execution_count": null,
   "metadata": {},
   "outputs": [],
   "source": [
    "# Download Tomboy Style Pony\n",
    "advanced_download(model_version_id=647477, local_dir=pony_lora_dir, type_filter='Model', format_filter='SafeTensor', size_filter=None, fp_filter=None)"
   ]
  },
  {
   "cell_type": "code",
   "execution_count": 163,
   "metadata": {},
   "outputs": [],
   "source": [
    "# Delete cache\n",
    "!rm -rf {pony_lora_dir}/.civitai"
   ]
  },
  {
   "cell_type": "markdown",
   "metadata": {},
   "source": [
    "### Download Illustrious XL Model"
   ]
  },
  {
   "cell_type": "code",
   "execution_count": 164,
   "metadata": {},
   "outputs": [],
   "source": [
    "ilxi_ckpt_dir=model_dirs.dirs['ilxl']['checkpoints']"
   ]
  },
  {
   "cell_type": "markdown",
   "metadata": {},
   "source": [
    "#### Checkpoint"
   ]
  },
  {
   "cell_type": "code",
   "execution_count": null,
   "metadata": {},
   "outputs": [],
   "source": [
    "# Download Illustrious XL Model\n",
    "hf_hub_download(repo_id=\"OnomaAIResearch/Illustrious-xl-early-release-v0\", filename=\"Illustrious-XL-v0.1.safetensors\", local_dir=ilxi_ckpt_dir)"
   ]
  },
  {
   "cell_type": "code",
   "execution_count": null,
   "metadata": {},
   "outputs": [],
   "source": [
    "# Download Illustrious Pencil XL Model\n",
    "hf_hub_download(repo_id=\"bluepen5805/illustrious_pencil-XL\", filename=\"illustrious_pencil-XL-v1.2.0.safetensors\", local_dir=ilxi_ckpt_dir)"
   ]
  },
  {
   "cell_type": "code",
   "execution_count": 167,
   "metadata": {},
   "outputs": [],
   "source": [
    "# Delete cache\n",
    "!rm -rf {ilxl_ckpt_dir}/.cache"
   ]
  },
  {
   "cell_type": "markdown",
   "metadata": {},
   "source": [
    "### Download Stable Diffusion 3.x Model"
   ]
  },
  {
   "cell_type": "code",
   "execution_count": 168,
   "metadata": {},
   "outputs": [],
   "source": [
    "sd3_ckpt_dir=model_dirs.dirs['sd3']['checkpoints']\n",
    "sd35_medium_ckpt_dir=model_dirs.dirs['sd35_medium']['checkpoints']\n",
    "sd35_large_ckpt_dir=model_dirs.dirs['sd35_large']['checkpoints']\n",
    "# sd3_clip_dir=model_dirs.dirs['sd3']['clip']\n",
    "# sd35_medium_clip_dir=model_dirs.dirs['sd35_medium']['clip']\n",
    "# sd35_large_clip_dir=model_dirs.dirs['sd35_large']['clip']"
   ]
  },
  {
   "cell_type": "markdown",
   "metadata": {},
   "source": [
    "#### Checkpoint"
   ]
  },
  {
   "cell_type": "markdown",
   "metadata": {},
   "source": [
    "**Stable Diffusion 3 Medium**"
   ]
  },
  {
   "cell_type": "code",
   "execution_count": null,
   "metadata": {},
   "outputs": [],
   "source": [
    "# Download Stable Diffusion 3 Medium Model\n",
    "hf_hub_download(repo_id=\"stabilityai/stable-diffusion-3-medium\", filename=\"sd3_medium.safetensors\", local_dir=sd3_ckpt_dir)"
   ]
  },
  {
   "cell_type": "markdown",
   "metadata": {},
   "source": [
    "**Stable Diffusion 3.5 Medium**"
   ]
  },
  {
   "cell_type": "code",
   "execution_count": null,
   "metadata": {},
   "outputs": [],
   "source": [
    "# Download Stable Diffusion 3.5 Medium Model\n",
    "hf_hub_download(repo_id=\"stabilityai/stable-diffusion-3.5-medium\", filename=\"sd3.5_medium.safetensors\", local_dir=sd35_medium_ckpt_dir)"
   ]
  },
  {
   "cell_type": "code",
   "execution_count": null,
   "metadata": {},
   "outputs": [],
   "source": [
    "# Download Intermediate(SD 3.5 medium) Model\n",
    "civitai_download(model_version_id=1019118, local_dir=sd35_medium_ckpt_dir)"
   ]
  },
  {
   "cell_type": "markdown",
   "metadata": {},
   "source": [
    "**Stable Diffusion 3.5 Large**"
   ]
  },
  {
   "cell_type": "code",
   "execution_count": null,
   "metadata": {},
   "outputs": [],
   "source": [
    "# Download Stable Diffusion 3.5 Large Model\n",
    "hf_hub_download(repo_id=\"stabilityai/stable-diffusion-3.5-large\", filename=\"sd3.5_large.safetensors\", local_dir=sd35_large_ckpt_dir)"
   ]
  },
  {
   "cell_type": "code",
   "execution_count": null,
   "metadata": {},
   "outputs": [],
   "source": [
    "# Download SD 3.5 Large Modern Anime Full Model\n",
    "hf_hub_download(repo_id=\"alfredplpl/sd3-5-large-modern-anime-full\", filename=\"sd3_5_large_modern_anime_full.safetensors\", local_dir=sd35_large_ckpt_dir)"
   ]
  },
  {
   "cell_type": "code",
   "execution_count": 173,
   "metadata": {},
   "outputs": [],
   "source": [
    "# Delete cache\n",
    "!rm -rf {sd3_ckpt_dir}/.cache\n",
    "!rm -rf {sd35_medium_ckpt_dir}/.cache\n",
    "!rm -rf {sd35_medium_ckpt_dir}/.civitai\n",
    "!rm -rf {sd35_large_ckpt_dir}/.cache"
   ]
  },
  {
   "cell_type": "markdown",
   "metadata": {},
   "source": [
    "#### Lora"
   ]
  },
  {
   "cell_type": "code",
   "execution_count": null,
   "metadata": {},
   "outputs": [],
   "source": [
    "# Download SD3.5-Large-Anime-LoRA\n",
    "hf_hub_download(repo_id=\"prithivMLmods/SD3.5-Large-Anime-LoRA\", filename=\"SD3.5-Large-Anime-LoRA.safetensors\", local_dir=\"./models/loras/sd35_large\")"
   ]
  },
  {
   "cell_type": "code",
   "execution_count": null,
   "metadata": {},
   "outputs": [],
   "source": [
    "# civitai_download(model_version_id=1042731, local_dir=\"./models/loras/sd35_large\")"
   ]
  },
  {
   "cell_type": "markdown",
   "metadata": {},
   "source": [
    "### Download Flux.1 Dev Model"
   ]
  },
  {
   "cell_type": "code",
   "execution_count": 189,
   "metadata": {},
   "outputs": [],
   "source": [
    "flux_dev_ckpt_dir=model_dirs.dirs['flux1_d']['checkpoints']\n",
    "flux_dev_vae_dir=model_dirs.dirs['flux1_d']['vae']\n",
    "flux_dev_lora_dir=model_dirs.dirs['flux1_d']['loras']"
   ]
  },
  {
   "cell_type": "markdown",
   "metadata": {},
   "source": [
    "#### Checkpoint"
   ]
  },
  {
   "cell_type": "code",
   "execution_count": null,
   "metadata": {},
   "outputs": [],
   "source": [
    "# Download Flux.1 Dev Model\n",
    "hf_hub_download(repo_id=\"black-forest-labs/FLUX.1-dev\", filename=\"flux1-dev.safetensors\", local_dir=flux_dev_ckpt_dir)"
   ]
  },
  {
   "cell_type": "code",
   "execution_count": null,
   "metadata": {},
   "outputs": [],
   "source": [
    "# Download Blue Pencil Flux 1 Model\n",
    "hf_hub_download(repo_id=\"bluepen5805/blue_pencil-flux1\", filename=\"blue_pencil-flux1-v0.2.1-bf16.safetensors\", local_dir=flux_dev_ckpt_dir)"
   ]
  },
  {
   "cell_type": "code",
   "execution_count": 192,
   "metadata": {},
   "outputs": [],
   "source": [
    "# Delete cache\n",
    "!rm -rf {flux_dev_ckpt_dir}/.cache"
   ]
  },
  {
   "cell_type": "markdown",
   "metadata": {},
   "source": [
    "#### VAE"
   ]
  },
  {
   "cell_type": "code",
   "execution_count": null,
   "metadata": {},
   "outputs": [],
   "source": [
    "# Download Flux.1 Dev VAE\n",
    "hf_hub_download(repo_id=\"black-forest-labs/FLUX.1-dev\", filename=\"ae.safetensors\", local_dir=flux_dev_vae_dir)"
   ]
  },
  {
   "cell_type": "code",
   "execution_count": 194,
   "metadata": {},
   "outputs": [],
   "source": [
    "# Delete cache\n",
    "!rm -rf {flux_dev_vae_dir}/.cache"
   ]
  },
  {
   "cell_type": "markdown",
   "metadata": {},
   "source": [
    "#### LoRA"
   ]
  },
  {
   "cell_type": "code",
   "execution_count": null,
   "metadata": {},
   "outputs": [],
   "source": [
    "# Download Flux.1 Dev AntiBlur LoRA\n",
    "hf_hub_download(repo_id=\"Shakker-Labs/FLUX.1-dev-LoRA-AntiBlur\", filename=\"FLUX-dev-lora-AntiBlur.safetensors\", local_dir=flux_dev_lora_dir)"
   ]
  },
  {
   "cell_type": "code",
   "execution_count": null,
   "metadata": {},
   "outputs": [],
   "source": [
    "# Download Flux.1 Dev Add Details LoRA\n",
    "hf_hub_download(repo_id=\"Shakker-Labs/FLUX.1-dev-LoRA-add-details\", filename=\"FLUX-dev-lora-add_details.safetensors\", local_dir=flux_dev_lora_dir)"
   ]
  },
  {
   "cell_type": "code",
   "execution_count": null,
   "metadata": {},
   "outputs": [],
   "source": [
    "# Download Tomboy for Flux LoRA\n",
    "civitai_download(model_version_id=797322, local_dir=flux_dev_lora_dir)"
   ]
  },
  {
   "cell_type": "code",
   "execution_count": 198,
   "metadata": {},
   "outputs": [],
   "source": [
    "# Delete cache\n",
    "!rm -rf {flux_dev_lora_dir}/.cache\n",
    "!rm -rf {flux_dev_lora_dir}/.civitai"
   ]
  },
  {
   "cell_type": "markdown",
   "metadata": {},
   "source": [
    "### Download Upscale Model"
   ]
  },
  {
   "cell_type": "code",
   "execution_count": 199,
   "metadata": {},
   "outputs": [],
   "source": [
    "upscale_models_dir=\"./models/upscale_models\""
   ]
  },
  {
   "cell_type": "markdown",
   "metadata": {},
   "source": [
    "#### ESRGAN"
   ]
  },
  {
   "cell_type": "code",
   "execution_count": 200,
   "metadata": {},
   "outputs": [],
   "source": [
    "esrgan_dir=f\"{upscale_models_dir}/ESRGAN\""
   ]
  },
  {
   "cell_type": "code",
   "execution_count": null,
   "metadata": {},
   "outputs": [],
   "source": [
    "# Download 4x AnimeSharp Model\n",
    "hf_hub_download(repo_id=\"Kim2091/AnimeSharp\", filename=\"4x-AnimeSharp.pth\", local_dir=esrgan_dir)"
   ]
  },
  {
   "cell_type": "code",
   "execution_count": null,
   "metadata": {},
   "outputs": [],
   "source": [
    "# Download 4x UltraSharp Model\n",
    "hf_hub_download(repo_id=\"Kim2091/UltraSharp\", filename=\"4x-UltraSharp.pth\", local_dir=esrgan_dir)"
   ]
  },
  {
   "cell_type": "code",
   "execution_count": 203,
   "metadata": {},
   "outputs": [],
   "source": [
    "# Delete cache\n",
    "!rm -rf {esrgan_dir}/.cache"
   ]
  },
  {
   "cell_type": "markdown",
   "metadata": {},
   "source": [
    "#### RealESRGAN"
   ]
  },
  {
   "cell_type": "code",
   "execution_count": 204,
   "metadata": {},
   "outputs": [],
   "source": [
    "from requests import get\n",
    "from urllib.parse import urljoin\n",
    "\n",
    "def git_download(repo_id: str, filename: str, tag: str, local_dir: str):\n",
    "    repo_url=urljoin('https://github.com', repo_id, 'releases/download')\n",
    "    src=urljoin(repo_url, tag, filename)\n",
    "    filepath=os.path.join(local_dir, filename)\n",
    "    download(src, filepath)\n",
    "    return src, filepath\n",
    "\n",
    "def download(url, filename):\n",
    "    with open(filename, 'wb') as f:\n",
    "        response = get(url)\n",
    "        f.write(response.content)\n",
    "\n",
    "realesrgan_dir=f\"{upscale_models_dir}/RealESRGAN\""
   ]
  },
  {
   "cell_type": "code",
   "execution_count": null,
   "metadata": {},
   "outputs": [],
   "source": [
    "# Download RealESRGAN x4 Plus Model\n",
    "git_download(repo_id='xinntao/Real-ESRGAN', filename='RealESRGAN_x4plus.pth', tag='v0.1.0', local_dir=realesrgan_dir)"
   ]
  },
  {
   "cell_type": "code",
   "execution_count": null,
   "metadata": {},
   "outputs": [],
   "source": [
    "# Download RealESRGAN x4 Plus Anime 6B Model\n",
    "git_download(repo_id=\"xinntao/Real-ESRGAN\", filename=\"RealESRGAN_x4plus_anime_6B.pth\", tag='v0.2.2.4', local_dir=realesrgan_dir)"
   ]
  },
  {
   "cell_type": "markdown",
   "metadata": {},
   "source": [
    "#### LDSR"
   ]
  },
  {
   "cell_type": "code",
   "execution_count": 207,
   "metadata": {},
   "outputs": [],
   "source": [
    "# Download LDSR Model\n",
    "ldsr_dir=f'{upscale_models_dir}/LDSR'\n",
    "download(\"https://heibox.uni-heidelberg.de/f/31a76 db13ea27482981b4/?dl=1\", f\"{ldsr_dir}/2021-11-02T06-24-44-project.yaml\")\n",
    "download(\"https://heibox.uni-heidelberg.de/f/578df07c8fc04ffbadf3/?dl=1\", f\"{ldsr_dir}/last.ckpt\")"
   ]
  },
  {
   "cell_type": "markdown",
   "metadata": {},
   "source": [
    "#### Stable Diffusion x4 Upscale Model"
   ]
  },
  {
   "cell_type": "code",
   "execution_count": null,
   "metadata": {},
   "outputs": [],
   "source": [
    "#download Stable Diffusion x4 Upscale model\n",
    "hf_hub_download(repo_id=\"stabilityai/stable-diffusion-x4-upscaler\", filename=\"x4-upscaler-ema.safetensors\", local_dir=\"./models/checkpoints/upscale\")"
   ]
  },
  {
   "cell_type": "code",
   "execution_count": 209,
   "metadata": {},
   "outputs": [],
   "source": [
    "# Delete cache\n",
    "!rm -rf ./models/checkpoints/upscale/.cache"
   ]
  },
  {
   "cell_type": "markdown",
   "metadata": {},
   "source": [
    "### Download Face Restore Model"
   ]
  },
  {
   "cell_type": "code",
   "execution_count": null,
   "metadata": {},
   "outputs": [],
   "source": [
    "# Download GFPGAN Model\n",
    "git_download(repo_id=\"TencentARC/GFPGAN\", filename=\"GFPGANv1.4.pth\", tag='v1.3.4', local_dir='./models/facerestore_models/GFPGAN')"
   ]
  },
  {
   "cell_type": "code",
   "execution_count": null,
   "metadata": {},
   "outputs": [],
   "source": [
    "# Download Code Former Model\n",
    "git_download(repo_id=\"TencentARC/GFPGAN\", filename=\"CodeFormer.pth\", tag='v1.3.4', local_dir=\"./models/facerestore_models/CodeFormer\")"
   ]
  },
  {
   "cell_type": "code",
   "execution_count": null,
   "metadata": {},
   "outputs": [],
   "source": [
    "# Download Restore Former Model\n",
    "git_download(repo_id='TencentARC/GFPGAN', filename='RestoreFormer.pth', tag='v1,3,4', local_dir='./models/facerestore_models/CodeFormer')"
   ]
  },
  {
   "cell_type": "markdown",
   "metadata": {},
   "source": [
    "### Download UltraLytics Model"
   ]
  },
  {
   "cell_type": "code",
   "execution_count": null,
   "metadata": {},
   "outputs": [],
   "source": [
    "# Download UltraLytics BBOX Model\n",
    "snapshot_download(repo_id=\"Bingsu/adetailer\", allow_patterns=\"*.pt\", ignore_patterns=\"*-seg.pt\", local_dir=\"./models/ultralytics/bbox\")"
   ]
  },
  {
   "cell_type": "code",
   "execution_count": null,
   "metadata": {},
   "outputs": [],
   "source": [
    "# Download UltraLytics SEGM Model\n",
    "snapshot_download(repo_id=\"Bingsu/adetailer\", allow_patterns=\"*-seg.pt\", local_dir=\"./models/ultralytics/segm\")"
   ]
  },
  {
   "cell_type": "code",
   "execution_count": 191,
   "metadata": {},
   "outputs": [],
   "source": [
    "# Delete cache\n",
    "!rm -rf ./models/ultralytics/bbox/.cache\n",
    "!rm -rf ./models/ultralytics/segm/.cache"
   ]
  },
  {
   "cell_type": "markdown",
   "metadata": {},
   "source": [
    "### Download Segment Anything Model"
   ]
  },
  {
   "cell_type": "markdown",
   "metadata": {},
   "source": [
    "#### SAMS"
   ]
  },
  {
   "cell_type": "code",
   "execution_count": null,
   "metadata": {},
   "outputs": [],
   "source": [
    "sams_dir='./models/sams'"
   ]
  },
  {
   "cell_type": "code",
   "execution_count": 192,
   "metadata": {},
   "outputs": [],
   "source": [
    "# Download SAM Vit H Model\n",
    "download(\"https://dl.fbaipublicfiles.com/segment_anything/sam_vit_h_4b8939.pth\", f\"{sams_dir}/sam_vit_h_4b8939.pth\")"
   ]
  },
  {
   "cell_type": "code",
   "execution_count": 193,
   "metadata": {},
   "outputs": [],
   "source": [
    "# Download SAM Vit L Model\n",
    "download(\"https://dl.fbaipublicfiles.com/segment_anything/sam_vit_l_0b3195.pth\", f\"{sams_dir}/sam_vit_l_0b3195.pth\")"
   ]
  },
  {
   "cell_type": "code",
   "execution_count": 194,
   "metadata": {},
   "outputs": [],
   "source": [
    "# Download SAM Vit B Model\n",
    "download(\"https://dl.fbaipublicfiles.com/segment_anything/sam_vit_b_01ec64.pth\", f\"{sams_dir}/sam_vit_b_01ec64.pth\")"
   ]
  },
  {
   "cell_type": "markdown",
   "metadata": {},
   "source": [
    "#### SAMS HQ"
   ]
  },
  {
   "cell_type": "code",
   "execution_count": null,
   "metadata": {},
   "outputs": [],
   "source": [
    "# Download SAM HQ Vit H Model\n",
    "hf_hub_download(repo_id='lkeab/hq-sam', filename='sam_hq_vit_h.pth', local_dir=sams_dir)"
   ]
  },
  {
   "cell_type": "code",
   "execution_count": null,
   "metadata": {},
   "outputs": [],
   "source": [
    "# Download SAM HQ Vit L Model\n",
    "hf_hub_download(repo_id='lkeab/hq-sam', filename='sam_hq_vit_l.pth', local_dir=sams_dir)"
   ]
  },
  {
   "cell_type": "code",
   "execution_count": null,
   "metadata": {},
   "outputs": [],
   "source": [
    "# Download SAM HQ Vit B Model\n",
    "hf_hub_download(repo_id='lkeab/hq-sam', filename='sam_hq_vit_b.pth', local_dir=sams_dir)"
   ]
  },
  {
   "cell_type": "code",
   "execution_count": null,
   "metadata": {},
   "outputs": [],
   "source": [
    "# Download SAM HQ Vit Tiny Model\n",
    "hf_hub_download(repo_id='lkeab/hq-sam', filename='sam_hq_vit_tiny.pth', local_dir=sams_dir)"
   ]
  },
  {
   "cell_type": "code",
   "execution_count": 200,
   "metadata": {},
   "outputs": [],
   "source": [
    "# Delete cache\n",
    "!rm -rf {sams_dir}/.cache"
   ]
  },
  {
   "cell_type": "markdown",
   "metadata": {},
   "source": [
    "### Download Clip"
   ]
  },
  {
   "cell_type": "code",
   "execution_count": null,
   "metadata": {},
   "outputs": [],
   "source": [
    "clip_dir=\"./models/clip\""
   ]
  },
  {
   "cell_type": "code",
   "execution_count": null,
   "metadata": {},
   "outputs": [],
   "source": [
    "# Download Clip L\n",
    "if os.path.exists(f\"{clip_dir}/clip_l.safetensors\"):\n",
    "    pass\n",
    "else:\n",
    "    hf_hub_download(repo_id=\"stabilityai/stable-diffusion-3.5-medium\", filename=\"clip_l.safetensors\", subfolder='text_encoders', local_dir=clip_dir)\n",
    "    filename='clip_l.safetensors'\n",
    "    src=os.path.join(clip_dir, 'text_encoders')\n",
    "    dst=os.path.join(clip_dir)\n",
    "    shutil.move(os.path.join(src, filename), os.path.join(dst, filename))\n",
    "    # os.rmdir(src)"
   ]
  },
  {
   "cell_type": "code",
   "execution_count": null,
   "metadata": {},
   "outputs": [],
   "source": [
    "# Download Clip G\n",
    "if os.path.exists(f\"{clip_dir}/clip_g.safetensors\"):\n",
    "    pass\n",
    "else:\n",
    "    hf_hub_download(repo_id=\"stabilityai/stable-diffusion-3.5-large\", filename=\"clip_g.safetensors\", subfolder='text_encoders', local_dir=clip_dir)\n",
    "    filename='clip_g.safetensors'\n",
    "    src=os.path.join(clip_dir, 'text_encoders')\n",
    "    dst=os.path.join(clip_dir)\n",
    "    shutil.move(os.path.join(src, filename), os.path.join(dst, filename))\n",
    "    os.rmdir(src)"
   ]
  },
  {
   "cell_type": "code",
   "execution_count": null,
   "metadata": {},
   "outputs": [],
   "source": [
    "# Download T5 XXL FP8\n",
    "if os.path.exists(f\"{clip_dir}/t5xxl_fp8_e4m3fn.safetensors\"):\n",
    "    pass\n",
    "else:\n",
    "    hf_hub_download(repo_id=\"stabilityai/stable-diffusion-3.5-large\", filename=\"t5xxl_fp8_e4m3fn.safetensors\", subfolder='text_encoders', local_dir=clip_dir)\n",
    "    filename='t5xxl_fp8_e4m3fn.safetensors'\n",
    "    src=os.path.join(clip_dir, 'text_encoders')\n",
    "    dst=os.path.join(clip_dir)\n",
    "    shutil.move(os.path.join(src, filename), os.path.join(dst, filename))\n",
    "    os.rmdir(src)"
   ]
  },
  {
   "cell_type": "code",
   "execution_count": null,
   "metadata": {},
   "outputs": [],
   "source": [
    "# Download T5 XXL FP16\n",
    "if os.path.exists(f\"{clip_dir}/t5xxl_fp16.safetensors\"):\n",
    "    pass\n",
    "else:\n",
    "    hf_hub_download(repo_id=\"stabilityai/stable-diffusion-3.5-large\", filename=\"t5xxl_fp16.safetensors\", subfolder='text_encoders', local_dir=clip_dir)\n",
    "    filename='t5xxl_fp16.safetensors'\n",
    "    src=os.path.join(clip_dir, 'text_encoders')\n",
    "    dst=os.path.join(clip_dir)\n",
    "    shutil.move(os.path.join(src, filename), os.path.join(dst, filename))\n",
    "    os.rmdir(src)"
   ]
  },
  {
   "cell_type": "code",
   "execution_count": 178,
   "metadata": {},
   "outputs": [],
   "source": [
    "# Delete cache\n",
    "!rm -rf {clip_dir}/.cache"
   ]
  },
  {
   "cell_type": "markdown",
   "metadata": {},
   "source": [
    "### Download Clip Vision Model"
   ]
  },
  {
   "cell_type": "code",
   "execution_count": 201,
   "metadata": {},
   "outputs": [],
   "source": [
    "clip_vision_dir='./models/clip_vision'"
   ]
  },
  {
   "cell_type": "code",
   "execution_count": null,
   "metadata": {},
   "outputs": [],
   "source": [
    "# Download OpenAI Clip Vit Large Patch14\n",
    "if os.path.exists(f\"{clip_vision_dir}/clip-vit-large-patch14.safetensors\"):\n",
    "    pass\n",
    "else:\n",
    "    hf_hub_download(repo_id=\"openai/clip-vit-large-patch14\", filename=\"model.safetensors\", local_dir=clip_vision_dir)\n",
    "    src=os.path.join(clip_vision_dir,\"model.safetensors\")\n",
    "    dst=os.path.join(clip_vision_dir, \"clip-vit-large-patch14.safetensors\")\n",
    "    os.rename(src, dst)"
   ]
  },
  {
   "cell_type": "code",
   "execution_count": null,
   "metadata": {},
   "outputs": [],
   "source": [
    "# Download Laion CLIP-ViT-H-14-laion2B-s32B-b79K\n",
    "if os.path.exists(f\"{clip_vision_dir}/CLIP-ViT-H-14-laion2B-s32B-b79K.safetensors\"):\n",
    "    pass\n",
    "else:\n",
    "    hf_hub_download(repo_id=\"laion/CLIP-ViT-H-14-laion2B-s32B-b79K\", filename=\"open_clip_pytorch_model.safetensors\", local_dir=clip_vision_dir)\n",
    "    src=os.path.join(clip_vision_dir,\"open_clip_pytorch_model.safetensors\")\n",
    "    dst=os.path.join(clip_vision_dir, \"CLIP-ViT-H-14-laion2B-s32B-b79K.safetensors\")\n",
    "    os.rename(src, dst)"
   ]
  },
  {
   "cell_type": "code",
   "execution_count": null,
   "metadata": {},
   "outputs": [],
   "source": [
    "# Download Laion CLIP-ViT-bigG-14-laion2B-39B-b160k\n",
    "if os.path.exists(f\"{clip_vision_dir}/CLIP-ViT-bigG-14-laion2B-39B-b160k.safetensors\"):\n",
    "    pass\n",
    "else:\n",
    "    hf_hub_download(repo_id=\"laion/CLIP-ViT-bigG-14-laion2B-39B-b160k\", filename=\"open_clip_pytorch_model.safetensors\", local_dir=clip_vision_dir)\n",
    "    src=os.path.join(clip_vision_dir,\"open_clip_pytorch_model.safetensors\")\n",
    "    dst=os.path.join(clip_vision_dir, \"CLIP-ViT-bigG-14-laion2B-39B-b160k.safetensors\")\n",
    "    os.rename(src, dst)"
   ]
  },
  {
   "cell_type": "code",
   "execution_count": 205,
   "metadata": {},
   "outputs": [],
   "source": [
    "# Delete cache\n",
    "!rm -rf {clip_vision_dir}/.cache"
   ]
  },
  {
   "cell_type": "markdown",
   "metadata": {},
   "source": [
    "### Download LLM Model"
   ]
  },
  {
   "cell_type": "code",
   "execution_count": 5,
   "metadata": {},
   "outputs": [],
   "source": [
    "llm_dir=\"./models/LLM\"\n",
    "transformers_dir=f\"{llm_dir}/transformers\"\n",
    "gguf_dir=f\"{llm_dir}/gguf\"\n",
    "mlx_dir=f\"{llm_dir}/mlx\""
   ]
  },
  {
   "cell_type": "markdown",
   "metadata": {},
   "source": [
    "#### Llama"
   ]
  },
  {
   "cell_type": "code",
   "execution_count": 7,
   "metadata": {},
   "outputs": [],
   "source": [
    "llama_transformers_dir=f\"{transformers_dir}/llama\"\n",
    "llama_gguf_dir=f\"{gguf_dir}/llama\"\n",
    "llama_mlx_dir=f\"{mlx_dir}/llama\""
   ]
  },
  {
   "cell_type": "markdown",
   "metadata": {},
   "source": [
    "**Transformers**"
   ]
  },
  {
   "cell_type": "code",
   "execution_count": null,
   "metadata": {},
   "outputs": [],
   "source": [
    "# Download meta-llama/Llama-3.1-8B-Instruct Model\n",
    "snapshot_download(repo_id=\"meta-llama/Llama-3.1-8B-Instruct\", local_dir=f\"{llama_transformers_dir}/meta-llama__Llama-3.1-8B-Instruct\", ignore_patterns=[\"*.md\", \".gitattributes\", \"original/\", \"LICENSE.txt\", \"LICENSE\"])"
   ]
  },
  {
   "cell_type": "code",
   "execution_count": null,
   "metadata": {},
   "outputs": [],
   "source": [
    "# Download meta-llama/Llama-3.2-11B-Vision Model\n",
    "snapshot_download(repo_id=\"meta-llama/Llama-3.2-11B-Vision\", local_dir=f\"{llama_transformers_dir}/meta-llama__Llama-3.2-11B-Vision\", ignore_patterns=[\"*.md\", \".gitattributes\", \"original/\", \"LICENSE.txt\", \"LICENSE\"])"
   ]
  },
  {
   "cell_type": "code",
   "execution_count": null,
   "metadata": {},
   "outputs": [],
   "source": [
    "# Download meta-llama/Llama-3.2-11B-Vision-Instruct Model\n",
    "snapshot_download(repo_id=\"meta-llama/Llama-3.2-11B-Vision-Instruct\", local_dir=f\"{llama_transformers_dir}/meta-llama__Llama-3.2-11B-Vision-Instruct\", ignore_patterns=[\"*.md\", \".gitattributes\", \"original/\", \"LICENSE.txt\", \"LICENSE\"])"
   ]
  },
  {
   "cell_type": "markdown",
   "metadata": {},
   "source": [
    "**GGUF**"
   ]
  },
  {
   "cell_type": "code",
   "execution_count": null,
   "metadata": {},
   "outputs": [],
   "source": [
    "# Download Llama-3.2-11B-Vision-Instruct GGUF Model\n",
    "hf_hub_download(repo_id=\"leafspark/Llama-3.2-11B-Vision-Instruct-GGUF\", filename=\"Llama-3.2-11B-Vision-Instruct.Q4_K_M.gguf\", local_dir=f\"{llama_gguf_dir}/leafspark__Llama-3.2-11B-Vision-Instruct-GGUF\")"
   ]
  },
  {
   "cell_type": "markdown",
   "metadata": {},
   "source": [
    "**MLX**"
   ]
  },
  {
   "cell_type": "code",
   "execution_count": null,
   "metadata": {},
   "outputs": [],
   "source": [
    "# Download mlx-community/Meta-Llama-3.1-8B-Instruct-4bit Model\n",
    "snapshot_download(repo_id=\"mlx-community/Meta-Llama-3.1-8B-Instruct-4bit\", local_dir=f\"{llama_mlx_dir}/mlx-community__Meta-Llama-3.1-8B-Instruct-4bit\", ignore_patterns=[\"*.md\", \".gitattributes\", \"original/\", \"LICENSE.txt\", \"LICENSE\"])"
   ]
  },
  {
   "cell_type": "code",
   "execution_count": null,
   "metadata": {},
   "outputs": [],
   "source": [
    "# Download mlx-community/Meta-Llama-3.1-8B-Instruct-8bit Model\n",
    "snapshot_download(repo_id=\"mlx-community/Meta-Llama-3.1-8B-Instruct-8bit\", local_dir=f\"{llama_mlx_dir}/mlx-community__Meta-Llama-3.1-8B-Instruct-8bit\", ignore_patterns=[\"*.md\", \".gitattributes\", \"original/\", \"LICENSE.txt\", \"LICENSE\"])"
   ]
  },
  {
   "cell_type": "code",
   "execution_count": null,
   "metadata": {},
   "outputs": [],
   "source": [
    "# Download mlx-community/Meta-Llama-3.1-8B-Instruct-bf16 Model\n",
    "snapshot_download(repo_id=\"mlx-community/Meta-Llama-3.1-8B-Instruct-bf16\", local_dir=f\"{llama_mlx_dir}/mlx-community__Meta-Llama-3.1-8B-Instruct-bf16\", ignore_patterns=[\"*.md\", \".gitattributes\", \"original/\", \"LICENSE.txt\", \"LICENSE\"])"
   ]
  },
  {
   "cell_type": "code",
   "execution_count": null,
   "metadata": {},
   "outputs": [],
   "source": [
    "# Download mlx-community/Meta-Llama-3.1-70B-Instruct-4bit Model\n",
    "snapshot_download(repo_id=\"mlx-community/Meta-Llama-3.1-70B-Instruct-4bit\", local_dir=f\"{llama_mlx_dir}/mlx-community__Meta-Llama-3.1-70B-Instruct-4bit\", ignore_patterns=[\"*.md\", \".gitattributes\", \"original/\", \"LICENSE.txt\", \"LICENSE\"])"
   ]
  },
  {
   "cell_type": "code",
   "execution_count": null,
   "metadata": {},
   "outputs": [],
   "source": [
    "# Download mlx-community/Meta-Llama-3.1-70B-Instruct-8bit Model\n",
    "snapshot_download(repo_id=\"mlx-community/Meta-Llama-3.1-70B-Instruct-8bit\", local_dir=f\"{llama_mlx_dir}/mlx-community__Meta-Llama-3.1-70B-Instruct-8bit\", ignore_patterns=[\"*.md\", \".gitattributes\", \"original/\", \"LICENSE.txt\", \"LICENSE\"])"
   ]
  },
  {
   "cell_type": "code",
   "execution_count": null,
   "metadata": {},
   "outputs": [],
   "source": [
    "# Download mlx-community/Meta-Llama-3.1-70B-Instruct-bf16 Model\n",
    "snapshot_download(repo_id=\"mlx-community/Meta-Llama-3.1-70B-Instruct-bf16\", local_dir=f\"{llama_mlx_dir}/mlx-community__Meta-Llama-3.1-70B-Instruct-bf16\", ignore_patterns=[\"*.md\", \".gitattributes\", \"original/\", \"LICENSE.txt\", \"LICENSE\"])"
   ]
  },
  {
   "cell_type": "code",
   "execution_count": null,
   "metadata": {},
   "outputs": [],
   "source": [
    "# Download mlx-community/Meta-Llama-3.2-11B-Vision-Instruct-4bit Model\n",
    "snapshot_download(repo_id=\"mlx-community/Llama-3.2-11B-Vision-Instruct-4bit\", local_dir=f\"{llama_mlx_dir}/mlx-community__Llama-3.2-11B-Vision-Instruct-4bit\", ignore_patterns=[\"*.md\", \".gitattributes\", \"original/\", \"LICENSE.txt\", \"LICENSE\"])"
   ]
  },
  {
   "cell_type": "code",
   "execution_count": null,
   "metadata": {},
   "outputs": [],
   "source": [
    "# Download mlx-community/Meta-Llama-3.2-11B-Vision-Instruct-8bit Model\n",
    "snapshot_download(repo_id=\"mlx-community/Llama-3.2-11B-Vision-Instruct-8bit\", local_dir=f\"{llama_mlx_dir}/mlx-community__Llama-3.2-11B-Vision-Instruct-8bit\", ignore_patterns=[\"*.md\", \".gitattributes\", \"original/\", \"LICENSE.txt\", \"LICENSE\"])"
   ]
  },
  {
   "cell_type": "markdown",
   "metadata": {},
   "source": [
    "#### Qwen"
   ]
  },
  {
   "cell_type": "code",
   "execution_count": 7,
   "metadata": {},
   "outputs": [],
   "source": [
    "qwen_transformers_dir=f\"{transformers_dir}/qwen\"\n",
    "qwen_gguf_dir=f\"{gguf_dir}/qwen\"\n",
    "qwen_mlx_dir=f\"{mlx_dir}/qwen\""
   ]
  },
  {
   "cell_type": "markdown",
   "metadata": {},
   "source": [
    "**Transformers**"
   ]
  },
  {
   "cell_type": "code",
   "execution_count": null,
   "metadata": {},
   "outputs": [],
   "source": [
    "# Download Qwen/Qwen2.5-7B-Instruct Model\n",
    "snapshot_download(repo_id=\"Qwen/Qwen2.5-7B-Instruct\", local_dir=f\"{qwen_transformers_dir}/Qwen__Qwen2.5-7B-Instruct\", ignore_patterns=[\"*.md\", \".gitattributes\", \"original/\", \"LICENSE.txt\", \"LICENSE\"])"
   ]
  },
  {
   "cell_type": "code",
   "execution_count": null,
   "metadata": {},
   "outputs": [],
   "source": [
    "# Download unsloth/Qwen2.5-7B-Instruct-bnb-4bit Model\n",
    "snapshot_download(repo_id=\"unsloth/Qwen2.5-7B-Instruct-bnb-4bit\", local_dir=f\"{qwen_transformers_dir}/unsloth__Qwen2.5-7B-Instruct-bnb-4bit\", ignore_patterns=[\"*.md\", \".gitattributes\", \"original/\", \"LICENSE.txt\", \"LICENSE\"])"
   ]
  },
  {
   "cell_type": "code",
   "execution_count": null,
   "metadata": {},
   "outputs": [],
   "source": [
    "# Download Qwen/Qwen2.5-14B-Instruct Model\n",
    "snapshot_download(repo_id=\"Qwen/Qwen2.5-14B-Instruct\", local_dir=f\"{qwen_transformers_dir}/Qwen__Qwen2.5-14B-Instruct\", ignore_patterns=[\"*.md\", \".gitattributes\", \"original/\", \"LICENSE.txt\", \"LICENSE\"])"
   ]
  },
  {
   "cell_type": "code",
   "execution_count": null,
   "metadata": {},
   "outputs": [],
   "source": [
    "# Download unsloth/Qwen2.5-14B-Instruct-bnb-4bit Model\n",
    "snapshot_download(repo_id=\"unsloth/Qwen2.5-14B-Instruct-bnb-4bit\", local_dir=f\"{qwen_transformers_dir}/unsloth__Qwen2.5-14B-Instruct-bnb-4bit\", ignore_patterns=[\"*.md\", \".gitattributes\", \"original/\", \"LICENSE.txt\", \"LICENSE\"])"
   ]
  },
  {
   "cell_type": "code",
   "execution_count": null,
   "metadata": {},
   "outputs": [],
   "source": [
    "# Download Qwen/Qwen2.5-32B-Instruct Model\n",
    "snapshot_download(repo_id=\"Qwen/Qwen2.5-32B-Instruct\", local_dir=f\"{qwen_transformers_dir}/Qwen__Qwen2.5-32B-Instruct\", ignore_patterns=[\"*.md\", \".gitattributes\", \"original/\", \"LICENSE.txt\", \"LICENSE\"])"
   ]
  },
  {
   "cell_type": "code",
   "execution_count": null,
   "metadata": {},
   "outputs": [],
   "source": [
    "# Download unsloth/Qwen2.5-32B-Instruct-bnb-4bit Model\n",
    "snapshot_download(repo_id=\"unsloth/Qwen2.5-32B-Instruct-bnb-4bit\", local_dir=f\"{qwen_transformers_dir}/unsloth__Qwen2.5-32B-Instruct-bnb-4bit\", ignore_patterns=[\"*.md\", \".gitattributes\", \"original/\", \"LICENSE.txt\", \"LICENSE\"])"
   ]
  },
  {
   "cell_type": "code",
   "execution_count": null,
   "metadata": {},
   "outputs": [],
   "source": [
    "# Download Qwen/Qwen2.5-72B-Instruct Model\n",
    "snapshot_download(repo_id=\"Qwen/Qwen2.5-72B-Instruct\", local_dir=f\"{qwen_transformers_dir}/Qwen__Qwen2.5-72B-Instruct\", ignore_patterns=[\"*.md\", \".gitattributes\", \"original/\", \"LICENSE.txt\", \"LICENSE\"])"
   ]
  },
  {
   "cell_type": "code",
   "execution_count": null,
   "metadata": {},
   "outputs": [],
   "source": [
    "# Download unsloth/Qwen2.5-72B-Instruct-bnb-4bit Model\n",
    "snapshot_download(repo_id=\"unsloth/Qwen2.5-72B-Instruct-bnb-4bit\", local_dir=f\"{qwen_transformers_dir}/unsloth__Qwen2.5-72B-Instruct-bnb-4bit\", ignore_patterns=[\"*.md\", \".gitattributes\", \"original/\", \"LICENSE.txt\", \"LICENSE\"])"
   ]
  },
  {
   "cell_type": "markdown",
   "metadata": {},
   "source": [
    "**MLX**"
   ]
  },
  {
   "cell_type": "code",
   "execution_count": null,
   "metadata": {},
   "outputs": [],
   "source": [
    "# Download Qwen/Qwen2-7B-Instruct-MLX Model\n",
    "snapshot_download(repo_id=\"Qwen/Qwen2-7B-Instruct-MLX\", local_dir=f\"{qwen_mlx_dir}/Qwen__Qwen2-7B-Instruct-MLX\", ignore_patterns=[\"*.md\", \".gitattributes\", \"original/\", \"LICENSE.txt\", \"LICENSE\"])"
   ]
  },
  {
   "cell_type": "code",
   "execution_count": null,
   "metadata": {},
   "outputs": [],
   "source": [
    "# Download mlx-community/Qwen2.5-7B-Instruct-4bit Model\n",
    "snapshot_download(repo_id=\"mlx-community/Qwen2.5-7B-Instruct-4bit\", local_dir=f\"{qwen_mlx_dir}/mlx-community__Qwen2.5-7B-Instruct-4bit\", ignore_patterns=[\"*.md\", \".gitattributes\", \"original/\", \"LICENSE.txt\", \"LICENSE\"])"
   ]
  },
  {
   "cell_type": "code",
   "execution_count": null,
   "metadata": {},
   "outputs": [],
   "source": [
    "# Download mlx-community/Qwen2.5-7B-Instruct-8bit Model\n",
    "snapshot_download(repo_id=\"mlx-community/Qwen2.5-7B-Instruct-8bit\", local_dir=f\"{qwen_mlx_dir}/mlx-community__Qwen2.5-7B-Instruct-8bit\", ignore_patterns=[\"*.md\", \".gitattributes\", \"original/\", \"LICENSE.txt\", \"LICENSE\"])"
   ]
  },
  {
   "cell_type": "code",
   "execution_count": null,
   "metadata": {},
   "outputs": [],
   "source": [
    "# Download mlx-community/Qwen2.5-7B-Instruct-bf16 Model\n",
    "snapshot_download(repo_id=\"mlx-community/Qwen2.5-7B-Instruct-bf16\", local_dir=f\"{qwen_mlx_dir}/mlx-community__Qwen2.5-7B-Instruct-bf16\", ignore_patterns=[\"*.md\", \".gitattributes\", \"original/\", \"LICENSE.txt\", \"LICENSE\"])"
   ]
  },
  {
   "cell_type": "code",
   "execution_count": null,
   "metadata": {},
   "outputs": [],
   "source": [
    "# Download mlx-community/Qwen2.5-14B-Instruct-4bit Model\n",
    "snapshot_download(repo_id=\"mlx-community/Qwen2.5-14B-Instruct-4bit\", local_dir=f\"{qwen_mlx_dir}/mlx-community__Qwen2.5-14B-Instruct-4bit\", ignore_patterns=[\"*.md\", \".gitattributes\", \"original/\", \"LICENSE.txt\", \"LICENSE\"])"
   ]
  },
  {
   "cell_type": "code",
   "execution_count": null,
   "metadata": {},
   "outputs": [],
   "source": [
    "# Download mlx-community/Qwen2.5-14B-Instruct-8bit Model\n",
    "snapshot_download(repo_id=\"mlx-community/Qwen2.5-14B-Instruct-8bit\", local_dir=f\"{qwen_mlx_dir}/mlx-community__Qwen2.5-14B-Instruct-8bit\", ignore_patterns=[\"*.md\", \".gitattributes\", \"original/\", \"LICENSE.txt\", \"LICENSE\"])"
   ]
  },
  {
   "cell_type": "code",
   "execution_count": null,
   "metadata": {},
   "outputs": [],
   "source": [
    "# Download mlx-community/Qwen2.5-14B-Instruct-bf16 Model\n",
    "snapshot_download(repo_id=\"mlx-community/Qwen2.5-14B-Instruct-bf16\", local_dir=f\"{qwen_mlx_dir}/mlx-community__Qwen2.5-14B-Instruct-bf16\", ignore_patterns=[\"*.md\", \".gitattributes\", \"original/\", \"LICENSE.txt\", \"LICENSE\"])"
   ]
  },
  {
   "cell_type": "code",
   "execution_count": null,
   "metadata": {},
   "outputs": [],
   "source": [
    "# Download mlx-community/Qwen2.5-32B-Instruct-4bit Model\n",
    "snapshot_download(repo_id=\"mlx-community/Qwen2.5-32B-Instruct-4bit\", local_dir=f\"{qwen_mlx_dir}/mlx-community__Qwen2.5-32B-Instruct-4bit\", ignore_patterns=[\"*.md\", \".gitattributes\", \"original/\", \"LICENSE.txt\", \"LICENSE\"])"
   ]
  },
  {
   "cell_type": "code",
   "execution_count": null,
   "metadata": {},
   "outputs": [],
   "source": [
    "# Download mlx-community/Qwen2.5-32B-Instruct-8bit Model\n",
    "snapshot_download(repo_id=\"mlx-community/Qwen2.5-32B-Instruct-8bit\", local_dir=f\"{qwen_mlx_dir}/mlx-community__Qwen2.5-32B-Instruct-8bit\", ignore_patterns=[\"*.md\", \".gitattributes\", \"original/\", \"LICENSE.txt\", \"LICENSE\"])"
   ]
  },
  {
   "cell_type": "code",
   "execution_count": null,
   "metadata": {},
   "outputs": [],
   "source": [
    "# Download mlx-community/Qwen2.5-32B-Instruct-bf16 Model\n",
    "snapshot_download(repo_id=\"mlx-community/Qwen2.5-32B-Instruct-bf16\", local_dir=f\"{qwen_mlx_dir}/mlx-community__Qwen2.5-32B-Instruct-bf16\", ignore_patterns=[\"*.md\", \".gitattributes\", \"original/\", \"LICENSE.txt\", \"LICENSE\"])"
   ]
  },
  {
   "cell_type": "code",
   "execution_count": null,
   "metadata": {},
   "outputs": [],
   "source": [
    "# Download mlx-community/Qwen2.5-72B-Instruct-4bit Model\n",
    "snapshot_download(repo_id=\"mlx-community/Qwen2.5-72B-Instruct-4bit\", local_dir=f\"{qwen_mlx_dir}/mlx-community__Qwen2.5-72B-Instruct-4bit\", ignore_patterns=[\"*.md\", \".gitattributes\", \"original/\", \"LICENSE.txt\", \"LICENSE\"])"
   ]
  },
  {
   "cell_type": "code",
   "execution_count": null,
   "metadata": {},
   "outputs": [],
   "source": [
    "# Download mlx-community/Qwen2.5-72B-Instruct-8bit Model\n",
    "snapshot_download(repo_id=\"mlx-community/Qwen2.5-72B-Instruct-8bit\", local_dir=f\"{qwen_mlx_dir}/mlx-community__Qwen2.5-72B-Instruct-8bit\", ignore_patterns=[\"*.md\", \".gitattributes\", \"original/\", \"LICENSE.txt\", \"LICENSE\"])"
   ]
  },
  {
   "cell_type": "code",
   "execution_count": null,
   "metadata": {},
   "outputs": [],
   "source": [
    "# Download mlx-community/Qwen2.5-72B-Instruct-bf16 Model\n",
    "snapshot_download(repo_id=\"mlx-community/Qwen2.5-72B-Instruct-bf16\", local_dir=f\"{qwen_mlx_dir}/mlx-community__Qwen2.5-72B-Instruct-bf16\", ignore_patterns=[\"*.md\", \".gitattributes\", \"original/\", \"LICENSE.txt\", \"LICENSE\"])"
   ]
  },
  {
   "cell_type": "markdown",
   "metadata": {},
   "source": [
    "#### DeepSeek"
   ]
  },
  {
   "cell_type": "code",
   "execution_count": null,
   "metadata": {},
   "outputs": [],
   "source": [
    "deepseek_transformers_dir=f\"{transformers_dir}/deepseek\"\n",
    "deepseek_gguf_dir=f\"{gguf_dir}/deepseek\"\n",
    "deepseek_mlx_dir=f\"{mlx_dir}/deepseek\""
   ]
  },
  {
   "cell_type": "markdown",
   "metadata": {},
   "source": [
    "**Transformers**"
   ]
  },
  {
   "cell_type": "code",
   "execution_count": null,
   "metadata": {},
   "outputs": [],
   "source": [
    "# Download deepseek-ai/DeepSeek-R1-Distill-Qwen-1.5B Model\n",
    "snapshot_download(repo_id=\"deepseek-ai/DeepSeek-R1-Distill-Qwen-1.5B\", local_dir=f\"{deepseek_transformers_dir}/deepseek-ai__DeepSeek-R1-Distill-Qwen-1.5B\", ignore_patterns=[\"*.md\", \".gitattributes\", \"original/\", \"LICENSE.txt\", \"LICENSE\"])"
   ]
  },
  {
   "cell_type": "code",
   "execution_count": null,
   "metadata": {},
   "outputs": [],
   "source": [
    "# Download deepseek-ai/DeepSeek-R1-Distill-Qwen-7B Model\n",
    "snapshot_download(repo_id=\"deepseek-ai/DeepSeek-R1-Distill-Qwen-7B\", local_dir=f\"{deepseek_transformers_dir}/deepseek-ai__DeepSeek-R1-Distill-Qwen-7B\", ignore_patterns=[\"*.md\", \".gitattributes\", \"original/\", \"LICENSE.txt\", \"LICENSE\"])"
   ]
  },
  {
   "cell_type": "code",
   "execution_count": null,
   "metadata": {},
   "outputs": [],
   "source": [
    "# Download deepseek-ai/DeepSeek-R1-Distill-Llama-8B Model\n",
    "snapshot_download(repo_id=\"deepseek-ai/DeepSeek-R1-Distill-Llama-8B\", local_dir=f\"{deepseek_transformers_dir}/deepseek-ai__DeepSeek-R1-Distill-Llama-8B\", ignore_patterns=[\"*.md\", \".gitattributes\", \"original/\", \"LICENSE.txt\", \"LICENSE\"])"
   ]
  },
  {
   "cell_type": "code",
   "execution_count": null,
   "metadata": {},
   "outputs": [],
   "source": [
    "# Download deepseek-ai/DeepSeek-R1-Distill-Qwen-14B Model\n",
    "snapshot_download(repo_id=\"deepseek-ai/DeepSeek-R1-Distill-Qwen-14B\", local_dir=f\"{deepseek_transformers_dir}/deepseek-ai__DeepSeek-R1-Distill-Qwen-14B\", ignore_patterns=[\"*.md\", \".gitattributes\", \"original/\", \"LICENSE.txt\", \"LICENSE\"])"
   ]
  },
  {
   "cell_type": "code",
   "execution_count": null,
   "metadata": {},
   "outputs": [],
   "source": [
    "# Download deepseek-ai/DeepSeek-R1-Distill-Qwen-32B Model\n",
    "snapshot_download(repo_id=\"deepseek-ai/DeepSeek-R1-Distill-Qwen-32B\", local_dir=f\"{deepseek_transformers_dir}/deepseek-ai__DeepSeek-R1-Distill-Qwen-32B\", ignore_patterns=[\"*.md\", \".gitattributes\", \"original/\", \"LICENSE.txt\", \"LICENSE\"])"
   ]
  },
  {
   "cell_type": "code",
   "execution_count": null,
   "metadata": {},
   "outputs": [],
   "source": [
    "# Download deepseek-ai/DeepSeek-R1-Distill-Llama-70B Model\n",
    "snapshot_download(repo_id=\"deepseek-ai/DeepSeek-R1-Distill-Llama-70B\", local_dir=f\"{deepseek_transformers_dir}/deepseek-ai__DeepSeek-R1-Distill-Llama-70B\", ignore_patterns=[\"*.md\", \".gitattributes\", \"original/\", \"LICENSE.txt\", \"LICENSE\"])"
   ]
  },
  {
   "cell_type": "markdown",
   "metadata": {},
   "source": [
    "#### Mistral"
   ]
  },
  {
   "cell_type": "code",
   "execution_count": null,
   "metadata": {},
   "outputs": [],
   "source": [
    "mistral_transformers_dir=f\"{transformers_dir}/mistral\"\n",
    "mistral_gguf_dir=f\"{gguf_dir}/mistral\"\n",
    "mistral_mlx_dir=f\"{mlx_dir}/mistral\""
   ]
  },
  {
   "cell_type": "markdown",
   "metadata": {},
   "source": [
    "#### GLM"
   ]
  },
  {
   "cell_type": "code",
   "execution_count": 8,
   "metadata": {},
   "outputs": [],
   "source": [
    "glm_transformers_dir=f\"{transformers_dir}/glm\"\n",
    "glm_gguf_dir=f\"{gguf_dir}/glm\"\n",
    "glm_mlx_dir=f\"{mlx_dir}/glm\""
   ]
  },
  {
   "cell_type": "code",
   "execution_count": null,
   "metadata": {},
   "outputs": [],
   "source": [
    "snapshot_download(repo_id=\"THUDM/glm-4-9b-chat-hf\", local_dir=f\"{glm_transformers_dir}/THUDM__glm-4-9b-chat-hf\", ignore_patterns=[\"*.md\", \".gitattributes\", \"original/\", \"LICENSE.txt\", \"LICENSE\"])"
   ]
  },
  {
   "cell_type": "code",
   "execution_count": null,
   "metadata": {},
   "outputs": [],
   "source": [
    "snapshot_download(repo_id=\"THUDM/glm-4-9b-chat-1m-hf\", local_dir=f\"{glm_transformers_dir}/THUDM__glm-4-9b-1m-hf\", ignore_patterns=[\"*.md\", \".gitattributes\", \"original/\", \"LICENSE.txt\", \"LICENSE\"])"
   ]
  },
  {
   "cell_type": "code",
   "execution_count": null,
   "metadata": {},
   "outputs": [],
   "source": [
    "snapshot_download(repo_id=\"THUDM/glm-4v-9b\", local_dir=f\"{glm_transformers_dir}/THUDM__glm-4v-9b\", ignore_patterns=[\"*.md\", \".gitattributes\", \"original/\", \"LICENSE.txt\", \"LICENSE\"])"
   ]
  },
  {
   "cell_type": "code",
   "execution_count": null,
   "metadata": {},
   "outputs": [],
   "source": [
    "hf_hub_download(repo_id=\"\")"
   ]
  },
  {
   "cell_type": "code",
   "execution_count": null,
   "metadata": {},
   "outputs": [],
   "source": [
    "snapshot_download(repo_id=\"tinywell/THUDM-glm-4-9b-chat-4bit\", local_dir=f\"{glm_mlx_dir}/tinywell__THUDM-glm-4-9b-chat-4bit\", ignore_patterns=[\"*.md\", \".gitattributes\", \"original/\", \"LICENSE.txt\", \"LICENSE\"])"
   ]
  },
  {
   "cell_type": "markdown",
   "metadata": {},
   "source": [
    "#### Bloomz"
   ]
  },
  {
   "cell_type": "code",
   "execution_count": 27,
   "metadata": {},
   "outputs": [],
   "source": [
    "bloomz_transformers_dir=f\"{transformers_dir}/bloomz\"\n",
    "bloomz_gguf_dir=f\"{gguf_dir}/bloomz\""
   ]
  },
  {
   "cell_type": "code",
   "execution_count": null,
   "metadata": {},
   "outputs": [],
   "source": [
    "hf_hub_download(repo_id=\"QuantFactory/bloomz-7b1-GGUF\", filename=\"bloomz-7b1.Q8_0.gguf\", local_dir=f\"{bloomz_gguf_dir}/QuantFactory__bloomz-7b1-GGUF\")"
   ]
  },
  {
   "cell_type": "markdown",
   "metadata": {},
   "source": [
    "#### Orion"
   ]
  },
  {
   "cell_type": "code",
   "execution_count": 16,
   "metadata": {},
   "outputs": [],
   "source": [
    "orion_transformers_dir=f\"{transformers_dir}/orion\"\n",
    "orion_gguf_dir=f\"{gguf_dir}/orion\"\n",
    "orion_mlx_dirf=f\"{mlx_dir}/orion\""
   ]
  },
  {
   "cell_type": "code",
   "execution_count": null,
   "metadata": {},
   "outputs": [],
   "source": [
    "snapshot_download(repo_id=\"OrionStarAI/Orion-14B-Chat-Int4\", local_dir=f\"{orion_transformers_dir}/OrionStarAI__Orion-14B-Chat-Int4\", ignore_patterns=[\"*.md\", \".gitattributes\", \"original/\", \"LICENSE.txt\", \"LICENSE\"])"
   ]
  },
  {
   "cell_type": "markdown",
   "metadata": {},
   "source": [
    "#### Aya"
   ]
  },
  {
   "cell_type": "code",
   "execution_count": 22,
   "metadata": {},
   "outputs": [],
   "source": [
    "aya_transformer_dir=f\"{transformers_dir}/aya\"\n",
    "aya_gguf_dir=f\"{gguf_dir}/aya\"\n",
    "aya_mlx_dir=f\"{mlx_dir}/aya\""
   ]
  },
  {
   "cell_type": "code",
   "execution_count": null,
   "metadata": {},
   "outputs": [],
   "source": [
    "snapshot_download(repo_id=\"mlx-community/aya-23-8B-4bit\", local_dir=f\"{aya_mlx_dir}/mlx-community__aya-23-8B-4bit\", ignore_patterns=[\"*.md\", \".gitattributes\", \"original/\", \"LICENSE.txt\", \"LICENSE\"])"
   ]
  }
 ],
 "metadata": {
  "kernelspec": {
   "display_name": "py312",
   "language": "python",
   "name": "python3"
  },
  "language_info": {
   "codemirror_mode": {
    "name": "ipython",
    "version": 3
   },
   "file_extension": ".py",
   "mimetype": "text/x-python",
   "name": "python",
   "nbconvert_exporter": "python",
   "pygments_lexer": "ipython3",
   "version": "3.12.2"
  }
 },
 "nbformat": 4,
 "nbformat_minor": 2
}
