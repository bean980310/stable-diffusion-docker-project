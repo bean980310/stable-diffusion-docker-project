{
 "cells": [
  {
   "cell_type": "markdown",
   "metadata": {},
   "source": [
    "# Download Model"
   ]
  },
  {
   "cell_type": "markdown",
   "metadata": {},
   "source": [
    "## Create a sub-directory"
   ]
  },
  {
   "cell_type": "code",
   "execution_count": 2,
   "metadata": {},
   "outputs": [],
   "source": [
    "!bash run_first.sh"
   ]
  },
  {
   "cell_type": "markdown",
   "metadata": {},
   "source": [
    "## Login to huggingface"
   ]
  },
  {
   "cell_type": "code",
   "execution_count": null,
   "metadata": {},
   "outputs": [],
   "source": [
    "from huggingface_hub import notebook_login\n",
    "\n",
    "notebook_login()"
   ]
  },
  {
   "cell_type": "markdown",
   "metadata": {},
   "source": [
    "## Download Model"
   ]
  },
  {
   "cell_type": "code",
   "execution_count": null,
   "metadata": {},
   "outputs": [],
   "source": [
    "from huggingface_hub import hf_hub_download"
   ]
  },
  {
   "cell_type": "markdown",
   "metadata": {},
   "source": [
    "### Download SD15 Model"
   ]
  },
  {
   "cell_type": "markdown",
   "metadata": {},
   "source": [
    "#### Checkpoint"
   ]
  },
  {
   "cell_type": "code",
   "execution_count": null,
   "metadata": {},
   "outputs": [],
   "source": [
    "# Download Stable Diffusion 1.5 Checkpoint\n",
    "hf_hub_download(repo_id=\"stable-diffusion-v1-5/stable-diffusion-v1-5\", filename=\"v1-5-pruned-emaonly.safetensors\", local_dir=\"./models/checkpoints/sd15\")"
   ]
  },
  {
   "cell_type": "code",
   "execution_count": null,
   "metadata": {},
   "outputs": [],
   "source": [
    "# Download Stable Diffusion 1.5 Inpaint Checkpoint\n",
    "hf_hub_download(repo_id=\"stable-diffusion-v1-5/stable-diffusion-inpainting\", filename=\"sd-v1-5-inpainting.ckpt\", local_dir=\"./models/checkpoints/sd15\")"
   ]
  },
  {
   "cell_type": "code",
   "execution_count": null,
   "metadata": {},
   "outputs": [],
   "source": [
    "# Download Anything V3 Model\n",
    "!download-model https://civitai.com/api/download/models/34373 ./models/checkpoints/sd15"
   ]
  },
  {
   "cell_type": "code",
   "execution_count": null,
   "metadata": {},
   "outputs": [],
   "source": [
    "# Download Anything V5 Model\n",
    "!download-model https://civitai.com/api/download/models/30163 ./models/checkpoints/sd15"
   ]
  },
  {
   "cell_type": "code",
   "execution_count": null,
   "metadata": {},
   "outputs": [],
   "source": [
    "# Download Anything Ink Model\n",
    "!download-model https://civitai.com/api/download/models/90854 ./models/checkpoints/sd15"
   ]
  },
  {
   "cell_type": "code",
   "execution_count": null,
   "metadata": {},
   "outputs": [],
   "source": [
    "# Download AbyssOrangeMix3 Model\n",
    "hf_hub_download(repo_id=\"WarriorMama777/OrangeMixs\", filename=\"AOM3A1B_orangemixs.safetensors\", local_dir=\"./models/checkpoints/sd15\")"
   ]
  },
  {
   "cell_type": "code",
   "execution_count": null,
   "metadata": {},
   "outputs": [],
   "source": [
    "# Download Counterfeit-V3.0 fp32 Model\n",
    "hf_hub_download(repo_id=\"gsdf/Counterfeit-V3.0\", filename=\"Counterfeit-V3.0_fp32.safetensors\", local_dir=\"./models/checkpoints/sd15\")"
   ]
  },
  {
   "cell_type": "code",
   "execution_count": null,
   "metadata": {},
   "outputs": [],
   "source": [
    "# Download Counterfeit-V3.0 fp16 Hotfix Model\n",
    "hf_hub_download(repo_id=\"gsdf/Counterfeit-V3.0\", filename=\"Counterfeit-V3.0_fix_fp16.safetensors\", local_dir=\"./models/checkpoints/sd15\")"
   ]
  },
  {
   "cell_type": "code",
   "execution_count": null,
   "metadata": {},
   "outputs": [],
   "source": [
    "# Download ChilloutMix Ni pruned fp32 fix Model\n",
    "!download-model https://civitai.com/api/download/models/11745 ./models/checkpoints/sd15"
   ]
  },
  {
   "cell_type": "code",
   "execution_count": null,
   "metadata": {},
   "outputs": [],
   "source": [
    "# Download ChilloutMix Ni pruned fp16 fix Model\n",
    "!download-model https://civitai.com/api/download/models/11732 ./models/checkpoints/sd15"
   ]
  },
  {
   "cell_type": "markdown",
   "metadata": {},
   "source": [
    "#### VAE"
   ]
  },
  {
   "cell_type": "code",
   "execution_count": null,
   "metadata": {},
   "outputs": [],
   "source": [
    "# Download Stable Diffusion 1.5 VAE\n",
    "hf_hub_download(repo_id=\"stabilityai/sd-vae-ft-mse-original\", filename=\"vae-ft-mse-840000-ema-pruned.safetensors\", local_dir=\"./models/vae/sd15\")"
   ]
  },
  {
   "cell_type": "markdown",
   "metadata": {},
   "source": [
    "#### LoRA"
   ]
  },
  {
   "cell_type": "code",
   "execution_count": null,
   "metadata": {},
   "outputs": [],
   "source": [
    "# Download Stable Diffusion 1.5 LCM LoRA\n",
    "hf_hub_download(repo_id=\"latent-consistency/lcm-lora-sdv1-5\", filename=\"pytorch_lora_weights.safetensors\", local_dir=\"./models/loras/sd15\")"
   ]
  },
  {
   "cell_type": "markdown",
   "metadata": {},
   "source": [
    "#### Embedding"
   ]
  },
  {
   "cell_type": "code",
   "execution_count": null,
   "metadata": {},
   "outputs": [],
   "source": [
    "# Download EasyNegative\n",
    "hf_hub_download(repo_id=\"gsdf/EasyNegative\", repo_type=\"dataset\", filename=\"EasyNegative.safetensors\", local_dir=\"./models/embeddings/sd15\")\n",
    "# Download EasyNegativeV2\n",
    "hf_hub_download(repo_id=\"gsdf/Counterfeit-V3.0\", filename=\"EasyNegativeV2.safetensors\", local_dir=\"./models/embeddings/sd15\")\n",
    "# Download bad-hand-v4\n",
    "!download-model https://civitai.com/api/download/models/230261?type=Model&format=SafeTensor ./models/embeddings/sd15\n",
    "# Download bad-hands-v5\n",
    "hf_hub_download(repo_id=\"Kajise/bad-hands\", filename=\"bad-hands-5.safetensors\", local_dir=\"./models/embeddings/sd15\")\n",
    "# Download bad_prompt_version2\n",
    "hf_hub_download(repo_id=\"Nerfgun3/bad_prompt\", repo_type=\"dataset\", filename=\"bad_prompt_version2.pt\", local_dir=\"./models/embeddings/sd15\")\n",
    "# Download bad-artist-anime\n",
    "hf_hub_download(repo_id=\"nick-x-hacker/bad-artist\", filename=\"bad-artist-anime.pt\", local_dir=\"./models/embeddings/sd15\")\n",
    "# Download bad-artist\n",
    "hf_hub_download(repo_id=\"nick-x-hacker/bad-artist\", filename=\"bad-artist.pt\", local_dir=\"./models/embeddings/sd15\")\n",
    "# Download Deep Negative V1 75 T\n",
    "!download-model https://civitai.com/api/download/models/5637 ./models/embeddings/sd15\n",
    "# Download veryBadImageNegative\n",
    "!download-model https://civitai.com/api/download/models/25820 ./models/embeddings/sd15\n",
    "# Download GS-Boyish\n",
    "!download-model https://civitai.com/api/download/models/95611 ./models/embeddings/sd15"
   ]
  },
  {
   "cell_type": "markdown",
   "metadata": {},
   "source": [
    "#### ControlNet"
   ]
  },
  {
   "cell_type": "code",
   "execution_count": null,
   "metadata": {},
   "outputs": [],
   "source": [
    "hf_hub_download(repo_id=\"comfyanonymous/ControlNet-v1-1_fp16_safetensors\", filename=\"control_v11e_sd15_ip2p_fp16.safetensors\", local_dir=\"./models/controlnet\")"
   ]
  },
  {
   "cell_type": "code",
   "execution_count": null,
   "metadata": {},
   "outputs": [],
   "source": [
    "hf_hub_download(repo_id=\"comfyanonymous/ControlNet-v1-1_fp16_safetensors\", filename=\"control_v11e_sd15_shuffle_fp16.safetensors\", local_dir=\"./models/controlnet\")"
   ]
  },
  {
   "cell_type": "code",
   "execution_count": null,
   "metadata": {},
   "outputs": [],
   "source": [
    "hf_hub_download(repo_id=\"comfyanonymous/ControlNet-v1-1_fp16_safetensors\", filename=\"control_v11f1e_sd15_tile_fp16.safetensors\", local_dir=\"./models/controlnet\")"
   ]
  },
  {
   "cell_type": "code",
   "execution_count": null,
   "metadata": {},
   "outputs": [],
   "source": [
    "hf_hub_download(repo_id=\"comfyanonymous/ControlNet-v1-1_fp16_safetensors\", filename=\"control_v11f1p_sd15_depth_fp16.safetensors\", local_dir=\"./models/controlnet\")"
   ]
  },
  {
   "cell_type": "code",
   "execution_count": null,
   "metadata": {},
   "outputs": [],
   "source": [
    "hf_hub_download(repo_id=\"comfyanonymous/ControlNet-v1-1_fp16_safetensors\", filename=\"control_v11p_sd15_canny_fp16.safetensors\", local_dir=\"./models/controlnet\")"
   ]
  },
  {
   "cell_type": "code",
   "execution_count": null,
   "metadata": {},
   "outputs": [],
   "source": [
    "hf_hub_download(repo_id=\"comfyanonymous/ControlNet-v1-1_fp16_safetensors\", filename=\"control_v11p_sd15_inpaint_fp16.safetensors\", local_dir=\"./models/controlnet\")"
   ]
  },
  {
   "cell_type": "code",
   "execution_count": null,
   "metadata": {},
   "outputs": [],
   "source": [
    "hf_hub_download(repo_id=\"comfyanonymous/ControlNet-v1-1_fp16_safetensors\", filename=\"control_v11p_sd15_lineart_fp16.safetensors\", local_dir=\"./models/controlnet\")"
   ]
  },
  {
   "cell_type": "code",
   "execution_count": null,
   "metadata": {},
   "outputs": [],
   "source": [
    "hf_hub_download(repo_id=\"comfyanonymous/ControlNet-v1-1_fp16_safetensors\", filename=\"control_v11p_sd15_mlsd_fp16.safetensors\", local_dir=\"./models/controlnet\")"
   ]
  },
  {
   "cell_type": "code",
   "execution_count": null,
   "metadata": {},
   "outputs": [],
   "source": [
    "hf_hub_download(repo_id=\"comfyanonymous/ControlNet-v1-1_fp16_safetensors\", filename=\"control_v11p_sd15_normalbae_fp16.safetensors\", local_dir=\"./models/controlnet\")"
   ]
  },
  {
   "cell_type": "code",
   "execution_count": null,
   "metadata": {},
   "outputs": [],
   "source": [
    "hf_hub_download(repo_id=\"comfyanonymous/ControlNet-v1-1_fp16_safetensors\", filename=\"control_v11p_sd15_openpose_fp16.safetensors\", local_dir=\"./models/controlnet\")"
   ]
  },
  {
   "cell_type": "code",
   "execution_count": null,
   "metadata": {},
   "outputs": [],
   "source": [
    "hf_hub_download(repo_id=\"comfyanonymous/ControlNet-v1-1_fp16_safetensors\", filename=\"control_v11p_sd15_scribble_fp16.safetensors\", local_dir=\"./models/controlnet\")"
   ]
  },
  {
   "cell_type": "code",
   "execution_count": null,
   "metadata": {},
   "outputs": [],
   "source": [
    "hf_hub_download(repo_id=\"comfyanonymous/ControlNet-v1-1_fp16_safetensors\", filename=\"control_v11p_sd15_seg_fp16.safetensors\", local_dir=\"./models/controlnet\")"
   ]
  },
  {
   "cell_type": "code",
   "execution_count": null,
   "metadata": {},
   "outputs": [],
   "source": [
    "hf_hub_download(repo_id=\"comfyanonymous/ControlNet-v1-1_fp16_safetensors\", filename=\"control_v11p_sd15_softedge_fp16.safetensors\", local_dir=\"./models/controlnet\")"
   ]
  },
  {
   "cell_type": "code",
   "execution_count": null,
   "metadata": {},
   "outputs": [],
   "source": [
    "hf_hub_download(repo_id=\"comfyanonymous/ControlNet-v1-1_fp16_safetensors\", filename=\"control_v11p_sd15s2_lineart_anime_fp16.safetensors\", local_dir=\"./models/controlnet\")"
   ]
  }
 ],
 "metadata": {
  "kernelspec": {
   "display_name": "Python 3",
   "language": "python",
   "name": "python3"
  },
  "language_info": {
   "codemirror_mode": {
    "name": "ipython",
    "version": 3
   },
   "file_extension": ".py",
   "mimetype": "text/x-python",
   "name": "python",
   "nbconvert_exporter": "python",
   "pygments_lexer": "ipython3",
   "version": "3.12.7"
  }
 },
 "nbformat": 4,
 "nbformat_minor": 2
}
