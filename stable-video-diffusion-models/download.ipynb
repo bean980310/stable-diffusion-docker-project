{
 "cells": [
  {
   "cell_type": "markdown",
   "metadata": {},
   "source": [
    "# Download Model"
   ]
  },
  {
   "cell_type": "markdown",
   "metadata": {},
   "source": [
    "## Login to huggingface"
   ]
  },
  {
   "cell_type": "code",
   "execution_count": null,
   "metadata": {},
   "outputs": [],
   "source": [
    "from huggingface_hub import notebook_login, hf_hub_download, snapshot_download\n",
    "\n",
    "notebook_login(new_session=False)"
   ]
  },
  {
   "cell_type": "markdown",
   "metadata": {},
   "source": [
    "## Create a directory"
   ]
  },
  {
   "cell_type": "code",
   "execution_count": null,
   "metadata": {},
   "outputs": [],
   "source": [
    "import os\n",
    "\n",
    "os.makedirs('./models', exist_ok=True)"
   ]
  },
  {
   "cell_type": "markdown",
   "metadata": {},
   "source": [
    "## Download SVD Model"
   ]
  },
  {
   "cell_type": "code",
   "execution_count": null,
   "metadata": {},
   "outputs": [],
   "source": [
    "# Download SVD Model\n",
    "hf_hub_download(repo_id=\"stabilityai/stable-video-diffusion-img2vid\", filename=\"svd.safetensors\", local_dir=\"./models\")\n",
    "hf_hub_download(repo_id=\"stabilityai/stable-video-diffusion-img2vid\", filename=\"svd_image_decoder.safetensors\", local_dir=\"./models\")"
   ]
  },
  {
   "cell_type": "code",
   "execution_count": null,
   "metadata": {},
   "outputs": [],
   "source": [
    "# Download SVD XT Model\n",
    "hf_hub_download(repo_id=\"stabilityai/stable-video-diffusion-img2vid-xt\", filename=\"svd_xt.safetensors\", local_dir=\"./models\")\n",
    "hf_hub_download(repo_id=\"stabilityai/stable-video-diffusion-img2vid-xt\", filename=\"svd_xt_image_decoder.safetensors\", local_dir=\"./models\")"
   ]
  },
  {
   "cell_type": "code",
   "execution_count": null,
   "metadata": {},
   "outputs": [],
   "source": [
    "# Download SVD XT 1.1 Model\n",
    "hf_hub_download(repo_id=\"stabilityai/stable-video-diffusion-img2vid-xt-1-1\", filename=\"svd_xt_1_1.safetensors\", local_dir=\"./models\")"
   ]
  },
  {
   "cell_type": "code",
   "execution_count": null,
   "metadata": {},
   "outputs": [],
   "source": [
    "# Download SV3D Model\n",
    "hf_hub_download(repo_id=\"stabilityai/sv3d\", filename=\"sv3d_p.safetensors\", local_dir=\"./models\")\n",
    "hf_hub_download(repo_id=\"stabilityai/sv3d\", filename=\"sv3d_u.safetensors\", local_dir=\"./models\")"
   ]
  },
  {
   "cell_type": "code",
   "execution_count": null,
   "metadata": {},
   "outputs": [],
   "source": [
    "# Download SV4D Model\n",
    "hf_hub_download(repo_id=\"stabilityai/sv4d\", filename=\"sv4d.safetensors\", local_dir=\"./models\")"
   ]
  },
  {
   "cell_type": "code",
   "execution_count": null,
   "metadata": {},
   "outputs": [],
   "source": [
    "# Delete Cache\n",
    "!rm -rf ./models/.cache"
   ]
  }
 ],
 "metadata": {
  "kernelspec": {
   "display_name": "base",
   "language": "python",
   "name": "python3"
  },
  "language_info": {
   "name": "python",
   "version": "3.12.2"
  }
 },
 "nbformat": 4,
 "nbformat_minor": 2
}
