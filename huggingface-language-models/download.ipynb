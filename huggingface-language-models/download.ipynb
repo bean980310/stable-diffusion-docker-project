{
 "cells": [
  {
   "cell_type": "markdown",
   "metadata": {},
   "source": [
    "## Prepare"
   ]
  },
  {
   "cell_type": "code",
   "execution_count": null,
   "metadata": {},
   "outputs": [],
   "source": [
    "import os\n",
    "\n",
    "os.makedirs('models')"
   ]
  },
  {
   "cell_type": "code",
   "execution_count": null,
   "metadata": {},
   "outputs": [],
   "source": [
    "from huggingface_hub import notebook_login, hf_hub_download, snapshot_download\n",
    "\n",
    "notebook_login(new_session=False)"
   ]
  },
  {
   "cell_type": "markdown",
   "metadata": {},
   "source": [
    "## Download Model"
   ]
  },
  {
   "cell_type": "code",
   "execution_count": null,
   "metadata": {},
   "outputs": [],
   "source": [
    "# Download Llama-3.2-1B\n",
    "snapshot_download(repo_id=\"meta-llama/Llama-3.2-1B\", local_dir=\"./models/Llama-3.2-1B\")"
   ]
  },
  {
   "cell_type": "code",
   "execution_count": null,
   "metadata": {},
   "outputs": [],
   "source": [
    "# Download Llama-3.2-3B\n",
    "snapshot_download(repo_id=\"meta-llama/Llama-3.2-3B\", local_dir=\"./models/Llama-3.2-3B\")"
   ]
  },
  {
   "cell_type": "code",
   "execution_count": null,
   "metadata": {},
   "outputs": [],
   "source": [
    "# Download Llama-3.2-11B-Vision\n",
    "snapshot_download(repo_id=\"meta-llama/Llama-3.2-11B-Vision\", local_dir=\"./models/Llama-3.2-11B-Vision\")"
   ]
  },
  {
   "cell_type": "code",
   "execution_count": null,
   "metadata": {},
   "outputs": [],
   "source": [
    "# Download Llama-3.2-90B-Vision\n",
    "snapshot_download(repo_id=\"meta-llama/Llama-3.2-90B-Vision\", local_dir=\"./models/Llama-3.2-90B-Vision\")"
   ]
  },
  {
   "cell_type": "code",
   "execution_count": null,
   "metadata": {},
   "outputs": [],
   "source": [
    "# Download nvidia/Llama-3.1-Nemotron-70B-Instruct-HF\n",
    "snapshot_download(repo_id=\"nvidia/Llama-3.1-Nemotron-70B-Instruct-HF\", local_dir=\"./models/Llama-3.1-Nemotron-70B-Instruct-HF\")"
   ]
  },
  {
   "cell_type": "code",
   "execution_count": null,
   "metadata": {},
   "outputs": [],
   "source": [
    "# Download nvidia/Llama-3.1-Nemotron-70B-Reward-HF\n",
    "snapshot_download(repo_id=\"nvidia/Llama-3.1-Nemotron-70B-Reward-HF\", local_dir=\"./models/Llama-3.1-Nemotron-70B-Reward-HF\")"
   ]
  },
  {
   "cell_type": "markdown",
   "metadata": {},
   "source": [
    "## Delete a cache"
   ]
  },
  {
   "cell_type": "code",
   "execution_count": null,
   "metadata": {},
   "outputs": [],
   "source": [
    "# Delete cache\n",
    "!rm -rf .cache"
   ]
  }
 ],
 "metadata": {
  "kernelspec": {
   "display_name": "Python 3",
   "language": "python",
   "name": "python3"
  },
  "language_info": {
   "name": "python",
   "version": "3.12.7"
  }
 },
 "nbformat": 4,
 "nbformat_minor": 2
}
